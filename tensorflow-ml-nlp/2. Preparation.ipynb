{
 "cells": [
  {
   "cell_type": "markdown",
   "id": "weird-cliff",
   "metadata": {},
   "source": [
    "# `tf.keras.layers`"
   ]
  },
  {
   "cell_type": "code",
   "execution_count": 1,
   "id": "adaptive-significance",
   "metadata": {},
   "outputs": [],
   "source": [
    "import tensorflow as tf"
   ]
  },
  {
   "cell_type": "markdown",
   "id": "solved-dominican",
   "metadata": {},
   "source": [
    "### `tf.keras.layers.Dense`\n",
    "**Dense** : 신경망 구조의 가장 기본적 형태<br>\n",
    "$y=f(Wx+b)$ 수식을 만족하는 기본적인 신경망 형태의 층을 만드는 함수 (은닉층이 없는 간단한 신경망 형태)\n",
    "- $x$ : 입력 벡터\n",
    "- $b$ : 편향 벡터\n",
    "- $W$ : 가중치 행렬\n",
    "- $f$ : 활성화 함수"
   ]
  },
  {
   "cell_type": "code",
   "execution_count": 2,
   "id": "realistic-christian",
   "metadata": {},
   "outputs": [
    {
     "data": {
      "text/plain": [
       "<tf.Tensor: shape=(5, 10), dtype=float32, numpy=\n",
       "array([[ 3.2667973,  3.2667973,  3.2667973,  3.2667973,  3.2667973,\n",
       "         3.2667973,  3.2667973,  3.2667973,  3.2667973,  3.2667973],\n",
       "       [ 9.115784 ,  9.115784 ,  9.115784 ,  9.115784 ,  9.115784 ,\n",
       "         9.115784 ,  9.115784 ,  9.115784 ,  9.115784 ,  9.115784 ],\n",
       "       [-4.6147194, -4.6147194, -4.6147194, -4.6147194, -4.6147194,\n",
       "        -4.6147194, -4.6147194, -4.6147194, -4.6147194, -4.6147194],\n",
       "       [ 2.7773156,  2.7773156,  2.7773156,  2.7773156,  2.7773156,\n",
       "         2.7773156,  2.7773156,  2.7773156,  2.7773156,  2.7773156],\n",
       "       [-5.0511527, -5.0511527, -5.0511527, -5.0511527, -5.0511527,\n",
       "        -5.0511527, -5.0511527, -5.0511527, -5.0511527, -5.0511527]],\n",
       "      dtype=float32)>"
      ]
     },
     "execution_count": 2,
     "metadata": {},
     "output_type": "execute_result"
    }
   ],
   "source": [
    "# W, b 각각 변수로 선언\n",
    "W = tf.Variable(tf.random.uniform([5,10], -1.0, 1.0)) \n",
    "# tf.random.uniform: outputs random values from a uniform distribution\n",
    "# tf.random.uniform(shape, minval=0, maxval=None, dtype = tf.dtypes.float32, seed = None, name=None)\n",
    "\n",
    "b = tf.Variable(tf.zeros([10]))\n",
    "x = tf.Variable(tf.random.uniform([10,1], 1.0, 3.0))\n",
    "# tensorflow의 shape는 pandas/numpy에서랑 다른가..\n",
    "\n",
    "# 행렬 곱으로 Dense층 구하기\n",
    "y = tf.matmul(W,x) + b #x는 입력 벡터\n",
    "y"
   ]
  },
  {
   "cell_type": "markdown",
   "id": "express-twist",
   "metadata": {},
   "source": [
    "위의 과정을 직접하지 않고 `Dense`를 이용해 한 줄의 코드로 작성할 수 있음.<br>\n",
    "Dense 사용을 위해 우선 객체 생성"
   ]
  },
  {
   "cell_type": "code",
   "execution_count": 3,
   "id": "frequent-bicycle",
   "metadata": {},
   "outputs": [
    {
     "ename": "TypeError",
     "evalue": "int() argument must be a string, a bytes-like object or a number, not 'ellipsis'",
     "output_type": "error",
     "traceback": [
      "\u001b[1;31m---------------------------------------------------------------------------\u001b[0m",
      "\u001b[1;31mTypeError\u001b[0m                                 Traceback (most recent call last)",
      "\u001b[1;32m<ipython-input-3-bad31c08616e>\u001b[0m in \u001b[0;36m<module>\u001b[1;34m\u001b[0m\n\u001b[0;32m      1\u001b[0m \u001b[1;31m# Dense 객체 생성\u001b[0m\u001b[1;33m\u001b[0m\u001b[1;33m\u001b[0m\u001b[1;33m\u001b[0m\u001b[0m\n\u001b[1;32m----> 2\u001b[1;33m \u001b[0mdense\u001b[0m \u001b[1;33m=\u001b[0m \u001b[0mtf\u001b[0m\u001b[1;33m.\u001b[0m\u001b[0mkeras\u001b[0m\u001b[1;33m.\u001b[0m\u001b[0mlayers\u001b[0m\u001b[1;33m.\u001b[0m\u001b[0mDense\u001b[0m\u001b[1;33m(\u001b[0m\u001b[1;33m...\u001b[0m\u001b[1;33m)\u001b[0m\u001b[1;33m\u001b[0m\u001b[1;33m\u001b[0m\u001b[0m\n\u001b[0m\u001b[0;32m      3\u001b[0m \u001b[1;33m\u001b[0m\u001b[0m\n\u001b[0;32m      4\u001b[0m \u001b[1;31m# dense 객체를 만들기 위해서는 입력값 필요. 객체 생성 시 함께 넣거나 / 생성 후 따로 적용\u001b[0m\u001b[1;33m\u001b[0m\u001b[1;33m\u001b[0m\u001b[1;33m\u001b[0m\u001b[0m\n\u001b[0;32m      5\u001b[0m \u001b[1;31m# 1. 객체 생성 후 다시 호출하면서 입력값 설정\u001b[0m\u001b[1;33m\u001b[0m\u001b[1;33m\u001b[0m\u001b[1;33m\u001b[0m\u001b[0m\n",
      "\u001b[1;32mc:\\programdata\\anaconda3\\envs\\pr_tensorflow\\lib\\site-packages\\tensorflow\\python\\keras\\layers\\core.py\u001b[0m in \u001b[0;36m__init__\u001b[1;34m(self, units, activation, use_bias, kernel_initializer, bias_initializer, kernel_regularizer, bias_regularizer, activity_regularizer, kernel_constraint, bias_constraint, **kwargs)\u001b[0m\n\u001b[0;32m   1132\u001b[0m         activity_regularizer=regularizers.get(activity_regularizer), **kwargs)\n\u001b[0;32m   1133\u001b[0m \u001b[1;33m\u001b[0m\u001b[0m\n\u001b[1;32m-> 1134\u001b[1;33m     \u001b[0mself\u001b[0m\u001b[1;33m.\u001b[0m\u001b[0munits\u001b[0m \u001b[1;33m=\u001b[0m \u001b[0mint\u001b[0m\u001b[1;33m(\u001b[0m\u001b[0munits\u001b[0m\u001b[1;33m)\u001b[0m \u001b[1;32mif\u001b[0m \u001b[1;32mnot\u001b[0m \u001b[0misinstance\u001b[0m\u001b[1;33m(\u001b[0m\u001b[0munits\u001b[0m\u001b[1;33m,\u001b[0m \u001b[0mint\u001b[0m\u001b[1;33m)\u001b[0m \u001b[1;32melse\u001b[0m \u001b[0munits\u001b[0m\u001b[1;33m\u001b[0m\u001b[1;33m\u001b[0m\u001b[0m\n\u001b[0m\u001b[0;32m   1135\u001b[0m     \u001b[0mself\u001b[0m\u001b[1;33m.\u001b[0m\u001b[0mactivation\u001b[0m \u001b[1;33m=\u001b[0m \u001b[0mactivations\u001b[0m\u001b[1;33m.\u001b[0m\u001b[0mget\u001b[0m\u001b[1;33m(\u001b[0m\u001b[0mactivation\u001b[0m\u001b[1;33m)\u001b[0m\u001b[1;33m\u001b[0m\u001b[1;33m\u001b[0m\u001b[0m\n\u001b[0;32m   1136\u001b[0m     \u001b[0mself\u001b[0m\u001b[1;33m.\u001b[0m\u001b[0muse_bias\u001b[0m \u001b[1;33m=\u001b[0m \u001b[0muse_bias\u001b[0m\u001b[1;33m\u001b[0m\u001b[1;33m\u001b[0m\u001b[0m\n",
      "\u001b[1;31mTypeError\u001b[0m: int() argument must be a string, a bytes-like object or a number, not 'ellipsis'"
     ]
    }
   ],
   "source": [
    "# Dense 객체 생성\n",
    "dense = tf.keras.layers.Dense(...)\n",
    "\n",
    "# dense 객체를 만들기 위해서는 입력값 필요. 객체 생성 시 함께 넣거나 / 생성 후 따로 적용\n",
    "# 1. 객체 생성 후 다시 호출하면서 입력값 설정\n",
    "dense = tf.keras.layers.Dense(...)\n",
    "output = dense(input)\n",
    "\n",
    "#2. 객체 생성 시 입력값 설정\n",
    "output = tf.keras.layers.Dense(...)(input)"
   ]
  },
  {
   "cell_type": "code",
   "execution_count": null,
   "id": "featured-sheffield",
   "metadata": {},
   "outputs": [],
   "source": [
    "tf.keras.layers.Dense?\n",
    "# units: 출력값의 크기, integer 혹은 long 형태. (positive integer, dimensionality of the output space)\n",
    "# activation: activation function\n",
    "# use_bias: Boolean. whether the layer uses a bias vector (편향 b를 사용할지 여부)\n",
    "# kernel_initializer: 가중치(W) 초기화 함수. Initializer for the 'kernel' weights matrix\n",
    "# bias_initializer: 편향 초기화 함수\n",
    "# kernal_regularizer: 가중치 정규화 방법\n",
    "# bias_regularizer: 편향 정규화 방법\n",
    "# activity_regularizer: 출력값 정규화 방법\n",
    "# kernel_constraint: optimizer에 의해 업데이트된 이후에 가중치에 적용되는 부가적 제약 함수 (ex. norm constrain, value constraint)\n",
    "#                    Constraint function applied to the 'kernel' weights matrix\n",
    "# bias_constraint: optimizer에 의해 업데이트된 이후에 편향에 적용되는 부가적 제약 함수 (ex. 위와 같음)\n",
    "#                  Constraint function applied to the bias vector\n"
   ]
  },
  {
   "cell_type": "code",
   "execution_count": 5,
   "id": "posted-offset",
   "metadata": {},
   "outputs": [],
   "source": [
    "INPUT_SIZE = (20, 1)\n",
    "CONV_INPUT_SIZE = (1, 28, 28)\n",
    "IS_TRAINING = True"
   ]
  },
  {
   "cell_type": "markdown",
   "id": "occasional-grove",
   "metadata": {},
   "source": [
    "### Dense Layer\n",
    "입력값에 대해 활성화 함수로 시그모이드 함수로 사용,<br>\n",
    "출력값으로 10개의 값을 출력하는 **완전연결계층(Fully Connected Layer)**"
   ]
  },
  {
   "cell_type": "code",
   "execution_count": 6,
   "id": "commercial-victory",
   "metadata": {},
   "outputs": [],
   "source": [
    "inputs = tf.keras.layers.Input(shape = INPUT_SIZE) # random으로 input 생성해주나?\n",
    "output = tf.keras.layers.Dense(units = 10, activation = tf.nn.sigmoid)(inputs)"
   ]
  },
  {
   "cell_type": "code",
   "execution_count": 7,
   "id": "incorporated-grant",
   "metadata": {},
   "outputs": [],
   "source": [
    "tf.keras.layers.Input?"
   ]
  },
  {
   "cell_type": "markdown",
   "id": "electoral-shooting",
   "metadata": {},
   "source": [
    "### Dense Layer with 1 hidden layer\n",
    "10개의 노드를 가지는 은닉층 + 2개의 노드를 가진 최종 출력 값 신경망 구조"
   ]
  },
  {
   "cell_type": "code",
   "execution_count": null,
   "id": "matched-mills",
   "metadata": {},
   "outputs": [],
   "source": [
    "inputs = tf.keras.layers.Input(shape = INPUT_SIZE)\n",
    "hidden = tf.keras.layers.Dense(units = 10, activation = tf.nn.sigmoid)(inputs)\n",
    "output = tf.keras.layers.Dense(units = 2, activation = tf.nn.sigmoid)(hidden)"
   ]
  },
  {
   "cell_type": "markdown",
   "id": "configured-image",
   "metadata": {},
   "source": [
    "---\n",
    "### `tf.keras.layers.Dropout`\n",
    "과적합을 해결하기 위한 정규화 방법 중 하나<br>\n",
    "사용법은, Dropout 객체 사용\n",
    "\n",
    "학습 데이터에 과적합되는 상황을 방지하기 위해, 학습 시 특정 확률로 노드들의 값을 0으로 만듦. <br>\n",
    "이 과정은 학습 시에만 적용되고 예측/테스트 시에는 적용되지 않아야 함!<br>\n",
    "-> 이걸 keras Dropout이 자동으로 적용해줌"
   ]
  },
  {
   "cell_type": "markdown",
   "id": "freelance-implement",
   "metadata": {},
   "source": [
    "### Dropout"
   ]
  },
  {
   "cell_type": "code",
   "execution_count": null,
   "id": "technological-exchange",
   "metadata": {},
   "outputs": [],
   "source": [
    "inputs = tf.keras.layers.Input(shape = INPUT_SIZE)\n",
    "dropout = tf.keras.layers.Dropout(rate=0.5)(inputs) # 50%를 0으로 만듦"
   ]
  },
  {
   "cell_type": "markdown",
   "id": "ethical-panel",
   "metadata": {},
   "source": [
    "### Dense Layer with 1 hidden layer and dropout"
   ]
  },
  {
   "cell_type": "code",
   "execution_count": null,
   "id": "fallen-freeze",
   "metadata": {},
   "outputs": [],
   "source": [
    "inputs = tf.keras.layers.Input(shape = INPUT_SIZE)\n",
    "dropout = tf.keras.layers.Dropout(rate = 0.2)(inputs)\n",
    "hidden = tf.keras.layers.Dense(units = 10, activation = tf.nn.sigmoid)(dropout)\n",
    "output = tf.keras.layers.Dense(units = 2, activation = tf.nn.sigmoid)(hidden)"
   ]
  },
  {
   "cell_type": "markdown",
   "id": "distributed-chase",
   "metadata": {},
   "source": [
    "---\n",
    "### `tf.keras.layers.Conv1D`\n",
    "텐서플로우의 합성곱 연산은 Conv1D, 2D, 3D로 나뉨.<br>\n",
    "기본적인 이미지에 적용하는 합성곱 방식은 Conv2D. 자연어처리에서는 각 단어(문자) 벡터의 차원 전체에 대해 필터를 적용시키기 위해 주로 Conv1D 사용."
   ]
  },
  {
   "cell_type": "markdown",
   "id": "specialized-secret",
   "metadata": {},
   "source": [
    "### Convolutional layer\n",
    "간단하게 Conv1D를 사용한 합성곱 신경망 만들기"
   ]
  },
  {
   "cell_type": "code",
   "execution_count": null,
   "id": "proprietary-weekend",
   "metadata": {},
   "outputs": [],
   "source": [
    "inputs = tf.keras.layers.Input(shape = INPUT_SIZE) # 왜 CONV_INPUT_SIZE를 넣으면 error?\n",
    "conv = tf.keras.layers.Conv1D(\n",
    "filters = 10,\n",
    "kernel_size = 3,\n",
    "padding = 'same',\n",
    "activation = tf.nn.relu)(inputs)"
   ]
  },
  {
   "cell_type": "markdown",
   "id": "incomplete-brighton",
   "metadata": {},
   "source": [
    "### Convolutional layer with dropout\n",
    "입력값에 드롭아웃 적용한 합성곱 신경망"
   ]
  },
  {
   "cell_type": "code",
   "execution_count": null,
   "id": "statistical-upset",
   "metadata": {},
   "outputs": [],
   "source": [
    "inputs = tf.keras.layers.Input(shape = INPUT_SIZE)\n",
    "dropout = tf.keras.layers.Dropout(rate = 0.2)(inputs)\n",
    "conv = tf.keras.layers.Conv1D(\n",
    "filters = 10,\n",
    "kernel_size = 3,\n",
    "padding = 'same',\n",
    "activation = tf.nn.relu)(dropout)"
   ]
  },
  {
   "cell_type": "markdown",
   "id": "legitimate-attachment",
   "metadata": {},
   "source": [
    "---\n",
    "### `tf.keras.layers.MaxPool1D`\n",
    "합성곱 신경망과 함께 쓰이는 기법 중 하나, 풀링.<br>\n",
    "보통 피처맵의 크기를 줄이거나 주요 특징을 뽑아내기 위해 합성곱 이후에 적용되는 기법.<br>\n",
    "\n",
    "주로 두 가지 풀링 기법\n",
    "- 맥스 풀링(max-pooling) : 피처 맵에 대해 최댓값만을 뽑아내는 방식\n",
    "- 평균 풀링(average-pooling) : 피처 맵에 대해 전체 값들을 평균한 값을 뽑는 방식\n",
    "\n",
    "(이 책에서는 주로 맥스 풀링 기법 사용)<br>\n",
    "max pooling은 합성곱과 같이 세 가지 형태로 모델이 구분돼 있다. : MaxPool1D, MaxPool2D, MaxPool3D (합성곱과 같은 원리)<br>\n",
    "자연어처리에서는 주로 MaxPool1D를 사용하는데, 한 방향으로만 풀링 진행. 사용법은 앞서 설명한 합성곱과 동일"
   ]
  },
  {
   "cell_type": "code",
   "execution_count": null,
   "id": "vertical-unemployment",
   "metadata": {},
   "outputs": [],
   "source": [
    "# 입력값이 -> 합성곱과 맥스 풀링을 사용한 후 -> 완전 연결 계층을 통해 -> 최종 출력값이 나오눈 구조를 만들어보자. \n",
    "# 입력값에는 드롭아웃 적용, 맥스 풀링 결괏값을 완전 연결 계층으로 연결하기 위해서는 행렬이었던 것을 벡터로 만들어야 함.(flatten)\n",
    "inputs = tf.keras.layers.Input(shape = INPUT_SIZE) # 입력값\n",
    "dropout = tf.keras.layers.Dropout(rate = 0.2)(inputs) # 입력값에 dropout 적용\n",
    "conv = tf.keras.layers.Conv1D(\n",
    "filters = 10,\n",
    "kernel_size = 3,\n",
    "padding = 'same',\n",
    "activation = tf.nn.relu)(dropout) # dropout 한 입력값으로 합성곱\n",
    "max_pool = tf.keras.layers.MaxPool1D(pool_size = 3, padding = 'same')(conv) # 맥스풀링\n",
    "flatten = tf.keras.layers.Flatten()(max_pool) # 맥스 풀링 결괏값을 flatten (행렬 -> 벡터)\n",
    "hidden = tf.keras.layers.Dense(units = 50, activation = tf.nn.relu)(flatten) # 은닉층(완전연결계층)\n",
    "output = tf.keras.layers.Dense(units = 10, activation = tf.nn.softmax)(hidden) # 왜 여기선 활성화함수가 또 softmax여?\n"
   ]
  },
  {
   "cell_type": "markdown",
   "id": "searching-education",
   "metadata": {},
   "source": [
    "---"
   ]
  },
  {
   "cell_type": "markdown",
   "id": "mental-accountability",
   "metadata": {},
   "source": [
    "# tensorflow2"
   ]
  },
  {
   "cell_type": "code",
   "execution_count": 8,
   "id": "labeled-material",
   "metadata": {},
   "outputs": [],
   "source": [
    "import tensorflow as tf\n",
    "from tensorflow.keras import preprocessing\n",
    "import numpy as np"
   ]
  },
  {
   "cell_type": "code",
   "execution_count": 9,
   "id": "differential-malawi",
   "metadata": {},
   "outputs": [],
   "source": [
    "samples = ['너 오늘 이뻐 보인다',\n",
    "         '나는 오늘 기분이 더러워',\n",
    "         '끝내주는데, 좋은 일이 있나봐',\n",
    "         '나 좋은 일이 생겼어',\n",
    "         '아 오늘 진짜 짜증나',\n",
    "         '환상적인데, 정말 좋은거 같아']\n",
    "targets = [[1],[0],[1],[1],[0],[1]] # labels"
   ]
  },
  {
   "cell_type": "code",
   "execution_count": 10,
   "id": "wireless-advancement",
   "metadata": {},
   "outputs": [
    {
     "data": {
      "text/plain": [
       "{'오늘': 1,\n",
       " '좋은': 2,\n",
       " '일이': 3,\n",
       " '너': 4,\n",
       " '이뻐': 5,\n",
       " '보인다': 6,\n",
       " '나는': 7,\n",
       " '기분이': 8,\n",
       " '더러워': 9,\n",
       " '끝내주는데': 10,\n",
       " '있나봐': 11,\n",
       " '나': 12,\n",
       " '생겼어': 13,\n",
       " '아': 14,\n",
       " '진짜': 15,\n",
       " '짜증나': 16,\n",
       " '환상적인데': 17,\n",
       " '정말': 18,\n",
       " '좋은거': 19,\n",
       " '같아': 20}"
      ]
     },
     "execution_count": 10,
     "metadata": {},
     "output_type": "execute_result"
    }
   ],
   "source": [
    "# 주로 다음과 같은 구조로 전처리! (4,5,6장에 자세히 나온다고 함)\n",
    "tokenizer = preprocessing.text.Tokenizer()\n",
    "tokenizer.fit_on_texts(samples)\n",
    "sequences = tokenizer.texts_to_sequences(samples) # sequences: list의 list\n",
    "input_sequences = np.array(sequences)\n",
    "labels = np.array(targets)\n",
    "\n",
    "word_index = tokenizer.word_index # 자주 등장한 token이 1번 쪽으로 가는군\n",
    "word_index"
   ]
  },
  {
   "cell_type": "code",
   "execution_count": 11,
   "id": "diagnostic-technician",
   "metadata": {},
   "outputs": [],
   "source": [
    "from tensorflow.keras import backend\n",
    "from tensorflow.keras import layers"
   ]
  },
  {
   "cell_type": "code",
   "execution_count": 12,
   "id": "rental-italy",
   "metadata": {},
   "outputs": [],
   "source": [
    "batch_size = 2 # 한 번에 두개의 데이터가 불려옴\n",
    "num_epochs = 100"
   ]
  },
  {
   "cell_type": "code",
   "execution_count": 13,
   "id": "taken-penguin",
   "metadata": {},
   "outputs": [],
   "source": [
    "vocab_size = len(word_index) + 1 # 이건 뭐지 왜! vocab size가 word 개수에 +1이 되는 걸까\n",
    "emb_size = 128\n",
    "hidden_dimension = 256\n",
    "output_dimension = 1"
   ]
  },
  {
   "cell_type": "markdown",
   "id": "fancy-skating",
   "metadata": {},
   "source": [
    "### Keras Sequential\n",
    "[keras의 Sequential 모델](https://www.tensorflow.org/guide/keras/sequential_model?hl=ko)"
   ]
  },
  {
   "cell_type": "code",
   "execution_count": 14,
   "id": "optional-cross",
   "metadata": {},
   "outputs": [],
   "source": [
    "model = tf.keras.Sequential([\n",
    "    layers.Embedding(vocab_size, emb_size, input_length = 4),\n",
    "    layers.Lambda(lambda x: tf.reduce_mean(x, axis = 1)),\n",
    "    layers.Dense(hidden_dimension, activation = 'relu'),\n",
    "    layers.Dense(output_dimension, activation = 'sigmoid')\n",
    "])\n",
    "\n",
    "model.compile(optimizer=tf.keras.optimizers.Adam(0.001),\n",
    "             loss='binary_crossentropy',\n",
    "             metrics=['accuracy'])\n",
    "\n",
    "# 기존에 estimator로 하던 걸 keras Sequential로 하는 건가..?"
   ]
  },
  {
   "cell_type": "code",
   "execution_count": 15,
   "id": "earlier-cause",
   "metadata": {},
   "outputs": [
    {
     "name": "stdout",
     "output_type": "stream",
     "text": [
      "Model: \"sequential\"\n",
      "_________________________________________________________________\n",
      "Layer (type)                 Output Shape              Param #   \n",
      "=================================================================\n",
      "embedding (Embedding)        (None, 4, 128)            2688      \n",
      "_________________________________________________________________\n",
      "lambda (Lambda)              (None, 128)               0         \n",
      "_________________________________________________________________\n",
      "dense_2 (Dense)              (None, 256)               33024     \n",
      "_________________________________________________________________\n",
      "dense_3 (Dense)              (None, 1)                 257       \n",
      "=================================================================\n",
      "Total params: 35,969\n",
      "Trainable params: 35,969\n",
      "Non-trainable params: 0\n",
      "_________________________________________________________________\n"
     ]
    }
   ],
   "source": [
    "model.summary()"
   ]
  },
  {
   "cell_type": "code",
   "execution_count": 16,
   "id": "suspended-romance",
   "metadata": {},
   "outputs": [
    {
     "name": "stdout",
     "output_type": "stream",
     "text": [
      "Epoch 1/100\n",
      "3/3 [==============================] - 0s 987us/step - loss: 0.6900 - accuracy: 0.6667\n",
      "Epoch 2/100\n",
      "3/3 [==============================] - 0s 1ms/step - loss: 0.6693 - accuracy: 0.6667\n",
      "Epoch 3/100\n",
      "3/3 [==============================] - 0s 1ms/step - loss: 0.6536 - accuracy: 1.0000\n",
      "Epoch 4/100\n",
      "3/3 [==============================] - 0s 1ms/step - loss: 0.6341 - accuracy: 1.0000\n",
      "Epoch 5/100\n",
      "3/3 [==============================] - 0s 996us/step - loss: 0.6160 - accuracy: 1.0000\n",
      "Epoch 6/100\n",
      "3/3 [==============================] - 0s 1ms/step - loss: 0.5925 - accuracy: 1.0000\n",
      "Epoch 7/100\n",
      "3/3 [==============================] - 0s 1ms/step - loss: 0.5666 - accuracy: 1.0000\n",
      "Epoch 8/100\n",
      "3/3 [==============================] - 0s 1ms/step - loss: 0.5318 - accuracy: 1.0000\n",
      "Epoch 9/100\n",
      "3/3 [==============================] - 0s 2ms/step - loss: 0.4978 - accuracy: 1.0000\n",
      "Epoch 10/100\n",
      "3/3 [==============================] - 0s 1ms/step - loss: 0.4587 - accuracy: 1.0000\n",
      "Epoch 11/100\n",
      "3/3 [==============================] - 0s 999us/step - loss: 0.4137 - accuracy: 1.0000\n",
      "Epoch 12/100\n",
      "3/3 [==============================] - 0s 1ms/step - loss: 0.3692 - accuracy: 1.0000\n",
      "Epoch 13/100\n",
      "3/3 [==============================] - 0s 1ms/step - loss: 0.3212 - accuracy: 1.0000\n",
      "Epoch 14/100\n",
      "3/3 [==============================] - 0s 994us/step - loss: 0.2736 - accuracy: 1.0000\n",
      "Epoch 15/100\n",
      "3/3 [==============================] - 0s 1ms/step - loss: 0.2286 - accuracy: 1.0000\n",
      "Epoch 16/100\n",
      "3/3 [==============================] - 0s 1000us/step - loss: 0.1866 - accuracy: 1.0000\n",
      "Epoch 17/100\n",
      "3/3 [==============================] - 0s 2ms/step - loss: 0.1522 - accuracy: 1.0000\n",
      "Epoch 18/100\n",
      "3/3 [==============================] - 0s 1ms/step - loss: 0.1194 - accuracy: 1.0000\n",
      "Epoch 19/100\n",
      "3/3 [==============================] - 0s 1ms/step - loss: 0.0932 - accuracy: 1.0000\n",
      "Epoch 20/100\n",
      "3/3 [==============================] - 0s 1ms/step - loss: 0.0751 - accuracy: 1.0000\n",
      "Epoch 21/100\n",
      "3/3 [==============================] - 0s 1ms/step - loss: 0.0561 - accuracy: 1.0000\n",
      "Epoch 22/100\n",
      "3/3 [==============================] - 0s 2ms/step - loss: 0.0445 - accuracy: 1.0000\n",
      "Epoch 23/100\n",
      "3/3 [==============================] - 0s 2ms/step - loss: 0.0353 - accuracy: 1.0000\n",
      "Epoch 24/100\n",
      "3/3 [==============================] - 0s 1ms/step - loss: 0.0276 - accuracy: 1.0000\n",
      "Epoch 25/100\n",
      "3/3 [==============================] - 0s 18ms/step - loss: 0.0224 - accuracy: 1.0000\n",
      "Epoch 26/100\n",
      "3/3 [==============================] - 0s 994us/step - loss: 0.0190 - accuracy: 1.0000\n",
      "Epoch 27/100\n",
      "3/3 [==============================] - 0s 1ms/step - loss: 0.0152 - accuracy: 1.0000\n",
      "Epoch 28/100\n",
      "3/3 [==============================] - 0s 2ms/step - loss: 0.0130 - accuracy: 1.0000\n",
      "Epoch 29/100\n",
      "3/3 [==============================] - 0s 2ms/step - loss: 0.0113 - accuracy: 1.0000\n",
      "Epoch 30/100\n",
      "3/3 [==============================] - 0s 2ms/step - loss: 0.0095 - accuracy: 1.0000\n",
      "Epoch 31/100\n",
      "3/3 [==============================] - 0s 1ms/step - loss: 0.0085 - accuracy: 1.0000\n",
      "Epoch 32/100\n",
      "3/3 [==============================] - 0s 2ms/step - loss: 0.0075 - accuracy: 1.0000\n",
      "Epoch 33/100\n",
      "3/3 [==============================] - 0s 2ms/step - loss: 0.0067 - accuracy: 1.0000\n",
      "Epoch 34/100\n",
      "3/3 [==============================] - 0s 1ms/step - loss: 0.0061 - accuracy: 1.0000\n",
      "Epoch 35/100\n",
      "3/3 [==============================] - 0s 1ms/step - loss: 0.0057 - accuracy: 1.0000\n",
      "Epoch 36/100\n",
      "3/3 [==============================] - 0s 1ms/step - loss: 0.0052 - accuracy: 1.0000\n",
      "Epoch 37/100\n",
      "3/3 [==============================] - 0s 1ms/step - loss: 0.0049 - accuracy: 1.0000\n",
      "Epoch 38/100\n",
      "3/3 [==============================] - 0s 2ms/step - loss: 0.0045 - accuracy: 1.0000\n",
      "Epoch 39/100\n",
      "3/3 [==============================] - 0s 1000us/step - loss: 0.0042 - accuracy: 1.0000\n",
      "Epoch 40/100\n",
      "3/3 [==============================] - 0s 1ms/step - loss: 0.0040 - accuracy: 1.0000\n",
      "Epoch 41/100\n",
      "3/3 [==============================] - 0s 1ms/step - loss: 0.0037 - accuracy: 1.0000\n",
      "Epoch 42/100\n",
      "3/3 [==============================] - 0s 1ms/step - loss: 0.0035 - accuracy: 1.0000\n",
      "Epoch 43/100\n",
      "3/3 [==============================] - 0s 1ms/step - loss: 0.0033 - accuracy: 1.0000\n",
      "Epoch 44/100\n",
      "3/3 [==============================] - 0s 1ms/step - loss: 0.0032 - accuracy: 1.0000\n",
      "Epoch 45/100\n",
      "3/3 [==============================] - 0s 1ms/step - loss: 0.0030 - accuracy: 1.0000\n",
      "Epoch 46/100\n",
      "3/3 [==============================] - 0s 2ms/step - loss: 0.0029 - accuracy: 1.0000\n",
      "Epoch 47/100\n",
      "3/3 [==============================] - 0s 667us/step - loss: 0.0027 - accuracy: 1.0000\n",
      "Epoch 48/100\n",
      "3/3 [==============================] - 0s 1ms/step - loss: 0.0026 - accuracy: 1.0000\n",
      "Epoch 49/100\n",
      "3/3 [==============================] - 0s 1ms/step - loss: 0.0025 - accuracy: 1.0000\n",
      "Epoch 50/100\n",
      "3/3 [==============================] - 0s 1ms/step - loss: 0.0024 - accuracy: 1.0000\n",
      "Epoch 51/100\n",
      "3/3 [==============================] - 0s 1ms/step - loss: 0.0023 - accuracy: 1.0000\n",
      "Epoch 52/100\n",
      "3/3 [==============================] - 0s 1ms/step - loss: 0.0022 - accuracy: 1.0000\n",
      "Epoch 53/100\n",
      "3/3 [==============================] - 0s 1000us/step - loss: 0.0021 - accuracy: 1.0000\n",
      "Epoch 54/100\n",
      "3/3 [==============================] - 0s 1ms/step - loss: 0.0020 - accuracy: 1.0000\n",
      "Epoch 55/100\n",
      "3/3 [==============================] - 0s 1ms/step - loss: 0.0019 - accuracy: 1.0000\n",
      "Epoch 56/100\n",
      "3/3 [==============================] - 0s 1ms/step - loss: 0.0019 - accuracy: 1.0000\n",
      "Epoch 57/100\n",
      "3/3 [==============================] - 0s 993us/step - loss: 0.0018 - accuracy: 1.0000\n",
      "Epoch 58/100\n",
      "3/3 [==============================] - 0s 1ms/step - loss: 0.0017 - accuracy: 1.0000\n",
      "Epoch 59/100\n",
      "3/3 [==============================] - 0s 1ms/step - loss: 0.0017 - accuracy: 1.0000\n",
      "Epoch 60/100\n",
      "3/3 [==============================] - 0s 1ms/step - loss: 0.0016 - accuracy: 1.0000\n",
      "Epoch 61/100\n",
      "3/3 [==============================] - 0s 1ms/step - loss: 0.0016 - accuracy: 1.0000\n",
      "Epoch 62/100\n",
      "3/3 [==============================] - 0s 1ms/step - loss: 0.0015 - accuracy: 1.0000\n",
      "Epoch 63/100\n",
      "3/3 [==============================] - 0s 668us/step - loss: 0.0015 - accuracy: 1.0000\n",
      "Epoch 64/100\n",
      "3/3 [==============================] - 0s 999us/step - loss: 0.0014 - accuracy: 1.0000\n",
      "Epoch 65/100\n",
      "3/3 [==============================] - 0s 2ms/step - loss: 0.0014 - accuracy: 1.0000\n",
      "Epoch 66/100\n",
      "3/3 [==============================] - 0s 1ms/step - loss: 0.0013 - accuracy: 1.0000\n",
      "Epoch 67/100\n",
      "3/3 [==============================] - 0s 1ms/step - loss: 0.0013 - accuracy: 1.0000\n",
      "Epoch 68/100\n",
      "3/3 [==============================] - 0s 1ms/step - loss: 0.0012 - accuracy: 1.0000\n",
      "Epoch 69/100\n",
      "3/3 [==============================] - 0s 990us/step - loss: 0.0012 - accuracy: 1.0000\n",
      "Epoch 70/100\n",
      "3/3 [==============================] - 0s 1ms/step - loss: 0.0012 - accuracy: 1.0000\n",
      "Epoch 71/100\n",
      "3/3 [==============================] - 0s 1000us/step - loss: 0.0011 - accuracy: 1.0000\n",
      "Epoch 72/100\n",
      "3/3 [==============================] - 0s 2ms/step - loss: 0.0011 - accuracy: 1.0000\n",
      "Epoch 73/100\n",
      "3/3 [==============================] - 0s 993us/step - loss: 0.0011 - accuracy: 1.0000\n",
      "Epoch 74/100\n",
      "3/3 [==============================] - 0s 1ms/step - loss: 0.0010 - accuracy: 1.0000\n",
      "Epoch 75/100\n",
      "3/3 [==============================] - 0s 1ms/step - loss: 0.0010 - accuracy: 1.0000\n",
      "Epoch 76/100\n",
      "3/3 [==============================] - 0s 2ms/step - loss: 9.8232e-04 - accuracy: 1.0000\n",
      "Epoch 77/100\n",
      "3/3 [==============================] - 0s 1ms/step - loss: 9.5750e-04 - accuracy: 1.0000\n",
      "Epoch 78/100\n",
      "3/3 [==============================] - 0s 1ms/step - loss: 9.2989e-04 - accuracy: 1.0000\n",
      "Epoch 79/100\n",
      "3/3 [==============================] - 0s 999us/step - loss: 9.0519e-04 - accuracy: 1.0000\n",
      "Epoch 80/100\n",
      "3/3 [==============================] - 0s 1ms/step - loss: 8.8276e-04 - accuracy: 1.0000\n",
      "Epoch 81/100\n",
      "3/3 [==============================] - 0s 2ms/step - loss: 8.5649e-04 - accuracy: 1.0000\n",
      "Epoch 82/100\n",
      "3/3 [==============================] - 0s 1ms/step - loss: 8.3813e-04 - accuracy: 1.0000\n",
      "Epoch 83/100\n",
      "3/3 [==============================] - 0s 2ms/step - loss: 8.1459e-04 - accuracy: 1.0000\n"
     ]
    },
    {
     "name": "stdout",
     "output_type": "stream",
     "text": [
      "Epoch 84/100\n",
      "3/3 [==============================] - 0s 2ms/step - loss: 7.9391e-04 - accuracy: 1.0000\n",
      "Epoch 85/100\n",
      "3/3 [==============================] - 0s 2ms/step - loss: 7.7556e-04 - accuracy: 1.0000\n",
      "Epoch 86/100\n",
      "3/3 [==============================] - 0s 1ms/step - loss: 7.5612e-04 - accuracy: 1.0000\n",
      "Epoch 87/100\n",
      "3/3 [==============================] - 0s 1ms/step - loss: 7.3984e-04 - accuracy: 1.0000\n",
      "Epoch 88/100\n",
      "3/3 [==============================] - 0s 1ms/step - loss: 7.1891e-04 - accuracy: 1.0000\n",
      "Epoch 89/100\n",
      "3/3 [==============================] - 0s 1ms/step - loss: 7.0324e-04 - accuracy: 1.0000\n",
      "Epoch 90/100\n",
      "3/3 [==============================] - 0s 1ms/step - loss: 6.8582e-04 - accuracy: 1.0000\n",
      "Epoch 91/100\n",
      "3/3 [==============================] - 0s 2ms/step - loss: 6.7052e-04 - accuracy: 1.0000\n",
      "Epoch 92/100\n",
      "3/3 [==============================] - 0s 1ms/step - loss: 6.5369e-04 - accuracy: 1.0000\n",
      "Epoch 93/100\n",
      "3/3 [==============================] - 0s 1ms/step - loss: 6.3946e-04 - accuracy: 1.0000\n",
      "Epoch 94/100\n",
      "3/3 [==============================] - 0s 1ms/step - loss: 6.2488e-04 - accuracy: 1.0000\n",
      "Epoch 95/100\n",
      "3/3 [==============================] - 0s 2ms/step - loss: 6.1249e-04 - accuracy: 1.0000\n",
      "Epoch 96/100\n",
      "3/3 [==============================] - 0s 2ms/step - loss: 5.9738e-04 - accuracy: 1.0000\n",
      "Epoch 97/100\n",
      "3/3 [==============================] - 0s 2ms/step - loss: 5.8599e-04 - accuracy: 1.0000\n",
      "Epoch 98/100\n",
      "3/3 [==============================] - 0s 2ms/step - loss: 5.7309e-04 - accuracy: 1.0000\n",
      "Epoch 99/100\n",
      "3/3 [==============================] - 0s 2ms/step - loss: 5.5918e-04 - accuracy: 1.0000\n",
      "Epoch 100/100\n",
      "3/3 [==============================] - 0s 2ms/step - loss: 5.4828e-04 - accuracy: 1.0000\n"
     ]
    },
    {
     "data": {
      "text/plain": [
       "<tensorflow.python.keras.callbacks.History at 0x19c9360d8d0>"
      ]
     },
     "execution_count": 16,
     "metadata": {},
     "output_type": "execute_result"
    }
   ],
   "source": [
    "model.fit(input_sequences, labels, epochs = num_epochs, batch_size = batch_size)\n",
    "# input_sequences: np.array(sequences) 즉, 숫자로 바뀐 각 문장에 대한 tokenized array\n",
    "# labels: 긍부정에 따라 [1], [0] 으로 각 문장에 대한 라벨을 붙였던 리스트\n",
    "# num_epochs: 위에서 100으로 설정\n",
    "# batch_size: 2로 위에서 설정\n",
    "\n",
    "# 숫자화된 각 문장을 각 target 값으로 학습 시키는 것인듯??"
   ]
  },
  {
   "cell_type": "markdown",
   "id": "distinct-dressing",
   "metadata": {},
   "source": [
    "### Keras Functional API"
   ]
  },
  {
   "cell_type": "code",
   "execution_count": 17,
   "id": "rolled-guinea",
   "metadata": {},
   "outputs": [],
   "source": [
    "inputs = layers.Input(shape = (4,))\n",
    "embed_output = layers.Embedding(vocab_size, emb_size)(inputs) # vocab_size : 21, emb_size : 128\n",
    "pooled_output = tf.reduce_mean(embed_output, axis = 1)\n",
    "hidden_layer = layers.Dense(hidden_dimension, activation = 'relu')(pooled_output)\n",
    "outputs = layers.Dense(output_dimension, activation = 'sigmoid')(hidden_layer)"
   ]
  },
  {
   "cell_type": "code",
   "execution_count": 18,
   "id": "attended-smart",
   "metadata": {},
   "outputs": [],
   "source": [
    "model = tf.keras.Model(inputs=inputs, outputs=outputs)\n",
    "\n",
    "model.compile(optimizer=tf.keras.optimizers.Adam(0.001),\n",
    "             loss = 'binary_crossentropy',\n",
    "             metrics = ['accuracy'])"
   ]
  },
  {
   "cell_type": "code",
   "execution_count": 19,
   "id": "mature-living",
   "metadata": {},
   "outputs": [
    {
     "name": "stdout",
     "output_type": "stream",
     "text": [
      "Model: \"model\"\n",
      "_________________________________________________________________\n",
      "Layer (type)                 Output Shape              Param #   \n",
      "=================================================================\n",
      "input_2 (InputLayer)         [(None, 4)]               0         \n",
      "_________________________________________________________________\n",
      "embedding_1 (Embedding)      (None, 4, 128)            2688      \n",
      "_________________________________________________________________\n",
      "tf_op_layer_Mean (TensorFlow [(None, 128)]             0         \n",
      "_________________________________________________________________\n",
      "dense_4 (Dense)              (None, 256)               33024     \n",
      "_________________________________________________________________\n",
      "dense_5 (Dense)              (None, 1)                 257       \n",
      "=================================================================\n",
      "Total params: 35,969\n",
      "Trainable params: 35,969\n",
      "Non-trainable params: 0\n",
      "_________________________________________________________________\n"
     ]
    }
   ],
   "source": [
    "model.summary()"
   ]
  },
  {
   "cell_type": "code",
   "execution_count": 20,
   "id": "reduced-mission",
   "metadata": {},
   "outputs": [
    {
     "name": "stdout",
     "output_type": "stream",
     "text": [
      "Epoch 1/100\n",
      "3/3 [==============================] - 0s 1ms/step - loss: 0.6942 - accuracy: 0.1667\n",
      "Epoch 2/100\n",
      "3/3 [==============================] - 0s 995us/step - loss: 0.6737 - accuracy: 1.0000\n",
      "Epoch 3/100\n",
      "3/3 [==============================] - 0s 1ms/step - loss: 0.6566 - accuracy: 1.0000\n",
      "Epoch 4/100\n",
      "3/3 [==============================] - 0s 1ms/step - loss: 0.6388 - accuracy: 1.0000\n",
      "Epoch 5/100\n",
      "3/3 [==============================] - 0s 998us/step - loss: 0.6193 - accuracy: 1.0000\n",
      "Epoch 6/100\n",
      "3/3 [==============================] - 0s 999us/step - loss: 0.5960 - accuracy: 1.0000\n",
      "Epoch 7/100\n",
      "3/3 [==============================] - 0s 2ms/step - loss: 0.5698 - accuracy: 1.0000\n",
      "Epoch 8/100\n",
      "3/3 [==============================] - 0s 995us/step - loss: 0.5371 - accuracy: 1.0000\n",
      "Epoch 9/100\n",
      "3/3 [==============================] - 0s 996us/step - loss: 0.5022 - accuracy: 1.0000\n",
      "Epoch 10/100\n",
      "3/3 [==============================] - 0s 2ms/step - loss: 0.4600 - accuracy: 1.0000\n",
      "Epoch 11/100\n",
      "3/3 [==============================] - 0s 1ms/step - loss: 0.4171 - accuracy: 1.0000\n",
      "Epoch 12/100\n",
      "3/3 [==============================] - 0s 1ms/step - loss: 0.3679 - accuracy: 1.0000\n",
      "Epoch 13/100\n",
      "3/3 [==============================] - 0s 1ms/step - loss: 0.3204 - accuracy: 1.0000\n",
      "Epoch 14/100\n",
      "3/3 [==============================] - 0s 1ms/step - loss: 0.2719 - accuracy: 1.0000\n",
      "Epoch 15/100\n",
      "3/3 [==============================] - 0s 2ms/step - loss: 0.2263 - accuracy: 1.0000\n",
      "Epoch 16/100\n",
      "3/3 [==============================] - 0s 1ms/step - loss: 0.1842 - accuracy: 1.0000\n",
      "Epoch 17/100\n",
      "3/3 [==============================] - 0s 1ms/step - loss: 0.1466 - accuracy: 1.0000\n",
      "Epoch 18/100\n",
      "3/3 [==============================] - 0s 1ms/step - loss: 0.1164 - accuracy: 1.0000\n",
      "Epoch 19/100\n",
      "3/3 [==============================] - 0s 1ms/step - loss: 0.0913 - accuracy: 1.0000\n",
      "Epoch 20/100\n",
      "3/3 [==============================] - 0s 1ms/step - loss: 0.0690 - accuracy: 1.0000\n",
      "Epoch 21/100\n",
      "3/3 [==============================] - 0s 998us/step - loss: 0.0545 - accuracy: 1.0000\n",
      "Epoch 22/100\n",
      "3/3 [==============================] - 0s 1ms/step - loss: 0.0430 - accuracy: 1.0000\n",
      "Epoch 23/100\n",
      "3/3 [==============================] - 0s 1000us/step - loss: 0.0343 - accuracy: 1.0000\n",
      "Epoch 24/100\n",
      "3/3 [==============================] - 0s 1ms/step - loss: 0.0276 - accuracy: 1.0000\n",
      "Epoch 25/100\n",
      "3/3 [==============================] - 0s 999us/step - loss: 0.0227 - accuracy: 1.0000\n",
      "Epoch 26/100\n",
      "3/3 [==============================] - 0s 1ms/step - loss: 0.0185 - accuracy: 1.0000\n",
      "Epoch 27/100\n",
      "3/3 [==============================] - 0s 995us/step - loss: 0.0158 - accuracy: 1.0000\n",
      "Epoch 28/100\n",
      "3/3 [==============================] - 0s 991us/step - loss: 0.0132 - accuracy: 1.0000\n",
      "Epoch 29/100\n",
      "3/3 [==============================] - 0s 997us/step - loss: 0.0116 - accuracy: 1.0000\n",
      "Epoch 30/100\n",
      "3/3 [==============================] - 0s 1ms/step - loss: 0.0100 - accuracy: 1.0000\n",
      "Epoch 31/100\n",
      "3/3 [==============================] - 0s 1ms/step - loss: 0.0088 - accuracy: 1.0000\n",
      "Epoch 32/100\n",
      "3/3 [==============================] - 0s 989us/step - loss: 0.0079 - accuracy: 1.0000\n",
      "Epoch 33/100\n",
      "3/3 [==============================] - 0s 997us/step - loss: 0.0072 - accuracy: 1.0000\n",
      "Epoch 34/100\n",
      "3/3 [==============================] - 0s 1ms/step - loss: 0.0066 - accuracy: 1.0000\n",
      "Epoch 35/100\n",
      "3/3 [==============================] - 0s 1ms/step - loss: 0.0061 - accuracy: 1.0000\n",
      "Epoch 36/100\n",
      "3/3 [==============================] - 0s 1ms/step - loss: 0.0056 - accuracy: 1.0000\n",
      "Epoch 37/100\n",
      "3/3 [==============================] - 0s 1ms/step - loss: 0.0051 - accuracy: 1.0000\n",
      "Epoch 38/100\n",
      "3/3 [==============================] - 0s 1ms/step - loss: 0.0048 - accuracy: 1.0000\n",
      "Epoch 39/100\n",
      "3/3 [==============================] - 0s 666us/step - loss: 0.0046 - accuracy: 1.0000\n",
      "Epoch 40/100\n",
      "3/3 [==============================] - 0s 1ms/step - loss: 0.0042 - accuracy: 1.0000\n",
      "Epoch 41/100\n",
      "3/3 [==============================] - 0s 1ms/step - loss: 0.0040 - accuracy: 1.0000\n",
      "Epoch 42/100\n",
      "3/3 [==============================] - 0s 1ms/step - loss: 0.0038 - accuracy: 1.0000\n",
      "Epoch 43/100\n",
      "3/3 [==============================] - 0s 1ms/step - loss: 0.0036 - accuracy: 1.0000\n",
      "Epoch 44/100\n",
      "3/3 [==============================] - 0s 1ms/step - loss: 0.0034 - accuracy: 1.0000\n",
      "Epoch 45/100\n",
      "3/3 [==============================] - 0s 1ms/step - loss: 0.0032 - accuracy: 1.0000\n",
      "Epoch 46/100\n",
      "3/3 [==============================] - 0s 2ms/step - loss: 0.0031 - accuracy: 1.0000\n",
      "Epoch 47/100\n",
      "3/3 [==============================] - 0s 1ms/step - loss: 0.0029 - accuracy: 1.0000\n",
      "Epoch 48/100\n",
      "3/3 [==============================] - 0s 999us/step - loss: 0.0028 - accuracy: 1.0000\n",
      "Epoch 49/100\n",
      "3/3 [==============================] - 0s 1ms/step - loss: 0.0027 - accuracy: 1.0000\n",
      "Epoch 50/100\n",
      "3/3 [==============================] - 0s 996us/step - loss: 0.0026 - accuracy: 1.0000\n",
      "Epoch 51/100\n",
      "3/3 [==============================] - 0s 994us/step - loss: 0.0025 - accuracy: 1.0000\n",
      "Epoch 52/100\n",
      "3/3 [==============================] - 0s 1ms/step - loss: 0.0024 - accuracy: 1.0000\n",
      "Epoch 53/100\n",
      "3/3 [==============================] - 0s 1ms/step - loss: 0.0023 - accuracy: 1.0000\n",
      "Epoch 54/100\n",
      "3/3 [==============================] - 0s 993us/step - loss: 0.0022 - accuracy: 1.0000\n",
      "Epoch 55/100\n",
      "3/3 [==============================] - 0s 1000us/step - loss: 0.0021 - accuracy: 1.0000\n",
      "Epoch 56/100\n",
      "3/3 [==============================] - 0s 1ms/step - loss: 0.0020 - accuracy: 1.0000\n",
      "Epoch 57/100\n",
      "3/3 [==============================] - 0s 996us/step - loss: 0.0019 - accuracy: 1.0000\n",
      "Epoch 58/100\n",
      "3/3 [==============================] - 0s 1ms/step - loss: 0.0019 - accuracy: 1.0000\n",
      "Epoch 59/100\n",
      "3/3 [==============================] - 0s 1ms/step - loss: 0.0018 - accuracy: 1.0000\n",
      "Epoch 60/100\n",
      "3/3 [==============================] - 0s 1ms/step - loss: 0.0017 - accuracy: 1.0000\n",
      "Epoch 61/100\n",
      "3/3 [==============================] - 0s 1ms/step - loss: 0.0017 - accuracy: 1.0000\n",
      "Epoch 62/100\n",
      "3/3 [==============================] - 0s 1ms/step - loss: 0.0016 - accuracy: 1.0000\n",
      "Epoch 63/100\n",
      "3/3 [==============================] - 0s 1ms/step - loss: 0.0016 - accuracy: 1.0000\n",
      "Epoch 64/100\n",
      "3/3 [==============================] - 0s 1ms/step - loss: 0.0015 - accuracy: 1.0000\n",
      "Epoch 65/100\n",
      "3/3 [==============================] - 0s 1ms/step - loss: 0.0015 - accuracy: 1.0000\n",
      "Epoch 66/100\n",
      "3/3 [==============================] - 0s 1ms/step - loss: 0.0014 - accuracy: 1.0000\n",
      "Epoch 67/100\n",
      "3/3 [==============================] - 0s 1ms/step - loss: 0.0014 - accuracy: 1.0000\n",
      "Epoch 68/100\n",
      "3/3 [==============================] - 0s 2ms/step - loss: 0.0014 - accuracy: 1.0000\n",
      "Epoch 69/100\n",
      "3/3 [==============================] - 0s 1ms/step - loss: 0.0013 - accuracy: 1.0000\n",
      "Epoch 70/100\n",
      "3/3 [==============================] - 0s 1ms/step - loss: 0.0013 - accuracy: 1.0000\n",
      "Epoch 71/100\n",
      "3/3 [==============================] - 0s 1ms/step - loss: 0.0012 - accuracy: 1.0000\n",
      "Epoch 72/100\n",
      "3/3 [==============================] - 0s 1ms/step - loss: 0.0012 - accuracy: 1.0000\n",
      "Epoch 73/100\n",
      "3/3 [==============================] - 0s 2ms/step - loss: 0.0012 - accuracy: 1.0000\n",
      "Epoch 74/100\n",
      "3/3 [==============================] - 0s 1ms/step - loss: 0.0011 - accuracy: 1.0000\n",
      "Epoch 75/100\n",
      "3/3 [==============================] - 0s 2ms/step - loss: 0.0011 - accuracy: 1.0000\n",
      "Epoch 76/100\n",
      "3/3 [==============================] - 0s 1ms/step - loss: 0.0011 - accuracy: 1.0000\n",
      "Epoch 77/100\n",
      "3/3 [==============================] - 0s 1ms/step - loss: 0.0011 - accuracy: 1.0000\n",
      "Epoch 78/100\n",
      "3/3 [==============================] - 0s 1ms/step - loss: 0.0010 - accuracy: 1.0000\n",
      "Epoch 79/100\n",
      "3/3 [==============================] - 0s 2ms/step - loss: 0.0010 - accuracy: 1.0000\n",
      "Epoch 80/100\n",
      "3/3 [==============================] - 0s 1ms/step - loss: 9.7688e-04 - accuracy: 1.0000\n",
      "Epoch 81/100\n",
      "3/3 [==============================] - 0s 998us/step - loss: 9.5098e-04 - accuracy: 1.0000\n",
      "Epoch 82/100\n",
      "3/3 [==============================] - 0s 2ms/step - loss: 9.3034e-04 - accuracy: 1.0000\n",
      "Epoch 83/100\n",
      "3/3 [==============================] - 0s 1ms/step - loss: 9.0508e-04 - accuracy: 1.0000\n",
      "Epoch 84/100\n"
     ]
    },
    {
     "name": "stdout",
     "output_type": "stream",
     "text": [
      "3/3 [==============================] - 0s 1ms/step - loss: 8.8403e-04 - accuracy: 1.0000\n",
      "Epoch 85/100\n",
      "3/3 [==============================] - 0s 1ms/step - loss: 8.6554e-04 - accuracy: 1.0000\n",
      "Epoch 86/100\n",
      "3/3 [==============================] - 0s 2ms/step - loss: 8.4427e-04 - accuracy: 1.0000\n",
      "Epoch 87/100\n",
      "3/3 [==============================] - 0s 1ms/step - loss: 8.2453e-04 - accuracy: 1.0000\n",
      "Epoch 88/100\n",
      "3/3 [==============================] - 0s 2ms/step - loss: 8.0696e-04 - accuracy: 1.0000\n",
      "Epoch 89/100\n",
      "3/3 [==============================] - 0s 1ms/step - loss: 7.8814e-04 - accuracy: 1.0000\n",
      "Epoch 90/100\n",
      "3/3 [==============================] - 0s 1ms/step - loss: 7.7082e-04 - accuracy: 1.0000\n",
      "Epoch 91/100\n",
      "3/3 [==============================] - 0s 2ms/step - loss: 7.5414e-04 - accuracy: 1.0000\n",
      "Epoch 92/100\n",
      "3/3 [==============================] - 0s 2ms/step - loss: 7.3826e-04 - accuracy: 1.0000\n",
      "Epoch 93/100\n",
      "3/3 [==============================] - 0s 1ms/step - loss: 7.2290e-04 - accuracy: 1.0000\n",
      "Epoch 94/100\n",
      "3/3 [==============================] - 0s 1ms/step - loss: 7.0844e-04 - accuracy: 1.0000\n",
      "Epoch 95/100\n",
      "3/3 [==============================] - 0s 1ms/step - loss: 6.9281e-04 - accuracy: 1.0000\n",
      "Epoch 96/100\n",
      "3/3 [==============================] - 0s 2ms/step - loss: 6.7786e-04 - accuracy: 1.0000\n",
      "Epoch 97/100\n",
      "3/3 [==============================] - 0s 1ms/step - loss: 6.6467e-04 - accuracy: 1.0000\n",
      "Epoch 98/100\n",
      "3/3 [==============================] - 0s 999us/step - loss: 6.5031e-04 - accuracy: 1.0000\n",
      "Epoch 99/100\n",
      "3/3 [==============================] - 0s 1ms/step - loss: 6.3701e-04 - accuracy: 1.0000\n",
      "Epoch 100/100\n",
      "3/3 [==============================] - 0s 1ms/step - loss: 6.2541e-04 - accuracy: 1.0000\n"
     ]
    },
    {
     "data": {
      "text/plain": [
       "<tensorflow.python.keras.callbacks.History at 0x19c937a4a20>"
      ]
     },
     "execution_count": 20,
     "metadata": {},
     "output_type": "execute_result"
    }
   ],
   "source": [
    "model.fit(input_sequences, labels, epochs = num_epochs, batch_size = batch_size)"
   ]
  },
  {
   "cell_type": "markdown",
   "id": "bridal-closer",
   "metadata": {},
   "source": [
    "### Keras Custom Model"
   ]
  },
  {
   "cell_type": "code",
   "execution_count": 21,
   "id": "assisted-graphic",
   "metadata": {},
   "outputs": [],
   "source": [
    "class CustomModel(tf.keras.Model):\n",
    "    \n",
    "    def __init__(self, vocab_size, embed_dimension, hidden_dimension, output_dimension):\n",
    "        super(CustomModel, self).__init__(name='my_model')\n",
    "        self.embedding = layers.Embedding(vocab_size, embed_dimension)\n",
    "        self.dense_layer = layers.Dense(hidden_dimension, activation='relu')\n",
    "        self.output_layer = layers.Dense(output_dimension, activation = 'sigmoid')\n",
    "        \n",
    "    def call(self, inputs):\n",
    "        x = self.embedding(inputs)\n",
    "        x = tf.reduce_mean(x, axis = 1)\n",
    "        x = self.dense_layer(x)\n",
    "        x = self.output_layer(x)\n",
    "        \n",
    "        return x"
   ]
  },
  {
   "cell_type": "code",
   "execution_count": null,
   "id": "sharing-chick",
   "metadata": {},
   "outputs": [],
   "source": [
    "model = CustomModel(vocab_size = vocab_size,\n",
    "                   embed_dimension=emb_size,\n",
    "                   hidden_dimension=hidden_dimension,\n",
    "                   output_dimension=output_dimension)\n",
    "\n",
    "model.compile(optimizer=tf.keras.optimizers.Adam(0.001),\n",
    "             loss = 'binary_crossentropy',\n",
    "             metrics=['accuracy'])\n",
    "\n",
    "model.fit(input_sequences, labels, epochs = num_epochs, batch_size= batch_size)"
   ]
  },
  {
   "cell_type": "markdown",
   "id": "attempted-leather",
   "metadata": {},
   "source": [
    "### Keras Custom Layer"
   ]
  },
  {
   "cell_type": "code",
   "execution_count": null,
   "id": "emotional-reply",
   "metadata": {},
   "outputs": [],
   "source": [
    "class CustomLayer(layers.Layer):\n",
    "    \n",
    "    def __init__(self, hidden_dimension, output_dimension, **kwargs):\n",
    "        self.hidden_dimension = hidden_dimension\n",
    "        self.output_dimension = output_dimension\n",
    "        super(CustomLayer, self).__init__(**kwargs) # 이 구문이 무슨 뜻이징\n",
    "    \n",
    "    def build(self, input_shape):\n",
    "        self.dense_layer1 = layers.Dense(self.hidden_dimension, activation = 'relu')\n",
    "        self.dense_layer2 = layers.Dense(self.output_dimension)\n",
    "    \n",
    "    def call(self, inputs):\n",
    "        hidden_output = self.dense_layer1(inputs)\n",
    "        return self.dense_layer2(hidden_output)\n",
    "    \n",
    "    # Optional\n",
    "    def get_config(self):\n",
    "        base_config = super(CustomLayer, self).get_config()\n",
    "        base_config['hidden_dim'] = self.hidden_dimension\n",
    "        base_config['output_dim'] = self.output_dim\n",
    "        return base_config\n",
    "    @classmethod\n",
    "    def from_config(cls, config):\n",
    "        return cls(**config)"
   ]
  },
  {
   "cell_type": "code",
   "execution_count": null,
   "id": "dated-arbor",
   "metadata": {},
   "outputs": [],
   "source": [
    "model = tf.keras.Sequential([\n",
    "    layers.Embedding(vocab_size, emb_size, input_length =4),\n",
    "    layers.Lambda(lambda x: tf.reduce_mean(x, axis =1)),\n",
    "    CustomLayer(hidden_dimension, output_dimension),\n",
    "    layers.Activation('sigmoid')\n",
    "])\n",
    "\n",
    "model.compile(optimizer=tf.keras.optimizers.Adam(0.001),\n",
    "             loss='binary_crossentropy',\n",
    "             metrics=['accuracy'])\n",
    "\n",
    "model.fit(input_sequences, labels, epochs=num_epochs, batch_size=batch_size)"
   ]
  },
  {
   "cell_type": "markdown",
   "id": "seasonal-carrier",
   "metadata": {},
   "source": [
    "---\n",
    "# Sklearn\n",
    "python용 머신러닝 라이브러리"
   ]
  },
  {
   "cell_type": "code",
   "execution_count": 22,
   "id": "sorted-appearance",
   "metadata": {},
   "outputs": [
    {
     "data": {
      "text/plain": [
       "'0.24.1'"
      ]
     },
     "execution_count": 22,
     "metadata": {},
     "output_type": "execute_result"
    }
   ],
   "source": [
    "import sklearn\n",
    "sklearn.__version__"
   ]
  },
  {
   "cell_type": "code",
   "execution_count": 23,
   "id": "saved-likelihood",
   "metadata": {},
   "outputs": [],
   "source": [
    "from sklearn.datasets import load_iris"
   ]
  },
  {
   "cell_type": "code",
   "execution_count": 24,
   "id": "grave-links",
   "metadata": {},
   "outputs": [
    {
     "name": "stdout",
     "output_type": "stream",
     "text": [
      "iris_dataset key: dict_keys(['data', 'target', 'frame', 'target_names', 'DESCR', 'feature_names', 'filename'])\n"
     ]
    }
   ],
   "source": [
    "iris_dataset = load_iris()\n",
    "print('iris_dataset key: {}'.format(iris_dataset.keys())) # keys\n",
    "\n",
    "# key 값을 하나씩 뽑아서 확인해보자"
   ]
  },
  {
   "cell_type": "code",
   "execution_count": 25,
   "id": "synthetic-commander",
   "metadata": {},
   "outputs": [
    {
     "name": "stdout",
     "output_type": "stream",
     "text": [
      "[[5.1 3.5 1.4 0.2]\n",
      " [4.9 3.  1.4 0.2]\n",
      " [4.7 3.2 1.3 0.2]\n",
      " [4.6 3.1 1.5 0.2]\n",
      " [5.  3.6 1.4 0.2]\n",
      " [5.4 3.9 1.7 0.4]\n",
      " [4.6 3.4 1.4 0.3]\n",
      " [5.  3.4 1.5 0.2]\n",
      " [4.4 2.9 1.4 0.2]\n",
      " [4.9 3.1 1.5 0.1]\n",
      " [5.4 3.7 1.5 0.2]\n",
      " [4.8 3.4 1.6 0.2]\n",
      " [4.8 3.  1.4 0.1]\n",
      " [4.3 3.  1.1 0.1]\n",
      " [5.8 4.  1.2 0.2]\n",
      " [5.7 4.4 1.5 0.4]\n",
      " [5.4 3.9 1.3 0.4]\n",
      " [5.1 3.5 1.4 0.3]\n",
      " [5.7 3.8 1.7 0.3]\n",
      " [5.1 3.8 1.5 0.3]\n",
      " [5.4 3.4 1.7 0.2]\n",
      " [5.1 3.7 1.5 0.4]\n",
      " [4.6 3.6 1.  0.2]\n",
      " [5.1 3.3 1.7 0.5]\n",
      " [4.8 3.4 1.9 0.2]\n",
      " [5.  3.  1.6 0.2]\n",
      " [5.  3.4 1.6 0.4]\n",
      " [5.2 3.5 1.5 0.2]\n",
      " [5.2 3.4 1.4 0.2]\n",
      " [4.7 3.2 1.6 0.2]\n",
      " [4.8 3.1 1.6 0.2]\n",
      " [5.4 3.4 1.5 0.4]\n",
      " [5.2 4.1 1.5 0.1]\n",
      " [5.5 4.2 1.4 0.2]\n",
      " [4.9 3.1 1.5 0.2]\n",
      " [5.  3.2 1.2 0.2]\n",
      " [5.5 3.5 1.3 0.2]\n",
      " [4.9 3.6 1.4 0.1]\n",
      " [4.4 3.  1.3 0.2]\n",
      " [5.1 3.4 1.5 0.2]\n",
      " [5.  3.5 1.3 0.3]\n",
      " [4.5 2.3 1.3 0.3]\n",
      " [4.4 3.2 1.3 0.2]\n",
      " [5.  3.5 1.6 0.6]\n",
      " [5.1 3.8 1.9 0.4]\n",
      " [4.8 3.  1.4 0.3]\n",
      " [5.1 3.8 1.6 0.2]\n",
      " [4.6 3.2 1.4 0.2]\n",
      " [5.3 3.7 1.5 0.2]\n",
      " [5.  3.3 1.4 0.2]\n",
      " [7.  3.2 4.7 1.4]\n",
      " [6.4 3.2 4.5 1.5]\n",
      " [6.9 3.1 4.9 1.5]\n",
      " [5.5 2.3 4.  1.3]\n",
      " [6.5 2.8 4.6 1.5]\n",
      " [5.7 2.8 4.5 1.3]\n",
      " [6.3 3.3 4.7 1.6]\n",
      " [4.9 2.4 3.3 1. ]\n",
      " [6.6 2.9 4.6 1.3]\n",
      " [5.2 2.7 3.9 1.4]\n",
      " [5.  2.  3.5 1. ]\n",
      " [5.9 3.  4.2 1.5]\n",
      " [6.  2.2 4.  1. ]\n",
      " [6.1 2.9 4.7 1.4]\n",
      " [5.6 2.9 3.6 1.3]\n",
      " [6.7 3.1 4.4 1.4]\n",
      " [5.6 3.  4.5 1.5]\n",
      " [5.8 2.7 4.1 1. ]\n",
      " [6.2 2.2 4.5 1.5]\n",
      " [5.6 2.5 3.9 1.1]\n",
      " [5.9 3.2 4.8 1.8]\n",
      " [6.1 2.8 4.  1.3]\n",
      " [6.3 2.5 4.9 1.5]\n",
      " [6.1 2.8 4.7 1.2]\n",
      " [6.4 2.9 4.3 1.3]\n",
      " [6.6 3.  4.4 1.4]\n",
      " [6.8 2.8 4.8 1.4]\n",
      " [6.7 3.  5.  1.7]\n",
      " [6.  2.9 4.5 1.5]\n",
      " [5.7 2.6 3.5 1. ]\n",
      " [5.5 2.4 3.8 1.1]\n",
      " [5.5 2.4 3.7 1. ]\n",
      " [5.8 2.7 3.9 1.2]\n",
      " [6.  2.7 5.1 1.6]\n",
      " [5.4 3.  4.5 1.5]\n",
      " [6.  3.4 4.5 1.6]\n",
      " [6.7 3.1 4.7 1.5]\n",
      " [6.3 2.3 4.4 1.3]\n",
      " [5.6 3.  4.1 1.3]\n",
      " [5.5 2.5 4.  1.3]\n",
      " [5.5 2.6 4.4 1.2]\n",
      " [6.1 3.  4.6 1.4]\n",
      " [5.8 2.6 4.  1.2]\n",
      " [5.  2.3 3.3 1. ]\n",
      " [5.6 2.7 4.2 1.3]\n",
      " [5.7 3.  4.2 1.2]\n",
      " [5.7 2.9 4.2 1.3]\n",
      " [6.2 2.9 4.3 1.3]\n",
      " [5.1 2.5 3.  1.1]\n",
      " [5.7 2.8 4.1 1.3]\n",
      " [6.3 3.3 6.  2.5]\n",
      " [5.8 2.7 5.1 1.9]\n",
      " [7.1 3.  5.9 2.1]\n",
      " [6.3 2.9 5.6 1.8]\n",
      " [6.5 3.  5.8 2.2]\n",
      " [7.6 3.  6.6 2.1]\n",
      " [4.9 2.5 4.5 1.7]\n",
      " [7.3 2.9 6.3 1.8]\n",
      " [6.7 2.5 5.8 1.8]\n",
      " [7.2 3.6 6.1 2.5]\n",
      " [6.5 3.2 5.1 2. ]\n",
      " [6.4 2.7 5.3 1.9]\n",
      " [6.8 3.  5.5 2.1]\n",
      " [5.7 2.5 5.  2. ]\n",
      " [5.8 2.8 5.1 2.4]\n",
      " [6.4 3.2 5.3 2.3]\n",
      " [6.5 3.  5.5 1.8]\n",
      " [7.7 3.8 6.7 2.2]\n",
      " [7.7 2.6 6.9 2.3]\n",
      " [6.  2.2 5.  1.5]\n",
      " [6.9 3.2 5.7 2.3]\n",
      " [5.6 2.8 4.9 2. ]\n",
      " [7.7 2.8 6.7 2. ]\n",
      " [6.3 2.7 4.9 1.8]\n",
      " [6.7 3.3 5.7 2.1]\n",
      " [7.2 3.2 6.  1.8]\n",
      " [6.2 2.8 4.8 1.8]\n",
      " [6.1 3.  4.9 1.8]\n",
      " [6.4 2.8 5.6 2.1]\n",
      " [7.2 3.  5.8 1.6]\n",
      " [7.4 2.8 6.1 1.9]\n",
      " [7.9 3.8 6.4 2. ]\n",
      " [6.4 2.8 5.6 2.2]\n",
      " [6.3 2.8 5.1 1.5]\n",
      " [6.1 2.6 5.6 1.4]\n",
      " [7.7 3.  6.1 2.3]\n",
      " [6.3 3.4 5.6 2.4]\n",
      " [6.4 3.1 5.5 1.8]\n",
      " [6.  3.  4.8 1.8]\n",
      " [6.9 3.1 5.4 2.1]\n",
      " [6.7 3.1 5.6 2.4]\n",
      " [6.9 3.1 5.1 2.3]\n",
      " [5.8 2.7 5.1 1.9]\n",
      " [6.8 3.2 5.9 2.3]\n",
      " [6.7 3.3 5.7 2.5]\n",
      " [6.7 3.  5.2 2.3]\n",
      " [6.3 2.5 5.  1.9]\n",
      " [6.5 3.  5.2 2. ]\n",
      " [6.2 3.4 5.4 2.3]\n",
      " [5.9 3.  5.1 1.8]]\n",
      "shape of data: (150, 4)\n"
     ]
    }
   ],
   "source": [
    "print(iris_dataset['data'])\n",
    "print('shape of data: {}'.format(iris_dataset['data'].shape)) # (150, 4): 전체 150개의 데이터가 4개의 특징(feature)값을 가지고 있음\n"
   ]
  },
  {
   "cell_type": "code",
   "execution_count": 26,
   "id": "specified-bride",
   "metadata": {},
   "outputs": [
    {
     "name": "stdout",
     "output_type": "stream",
     "text": [
      "['sepal length (cm)', 'sepal width (cm)', 'petal length (cm)', 'petal width (cm)']\n"
     ]
    }
   ],
   "source": [
    "# 4개의 특징값 확인하기 위해 feature_names key 확인해보자\n",
    "print(iris_dataset['feature_names'])"
   ]
  },
  {
   "cell_type": "code",
   "execution_count": 27,
   "id": "least-colleague",
   "metadata": {},
   "outputs": [
    {
     "name": "stdout",
     "output_type": "stream",
     "text": [
      "[0 0 0 0 0 0 0 0 0 0 0 0 0 0 0 0 0 0 0 0 0 0 0 0 0 0 0 0 0 0 0 0 0 0 0 0 0\n",
      " 0 0 0 0 0 0 0 0 0 0 0 0 0 1 1 1 1 1 1 1 1 1 1 1 1 1 1 1 1 1 1 1 1 1 1 1 1\n",
      " 1 1 1 1 1 1 1 1 1 1 1 1 1 1 1 1 1 1 1 1 1 1 1 1 1 1 2 2 2 2 2 2 2 2 2 2 2\n",
      " 2 2 2 2 2 2 2 2 2 2 2 2 2 2 2 2 2 2 2 2 2 2 2 2 2 2 2 2 2 2 2 2 2 2 2 2 2\n",
      " 2 2]\n",
      "['setosa' 'versicolor' 'virginica']\n"
     ]
    }
   ],
   "source": [
    "# key 중 target과 target_names\n",
    "print(iris_dataset['target'])\n",
    "print(iris_dataset['target_names'])"
   ]
  },
  {
   "cell_type": "code",
   "execution_count": null,
   "id": "seven-conditions",
   "metadata": {},
   "outputs": [],
   "source": [
    "# DESCR _ description의 약자\n",
    "print(iris_dataset['DESCR'])"
   ]
  },
  {
   "cell_type": "markdown",
   "id": "norwegian-arctic",
   "metadata": {},
   "source": [
    "### 사이킷런 _ 데이터 분리\n",
    "분류 모델을 만들어보자. <br>\n",
    "학습 데이터로 학습시킬 건데 이걸로 테스트하면 성능이 좋을 수밖에 없으니, 정확한 성능평가를 위해 일부를 평가를 위한 데이터로 분리 필요!\n",
    "\n"
   ]
  },
  {
   "cell_type": "code",
   "execution_count": null,
   "id": "addressed-baptist",
   "metadata": {},
   "outputs": [],
   "source": [
    "from sklearn.model_selection import train_test_split"
   ]
  },
  {
   "cell_type": "code",
   "execution_count": null,
   "id": "bound-sympathy",
   "metadata": {},
   "outputs": [],
   "source": [
    "train_input, test_input, train_label, test_label = train_test_split(iris_dataset['data'], iris_dataset['target'], test_size = 0.25, random_state = 42)"
   ]
  },
  {
   "cell_type": "code",
   "execution_count": null,
   "id": "competent-hybrid",
   "metadata": {},
   "outputs": [],
   "source": [
    "print('shape of train_input: {}'.format(train_input.shape))\n",
    "print('shape of test_input: {}'.format(test_input.shape))\n",
    "print('shape of train_label: {}'.format(train_label.shape))\n",
    "print('shape of test_label: {}'.format(test_label.shape))"
   ]
  },
  {
   "cell_type": "markdown",
   "id": "canadian-oxford",
   "metadata": {},
   "source": [
    "### 사이킷런 _ 지도학습"
   ]
  },
  {
   "cell_type": "code",
   "execution_count": null,
   "id": "together-collective",
   "metadata": {},
   "outputs": [],
   "source": [
    "# k-nearest-neighbor classifier (k 최근접 이웃 분류기) - 데이터에 대한 사전 지식이 없는 경우에 많이 사용\n",
    "# k: 몇 개의 가까운 neighbor?\n",
    "\n",
    "from sklearn.neighbors import KNeighborsClassifier\n",
    "knn = KNeighborsClassifier(n_neighbors = 1)"
   ]
  },
  {
   "cell_type": "code",
   "execution_count": null,
   "id": "necessary-crossing",
   "metadata": {},
   "outputs": [],
   "source": [
    "knn.fit(train_input, train_label)"
   ]
  },
  {
   "cell_type": "code",
   "execution_count": null,
   "id": "living-gothic",
   "metadata": {},
   "outputs": [],
   "source": [
    "KNeighborClassifier()"
   ]
  },
  {
   "cell_type": "code",
   "execution_count": null,
   "id": "stable-prescription",
   "metadata": {},
   "outputs": [],
   "source": [
    "import numpy as np\n",
    "new_input = np.array([[6.1, 2.8, 4.7, 1.2]]) # 4개의 feature이 다음과 같은 iris 어쩌구 꽃 데이터를 새로 넣는다고 치자\n",
    "# 이중리스트로 input 넣어야 함수에 적용 시 오류 안 남. (왜지?)\n",
    "\n",
    "knn.predict(new_input) # versicolor로 예측"
   ]
  },
  {
   "cell_type": "code",
   "execution_count": null,
   "id": "tested-divorce",
   "metadata": {},
   "outputs": [],
   "source": [
    "# 분리해둔 데이터로 성능을 측정해보자\n",
    "predict_label = knn.predict(test_input)\n",
    "print(predict_label)"
   ]
  },
  {
   "cell_type": "code",
   "execution_count": null,
   "id": "russian-masters",
   "metadata": {},
   "outputs": [],
   "source": [
    "# 실제 결과와 얼마나 잘 맞는지 확인하자\n",
    "print('test accuracy: {:.2f}'.format(np.mean(predict_label == test_label)))"
   ]
  },
  {
   "cell_type": "markdown",
   "id": "latin-james",
   "metadata": {},
   "source": [
    "### 사이킷런 _ 비지도학습"
   ]
  },
  {
   "cell_type": "code",
   "execution_count": null,
   "id": "decreased-gender",
   "metadata": {},
   "outputs": [],
   "source": [
    "# k-means clustering (k 평균 군집화): 가장 흔한 군집화 방법\n",
    "# 붓꽃 데이터를 3개의 cluster로 나누자\n",
    "\n",
    "from sklearn.cluster import KMeans\n",
    "k_means = KMeans(n_clusters = 3) # 모델을 만듦\n",
    "k_means.fit(train_input) # 모델에 데이터 적용"
   ]
  },
  {
   "cell_type": "code",
   "execution_count": null,
   "id": "black-philippines",
   "metadata": {},
   "outputs": [],
   "source": [
    "# 라벨 넣지 않고 학습\n",
    "k_means.labels_"
   ]
  },
  {
   "cell_type": "code",
   "execution_count": null,
   "id": "handed-meter",
   "metadata": {},
   "outputs": [],
   "source": [
    "print('0 cluster:', train_label[k_means.labels_ ==0])\n",
    "print('1 cluster:', train_label[k_means.labels_ ==1])\n",
    "print('2 cluster:', train_label[k_means.labels_ ==2])\n",
    "# 대충 어떻게 cluster을 만들었는지 결과를 확인할 수 있음\n",
    "# 단, 결과 계속 바뀔 수 있음. 초기값을 랜덤으로 설정 후 군집화 과정을 진행하기 때문에 군집의 순서가 바뀔 수도 있음. (초기값 설정하는 방법도 있긴 하지 않나?)"
   ]
  },
  {
   "cell_type": "code",
   "execution_count": null,
   "id": "quality-security",
   "metadata": {},
   "outputs": [],
   "source": [
    "import numpy as np\n",
    "new_input = np.array([[6.1, 2.8, 4.7, 1.2]])"
   ]
  },
  {
   "cell_type": "code",
   "execution_count": null,
   "id": "english-corruption",
   "metadata": {},
   "outputs": [],
   "source": [
    "prediction = k_means.predict(new_input)\n",
    "print(prediction)"
   ]
  },
  {
   "cell_type": "code",
   "execution_count": null,
   "id": "extended-split",
   "metadata": {},
   "outputs": [],
   "source": [
    "# 이제 한 번 성능 평가를 해보자! label이 있으니까\n",
    "predict_clusters = k_means.predict(test_input)\n",
    "print(predict_clusters)"
   ]
  },
  {
   "cell_type": "code",
   "execution_count": null,
   "id": "compressed-peeing",
   "metadata": {},
   "outputs": [],
   "source": [
    "# 이 예측한 결과를 test_label과 비교하기 위해 cluster 결과를 해당하는 label 값으로 바꿔주기\n",
    "np_arr = np.array(predict_clusters)\n",
    "np_arr[np_arr==0], np_arr[np_arr==1], np_arr[np_arr==2] = 3,4,5\n",
    "np_arr[np_arr==3] = 1\n",
    "np_arr[np_arr==4] = 0\n",
    "np_arr[np_arr==5] = 2\n",
    "predict_label = np_arr.tolist()\n",
    "print(predict_label)\n",
    "\n",
    "# 실제 label과 비교해보자\n",
    "print('test accuracy: {:.2f}'.format(np.mean(predict_label == test_label)))"
   ]
  },
  {
   "cell_type": "markdown",
   "id": "about-burning",
   "metadata": {},
   "source": [
    "### 사이킷런 _ 특징 추출 (feature extraction)\n"
   ]
  },
  {
   "cell_type": "code",
   "execution_count": null,
   "id": "persistent-relay",
   "metadata": {},
   "outputs": [],
   "source": [
    "# CountVectorizer\n",
    "\n",
    "from sklearn.feature_extraction.text import CountVectorizer"
   ]
  },
  {
   "cell_type": "code",
   "execution_count": null,
   "id": "attempted-surveillance",
   "metadata": {},
   "outputs": [],
   "source": [
    "text_data = ['나는 배가 고프다', '내일 점심 뭐먹지', '내일 공부 해야겠다', '점심 먹고 공부 해야지']\n",
    "count_vectorizer = CountVectorizer() # 객체를 생성해야 한다"
   ]
  },
  {
   "cell_type": "code",
   "execution_count": null,
   "id": "likely-worry",
   "metadata": {},
   "outputs": [],
   "source": [
    "# 단어 사전(dict)을 만들어야 함 (단어 횟수 count 하려고)\n",
    "count_vectorizer.fit(text_data) # 띄어쓰기 기반으로 저절로 만들어짐\n",
    "print(count_vectorizer.vocabulary_)"
   ]
  },
  {
   "cell_type": "code",
   "execution_count": null,
   "id": "directed-savannah",
   "metadata": {},
   "outputs": [],
   "source": [
    "sentence = ['나는 배가 고프다 배가'] # '나는 배가 고프다'\n",
    "print(count_vectorizer.transform(sentence).toarray())"
   ]
  },
  {
   "cell_type": "code",
   "execution_count": null,
   "id": "verified-straight",
   "metadata": {},
   "outputs": [],
   "source": [
    "# TfidfVectorizer\n",
    "# TF: Term Frequency, DF: Document Frequency (IDF: Inverse Document Frequency)\n",
    "\n",
    "from sklearn.feature_extraction.text import TfidfVectorizer"
   ]
  },
  {
   "cell_type": "code",
   "execution_count": null,
   "id": "interesting-narrative",
   "metadata": {},
   "outputs": [],
   "source": [
    "tfidf_vectorizer = TfidfVectorizer()"
   ]
  },
  {
   "cell_type": "code",
   "execution_count": null,
   "id": "previous-scholarship",
   "metadata": {},
   "outputs": [],
   "source": [
    "tfidf_vectorizer.fit(text_data)\n",
    "print(tfidf_vectorizer.vocabulary_) # 이건 그냥 단어 count만?. Term Frequency yes. 단어 사전 만드는 건 똑같음"
   ]
  },
  {
   "cell_type": "code",
   "execution_count": null,
   "id": "transparent-delivery",
   "metadata": {},
   "outputs": [],
   "source": [
    "sentence = [text_data[3]] # '점심 먹고 공부 해야지'\n",
    "print(tfidf_vectorizer.transform(sentence).toarray())"
   ]
  },
  {
   "cell_type": "markdown",
   "id": "skilled-coverage",
   "metadata": {},
   "source": [
    "# 자연어 토크나이징 도구"
   ]
  },
  {
   "cell_type": "markdown",
   "id": "covered-geometry",
   "metadata": {},
   "source": [
    "### 영어 tokenizing tool (NLTK, Spacy)\n",
    "- NLTK (Natural Language Toolkit)\n",
    "- Spacy"
   ]
  },
  {
   "cell_type": "code",
   "execution_count": 28,
   "id": "alone-moses",
   "metadata": {},
   "outputs": [
    {
     "name": "stdout",
     "output_type": "stream",
     "text": [
      "Requirement already satisfied: nltk in c:\\programdata\\anaconda3\\envs\\pr_tensorflow\\lib\\site-packages (3.3)\n",
      "Requirement already satisfied: six in c:\\programdata\\anaconda3\\envs\\pr_tensorflow\\lib\\site-packages (from nltk) (1.15.0)\n"
     ]
    }
   ],
   "source": [
    "# NLTK (파이썬에서 영어 전처리 작업 시 많이 쓰이는 라이브러리. 50여개 이상의 말뭉치 리소스를 활용해 영어 텍스트 분석 가능)\n",
    "\n",
    "!pip install nltk"
   ]
  },
  {
   "cell_type": "code",
   "execution_count": 29,
   "id": "younger-savannah",
   "metadata": {},
   "outputs": [
    {
     "name": "stdout",
     "output_type": "stream",
     "text": [
      "[nltk_data] Downloading collection 'all-corpora'\n",
      "[nltk_data]    | \n",
      "[nltk_data]    | Downloading package abc to\n",
      "[nltk_data]    |     C:\\Users\\gpwl0\\AppData\\Roaming\\nltk_data...\n",
      "[nltk_data]    |   Package abc is already up-to-date!\n",
      "[nltk_data]    | Downloading package alpino to\n",
      "[nltk_data]    |     C:\\Users\\gpwl0\\AppData\\Roaming\\nltk_data...\n",
      "[nltk_data]    |   Package alpino is already up-to-date!\n",
      "[nltk_data]    | Downloading package biocreative_ppi to\n",
      "[nltk_data]    |     C:\\Users\\gpwl0\\AppData\\Roaming\\nltk_data...\n",
      "[nltk_data]    |   Package biocreative_ppi is already up-to-date!\n",
      "[nltk_data]    | Downloading package brown to\n",
      "[nltk_data]    |     C:\\Users\\gpwl0\\AppData\\Roaming\\nltk_data...\n",
      "[nltk_data]    |   Package brown is already up-to-date!\n",
      "[nltk_data]    | Downloading package brown_tei to\n",
      "[nltk_data]    |     C:\\Users\\gpwl0\\AppData\\Roaming\\nltk_data...\n",
      "[nltk_data]    |   Package brown_tei is already up-to-date!\n",
      "[nltk_data]    | Downloading package cess_cat to\n",
      "[nltk_data]    |     C:\\Users\\gpwl0\\AppData\\Roaming\\nltk_data...\n",
      "[nltk_data]    |   Package cess_cat is already up-to-date!\n",
      "[nltk_data]    | Downloading package cess_esp to\n",
      "[nltk_data]    |     C:\\Users\\gpwl0\\AppData\\Roaming\\nltk_data...\n",
      "[nltk_data]    |   Package cess_esp is already up-to-date!\n",
      "[nltk_data]    | Downloading package chat80 to\n",
      "[nltk_data]    |     C:\\Users\\gpwl0\\AppData\\Roaming\\nltk_data...\n",
      "[nltk_data]    |   Package chat80 is already up-to-date!\n",
      "[nltk_data]    | Downloading package city_database to\n",
      "[nltk_data]    |     C:\\Users\\gpwl0\\AppData\\Roaming\\nltk_data...\n",
      "[nltk_data]    |   Package city_database is already up-to-date!\n",
      "[nltk_data]    | Downloading package cmudict to\n",
      "[nltk_data]    |     C:\\Users\\gpwl0\\AppData\\Roaming\\nltk_data...\n",
      "[nltk_data]    |   Package cmudict is already up-to-date!\n",
      "[nltk_data]    | Downloading package comtrans to\n",
      "[nltk_data]    |     C:\\Users\\gpwl0\\AppData\\Roaming\\nltk_data...\n",
      "[nltk_data]    |   Package comtrans is already up-to-date!\n",
      "[nltk_data]    | Downloading package conll2000 to\n",
      "[nltk_data]    |     C:\\Users\\gpwl0\\AppData\\Roaming\\nltk_data...\n",
      "[nltk_data]    |   Package conll2000 is already up-to-date!\n",
      "[nltk_data]    | Downloading package conll2002 to\n",
      "[nltk_data]    |     C:\\Users\\gpwl0\\AppData\\Roaming\\nltk_data...\n",
      "[nltk_data]    |   Package conll2002 is already up-to-date!\n",
      "[nltk_data]    | Downloading package conll2007 to\n",
      "[nltk_data]    |     C:\\Users\\gpwl0\\AppData\\Roaming\\nltk_data...\n",
      "[nltk_data]    |   Package conll2007 is already up-to-date!\n",
      "[nltk_data]    | Downloading package crubadan to\n",
      "[nltk_data]    |     C:\\Users\\gpwl0\\AppData\\Roaming\\nltk_data...\n",
      "[nltk_data]    |   Package crubadan is already up-to-date!\n",
      "[nltk_data]    | Downloading package dependency_treebank to\n",
      "[nltk_data]    |     C:\\Users\\gpwl0\\AppData\\Roaming\\nltk_data...\n",
      "[nltk_data]    |   Package dependency_treebank is already up-to-date!\n",
      "[nltk_data]    | Downloading package dolch to\n",
      "[nltk_data]    |     C:\\Users\\gpwl0\\AppData\\Roaming\\nltk_data...\n",
      "[nltk_data]    |   Package dolch is already up-to-date!\n",
      "[nltk_data]    | Downloading package floresta to\n",
      "[nltk_data]    |     C:\\Users\\gpwl0\\AppData\\Roaming\\nltk_data...\n",
      "[nltk_data]    |   Package floresta is already up-to-date!\n",
      "[nltk_data]    | Downloading package framenet_v15 to\n",
      "[nltk_data]    |     C:\\Users\\gpwl0\\AppData\\Roaming\\nltk_data...\n",
      "[nltk_data]    |   Package framenet_v15 is already up-to-date!\n",
      "[nltk_data]    | Downloading package framenet_v17 to\n",
      "[nltk_data]    |     C:\\Users\\gpwl0\\AppData\\Roaming\\nltk_data...\n",
      "[nltk_data]    |   Package framenet_v17 is already up-to-date!\n",
      "[nltk_data]    | Downloading package gazetteers to\n",
      "[nltk_data]    |     C:\\Users\\gpwl0\\AppData\\Roaming\\nltk_data...\n",
      "[nltk_data]    |   Package gazetteers is already up-to-date!\n",
      "[nltk_data]    | Downloading package genesis to\n",
      "[nltk_data]    |     C:\\Users\\gpwl0\\AppData\\Roaming\\nltk_data...\n",
      "[nltk_data]    |   Package genesis is already up-to-date!\n",
      "[nltk_data]    | Downloading package gutenberg to\n",
      "[nltk_data]    |     C:\\Users\\gpwl0\\AppData\\Roaming\\nltk_data...\n",
      "[nltk_data]    |   Package gutenberg is already up-to-date!\n",
      "[nltk_data]    | Downloading package ieer to\n",
      "[nltk_data]    |     C:\\Users\\gpwl0\\AppData\\Roaming\\nltk_data...\n",
      "[nltk_data]    |   Package ieer is already up-to-date!\n",
      "[nltk_data]    | Downloading package inaugural to\n",
      "[nltk_data]    |     C:\\Users\\gpwl0\\AppData\\Roaming\\nltk_data...\n",
      "[nltk_data]    |   Package inaugural is already up-to-date!\n",
      "[nltk_data]    | Downloading package indian to\n",
      "[nltk_data]    |     C:\\Users\\gpwl0\\AppData\\Roaming\\nltk_data...\n",
      "[nltk_data]    |   Package indian is already up-to-date!\n",
      "[nltk_data]    | Downloading package jeita to\n",
      "[nltk_data]    |     C:\\Users\\gpwl0\\AppData\\Roaming\\nltk_data...\n",
      "[nltk_data]    |   Package jeita is already up-to-date!\n",
      "[nltk_data]    | Downloading package kimmo to\n",
      "[nltk_data]    |     C:\\Users\\gpwl0\\AppData\\Roaming\\nltk_data...\n",
      "[nltk_data]    |   Package kimmo is already up-to-date!\n",
      "[nltk_data]    | Downloading package knbc to\n",
      "[nltk_data]    |     C:\\Users\\gpwl0\\AppData\\Roaming\\nltk_data...\n",
      "[nltk_data]    |   Package knbc is already up-to-date!\n",
      "[nltk_data]    | Downloading package lin_thesaurus to\n",
      "[nltk_data]    |     C:\\Users\\gpwl0\\AppData\\Roaming\\nltk_data...\n",
      "[nltk_data]    |   Package lin_thesaurus is already up-to-date!\n",
      "[nltk_data]    | Downloading package mac_morpho to\n",
      "[nltk_data]    |     C:\\Users\\gpwl0\\AppData\\Roaming\\nltk_data...\n",
      "[nltk_data]    |   Package mac_morpho is already up-to-date!\n",
      "[nltk_data]    | Downloading package machado to\n",
      "[nltk_data]    |     C:\\Users\\gpwl0\\AppData\\Roaming\\nltk_data...\n",
      "[nltk_data]    |   Package machado is already up-to-date!\n",
      "[nltk_data]    | Downloading package masc_tagged to\n",
      "[nltk_data]    |     C:\\Users\\gpwl0\\AppData\\Roaming\\nltk_data...\n",
      "[nltk_data]    |   Package masc_tagged is already up-to-date!\n",
      "[nltk_data]    | Downloading package movie_reviews to\n",
      "[nltk_data]    |     C:\\Users\\gpwl0\\AppData\\Roaming\\nltk_data...\n",
      "[nltk_data]    |   Package movie_reviews is already up-to-date!\n",
      "[nltk_data]    | Downloading package names to\n",
      "[nltk_data]    |     C:\\Users\\gpwl0\\AppData\\Roaming\\nltk_data...\n",
      "[nltk_data]    |   Package names is already up-to-date!\n",
      "[nltk_data]    | Downloading package nombank.1.0 to\n",
      "[nltk_data]    |     C:\\Users\\gpwl0\\AppData\\Roaming\\nltk_data...\n",
      "[nltk_data]    |   Package nombank.1.0 is already up-to-date!\n",
      "[nltk_data]    | Downloading package nps_chat to\n",
      "[nltk_data]    |     C:\\Users\\gpwl0\\AppData\\Roaming\\nltk_data...\n",
      "[nltk_data]    |   Package nps_chat is already up-to-date!\n",
      "[nltk_data]    | Downloading package omw to\n",
      "[nltk_data]    |     C:\\Users\\gpwl0\\AppData\\Roaming\\nltk_data...\n",
      "[nltk_data]    |   Package omw is already up-to-date!\n",
      "[nltk_data]    | Downloading package paradigms to\n",
      "[nltk_data]    |     C:\\Users\\gpwl0\\AppData\\Roaming\\nltk_data...\n",
      "[nltk_data]    |   Package paradigms is already up-to-date!\n",
      "[nltk_data]    | Downloading package pil to\n",
      "[nltk_data]    |     C:\\Users\\gpwl0\\AppData\\Roaming\\nltk_data...\n",
      "[nltk_data]    |   Package pil is already up-to-date!\n",
      "[nltk_data]    | Downloading package pl196x to\n",
      "[nltk_data]    |     C:\\Users\\gpwl0\\AppData\\Roaming\\nltk_data...\n",
      "[nltk_data]    |   Package pl196x is already up-to-date!\n",
      "[nltk_data]    | Downloading package ppattach to\n",
      "[nltk_data]    |     C:\\Users\\gpwl0\\AppData\\Roaming\\nltk_data...\n",
      "[nltk_data]    |   Package ppattach is already up-to-date!\n",
      "[nltk_data]    | Downloading package problem_reports to\n",
      "[nltk_data]    |     C:\\Users\\gpwl0\\AppData\\Roaming\\nltk_data...\n",
      "[nltk_data]    |   Package problem_reports is already up-to-date!\n",
      "[nltk_data]    | Downloading package propbank to\n",
      "[nltk_data]    |     C:\\Users\\gpwl0\\AppData\\Roaming\\nltk_data...\n",
      "[nltk_data]    |   Package propbank is already up-to-date!\n",
      "[nltk_data]    | Downloading package ptb to\n",
      "[nltk_data]    |     C:\\Users\\gpwl0\\AppData\\Roaming\\nltk_data...\n",
      "[nltk_data]    |   Package ptb is already up-to-date!\n",
      "[nltk_data]    | Downloading package qc to\n",
      "[nltk_data]    |     C:\\Users\\gpwl0\\AppData\\Roaming\\nltk_data...\n",
      "[nltk_data]    |   Package qc is already up-to-date!\n",
      "[nltk_data]    | Downloading package reuters to\n",
      "[nltk_data]    |     C:\\Users\\gpwl0\\AppData\\Roaming\\nltk_data...\n",
      "[nltk_data]    |   Package reuters is already up-to-date!\n",
      "[nltk_data]    | Downloading package rte to\n",
      "[nltk_data]    |     C:\\Users\\gpwl0\\AppData\\Roaming\\nltk_data...\n",
      "[nltk_data]    |   Package rte is already up-to-date!\n",
      "[nltk_data]    | Downloading package semcor to\n",
      "[nltk_data]    |     C:\\Users\\gpwl0\\AppData\\Roaming\\nltk_data...\n",
      "[nltk_data]    |   Package semcor is already up-to-date!\n",
      "[nltk_data]    | Downloading package senseval to\n",
      "[nltk_data]    |     C:\\Users\\gpwl0\\AppData\\Roaming\\nltk_data...\n",
      "[nltk_data]    |   Package senseval is already up-to-date!\n",
      "[nltk_data]    | Downloading package sentiwordnet to\n",
      "[nltk_data]    |     C:\\Users\\gpwl0\\AppData\\Roaming\\nltk_data...\n",
      "[nltk_data]    |   Package sentiwordnet is already up-to-date!\n",
      "[nltk_data]    | Downloading package shakespeare to\n",
      "[nltk_data]    |     C:\\Users\\gpwl0\\AppData\\Roaming\\nltk_data...\n"
     ]
    },
    {
     "name": "stdout",
     "output_type": "stream",
     "text": [
      "[nltk_data]    |   Package shakespeare is already up-to-date!\n",
      "[nltk_data]    | Downloading package sinica_treebank to\n",
      "[nltk_data]    |     C:\\Users\\gpwl0\\AppData\\Roaming\\nltk_data...\n",
      "[nltk_data]    |   Package sinica_treebank is already up-to-date!\n",
      "[nltk_data]    | Downloading package state_union to\n",
      "[nltk_data]    |     C:\\Users\\gpwl0\\AppData\\Roaming\\nltk_data...\n",
      "[nltk_data]    |   Package state_union is already up-to-date!\n",
      "[nltk_data]    | Downloading package stopwords to\n",
      "[nltk_data]    |     C:\\Users\\gpwl0\\AppData\\Roaming\\nltk_data...\n",
      "[nltk_data]    |   Package stopwords is already up-to-date!\n",
      "[nltk_data]    | Downloading package swadesh to\n",
      "[nltk_data]    |     C:\\Users\\gpwl0\\AppData\\Roaming\\nltk_data...\n",
      "[nltk_data]    |   Package swadesh is already up-to-date!\n",
      "[nltk_data]    | Downloading package switchboard to\n",
      "[nltk_data]    |     C:\\Users\\gpwl0\\AppData\\Roaming\\nltk_data...\n",
      "[nltk_data]    |   Package switchboard is already up-to-date!\n",
      "[nltk_data]    | Downloading package timit to\n",
      "[nltk_data]    |     C:\\Users\\gpwl0\\AppData\\Roaming\\nltk_data...\n",
      "[nltk_data]    |   Package timit is already up-to-date!\n",
      "[nltk_data]    | Downloading package toolbox to\n",
      "[nltk_data]    |     C:\\Users\\gpwl0\\AppData\\Roaming\\nltk_data...\n",
      "[nltk_data]    |   Package toolbox is already up-to-date!\n",
      "[nltk_data]    | Downloading package treebank to\n",
      "[nltk_data]    |     C:\\Users\\gpwl0\\AppData\\Roaming\\nltk_data...\n",
      "[nltk_data]    |   Package treebank is already up-to-date!\n",
      "[nltk_data]    | Downloading package udhr to\n",
      "[nltk_data]    |     C:\\Users\\gpwl0\\AppData\\Roaming\\nltk_data...\n",
      "[nltk_data]    |   Package udhr is already up-to-date!\n",
      "[nltk_data]    | Downloading package udhr2 to\n",
      "[nltk_data]    |     C:\\Users\\gpwl0\\AppData\\Roaming\\nltk_data...\n",
      "[nltk_data]    |   Package udhr2 is already up-to-date!\n",
      "[nltk_data]    | Downloading package unicode_samples to\n",
      "[nltk_data]    |     C:\\Users\\gpwl0\\AppData\\Roaming\\nltk_data...\n",
      "[nltk_data]    |   Package unicode_samples is already up-to-date!\n",
      "[nltk_data]    | Downloading package universal_treebanks_v20 to\n",
      "[nltk_data]    |     C:\\Users\\gpwl0\\AppData\\Roaming\\nltk_data...\n",
      "[nltk_data]    |   Package universal_treebanks_v20 is already up-to-\n",
      "[nltk_data]    |       date!\n",
      "[nltk_data]    | Downloading package verbnet to\n",
      "[nltk_data]    |     C:\\Users\\gpwl0\\AppData\\Roaming\\nltk_data...\n",
      "[nltk_data]    |   Package verbnet is already up-to-date!\n",
      "[nltk_data]    | Downloading package verbnet3 to\n",
      "[nltk_data]    |     C:\\Users\\gpwl0\\AppData\\Roaming\\nltk_data...\n",
      "[nltk_data]    |   Package verbnet3 is already up-to-date!\n",
      "[nltk_data]    | Downloading package webtext to\n",
      "[nltk_data]    |     C:\\Users\\gpwl0\\AppData\\Roaming\\nltk_data...\n",
      "[nltk_data]    |   Package webtext is already up-to-date!\n",
      "[nltk_data]    | Downloading package wordnet to\n",
      "[nltk_data]    |     C:\\Users\\gpwl0\\AppData\\Roaming\\nltk_data...\n",
      "[nltk_data]    |   Package wordnet is already up-to-date!\n",
      "[nltk_data]    | Downloading package wordnet_ic to\n",
      "[nltk_data]    |     C:\\Users\\gpwl0\\AppData\\Roaming\\nltk_data...\n",
      "[nltk_data]    |   Package wordnet_ic is already up-to-date!\n",
      "[nltk_data]    | Downloading package words to\n",
      "[nltk_data]    |     C:\\Users\\gpwl0\\AppData\\Roaming\\nltk_data...\n",
      "[nltk_data]    |   Package words is already up-to-date!\n",
      "[nltk_data]    | Downloading package ycoe to\n",
      "[nltk_data]    |     C:\\Users\\gpwl0\\AppData\\Roaming\\nltk_data...\n",
      "[nltk_data]    |   Package ycoe is already up-to-date!\n",
      "[nltk_data]    | Downloading package panlex_swadesh to\n",
      "[nltk_data]    |     C:\\Users\\gpwl0\\AppData\\Roaming\\nltk_data...\n",
      "[nltk_data]    |   Package panlex_swadesh is already up-to-date!\n",
      "[nltk_data]    | Downloading package mte_teip5 to\n",
      "[nltk_data]    |     C:\\Users\\gpwl0\\AppData\\Roaming\\nltk_data...\n",
      "[nltk_data]    |   Package mte_teip5 is already up-to-date!\n",
      "[nltk_data]    | Downloading package nonbreaking_prefixes to\n",
      "[nltk_data]    |     C:\\Users\\gpwl0\\AppData\\Roaming\\nltk_data...\n",
      "[nltk_data]    |   Package nonbreaking_prefixes is already up-to-date!\n",
      "[nltk_data]    | \n",
      "[nltk_data]  Done downloading collection all-corpora\n",
      "[nltk_data] Downloading package punkt to\n",
      "[nltk_data]     C:\\Users\\gpwl0\\AppData\\Roaming\\nltk_data...\n",
      "[nltk_data]   Package punkt is already up-to-date!\n"
     ]
    },
    {
     "data": {
      "text/plain": [
       "True"
      ]
     },
     "execution_count": 29,
     "metadata": {},
     "output_type": "execute_result"
    }
   ],
   "source": [
    "import nltk\n",
    "# nltk는 단순히 라이브러리를 설치한다고 바로 토크나이징할 수는 없음. 말뭉치를 내려 받아 연동할 수 있어야 함.\n",
    "# 말뭉치를 설치하려면 라이브러리를 불러온 후 함수 사용\n",
    "\n",
    "nltk.download('all-corpora')\n",
    "nltk.download('punkt')"
   ]
  },
  {
   "cell_type": "code",
   "execution_count": 30,
   "id": "civil-collectible",
   "metadata": {},
   "outputs": [
    {
     "name": "stdout",
     "output_type": "stream",
     "text": [
      "['Natural', 'language', 'processing', '(', 'NLP', ')', 'is', 'a', 'subfield', 'of', 'compupter', 'science', ',', 'information', 'engineering', ',', 'and', 'artificial', 'intelligence', 'concerned', 'with', 'the', 'interactions', 'between', 'computers', 'and', 'human', '(', 'natural', ')', 'languages', ',', 'in', 'particular', 'how', 'to', 'program', 'computers', 'to', 'process', 'and', 'analyze', 'large', 'amounts', 'of', 'natural', 'language', 'data', '.']\n"
     ]
    }
   ],
   "source": [
    "# 단어 토크나이징\n",
    "from nltk.tokenize import word_tokenize\n",
    "sentence = \"Natural language processing (NLP) is a subfield of compupter science, information engineering, and artificial intelligence concerned with the interactions between computers and human (natural) languages, in particular how to program computers to process and analyze large amounts of natural language data.\"\n",
    "\n",
    "print(word_tokenize(sentence))"
   ]
  },
  {
   "cell_type": "code",
   "execution_count": 31,
   "id": "plain-illustration",
   "metadata": {},
   "outputs": [
    {
     "name": "stdout",
     "output_type": "stream",
     "text": [
      "['Natural language processing (NLP) is a subfield of computer science, information engineering, and artificial intelligence concerned with the interactions between computers and human (natural) languages, in particular how to program computers to process and analyze large amounts of natural language data.', 'Challenges in natural language processing frequently involve speech recognition, natural language understanding, and natural language generation.']\n"
     ]
    }
   ],
   "source": [
    "# 문장 토크나이징\n",
    "from nltk.tokenize import sent_tokenize\n",
    "\n",
    "paragraph = \"Natural language processing (NLP) is a subfield of computer science, information engineering, and artificial intelligence concerned with the interactions between computers and human (natural) languages, in particular how to program computers to process and analyze large amounts of natural language data. Challenges in natural language processing frequently involve speech recognition, natural language understanding, and natural language generation.\"\n",
    "\n",
    "print(sent_tokenize(paragraph))"
   ]
  },
  {
   "cell_type": "code",
   "execution_count": null,
   "id": "current-conviction",
   "metadata": {},
   "outputs": [],
   "source": [
    "len(sent_tokenize(paragraph))"
   ]
  },
  {
   "cell_type": "code",
   "execution_count": 32,
   "id": "grand-scenario",
   "metadata": {
    "scrolled": true
   },
   "outputs": [
    {
     "name": "stdout",
     "output_type": "stream",
     "text": [
      "Collecting spacy\n",
      "  Downloading spacy-3.0.5-cp36-cp36m-win_amd64.whl (11.6 MB)\n",
      "Requirement already satisfied: setuptools in c:\\programdata\\anaconda3\\envs\\pr_tensorflow\\lib\\site-packages (from spacy) (52.0.0.post20210125)\n",
      "Requirement already satisfied: tqdm<5.0.0,>=4.38.0 in c:\\programdata\\anaconda3\\envs\\pr_tensorflow\\lib\\site-packages (from spacy) (4.59.0)\n",
      "Collecting pydantic<1.8.0,>=1.7.1\n",
      "  Downloading pydantic-1.7.3-cp36-cp36m-win_amd64.whl (1.7 MB)\n",
      "Requirement already satisfied: numpy>=1.15.0 in c:\\programdata\\anaconda3\\envs\\pr_tensorflow\\lib\\site-packages (from spacy) (1.16.2)\n",
      "Requirement already satisfied: packaging>=20.0 in c:\\programdata\\anaconda3\\envs\\pr_tensorflow\\lib\\site-packages (from spacy) (20.9)\n",
      "Collecting typer<0.4.0,>=0.3.0\n",
      "  Using cached typer-0.3.2-py3-none-any.whl (21 kB)\n",
      "Requirement already satisfied: jinja2 in c:\\programdata\\anaconda3\\envs\\pr_tensorflow\\lib\\site-packages (from spacy) (2.11.3)\n",
      "Collecting murmurhash<1.1.0,>=0.28.0\n",
      "  Downloading murmurhash-1.0.5-cp36-cp36m-win_amd64.whl (20 kB)\n",
      "Collecting srsly<3.0.0,>=2.4.0\n",
      "  Downloading srsly-2.4.0-cp36-cp36m-win_amd64.whl (449 kB)\n",
      "Requirement already satisfied: importlib-metadata>=0.20 in c:\\programdata\\anaconda3\\envs\\pr_tensorflow\\lib\\site-packages (from spacy) (3.7.3)\n",
      "Collecting pathy>=0.3.5\n",
      "  Using cached pathy-0.4.0-py3-none-any.whl (36 kB)\n",
      "Collecting thinc<8.1.0,>=8.0.2\n",
      "  Downloading thinc-8.0.2-cp36-cp36m-win_amd64.whl (1.0 MB)\n",
      "Requirement already satisfied: typing-extensions<4.0.0.0,>=3.7.4 in c:\\programdata\\anaconda3\\envs\\pr_tensorflow\\lib\\site-packages (from spacy) (3.7.4.3)\n",
      "Collecting spacy-legacy<3.1.0,>=3.0.0\n",
      "  Using cached spacy_legacy-3.0.1-py2.py3-none-any.whl (7.0 kB)\n",
      "Requirement already satisfied: requests<3.0.0,>=2.13.0 in c:\\programdata\\anaconda3\\envs\\pr_tensorflow\\lib\\site-packages (from spacy) (2.25.1)\n",
      "Collecting catalogue<2.1.0,>=2.0.1\n",
      "  Using cached catalogue-2.0.1-py3-none-any.whl (9.6 kB)\n",
      "Collecting preshed<3.1.0,>=3.0.2\n",
      "  Downloading preshed-3.0.5-cp36-cp36m-win_amd64.whl (109 kB)\n",
      "Collecting blis<0.8.0,>=0.4.0\n",
      "  Downloading blis-0.7.4-cp36-cp36m-win_amd64.whl (6.5 MB)\n",
      "Collecting wasabi<1.1.0,>=0.8.1\n",
      "  Using cached wasabi-0.8.2-py3-none-any.whl (23 kB)\n",
      "Collecting cymem<2.1.0,>=2.0.2\n",
      "  Downloading cymem-2.0.5-cp36-cp36m-win_amd64.whl (35 kB)\n",
      "Requirement already satisfied: zipp>=0.5 in c:\\programdata\\anaconda3\\envs\\pr_tensorflow\\lib\\site-packages (from importlib-metadata>=0.20->spacy) (3.4.1)\n",
      "Requirement already satisfied: pyparsing>=2.0.2 in c:\\programdata\\anaconda3\\envs\\pr_tensorflow\\lib\\site-packages (from packaging>=20.0->spacy) (2.4.7)\n",
      "Requirement already satisfied: dataclasses<1.0,>=0.6 in c:\\programdata\\anaconda3\\envs\\pr_tensorflow\\lib\\site-packages (from pathy>=0.3.5->spacy) (0.8)\n",
      "Collecting smart-open<4.0.0,>=2.2.0\n",
      "  Using cached smart_open-3.0.0.tar.gz (113 kB)\n",
      "Requirement already satisfied: idna<3,>=2.5 in c:\\programdata\\anaconda3\\envs\\pr_tensorflow\\lib\\site-packages (from requests<3.0.0,>=2.13.0->spacy) (2.10)\n",
      "Requirement already satisfied: certifi>=2017.4.17 in c:\\programdata\\anaconda3\\envs\\pr_tensorflow\\lib\\site-packages (from requests<3.0.0,>=2.13.0->spacy) (2020.12.5)\n",
      "Requirement already satisfied: chardet<5,>=3.0.2 in c:\\programdata\\anaconda3\\envs\\pr_tensorflow\\lib\\site-packages (from requests<3.0.0,>=2.13.0->spacy) (4.0.0)\n",
      "Requirement already satisfied: urllib3<1.27,>=1.21.1 in c:\\programdata\\anaconda3\\envs\\pr_tensorflow\\lib\\site-packages (from requests<3.0.0,>=2.13.0->spacy) (1.26.4)\n",
      "Collecting contextvars<3,>=2.4\n",
      "  Downloading contextvars-2.4.tar.gz (9.6 kB)\n",
      "Collecting immutables>=0.9\n",
      "  Downloading immutables-0.15-cp36-cp36m-win_amd64.whl (56 kB)\n",
      "Requirement already satisfied: click<7.2.0,>=7.1.1 in c:\\programdata\\anaconda3\\envs\\pr_tensorflow\\lib\\site-packages (from typer<0.4.0,>=0.3.0->spacy) (7.1.2)\n",
      "Requirement already satisfied: MarkupSafe>=0.23 in c:\\programdata\\anaconda3\\envs\\pr_tensorflow\\lib\\site-packages (from jinja2->spacy) (1.1.1)\n",
      "Building wheels for collected packages: smart-open, contextvars\n",
      "  Building wheel for smart-open (setup.py): started\n",
      "  Building wheel for smart-open (setup.py): finished with status 'done'\n",
      "  Created wheel for smart-open: filename=smart_open-3.0.0-py3-none-any.whl size=107097 sha256=460de35e913c2da1e0bbdecedbe1f32217c56ce342d1a17fa9bf1e0abba5adf4\n",
      "  Stored in directory: c:\\users\\gpwl0\\appdata\\local\\pip\\cache\\wheels\\88\\2a\\d4\\f2e9023989d4d4b3574f268657cb6cd23994665a038803f547\n",
      "  Building wheel for contextvars (setup.py): started\n",
      "  Building wheel for contextvars (setup.py): finished with status 'done'\n",
      "  Created wheel for contextvars: filename=contextvars-2.4-py3-none-any.whl size=7665 sha256=1b7ee8c2d767a979cf126d76ff3d9b6936424e2a7b596a9a1c396cb2bf324e55\n",
      "  Stored in directory: c:\\users\\gpwl0\\appdata\\local\\pip\\cache\\wheels\\41\\11\\53\\911724983aa48deb94792432e14e518447212dd6c5477d49d3\n",
      "Successfully built smart-open contextvars\n",
      "Installing collected packages: murmurhash, immutables, cymem, catalogue, wasabi, typer, srsly, smart-open, pydantic, preshed, contextvars, blis, thinc, spacy-legacy, pathy, spacy\n",
      "  Attempting uninstall: smart-open\n",
      "    Found existing installation: smart-open 4.2.0\n",
      "    Uninstalling smart-open-4.2.0:\n",
      "      Successfully uninstalled smart-open-4.2.0\n",
      "Successfully installed blis-0.7.4 catalogue-2.0.1 contextvars-2.4 cymem-2.0.5 immutables-0.15 murmurhash-1.0.5 pathy-0.4.0 preshed-3.0.5 pydantic-1.7.3 smart-open-3.0.0 spacy-3.0.5 spacy-legacy-3.0.1 srsly-2.4.0 thinc-8.0.2 typer-0.3.2 wasabi-0.8.2\n"
     ]
    }
   ],
   "source": [
    "# Spacy\n",
    "# nltk와 같은 오픈소스 라이브러리. 상업용 목적. 딥러닝 언어 모델의 개발도 지원. (이 책에선 다루지 않음)\n",
    "\n",
    "!pip install spacy\n"
   ]
  },
  {
   "cell_type": "code",
   "execution_count": 34,
   "id": "musical-thirty",
   "metadata": {},
   "outputs": [
    {
     "name": "stdout",
     "output_type": "stream",
     "text": [
      "Collecting en-core-web-sm==3.0.0\n",
      "  Downloading https://github.com/explosion/spacy-models/releases/download/en_core_web_sm-3.0.0/en_core_web_sm-3.0.0-py3-none-any.whl (13.7 MB)\n",
      "Requirement already satisfied: spacy<3.1.0,>=3.0.0 in c:\\programdata\\anaconda3\\envs\\pr_tensorflow\\lib\\site-packages (from en-core-web-sm==3.0.0) (3.0.5)\n",
      "Requirement already satisfied: spacy-legacy<3.1.0,>=3.0.0 in c:\\programdata\\anaconda3\\envs\\pr_tensorflow\\lib\\site-packages (from spacy<3.1.0,>=3.0.0->en-core-web-sm==3.0.0) (3.0.1)\n",
      "Requirement already satisfied: pathy>=0.3.5 in c:\\programdata\\anaconda3\\envs\\pr_tensorflow\\lib\\site-packages (from spacy<3.1.0,>=3.0.0->en-core-web-sm==3.0.0) (0.4.0)\n",
      "Requirement already satisfied: importlib-metadata>=0.20 in c:\\programdata\\anaconda3\\envs\\pr_tensorflow\\lib\\site-packages (from spacy<3.1.0,>=3.0.0->en-core-web-sm==3.0.0) (3.7.3)\n",
      "Requirement already satisfied: typer<0.4.0,>=0.3.0 in c:\\programdata\\anaconda3\\envs\\pr_tensorflow\\lib\\site-packages (from spacy<3.1.0,>=3.0.0->en-core-web-sm==3.0.0) (0.3.2)\n",
      "Requirement already satisfied: pydantic<1.8.0,>=1.7.1 in c:\\programdata\\anaconda3\\envs\\pr_tensorflow\\lib\\site-packages (from spacy<3.1.0,>=3.0.0->en-core-web-sm==3.0.0) (1.7.3)\n",
      "Requirement already satisfied: typing-extensions<4.0.0.0,>=3.7.4 in c:\\programdata\\anaconda3\\envs\\pr_tensorflow\\lib\\site-packages (from spacy<3.1.0,>=3.0.0->en-core-web-sm==3.0.0) (3.7.4.3)\n",
      "Requirement already satisfied: requests<3.0.0,>=2.13.0 in c:\\programdata\\anaconda3\\envs\\pr_tensorflow\\lib\\site-packages (from spacy<3.1.0,>=3.0.0->en-core-web-sm==3.0.0) (2.25.1)\n",
      "Requirement already satisfied: numpy>=1.15.0 in c:\\programdata\\anaconda3\\envs\\pr_tensorflow\\lib\\site-packages (from spacy<3.1.0,>=3.0.0->en-core-web-sm==3.0.0) (1.16.2)\n",
      "Requirement already satisfied: preshed<3.1.0,>=3.0.2 in c:\\programdata\\anaconda3\\envs\\pr_tensorflow\\lib\\site-packages (from spacy<3.1.0,>=3.0.0->en-core-web-sm==3.0.0) (3.0.5)\n",
      "Requirement already satisfied: jinja2 in c:\\programdata\\anaconda3\\envs\\pr_tensorflow\\lib\\site-packages (from spacy<3.1.0,>=3.0.0->en-core-web-sm==3.0.0) (2.11.3)\n",
      "Requirement already satisfied: cymem<2.1.0,>=2.0.2 in c:\\programdata\\anaconda3\\envs\\pr_tensorflow\\lib\\site-packages (from spacy<3.1.0,>=3.0.0->en-core-web-sm==3.0.0) (2.0.5)\n",
      "Requirement already satisfied: murmurhash<1.1.0,>=0.28.0 in c:\\programdata\\anaconda3\\envs\\pr_tensorflow\\lib\\site-packages (from spacy<3.1.0,>=3.0.0->en-core-web-sm==3.0.0) (1.0.5)\n",
      "Requirement already satisfied: wasabi<1.1.0,>=0.8.1 in c:\\programdata\\anaconda3\\envs\\pr_tensorflow\\lib\\site-packages (from spacy<3.1.0,>=3.0.0->en-core-web-sm==3.0.0) (0.8.2)\n",
      "Requirement already satisfied: blis<0.8.0,>=0.4.0 in c:\\programdata\\anaconda3\\envs\\pr_tensorflow\\lib\\site-packages (from spacy<3.1.0,>=3.0.0->en-core-web-sm==3.0.0) (0.7.4)\n",
      "Requirement already satisfied: setuptools in c:\\programdata\\anaconda3\\envs\\pr_tensorflow\\lib\\site-packages (from spacy<3.1.0,>=3.0.0->en-core-web-sm==3.0.0) (52.0.0.post20210125)\n",
      "Requirement already satisfied: srsly<3.0.0,>=2.4.0 in c:\\programdata\\anaconda3\\envs\\pr_tensorflow\\lib\\site-packages (from spacy<3.1.0,>=3.0.0->en-core-web-sm==3.0.0) (2.4.0)\n",
      "Requirement already satisfied: tqdm<5.0.0,>=4.38.0 in c:\\programdata\\anaconda3\\envs\\pr_tensorflow\\lib\\site-packages (from spacy<3.1.0,>=3.0.0->en-core-web-sm==3.0.0) (4.59.0)\n",
      "Requirement already satisfied: catalogue<2.1.0,>=2.0.1 in c:\\programdata\\anaconda3\\envs\\pr_tensorflow\\lib\\site-packages (from spacy<3.1.0,>=3.0.0->en-core-web-sm==3.0.0) (2.0.1)\n",
      "Requirement already satisfied: packaging>=20.0 in c:\\programdata\\anaconda3\\envs\\pr_tensorflow\\lib\\site-packages (from spacy<3.1.0,>=3.0.0->en-core-web-sm==3.0.0) (20.9)\n",
      "Requirement already satisfied: thinc<8.1.0,>=8.0.2 in c:\\programdata\\anaconda3\\envs\\pr_tensorflow\\lib\\site-packages (from spacy<3.1.0,>=3.0.0->en-core-web-sm==3.0.0) (8.0.2)\n",
      "Requirement already satisfied: zipp>=0.5 in c:\\programdata\\anaconda3\\envs\\pr_tensorflow\\lib\\site-packages (from importlib-metadata>=0.20->spacy<3.1.0,>=3.0.0->en-core-web-sm==3.0.0) (3.4.1)\n",
      "Requirement already satisfied: pyparsing>=2.0.2 in c:\\programdata\\anaconda3\\envs\\pr_tensorflow\\lib\\site-packages (from packaging>=20.0->spacy<3.1.0,>=3.0.0->en-core-web-sm==3.0.0) (2.4.7)\n",
      "Requirement already satisfied: dataclasses<1.0,>=0.6 in c:\\programdata\\anaconda3\\envs\\pr_tensorflow\\lib\\site-packages (from pathy>=0.3.5->spacy<3.1.0,>=3.0.0->en-core-web-sm==3.0.0) (0.8)\n",
      "Requirement already satisfied: smart-open<4.0.0,>=2.2.0 in c:\\programdata\\anaconda3\\envs\\pr_tensorflow\\lib\\site-packages (from pathy>=0.3.5->spacy<3.1.0,>=3.0.0->en-core-web-sm==3.0.0) (3.0.0)\n",
      "Requirement already satisfied: urllib3<1.27,>=1.21.1 in c:\\programdata\\anaconda3\\envs\\pr_tensorflow\\lib\\site-packages (from requests<3.0.0,>=2.13.0->spacy<3.1.0,>=3.0.0->en-core-web-sm==3.0.0) (1.26.4)\n",
      "Requirement already satisfied: chardet<5,>=3.0.2 in c:\\programdata\\anaconda3\\envs\\pr_tensorflow\\lib\\site-packages (from requests<3.0.0,>=2.13.0->spacy<3.1.0,>=3.0.0->en-core-web-sm==3.0.0) (4.0.0)\n",
      "Requirement already satisfied: idna<3,>=2.5 in c:\\programdata\\anaconda3\\envs\\pr_tensorflow\\lib\\site-packages (from requests<3.0.0,>=2.13.0->spacy<3.1.0,>=3.0.0->en-core-web-sm==3.0.0) (2.10)\n",
      "Requirement already satisfied: certifi>=2017.4.17 in c:\\programdata\\anaconda3\\envs\\pr_tensorflow\\lib\\site-packages (from requests<3.0.0,>=2.13.0->spacy<3.1.0,>=3.0.0->en-core-web-sm==3.0.0) (2020.12.5)\n",
      "Requirement already satisfied: contextvars<3,>=2.4 in c:\\programdata\\anaconda3\\envs\\pr_tensorflow\\lib\\site-packages (from thinc<8.1.0,>=8.0.2->spacy<3.1.0,>=3.0.0->en-core-web-sm==3.0.0) (2.4)\n",
      "Requirement already satisfied: immutables>=0.9 in c:\\programdata\\anaconda3\\envs\\pr_tensorflow\\lib\\site-packages (from contextvars<3,>=2.4->thinc<8.1.0,>=8.0.2->spacy<3.1.0,>=3.0.0->en-core-web-sm==3.0.0) (0.15)\n",
      "Requirement already satisfied: click<7.2.0,>=7.1.1 in c:\\programdata\\anaconda3\\envs\\pr_tensorflow\\lib\\site-packages (from typer<0.4.0,>=0.3.0->spacy<3.1.0,>=3.0.0->en-core-web-sm==3.0.0) (7.1.2)\n",
      "Requirement already satisfied: MarkupSafe>=0.23 in c:\\programdata\\anaconda3\\envs\\pr_tensorflow\\lib\\site-packages (from jinja2->spacy<3.1.0,>=3.0.0->en-core-web-sm==3.0.0) (1.1.1)\n",
      "Installing collected packages: en-core-web-sm\n",
      "Successfully installed en-core-web-sm-3.0.0\n",
      "[!] As of spaCy v3.0, shortcuts like 'en' are deprecated. Please use the full\n",
      "pipeline package name 'en_core_web_sm' instead.\n",
      "[+] Download and installation successful\n",
      "You can now load the package via spacy.load('en_core_web_sm')\n"
     ]
    },
    {
     "name": "stderr",
     "output_type": "stream",
     "text": [
      "2021-03-20 12:29:51.567097: W tensorflow/stream_executor/platform/default/dso_loader.cc:55] Could not load dynamic library 'cudart64_101.dll'; dlerror: cudart64_101.dll not found\n",
      "2021-03-20 12:29:51.567406: I tensorflow/stream_executor/cuda/cudart_stub.cc:29] Ignore above cudart dlerror if you do not have a GPU set up on your machine.\n"
     ]
    }
   ],
   "source": [
    "!python -m spacy download en \n",
    "# yield 땜에 틀렸대 ㅠㅜㅠㅠㅠㅠㅜㅠ 진행 불가... 안녕 Spacy..."
   ]
  },
  {
   "cell_type": "code",
   "execution_count": 35,
   "id": "tired-deployment",
   "metadata": {
    "scrolled": true
   },
   "outputs": [],
   "source": [
    "import spacy"
   ]
  },
  {
   "cell_type": "code",
   "execution_count": null,
   "id": "amber-invite",
   "metadata": {},
   "outputs": [],
   "source": [
    "import spacy\n"
   ]
  },
  {
   "cell_type": "code",
   "execution_count": null,
   "id": "announced-klein",
   "metadata": {},
   "outputs": [],
   "source": [
    "# spacy에서는 단어 토크나이징과 문장 토크나이징 방법이 같음!\n",
    "nlp = spacy.load('en_core_web_sm')\n",
    "sentence = \"Natural language processing (NLP) is a subfield of computer science, information engineering, and artificial intelligence concerned with the interactions between computers and human (natural) languages, in particular how to program computers to process and analyze large amounts of natural language data.\"\n",
    "doc = nlp(sentence)"
   ]
  },
  {
   "cell_type": "markdown",
   "id": "sized-exploration",
   "metadata": {},
   "source": [
    "### 한글 토크나이징 라이브러리\n",
    "- KoNLPy"
   ]
  },
  {
   "cell_type": "code",
   "execution_count": 156,
   "id": "waiting-coverage",
   "metadata": {},
   "outputs": [],
   "source": [
    "# KoNLPy\n",
    "# 형태소 분석으로 형태소 단위의 토크나이징 가능하게 함 + 구문 분석 가능\n",
    "# 국내에 이미 사용되는 여러 형태소 분석기 사용할 수 있게 허용\n",
    "# 어절 단위의 tokenizing은 nltk 써도 무방. 형태소 단위 토크나이징을 활용해보자"
   ]
  },
  {
   "cell_type": "code",
   "execution_count": 2,
   "id": "vocal-violin",
   "metadata": {},
   "outputs": [
    {
     "name": "stdout",
     "output_type": "stream",
     "text": [
      "Requirement already satisfied: konlpy in c:\\programdata\\anaconda3\\envs\\pr_tensorflow\\lib\\site-packages (0.5.2)\n",
      "Requirement already satisfied: colorama in c:\\programdata\\anaconda3\\envs\\pr_tensorflow\\lib\\site-packages (from konlpy) (0.4.4)\n",
      "Requirement already satisfied: beautifulsoup4==4.6.0 in c:\\programdata\\anaconda3\\envs\\pr_tensorflow\\lib\\site-packages (from konlpy) (4.6.0)\n",
      "Requirement already satisfied: tweepy>=3.7.0 in c:\\programdata\\anaconda3\\envs\\pr_tensorflow\\lib\\site-packages (from konlpy) (3.10.0)\n",
      "Requirement already satisfied: JPype1>=0.7.0 in c:\\users\\gpwl0\\appdata\\roaming\\python\\python36\\site-packages (from konlpy) (1.2.0)\n",
      "Requirement already satisfied: lxml>=4.1.0 in c:\\programdata\\anaconda3\\envs\\pr_tensorflow\\lib\\site-packages (from konlpy) (4.6.2)\n",
      "Requirement already satisfied: numpy>=1.6 in c:\\programdata\\anaconda3\\envs\\pr_tensorflow\\lib\\site-packages (from konlpy) (1.16.2)\n",
      "Requirement already satisfied: typing-extensions in c:\\programdata\\anaconda3\\envs\\pr_tensorflow\\lib\\site-packages (from JPype1>=0.7.0->konlpy) (3.7.4.3)\n",
      "Requirement already satisfied: requests[socks]>=2.11.1 in c:\\programdata\\anaconda3\\envs\\pr_tensorflow\\lib\\site-packages (from tweepy>=3.7.0->konlpy) (2.25.1)\n",
      "Requirement already satisfied: six>=1.10.0 in c:\\programdata\\anaconda3\\envs\\pr_tensorflow\\lib\\site-packages (from tweepy>=3.7.0->konlpy) (1.15.0)\n",
      "Requirement already satisfied: requests-oauthlib>=0.7.0 in c:\\programdata\\anaconda3\\envs\\pr_tensorflow\\lib\\site-packages (from tweepy>=3.7.0->konlpy) (1.3.0)\n",
      "Requirement already satisfied: oauthlib>=3.0.0 in c:\\programdata\\anaconda3\\envs\\pr_tensorflow\\lib\\site-packages (from requests-oauthlib>=0.7.0->tweepy>=3.7.0->konlpy) (3.1.0)\n",
      "Requirement already satisfied: idna<3,>=2.5 in c:\\programdata\\anaconda3\\envs\\pr_tensorflow\\lib\\site-packages (from requests[socks]>=2.11.1->tweepy>=3.7.0->konlpy) (2.10)\n",
      "Requirement already satisfied: certifi>=2017.4.17 in c:\\programdata\\anaconda3\\envs\\pr_tensorflow\\lib\\site-packages (from requests[socks]>=2.11.1->tweepy>=3.7.0->konlpy) (2020.12.5)\n",
      "Requirement already satisfied: chardet<5,>=3.0.2 in c:\\programdata\\anaconda3\\envs\\pr_tensorflow\\lib\\site-packages (from requests[socks]>=2.11.1->tweepy>=3.7.0->konlpy) (4.0.0)\n",
      "Requirement already satisfied: urllib3<1.27,>=1.21.1 in c:\\programdata\\anaconda3\\envs\\pr_tensorflow\\lib\\site-packages (from requests[socks]>=2.11.1->tweepy>=3.7.0->konlpy) (1.26.4)\n",
      "Requirement already satisfied: PySocks!=1.5.7,>=1.5.6 in c:\\programdata\\anaconda3\\envs\\pr_tensorflow\\lib\\site-packages (from requests[socks]>=2.11.1->tweepy>=3.7.0->konlpy) (1.7.1)\n"
     ]
    }
   ],
   "source": [
    "!pip3 install konlpy"
   ]
  },
  {
   "cell_type": "code",
   "execution_count": 1,
   "id": "intelligent-winner",
   "metadata": {
    "scrolled": true
   },
   "outputs": [
    {
     "name": "stdout",
     "output_type": "stream",
     "text": [
      "Processing c:\\users\\gpwl0\\onedrive\\nlp\\tensorflow-ml-nlp-tf2\\2.nlp_prep\\jpype1-1.2.0-cp36-cp36m-win_amd64.whl\n",
      "Requirement already satisfied: typing-extensions in c:\\programdata\\anaconda3\\envs\\pr_tensorflow\\lib\\site-packages (from JPype1==1.2.0) (3.7.4.3)\n",
      "Installing collected packages: JPype1\n",
      "Successfully installed JPype1-1.2.0\n"
     ]
    }
   ],
   "source": [
    "!pip install --user JPype1-1.2.0-cp36-cp36m-win_amd64.whl"
   ]
  },
  {
   "cell_type": "code",
   "execution_count": 3,
   "id": "close-award",
   "metadata": {},
   "outputs": [],
   "source": [
    "import konlpy\n"
   ]
  },
  {
   "cell_type": "code",
   "execution_count": 4,
   "id": "automotive-monkey",
   "metadata": {},
   "outputs": [],
   "source": [
    "# 형태소 토크나이징\n",
    "# 형태소 분석 + 품사 태깅 (형태소 분석기: Hannanum, Kkma, Komoran, Mecab-윈도우 사용 안됨, Okt(Twitter))\n",
    "# 책에서는 Okt로 해보자\n",
    "\n",
    "from konlpy.tag import Okt\n",
    "from konlpy.tag import Komoran"
   ]
  },
  {
   "cell_type": "code",
   "execution_count": 5,
   "id": "capable-condition",
   "metadata": {},
   "outputs": [],
   "source": [
    "okt = Okt()"
   ]
  },
  {
   "cell_type": "code",
   "execution_count": 6,
   "id": "attractive-parish",
   "metadata": {},
   "outputs": [
    {
     "name": "stdout",
     "output_type": "stream",
     "text": [
      "['한글', '자연어', '처리', '는', '재밌다', '이제', '부터', '열심히', '해야지', 'ㅎㅎㅎ']\n",
      "['한글', '자연어', '처리', '는', '재밌다', '이제', '부터', '열심히', '하다', 'ㅎㅎㅎ']\n"
     ]
    }
   ],
   "source": [
    "text = \"한글 자연어 처리는 재밌다 이제부터 열심히 해야지ㅎㅎㅎ\"\n",
    "\n",
    "print(okt.morphs(text))\n",
    "print(okt.morphs(text, stem=True))"
   ]
  },
  {
   "cell_type": "code",
   "execution_count": 6,
   "id": "royal-semiconductor",
   "metadata": {},
   "outputs": [
    {
     "name": "stdout",
     "output_type": "stream",
     "text": [
      "['한글', '자연어', '처리', '이제']\n",
      "['한글', '한글 자연어', '한글 자연어 처리', '이제', '자연어', '처리']\n"
     ]
    }
   ],
   "source": [
    "print(okt.nouns(text)) # 명사만 \n",
    "print(okt.phrases(text)) # 어절 단위로 나뉘어 추출됨 (명사만?)"
   ]
  },
  {
   "cell_type": "code",
   "execution_count": 7,
   "id": "conditional-clearing",
   "metadata": {},
   "outputs": [
    {
     "name": "stdout",
     "output_type": "stream",
     "text": [
      "[('한글', 'Noun'), ('자연어', 'Noun'), ('처리', 'Noun'), ('는', 'Josa'), ('재밌다', 'Adjective'), ('이제', 'Noun'), ('부터', 'Josa'), ('열심히', 'Adverb'), ('해야지', 'Verb'), ('ㅎㅎㅎ', 'KoreanParticle')]\n",
      "['한글/Noun', '자연어/Noun', '처리/Noun', '는/Josa', '재밌다/Adjective', '이제/Noun', '부터/Josa', '열심히/Adverb', '해야지/Verb', 'ㅎㅎㅎ/KoreanParticle']\n"
     ]
    }
   ],
   "source": [
    "# 훔사 태깅 함수 pos\n",
    "print(okt.pos(text))\n",
    "print(okt.pos(text, join = True)) # 형태소, 품사 붙여서 리스트화 (품사는 단어 단위로 붙는데... 형태소 단위로 나눈다는 것은 이상합,,,)"
   ]
  },
  {
   "cell_type": "code",
   "execution_count": 8,
   "id": "weird-georgia",
   "metadata": {},
   "outputs": [],
   "source": [
    "# konlpy에 한국 법률 말뭉치, 대한민국 국회 의안 말뭉치 있음!\n",
    "from konlpy.corpus import kolaw\n",
    "from konlpy.corpus import kobill"
   ]
  },
  {
   "cell_type": "code",
   "execution_count": 13,
   "id": "collected-dover",
   "metadata": {},
   "outputs": [
    {
     "data": {
      "text/plain": [
       "'대한민국헌법\\n\\n유구한 역사와 전통에 빛나는 우리 대한국민은 3·1운동으로 건립된 대한민국임시정부의 법통과 불의에 항거한 4·19민주이념을 계승하고, 조국의 민주개혁과 평화적 통일의 사명에 입각하여 정의·인도와 동포애로써 민족의 단결을 공고히 하고, 모든 사회적 폐습과 불의를 타파하며, 자율과 조화를 바탕으로 자유민주적 기본질서를 더욱 확고히 하여 정치·경제·사회·문화의 모든 영역에 있어서 각인의 기회를 균등히 하고, 능력을 최고도로 발휘하게 하며, 자유와 권리에 따르는 책임과 의무를 완수하게 하여, 안으로는 국민생활의 균등한 향상을 기하고 밖으로는 항구적인 세계평화와 인류공영에 이바지함으로써 우리들과 우리들의 자손의 안전과 자유와 행복을 영원히 확보할 것을 다짐하면서 1948년 7월 12일에 제정되고 8차에 걸쳐 개정된 헌법을 이제 국회의 의결을 거쳐 국민투표에 의하여 개정한다.\\n\\n       제1장 총강\\n  제1조 ① 대한민국은 민주공화국이다.\\n②대한민국의 주권은 국민에게 있고, 모든 권력은 국민으로부터 나온다.\\n  제2조 ① 대한민국의 국민이 되는 요건은 법률로 정한다.\\n②국가는 법률이 정하는 바에 의하여 재외국민을 보호할 의무를 진다.\\n  제3조 대한민국의 영토는 한반도와 그 부속도서로 한다.\\n  제4조 대한민국은 통일을 지향하며, 자유민주적 기본질서에 입각한 평화적 통일 정책을 수립하고 이를 추진한다.\\n  제5조 ① 대한민국은 국제평화의 유지에 노력하고 침략적 전쟁을 부인한다.\\n②국군은 국가의 안전보장과 국토방위의 신성한 의무를 수행함을 사명으로 하며, 그 정치적 중립성은 준수된다.\\n  제6조 ① 헌법에 의하여 체결·공포된 조약과 일반적으로 승인된 국제법규는 국내법과 같은 효력을 가진다.\\n②외국인은 국제법과 조약이 정하는 바에 의하여 그 지위가 보장된다.\\n  제7조 ① 공무원은 국민전체에 대한 봉사자이며, 국민에 대하여 책임을 진다.\\n②공무원의 신분과 정치적 중립성은 법률이 정하는 바에 의하여 보장된다.\\n  제8조 ① 정당의 설립은 자유이며, 복수정당제는 보장된다.\\n②정당은 그 목적·조직과 활동이 민주적이어야 하며, 국민의 정치적 의사형성에 참여하는데 필요한 조직을 가져야 한다.\\n③정당은 법률이 정하는 바에 의하여 국가의 보호를 받으며, 국가는 법률이 정하는 바에 의하여 정당운영에 필요한 자금을 보조할 수 있다.\\n④정당의 목적이나 활동이 민주적 기본질서에 위배될 때에는 정부는 헌법재판소에 그 해산을 제소할 수 있고, 정당은 헌법재판소의 심판에 의하여 해산된다.\\n  제9조 국가는 전통문화의 계승·발전과 민족문화의 창달에 노력하여야 한다.\\n\\n       제2장 국민의 권리와 의무\\n  제10조 모든 국민은 인간으로서의 존엄과 가치를 가지며, 행복을 추구할 권리를 가진다. 국가는 개인이 가지는 불가침의 기본적 인권을 확인하고 이를 보장할 의무를 진다.\\n  제11조 ① 모든 국민은 법 앞에 평등하다. 누구든지 성별·종교 또는 사회적 신분에 의하여 정치적·경제적·사회적·문화적 생활의 모든 영역에 있어서 차별을 받지 아니한다.\\n②사회적 특수계급의 제도는 인정되지 아니하며, 어떠한 형태로도 이를 창설할 수 없다.\\n③훈장등의 영전은 이를 받은 자에게만 효력이 있고, 어떠한 특권도 이에 따르지 아니한다.\\n  제12조 ① 모든 국민은 신체의 자유를 가진다. 누구든지 법률에 의하지 아니하고는 체포·구속·압수·수색 또는 심문을 받지 아니하며, 법률과 적법한 절차에 의하지 아니하고는 처벌·보안처분 또는 강제노역을 받지 아니한다.\\n②모든 국민은 고문을 받지 아니하며, 형사상 자기에게 불리한 진술을 강요당하지 아니한다.\\n③체포·구속·압수 또는 수색을 할 때에는 적법한 절차에 따라 검사의 신청에 의하여 법관이 발부한 영장을 제시하여야 한다. 다만, 현행범인인 경우와 장기 3년 이상의 형에 해당하는 죄를 범하고 도피 또는 증거인멸의 염려가 있을 때에는 사후에 영장을 청구할 수 있다.\\n④누구든지 체포 또는 구속을 당한 때에는 즉시 변호인의 조력을 받을 권리를 가진다. 다만, 형사피고인이 스스로 변호인을 구할 수 없을 때에는 법률이 정하는 바에 의하여 국가가 변호인을 붙인다.\\n⑤누구든지 체포 또는 구속의 이유와 변호인의 조력을 받을 권리가 있음을 고지받지 아니하고는 체포 또는 구속을 당하지 아니한다. 체포 또는 구속을 당한 자의 가족등 법률이 정하는 자에게는 그 이유와 일시·장소가 지체없이 통지되어야 한다.\\n⑥누구든지 체포 또는 구속을 당한 때에는 적부의 심사를 법원에 청구할 권리를 가진다.\\n⑦피고인의 자백이 고문·폭행·협박·구속의 부당한 장기화 또는 기망 기타의 방법에 의하여 자의로 진술된 것이 아니라고 인정될 때 또는 정식재판에 있어서 피고인의 자백이 그에게 불리한 유일한 증거일 때에는 이를 유죄의 증거로 삼거나 이를 이유로 처벌할 수 없다.\\n  제13조 ① 모든 국민은 행위시의 법률에 의하여 범죄를 구성하지 아니하는 행위로 소추되지 아니하며, 동일한 범죄에 대하여 거듭 처벌받지 아니한다.\\n②모든 국민은 소급입법에 의하여 참정권의 제한을 받거나 재산권을 박탈당하지 아니한다.\\n③모든 국민은 자기의 행위가 아닌 친족의 행위로 인하여 불이익한 처우를 받지 아니한다.\\n  제14조 모든 국민은 거주·이전의 자유를 가진다.\\n  제15조 모든 국민은 직업선택의 자유를 가진다.\\n  제16조 모든 국민은 주거의 자유를 침해받지 아니한다. 주거에 대한 압수나 수색을 할 때에는 검사의 신청에 의하여 법관이 발부한 영장을 제시하여야 한다.\\n  제17조 모든 국민은 사생활의 비밀과 자유를 침해받지 아니한다.\\n  제18조 모든 국민은 통신의 비밀을 침해받지 아니한다.\\n  제19조 모든 국민은 양심의 자유를 가진다.\\n  제20조 ① 모든 국민은 종교의 자유를 가진다.\\n②국교는 인정되지 아니하며, 종교와 정치는 분리된다.\\n  제21조 ① 모든 국민은 언론·출판의 자유와 집회·결사의 자유를 가진다.\\n②언론·출판에 대한 허가나 검열과 집회·결사에 대한 허가는 인정되지 아니한다.\\n③통신·방송의 시설기준과 신문의 기능을 보장하기 위하여 필요한 사항은 법률로 정한다.\\n④언론·출판은 타인의 명예나 권리 또는 공중도덕이나 사회윤리를 침해하여서는 아니된다. 언론·출판이 타인의 명예나 권리를 침해한 때에는 피해자는 이에 대한 피해의 배상을 청구할 수 있다.\\n  제22조 ① 모든 국민은 학문과 예술의 자유를 가진다.\\n②저작자·발명가·과학기술자와 예술가의 권리는 법률로써 보호한다.\\n  제23조 ① 모든 국민의 재산권은 보장된다. 그 내용과 한계는 법률로 정한다.\\n②재산권의 행사는 공공복리에 적합하도록 하여야 한다.\\n③공공필요에 의한 재산권의 수용·사용 또는 제한 및 그에 대한 보상은 법률로써 하되, 정당한 보상을 지급하여야 한다.\\n  제24조 모든 국민은 법률이 정하는 바에 의하여 선거권을 가진다.\\n  제25조 모든 국민은 법률이 정하는 바에 의하여 공무담임권을 가진다.\\n  제26조 ① 모든 국민은 법률이 정하는 바에 의하여 국가기관에 문서로 청원할 권리를 가진다.\\n②국가는 청원에 대하여 심사할 의무를 진다.\\n  제27조 ① 모든 국민은 헌법과 법률이 정한 법관에 의하여 법률에 의한 재판을 받을 권리를 가진다.\\n②군인 또는 군무원이 아닌 국민은 대한민국의 영역안에서는 중대한 군사상 기밀·초병·초소·유독음식물공급·포로·군용물에 관한 죄중 법률이 정한 경우와 비상계엄이 선포된 경우를 제외하고는 군사법원의 재판을 받지 아니한다.\\n③모든 국민은 신속한 재판을 받을 권리를 가진다. 형사피고인은 상당한 이유가 없는 한 지체없이 공개재판을 받을 권리를 가진다.\\n④형사피고인은 유죄의 판결이 확정될 때까지는 무죄로 추정된다.\\n⑤형사피해자는 법률이 정하는 바에 의하여 당해 사건의 재판절차에서 진술할 수 있다.\\n  제28조 형사피의자 또는 형사피고인으로서 구금되었던 자가 법률이 정하는 불기소처분을 받거나 무죄판결을 받은 때에는 법률이 정하는 바에 의하여 국가에 정당한 보상을 청구할 수 있다.\\n  제29조 ① 공무원의 직무상 불법행위로 손해를 받은 국민은 법률이 정하는 바에 의하여 국가 또는 공공단체에 정당한 배상을 청구할 수 있다. 이 경우 공무원 자신의 책임은 면제되지 아니한다.\\n②군인·군무원·경찰공무원 기타 법률이 정하는 자가 전투·훈련등 직무집행과 관련하여 받은 손해에 대하여는 법률이 정하는 보상외에 국가 또는 공공단체에 공무원의 직무상 불법행위로 인한 배상은 청구할 수 없다.\\n  제30조 타인의 범죄행위로 인하여 생명·신체에 대한 피해를 받은 국민은 법률이 정하는 바에 의하여 국가로부터 구조를 받을 수 있다.\\n  제31조 ① 모든 국민은 능력에 따라 균등하게 교육을 받을 권리를 가진다.\\n②모든 국민은 그 보호하는 자녀에게 적어도 초등교육과 법률이 정하는 교육을 받게 할 의무를 진다.\\n③의무교육은 무상으로 한다.\\n④교육의 자주성·전문성·정치적 중립성 및 대학의 자율성은 법률이 정하는 바에 의하여 보장된다.\\n⑤국가는 평생교육을 진흥하여야 한다.\\n⑥학교교육 및 평생교육을 포함한 교육제도와 그 운영, 교육재정 및 교원의 지위에 관한 기본적인 사항은 법률로 정한다.\\n  제32조 ① 모든 국민은 근로의 권리를 가진다. 국가는 사회적·경제적 방법으로 근로자의 고용의 증진과 적정임금의 보장에 노력하여야 하며, 법률이 정하는 바에 의하여 최저임금제를 시행하여야 한다.\\n②모든 국민은 근로의 의무를 진다. 국가는 근로의 의무의 내용과 조건을 민주주의원칙에 따라 법률로 정한다.\\n③근로조건의 기준은 인간의 존엄성을 보장하도록 법률로 정한다.\\n④여자의 근로는 특별한 보호를 받으며, 고용·임금 및 근로조건에 있어서 부당한 차별을 받지 아니한다.\\n⑤연소자의 근로는 특별한 보호를 받는다.\\n⑥국가유공자·상이군경 및 전몰군경의 유가족은 법률이 정하는 바에 의하여 우선적으로 근로의 기회를 부여받는다.\\n  제33조 ① 근로자는 근로조건의 향상을 위하여 자주적인 단결권·단체교섭권 및 단체행동권을 가진다.\\n②공무원인 근로자는 법률이 정하는 자에 한하여 단결권·단체교섭권 및 단체행동권을 가진다.\\n③법률이 정하는 주요방위산업체에 종사하는 근로자의 단체행동권은 법률이 정하는 바에 의하여 이를 제한하거나 인정하지 아니할 수 있다.\\n  제34조 ① 모든 국민은 인간다운 생활을 할 권리를 가진다.\\n②국가는 사회보장·사회복지의 증진에 노력할 의무를 진다.\\n③국가는 여자의 복지와 권익의 향상을 위하여 노력하여야 한다.\\n④국가는 노인과 청소년의 복지향상을 위한 정책을 실시할 의무를 진다.\\n⑤신체장애자 및 질병·노령 기타의 사유로 생활능력이 없는 국민은 법률이 정하는 바에 의하여 국가의 보호를 받는다.\\n⑥국가는 재해를 예방하고 그 위험으로부터 국민을 보호하기 위하여 노력하여야 한다.\\n  제35조 ① 모든 국민은 건강하고 쾌적한 환경에서 생활할 권리를 가지며, 국가와 국민은 환경보전을 위하여 노력하여야 한다.\\n②환경권의 내용과 행사에 관하여는 법률로 정한다.\\n③국가는 주택개발정책등을 통하여 모든 국민이 쾌적한 주거생활을 할 수 있도록 노력하여야 한다.\\n  제36조 ① 혼인과 가족생활은 개인의 존엄과 양성의 평등을 기초로 성립되고 유지되어야 하며, 국가는 이를 보장한다.\\n②국가는 모성의 보호를 위하여 노력하여야 한다.\\n③모든 국민은 보건에 관하여 국가의 보호를 받는다.\\n  제37조 ① 국민의 자유와 권리는 헌법에 열거되지 아니한 이유로 경시되지 아니한다.\\n②국민의 모든 자유와 권리는 국가안전보장·질서유지 또는 공공복리를 위하여 필요한 경우에 한하여 법률로써 제한할 수 있으며, 제한하는 경우에도 자유와 권리의 본질적인 내용을 침해할 수 없다.\\n  제38조 모든 국민은 법률이 정하는 바에 의하여 납세의 의무를 진다.\\n  제39조 ① 모든 국민은 법률이 정하는 바에 의하여 국방의 의무를 진다.\\n②누구든지 병역의무의 이행으로 인하여 불이익한 처우를 받지 아니한다.\\n\\n       제3장 국회\\n  제40조 입법권은 국회에 속한다.\\n  제41조 ① 국회는 국민의 보통·평등·직접·비밀선거에 의하여 선출된 국회의원으로 구성한다.\\n②국회의원의 수는 법률로 정하되, 200인 이상으로 한다.\\n③국회의원의 선거구와 비례대표제 기타 선거에 관한 사항은 법률로 정한다.\\n  제42조 국회의원의 임기는 4년으로 한다.\\n  제43조 국회의원은 법률이 정하는 직을 겸할 수 없다.\\n  제44조 ① 국회의원은 현행범인인 경우를 제외하고는 회기중 국회의 동의없이 체포 또는 구금되지 아니한다.\\n②국회의원이 회기전에 체포 또는 구금된 때에는 현행범인이 아닌 한 국회의 요구가 있으면 회기중 석방된다.\\n  제45조 국회의원은 국회에서 직무상 행한 발언과 표결에 관하여 국회외에서 책임을 지지 아니한다.\\n  제46조 ① 국회의원은 청렴의 의무가 있다.\\n②국회의원은 국가이익을 우선하여 양심에 따라 직무를 행한다.\\n③국회의원은 그 지위를 남용하여 국가·공공단체 또는 기업체와의 계약이나 그 처분에 의하여 재산상의 권리·이익 또는 직위를 취득하거나 타인을 위하여 그 취득을 알선할 수 없다.\\n  제47조 ① 국회의 정기회는 법률이 정하는 바에 의하여 매년 1회 집회되며, 국회의 임시회는 대통령 또는 국회재적의원 4분의 1 이상의 요구에 의하여 집회된다.\\n②정기회의 회기는 100일을, 임시회의 회기는 30일을 초과할 수 없다.\\n③대통령이 임시회의 집회를 요구할 때에는 기간과 집회요구의 이유를 명시하여야 한다.\\n  제48조 국회는 의장 1인과 부의장 2인을 선출한다.\\n  제49조 국회는 헌법 또는 법률에 특별한 규정이 없는 한 재적의원 과반수의 출석과 출석의원 과반수의 찬성으로 의결한다. 가부동수인 때에는 부결된 것으로 본다.\\n  제50조 ① 국회의 회의는 공개한다. 다만, 출석의원 과반수의 찬성이 있거나 의장이 국가의 안전보장을 위하여 필요하다고 인정할 때에는 공개하지 아니할 수 있다.\\n②공개하지 아니한 회의내용의 공표에 관하여는 법률이 정하는 바에 의한다.\\n  제51조 국회에 제출된 법률안 기타의 의안은 회기중에 의결되지 못한 이유로 폐기되지 아니한다. 다만, 국회의원의 임기가 만료된 때에는 그러하지 아니하다.\\n  제52조 국회의원과 정부는 법률안을 제출할 수 있다.\\n  제53조 ① 국회에서 의결된 법률안은 정부에 이송되어 15일 이내에 대통령이 공포한다.\\n②법률안에 이의가 있을 때에는 대통령은 제1항의 기간내에 이의서를 붙여 국회로 환부하고, 그 재의를 요구할 수 있다. 국회의 폐회중에도 또한 같다.\\n③대통령은 법률안의 일부에 대하여 또는 법률안을 수정하여 재의를 요구할 수 없다.\\n④재의의 요구가 있을 때에는 국회는 재의에 붙이고, 재적의원과반수의 출석과 출석의원 3분의 2 이상의 찬성으로 전과 같은 의결을 하면 그 법률안은 법률로서 확정된다.\\n⑤대통령이 제1항의 기간내에 공포나 재의의 요구를 하지 아니한 때에도 그 법률안은 법률로서 확정된다.\\n⑥대통령은 제4항과 제5항의 규정에 의하여 확정된 법률을 지체없이 공포하여야 한다. 제5항에 의하여 법률이 확정된 후 또는 제4항에 의한 확정법률이 정부에 이송된 후 5일 이내에 대통령이 공포하지 아니할 때에는 국회의장이 이를 공포한다.\\n⑦법률은 특별한 규정이 없는 한 공포한 날로부터 20일을 경과함으로써 효력을 발생한다.\\n  제54조 ① 국회는 국가의 예산안을 심의·확정한다.\\n②정부는 회계연도마다 예산안을 편성하여 회계연도 개시 90일전까지 국회에 제출하고, 국회는 회계연도 개시 30일전까지 이를 의결하여야 한다.\\n③새로운 회계연도가 개시될 때까지 예산안이 의결되지 못한 때에는 정부는 국회에서 예산안이 의결될 때까지 다음의 목적을 위한 경비는 전년도 예산에 준하여 집행할 수 있다.\\n1. 헌법이나 법률에 의하여 설치된 기관 또는 시설의 유지·운영\\n2. 법률상 지출의무의 이행\\n3. 이미 예산으로 승인된 사업의 계속\\n  제55조 ① 한 회계연도를 넘어 계속하여 지출할 필요가 있을 때에는 정부는 연한을 정하여 계속비로서 국회의 의결을 얻어야 한다.\\n②예비비는 총액으로 국회의 의결을 얻어야 한다. 예비비의 지출은 차기국회의 승인을 얻어야 한다.\\n  제56조 정부는 예산에 변경을 가할 필요가 있을 때에는 추가경정예산안을 편성하여 국회에 제출할 수 있다.\\n  제57조 국회는 정부의 동의없이 정부가 제출한 지출예산 각항의 금액을 증가하거나 새 비목을 설치할 수 없다.\\n  제58조 국채를 모집하거나 예산외에 국가의 부담이 될 계약을 체결하려 할 때에는 정부는 미리 국회의 의결을 얻어야 한다.\\n  제59조 조세의 종목과 세율은 법률로 정한다.\\n  제60조 ① 국회는 상호원조 또는 안전보장에 관한 조약, 중요한 국제조직에 관한 조약, 우호통상항해조약, 주권의 제약에 관한 조약, 강화조약, 국가나 국민에게 중대한 재정적 부담을 지우는 조약 또는 입법사항에 관한 조약의 체결·비준에 대한 동의권을 가진다.\\n②국회는 선전포고, 국군의 외국에의 파견 또는 외국군대의 대한민국 영역안에서의 주류에 대한 동의권을 가진다.\\n  제61조 ① 국회는 국정을 감사하거나 특정한 국정사안에 대하여 조사할 수 있으며, 이에 필요한 서류의 제출 또는 증인의 출석과 증언이나 의견의 진술을 요구할 수 있다.\\n②국정감사 및 조사에 관한 절차 기타 필요한 사항은 법률로 정한다.\\n  제62조 ① 국무총리·국무위원 또는 정부위원은 국회나 그 위원회에 출석하여 국정처리상황을 보고하거나 의견을 진술하고 질문에 응답할 수 있다.\\n②국회나 그 위원회의 요구가 있을 때에는 국무총리·국무위원 또는 정부위원은 출석·답변하여야 하며, 국무총리 또는 국무위원이 출석요구를 받은 때에는 국무위원 또는 정부위원으로 하여금 출석·답변하게 할 수 있다.\\n  제63조 ① 국회는 국무총리 또는 국무위원의 해임을 대통령에게 건의할 수 있다.\\n②제1항의 해임건의는 국회재적의원 3분의 1 이상의 발의에 의하여 국회재적의원 과반수의 찬성이 있어야 한다.\\n  제64조 ① 국회는 법률에 저촉되지 아니하는 범위안에서 의사와 내부규율에 관한 규칙을 제정할 수 있다.\\n②국회는 의원의 자격을 심사하며, 의원을 징계할 수 있다.\\n③의원을 제명하려면 국회재적의원 3분의 2 이상의 찬성이 있어야 한다.\\n④제2항과 제3항의 처분에 대하여는 법원에 제소할 수 없다.\\n  제65조 ① 대통령·국무총리·국무위원·행정각부의 장·헌법재판소 재판관·법관·중앙선거관리위원회 위원·감사원장·감사위원 기타 법률이 정한 공무원이 그 직무집행에 있어서 헌법이나 법률을 위배한 때에는 국회는 탄핵의 소추를 의결할 수 있다.\\n②제1항의 탄핵소추는 국회재적의원 3분의 1 이상의 발의가 있어야 하며, 그 의결은 국회재적의원 과반수의 찬성이 있어야 한다. 다만, 대통령에 대한 탄핵소추는 국회재적의원 과반수의 발의와 국회재적의원 3분의 2 이상의 찬성이 있어야 한다.\\n③탄핵소추의 의결을 받은 자는 탄핵심판이 있을 때까지 그 권한행사가 정지된다.\\n④탄핵결정은 공직으로부터 파면함에 그친다. 그러나, 이에 의하여 민사상이나 형사상의 책임이 면제되지는 아니한다.\\n\\n       제4장 정부\\n       제1절 대통령\\n  제66조 ① 대통령은 국가의 원수이며, 외국에 대하여 국가를 대표한다.\\n②대통령은 국가의 독립·영토의 보전·국가의 계속성과 헌법을 수호할 책무를 진다.\\n③대통령은 조국의 평화적 통일을 위한 성실한 의무를 진다.\\n④행정권은 대통령을 수반으로 하는 정부에 속한다.\\n  제67조 ① 대통령은 국민의 보통·평등·직접·비밀선거에 의하여 선출한다.\\n②제1항의 선거에 있어서 최고득표자가 2인 이상인 때에는 국회의 재적의원 과반수가 출석한 공개회의에서 다수표를 얻은 자를 당선자로 한다.\\n③대통령후보자가 1인일 때에는 그 득표수가 선거권자 총수의 3분의 1 이상이 아니면 대통령으로 당선될 수 없다.\\n④대통령으로 선거될 수 있는 자는 국회의원의 피선거권이 있고 선거일 현재 40세에 달하여야 한다.\\n⑤대통령의 선거에 관한 사항은 법률로 정한다.\\n  제68조 ① 대통령의 임기가 만료되는 때에는 임기만료 70일 내지 40일전에 후임자를 선거한다.\\n②대통령이 궐위된 때 또는 대통령 당선자가 사망하거나 판결 기타의 사유로 그 자격을 상실한 때에는 60일 이내에 후임자를 선거한다.\\n  제69조 대통령은 취임에 즈음하여 다음의 선서를 한다.\\n\"나는 헌법을 준수하고 국가를 보위하며 조국의 평화적 통일과 국민의 자유와 복리의 증진 및 민족문화의 창달에 노력하여 대통령으로서의 직책을 성실히 수행할 것을 국민 앞에 엄숙히 선서합니다.\"\\n  제70조 대통령의 임기는 5년으로 하며, 중임할 수 없다.\\n  제71조 대통령이 궐위되거나 사고로 인하여 직무를 수행할 수 없을 때에는 국무총리, 법률이 정한 국무위원의 순서로 그 권한을 대행한다.\\n  제72조 대통령은 필요하다고 인정할 때에는 외교·국방·통일 기타 국가안위에 관한 중요정책을 국민투표에 붙일 수 있다.\\n  제73조 대통령은 조약을 체결·비준하고, 외교사절을 신임·접수 또는 파견하며, 선전포고와 강화를 한다.\\n  제74조 ① 대통령은 헌법과 법률이 정하는 바에 의하여 국군을 통수한다.\\n②국군의 조직과 편성은 법률로 정한다.\\n  제75조 대통령은 법률에서 구체적으로 범위를 정하여 위임받은 사항과 법률을 집행하기 위하여 필요한 사항에 관하여 대통령령을 발할 수 있다.\\n  제76조 ① 대통령은 내우·외환·천재·지변 또는 중대한 재정·경제상의 위기에 있어서 국가의 안전보장 또는 공공의 안녕질서를 유지하기 위하여 긴급한 조치가 필요하고 국회의 집회를 기다릴 여유가 없을 때에 한하여 최소한으로 필요한 재정·경제상의 처분을 하거나 이에 관하여 법률의 효력을 가지는 명령을 발할 수 있다.\\n②대통령은 국가의 안위에 관계되는 중대한 교전상태에 있어서 국가를 보위하기 위하여 긴급한 조치가 필요하고 국회의 집회가 불가능한 때에 한하여 법률의 효력을 가지는 명령을 발할 수 있다.\\n③대통령은 제1항과 제2항의 처분 또는 명령을 한 때에는 지체없이 국회에 보고하여 그 승인을 얻어야 한다.\\n④제3항의 승인을 얻지 못한 때에는 그 처분 또는 명령은 그때부터 효력을 상실한다. 이 경우 그 명령에 의하여 개정 또는 폐지되었던 법률은 그 명령이 승인을 얻지 못한 때부터 당연히 효력을 회복한다.\\n⑤대통령은 제3항과 제4항의 사유를 지체없이 공포하여야 한다.\\n  제77조 ① 대통령은 전시·사변 또는 이에 준하는 국가비상사태에 있어서 병력으로써 군사상의 필요에 응하거나 공공의 안녕질서를 유지할 필요가 있을 때에는 법률이 정하는 바에 의하여 계엄을 선포할 수 있다.\\n②계엄은 비상계엄과 경비계엄으로 한다.\\n③비상계엄이 선포된 때에는 법률이 정하는 바에 의하여 영장제도, 언론·출판·집회·결사의 자유, 정부나 법원의 권한에 관하여 특별한 조치를 할 수 있다.\\n④계엄을 선포한 때에는 대통령은 지체없이 국회에 통고하여야 한다.\\n⑤국회가 재적의원 과반수의 찬성으로 계엄의 해제를 요구한 때에는 대통령은 이를 해제하여야 한다.\\n  제78조 대통령은 헌법과 법률이 정하는 바에 의하여 공무원을 임면한다.\\n  제79조 ① 대통령은 법률이 정하는 바에 의하여 사면·감형 또는 복권을 명할 수 있다.\\n②일반사면을 명하려면 국회의 동의를 얻어야 한다.\\n③사면·감형 및 복권에 관한 사항은 법률로 정한다.\\n  제80조 대통령은 법률이 정하는 바에 의하여 훈장 기타의 영전을 수여한다.\\n  제81조 대통령은 국회에 출석하여 발언하거나 서한으로 의견을 표시할 수 있다.\\n  제82조 대통령의 국법상 행위는 문서로써 하며, 이 문서에는 국무총리와 관계 국무위원이 부서한다. 군사에 관한 것도 또한 같다.\\n  제83조 대통령은 국무총리·국무위원·행정각부의 장 기타 법률이 정하는 공사의 직을 겸할 수 없다.\\n  제84조 대통령은 내란 또는 외환의 죄를 범한 경우를 제외하고는 재직중 형사상의 소추를 받지 아니한다.\\n  제85조 전직대통령의 신분과 예우에 관하여는 법률로 정한다.\\n       제2절 행정부\\n       제1관 국무총리와 국무위원\\n  제86조 ① 국무총리는 국회의 동의를 얻어 대통령이 임명한다.\\n②국무총리는 대통령을 보좌하며, 행정에 관하여 대통령의 명을 받아 행정각부를 통할한다.\\n③군인은 현역을 면한 후가 아니면 국무총리로 임명될 수 없다.\\n  제87조 ① 국무위원은 국무총리의 제청으로 대통령이 임명한다.\\n②국무위원은 국정에 관하여 대통령을 보좌하며, 국무회의의 구성원으로서 국정을 심의한다.\\n③국무총리는 국무위원의 해임을 대통령에게 건의할 수 있다.\\n④군인은 현역을 면한 후가 아니면 국무위원으로 임명될 수 없다.\\n       제2관 국무회의\\n  제88조 ① 국무회의는 정부의 권한에 속하는 중요한 정책을 심의한다.\\n②국무회의는 대통령·국무총리와 15인 이상 30인 이하의 국무위원으로 구성한다.\\n③대통령은 국무회의의 의장이 되고, 국무총리는 부의장이 된다.\\n  제89조 다음 사항은 국무회의의 심의를 거쳐야 한다.\\n1. 국정의 기본계획과 정부의 일반정책\\n2. 선전·강화 기타 중요한 대외정책\\n3. 헌법개정안·국민투표안·조약안·법률안 및 대통령령안\\n4. 예산안·결산·국유재산처분의 기본계획·국가의 부담이 될 계약 기타 재정에 관한 중요사항\\n5. 대통령의 긴급명령·긴급재정경제처분 및 명령 또는 계엄과 그 해제\\n6. 군사에 관한 중요사항\\n7. 국회의 임시회 집회의 요구\\n8. 영전수여\\n9. 사면·감형과 복권\\n10. 행정각부간의 권한의 획정\\n11. 정부안의 권한의 위임 또는 배정에 관한 기본계획\\n12. 국정처리상황의 평가·분석\\n13. 행정각부의 중요한 정책의 수립과 조정\\n14. 정당해산의 제소\\n15. 정부에 제출 또는 회부된 정부의 정책에 관계되는 청원의 심사\\n16. 검찰총장·합동참모의장·각군참모총장·국립대학교총장·대사 기타 법률이 정한 공무원과 국영기업체관리자의 임명\\n17. 기타 대통령·국무총리 또는 국무위원이 제출한 사항\\n  제90조 ① 국정의 중요한 사항에 관한 대통령의 자문에 응하기 위하여 국가원로로 구성되는 국가원로자문회의를 둘 수 있다.\\n②국가원로자문회의의 의장은 직전대통령이 된다. 다만, 직전대통령이 없을 때에는 대통령이 지명한다.\\n③국가원로자문회의의 조직·직무범위 기타 필요한 사항은 법률로 정한다.\\n  제91조 ① 국가안전보장에 관련되는 대외정책·군사정책과 국내정책의 수립에 관하여 국무회의의 심의에 앞서 대통령의 자문에 응하기 위하여 국가안전보장회의를 둔다.\\n②국가안전보장회의는 대통령이 주재한다.\\n③국가안전보장회의의 조직·직무범위 기타 필요한 사항은 법률로 정한다.\\n  제92조 ① 평화통일정책의 수립에 관한 대통령의 자문에 응하기 위하여 민주평화통일자문회의를 둘 수 있다.\\n②민주평화통일자문회의의 조직·직무범위 기타 필요한 사항은 법률로 정한다.\\n  제93조 ① 국민경제의 발전을 위한 중요정책의 수립에 관하여 대통령의 자문에 응하기 위하여 국민경제자문회의를 둘 수 있다.\\n②국민경제자문회의의 조직·직무범위 기타 필요한 사항은 법률로 정한다.\\n       제3관 행정각부\\n  제94조 행정각부의 장은 국무위원 중에서 국무총리의 제청으로 대통령이 임명한다.\\n  제95조 국무총리 또는 행정각부의 장은 소관사무에 관하여 법률이나 대통령령의 위임 또는 직권으로 총리령 또는 부령을 발할 수 있다.\\n  제96조 행정각부의 설치·조직과 직무범위는 법률로 정한다.\\n       제4관 감사원\\n  제97조 국가의 세입·세출의 결산, 국가 및 법률이 정한 단체의 회계검사와 행정기관 및 공무원의 직무에 관한 감찰을 하기 위하여 대통령 소속하에 감사원을 둔다.\\n  제98조 ① 감사원은 원장을 포함한 5인 이상 11인 이하의 감사위원으로 구성한다.\\n②원장은 국회의 동의를 얻어 대통령이 임명하고, 그 임기는 4년으로 하며, 1차에 한하여 중임할 수 있다.\\n③감사위원은 원장의 제청으로 대통령이 임명하고, 그 임기는 4년으로 하며, 1차에 한하여 중임할 수 있다.\\n  제99조 감사원은 세입·세출의 결산을 매년 검사하여 대통령과 차년도국회에 그 결과를 보고하여야 한다.\\n  제100조 감사원의 조직·직무범위·감사위원의 자격·감사대상공무원의 범위 기타 필요한 사항은 법률로 정한다.\\n\\n       제5장 법원\\n  제101조 ① 사법권은 법관으로 구성된 법원에 속한다.\\n②법원은 최고법원인 대법원과 각급법원으로 조직된다.\\n③법관의 자격은 법률로 정한다.\\n  제102조 ① 대법원에 부를 둘 수 있다.\\n②대법원에 대법관을 둔다. 다만, 법률이 정하는 바에 의하여 대법관이 아닌 법관을 둘 수 있다.\\n③대법원과 각급법원의 조직은 법률로 정한다.\\n  제103조 법관은 헌법과 법률에 의하여 그 양심에 따라 독립하여 심판한다.\\n  제104조 ① 대법원장은 국회의 동의를 얻어 대통령이 임명한다.\\n②대법관은 대법원장의 제청으로 국회의 동의를 얻어 대통령이 임명한다.\\n③대법원장과 대법관이 아닌 법관은 대법관회의의 동의를 얻어 대법원장이 임명한다.\\n  제105조 ① 대법원장의 임기는 6년으로 하며, 중임할 수 없다.\\n②대법관의 임기는 6년으로 하며, 법률이 정하는 바에 의하여 연임할 수 있다.\\n③대법원장과 대법관이 아닌 법관의 임기는 10년으로 하며, 법률이 정하는 바에 의하여 연임할 수 있다.\\n④법관의 정년은 법률로 정한다.\\n  제106조 ① 법관은 탄핵 또는 금고 이상의 형의 선고에 의하지 아니하고는 파면되지 아니하며, 징계처분에 의하지 아니하고는 정직·감봉 기타 불리한 처분을 받지 아니한다.\\n②법관이 중대한 심신상의 장해로 직무를 수행할 수 없을 때에는 법률이 정하는 바에 의하여 퇴직하게 할 수 있다.\\n  제107조 ① 법률이 헌법에 위반되는 여부가 재판의 전제가 된 경우에는 법원은 헌법재판소에 제청하여 그 심판에 의하여 재판한다.\\n②명령·규칙 또는 처분이 헌법이나 법률에 위반되는 여부가 재판의 전제가 된 경우에는 대법원은 이를 최종적으로 심사할 권한을 가진다.\\n③재판의 전심절차로서 행정심판을 할 수 있다. 행정심판의 절차는 법률로 정하되, 사법절차가 준용되어야 한다.\\n  제108조 대법원은 법률에 저촉되지 아니하는 범위안에서 소송에 관한 절차, 법원의 내부규율과 사무처리에 관한 규칙을 제정할 수 있다.\\n  제109조 재판의 심리와 판결은 공개한다. 다만, 심리는 국가의 안전보장 또는 안녕질서를 방해하거나 선량한 풍속을 해할 염려가 있을 때에는 법원의 결정으로 공개하지 아니할 수 있다.\\n  제110조 ① 군사재판을 관할하기 위하여 특별법원으로서 군사법원을 둘 수 있다.\\n②군사법원의 상고심은 대법원에서 관할한다.\\n③군사법원의 조직·권한 및 재판관의 자격은 법률로 정한다.\\n④비상계엄하의 군사재판은 군인·군무원의 범죄나 군사에 관한 간첩죄의 경우와 초병·초소·유독음식물공급·포로에 관한 죄중 법률이 정한 경우에 한하여 단심으로 할 수 있다. 다만, 사형을 선고한 경우에는 그러하지 아니하다.\\n\\n       제6장 헌법재판소\\n  제111조 ① 헌법재판소는 다음 사항을 관장한다.\\n1. 법원의 제청에 의한 법률의 위헌여부 심판\\n2. 탄핵의 심판\\n3. 정당의 해산 심판\\n4. 국가기관 상호간, 국가기관과 지방자치단체간 및 지방자치단체 상호간의 권한쟁의에 관한 심판\\n5. 법률이 정하는 헌법소원에 관한 심판\\n②헌법재판소는 법관의 자격을 가진 9인의 재판관으로 구성하며, 재판관은 대통령이 임명한다.\\n③제2항의 재판관중 3인은 국회에서 선출하는 자를, 3인은 대법원장이 지명하는 자를 임명한다.\\n④헌법재판소의 장은 국회의 동의를 얻어 재판관중에서 대통령이 임명한다.\\n  제112조 ① 헌법재판소 재판관의 임기는 6년으로 하며, 법률이 정하는 바에 의하여 연임할 수 있다.\\n②헌법재판소 재판관은 정당에 가입하거나 정치에 관여할 수 없다.\\n③헌법재판소 재판관은 탄핵 또는 금고 이상의 형의 선고에 의하지 아니하고는 파면되지 아니한다.\\n  제113조 ① 헌법재판소에서 법률의 위헌결정, 탄핵의 결정, 정당해산의 결정 또는 헌법소원에 관한 인용결정을 할 때에는 재판관 6인 이상의 찬성이 있어야 한다.\\n②헌법재판소는 법률에 저촉되지 아니하는 범위안에서 심판에 관한 절차, 내부규율과 사무처리에 관한 규칙을 제정할 수 있다.\\n③헌법재판소의 조직과 운영 기타 필요한 사항은 법률로 정한다.\\n\\n       제7장 선거관리\\n  제114조 ① 선거와 국민투표의 공정한 관리 및 정당에 관한 사무를 처리하기 위하여 선거관리위원회를 둔다.\\n②중앙선거관리위원회는 대통령이 임명하는 3인, 국회에서 선출하는 3인과 대법원장이 지명하는 3인의 위원으로 구성한다. 위원장은 위원중에서 호선한다.\\n③위원의 임기는 6년으로 한다.\\n④위원은 정당에 가입하거나 정치에 관여할 수 없다.\\n⑤위원은 탄핵 또는 금고 이상의 형의 선고에 의하지 아니하고는 파면되지 아니한다.\\n⑥중앙선거관리위원회는 법령의 범위안에서 선거관리·국민투표관리 또는 정당사무에 관한 규칙을 제정할 수 있으며, 법률에 저촉되지 아니하는 범위안에서 내부규율에 관한 규칙을 제정할 수 있다.\\n⑦각급 선거관리위원회의 조직·직무범위 기타 필요한 사항은 법률로 정한다.\\n  제115조 ① 각급 선거관리위원회는 선거인명부의 작성등 선거사무와 국민투표사무에 관하여 관계 행정기관에 필요한 지시를 할 수 있다.\\n②제1항의 지시를 받은 당해 행정기관은 이에 응하여야 한다.\\n  제116조 ① 선거운동은 각급 선거관리위원회의 관리하에 법률이 정하는 범위안에서 하되, 균등한 기회가 보장되어야 한다.\\n②선거에 관한 경비는 법률이 정하는 경우를 제외하고는 정당 또는 후보자에게 부담시킬 수 없다.\\n\\n       제8장 지방자치\\n  제117조 ① 지방자치단체는 주민의 복리에 관한 사무를 처리하고 재산을 관리하며, 법령의 범위안에서 자치에 관한 규정을 제정할 수 있다.\\n②지방자치단체의 종류는 법률로 정한다.\\n  제118조 ① 지방자치단체에 의회를 둔다.\\n②지방의회의 조직·권한·의원선거와 지방자치단체의 장의 선임방법 기타 지방자치단체의 조직과 운영에 관한 사항은 법률로 정한다.\\n\\n       제9장 경제\\n  제119조 ① 대한민국의 경제질서는 개인과 기업의 경제상의 자유와 창의를 존중함을 기본으로 한다.\\n②국가는 균형있는 국민경제의 성장 및 안정과 적정한 소득의 분배를 유지하고, 시장의 지배와 경제력의 남용을 방지하며, 경제주체간의 조화를 통한 경제의 민주화를 위하여 경제에 관한 규제와 조정을 할 수 있다.\\n  제120조 ① 광물 기타 중요한 지하자원·수산자원·수력과 경제상 이용할 수 있는 자연력은 법률이 정하는 바에 의하여 일정한 기간 그 채취·개발 또는 이용을 특허할 수 있다.\\n②국토와 자원은 국가의 보호를 받으며, 국가는 그 균형있는 개발과 이용을 위하여 필요한 계획을 수립한다.\\n  제121조 ① 국가는 농지에 관하여 경자유전의 원칙이 달성될 수 있도록 노력하여야 하며, 농지의 소작제도는 금지된다.\\n②농업생산성의 제고와 농지의 합리적인 이용을 위하거나 불가피한 사정으로 발생하는 농지의 임대차와 위탁경영은 법률이 정하는 바에 의하여 인정된다.\\n  제122조 국가는 국민 모두의 생산 및 생활의 기반이 되는 국토의 효율적이고 균형있는 이용·개발과 보전을 위하여 법률이 정하는 바에 의하여 그에 관한 필요한 제한과 의무를 과할 수 있다.\\n  제123조 ① 국가는 농업 및 어업을 보호·육성하기 위하여 농·어촌종합개발과 그 지원등 필요한 계획을 수립·시행하여야 한다.\\n②국가는 지역간의 균형있는 발전을 위하여 지역경제를 육성할 의무를 진다.\\n③국가는 중소기업을 보호·육성하여야 한다.\\n④국가는 농수산물의 수급균형과 유통구조의 개선에 노력하여 가격안정을 도모함으로써 농·어민의 이익을 보호한다.\\n⑤국가는 농·어민과 중소기업의 자조조직을 육성하여야 하며, 그 자율적 활동과 발전을 보장한다.\\n  제124조 국가는 건전한 소비행위를 계도하고 생산품의 품질향상을 촉구하기 위한 소비자보호운동을 법률이 정하는 바에 의하여 보장한다.\\n  제125조 국가는 대외무역을 육성하며, 이를 규제·조정할 수 있다.\\n  제126조 국방상 또는 국민경제상 긴절한 필요로 인하여 법률이 정하는 경우를 제외하고는, 사영기업을 국유 또는 공유로 이전하거나 그 경영을 통제 또는 관리할 수 없다.\\n  제127조 ① 국가는 과학기술의 혁신과 정보 및 인력의 개발을 통하여 국민경제의 발전에 노력하여야 한다.\\n②국가는 국가표준제도를 확립한다.\\n③대통령은 제1항의 목적을 달성하기 위하여 필요한 자문기구를 둘 수 있다.\\n       제10장 헌법개정\\n  제128조 ① 헌법개정은 국회재적의원 과반수 또는 대통령의 발의로 제안된다.\\n②대통령의 임기연장 또는 중임변경을 위한 헌법개정은 그 헌법개정 제안 당시의 대통령에 대하여는 효력이 없다.\\n  제129조 제안된 헌법개정안은 대통령이 20일 이상의 기간 이를 공고하여야 한다.\\n  제130조 ① 국회는 헌법개정안이 공고된 날로부터 60일 이내에 의결하여야 하며, 국회의 의결은 재적의원 3분의 2 이상의 찬성을 얻어야 한다.\\n②헌법개정안은 국회가 의결한 후 30일 이내에 국민투표에 붙여 국회의원선거권자 과반수의 투표와 투표자 과반수의 찬성을 얻어야 한다.\\n③헌법개정안이 제2항의 찬성을 얻은 때에는 헌법개정은 확정되며, 대통령은 즉시 이를 공포하여야 한다.\\n\\n 펼침  부칙 <헌법 제10호, 1987.10.29.>  부칙보기\\n\\n제1조 이 헌법은 1988년 2월 25일부터 시행한다. 다만, 이 헌법을 시행하기 위하여 필요한 법률의 제정·개정과 이 헌법에 의한 대통령 및 국회의원의 선거 기타 이 헌법시행에 관한 준비는 이 헌법시행 전에 할 수 있다.\\n제2조 ①이 헌법에 의한 최초의 대통령선거는 이 헌법시행일 40일 전까지 실시한다.\\n②이 헌법에 의한 최초의 대통령의 임기는 이 헌법시행일로부터 개시한다.\\n제3조 ①이 헌법에 의한 최초의 국회의원선거는 이 헌법공포일로부터 6월 이내에 실시하며, 이 헌법에 의하여 선출된 최초의 국회의원의 임기는 국회의원선거후 이 헌법에 의한 국회의 최초의 집회일로부터 개시한다.\\n②이 헌법공포 당시의 국회의원의 임기는 제1항에 의한 국회의 최초의 집회일 전일까지로 한다.\\n제4조 ①이 헌법시행 당시의 공무원과 정부가 임명한 기업체의 임원은 이 헌법에 의하여 임명된 것으로 본다. 다만, 이 헌법에 의하여 선임방법이나 임명권자가 변경된 공무원과 대법원장 및 감사원장은 이 헌법에 의하여 후임자가 선임될 때까지 그 직무를 행하며, 이 경우 전임자인 공무원의 임기는 후임자가 선임되는 전일까지로 한다.\\n②이 헌법시행 당시의 대법원장과 대법원판사가 아닌 법관은 제1항 단서의 규정에 불구하고 이 헌법에 의하여 임명된 것으로 본다.\\n③이 헌법중 공무원의 임기 또는 중임제한에 관한 규정은 이 헌법에 의하여 그 공무원이 최초로 선출 또는 임명된 때로부터 적용한다.\\n제5조 이 헌법시행 당시의 법령과 조약은 이 헌법에 위배되지 아니하는 한 그 효력을 지속한다.\\n제6조 이 헌법시행 당시에 이 헌법에 의하여 새로 설치될 기관의 권한에 속하는 직무를 행하고 있는 기관은 이 헌법에 의하여 새로운 기관이 설치될 때까지 존속하며 그 직무를 행한다.\\n'"
      ]
     },
     "execution_count": 13,
     "metadata": {},
     "output_type": "execute_result"
    }
   ],
   "source": [
    "kolaw.open('constitution.txt').read()\n"
   ]
  },
  {
   "cell_type": "code",
   "execution_count": 10,
   "id": "successful-johnson",
   "metadata": {
    "scrolled": true
   },
   "outputs": [
    {
     "data": {
      "text/plain": [
       "'지방공무원법 일부개정법률안\\n\\n(정의화의원 대표발의 )\\n\\n 의 안\\n 번 호\\n\\n9890\\n\\n발의연월일 : 2010.  11.  12.  \\n\\n발  의  자 : 정의화․이명수․김을동 \\n\\n이사철․여상규․안규백\\n\\n황영철․박영아․김정훈\\n\\n김학송 의원(10인)\\n\\n제안이유 및 주요내용\\n\\n  초등학교 저학년의 경우에도 부모의 따뜻한 사랑과 보살핌이 필요\\n\\n한 나이이나, 현재 공무원이 자녀를 양육하기 위하여 육아휴직을 할 \\n\\n수 있는 자녀의 나이는 만 6세 이하로 되어 있어 초등학교 저학년인 \\n\\n자녀를 돌보기 위해서는 해당 부모님은 일자리를 그만 두어야 하고 \\n\\n이는 곧 출산의욕을 저하시키는 문제로 이어질 수 있을 것임.\\n\\n  따라서 육아휴직이 가능한 자녀의 연령을 만 8세 이하로 개정하려\\n\\n는 것임(안 제63조제2항제4호).\\n\\n- 1 -\\n\\n\\x0c법률  제        호\\n\\n지방공무원법 일부개정법률안\\n\\n지방공무원법 일부를 다음과 같이 개정한다.\\n\\n제63조제2항제4호 중 “만 6세 이하의 초등학교 취학 전 자녀를”을 “만 \\n\\n8세 이하(취학 중인 경우에는 초등학교 2학년 이하를 말한다)의 자녀를”\\n\\n로 한다.\\n\\n부      칙\\n\\n이 법은 공포한 날부터 시행한다.\\n\\n- 3 -\\n\\n\\x0c신 ·구조문대비표\\n\\n현      행\\n\\n개   정   안\\n\\n제63조(휴직) ① (생  략)\\n\\n제63조(휴직) ① (현행과 같음)\\n\\n  ② 공무원이 다음 각 호의 어\\n\\n  ② -------------------------\\n\\n느 하나에 해당하는 사유로 휴\\n\\n----------------------------\\n\\n직을 원하면 임용권자는 휴직\\n\\n----------------------------\\n\\n을 명할 수 있다. 다만, 제4호\\n\\n-------------.---------------\\n\\n의 경우에는 대통령령으로 정\\n\\n----------------------------\\n\\n하는 특별한 사정이 없으면 휴\\n\\n----------------------------\\n\\n직을 명하여야 한다.\\n\\n--------------.\\n\\n  1. ∼ 3. (생  략)\\n\\n  1. ∼ 3. (현행과 같음)\\n\\n  4. 만 6세 이하의 초등학교 취\\n\\n  4. 만 8세 이하(취학 중인 경우\\n\\n학 전 자녀를 양육하기 위하\\n\\n에는 초등학교 2학년 이하를 \\n\\n여 필요하거나 여자공무원이 \\n\\n말한다)의 자녀를 ----------\\n\\n임신 또는 출산하게 되었을 \\n\\n---------------------------\\n\\n때\\n\\n---------------------------\\n\\n  5.⋅6. (생  략)\\n\\n  ③⋅④ (생  략)\\n\\n--------\\n\\n  5.⋅6. (현행과 같음)\\n\\n  ③⋅④ (현행과 같음)\\n\\n- 5 -\\n\\n\\x0c지방공무원법 일부개정법률안 등 비용추계서 미첨부사유서\\n1.  재정수반요인\\n\\n개정안에서 ｢국가공무원법｣  제71조제2항제4호 중 국가공무원의 육아\\n\\n휴직 가능 자녀의 연령을 만6세 이하에서 만8세 이하로 하고, ｢지방공\\n\\n무원법｣ 제63조제2항제4호 중 지방공무원의 육아휴직 가능 자녀의 연\\n\\n령을 만6세 이하에서 만8세 이하로 하고, ｢교육공무원법｣ 제44조제1항\\n\\n제7조 중 교육공무원의 육아휴직 가능 자녀의 연령을 만6세 이하에서 \\n\\n만8세 이하로 하고, ｢남녀고용평등과 일․가정 양립지원에 관한 법률｣ \\n\\n제19조제1항 중 근로자 육아휴직 가능 자녀연령을 만6세 이하에서 만\\n\\n8세 이하로 조정함에 따라 추가 재정소요가 예상됨.\\n\\n2.  미첨부  근거  규정\\n｢의안의 비용추계에 관한 규칙｣ 제3조제1항 단서 중 제1호(예상되는 비용이 연평균  10억원 미만\\n이거나  한시적인  경비로서  총  30억원  미만인  경우)에  해당함.\\n\\n3.  미첨부  사유\\n\\n개정안에서 국가․지방․교육공무원 및 근로자가 육아휴직을 신청할 \\n\\n수 있는 자녀의 연령을 만6세 이하에서 만8세 이하로 상향조정함에 \\n\\n따라 추가 재정소요가 예상된다. 동 법률 개정안이 2011년에 시행된다\\n\\n고 가정한 경우, 2010년 현재 자녀의 연령이 7세이고 육아휴직을 신청\\n\\n- 7 -\\n\\n\\x0c- 8 -\\n\\n하지 않은 국가․지방․교육공무원 및 근로자가 대상이 된다.\\n\\n대상연령의 확대됨에 따라 육아휴직신청자의 수가 어느 정도 늘어날 \\n\\n것으로 예상된다. 이 경우 발생하는 비용은 현행법에 따르면 월50만원\\n\\n이나 현재 관련법령 개정이 추진되고 있으며, 이에 따라 2011년에는 \\n\\n육아휴직자가 지급받는 월급여액에 비례하여 육아휴직급여가 지급되\\n\\n기 때문에 법령개정을 가정하고 추계한다. 이러한 경우 육아휴직급여\\n\\n액은 육아휴직자가 지급받는 월급여의 40%에 해당한다. 육아휴직자가 \\n\\n발생한 경우 발생하는 비용은 대체인력 고용인건비와 육아휴직자가 \\n\\n받는 월급여액의 40%이다. 이와 대비하여 육아휴직자에게 지급하던 \\n\\n임금은 더 이상 발생하지 않는다. 따라서 실제 발생하는 순비용은 육\\n\\n아휴직자에게 지급하던 월 급여액과 연령 확대에 따라 발생하는 비용\\n\\n인 육아휴직자가 받던 월급여액의 40%와 대체인력 고용인건비의 차\\n\\n액인데 이 값이 0보다 크면 추가 재정소요는 발생하지 않는다고 볼 \\n\\n수 있다.\\n\\n추가비용 발생여부를 정확하게 알아보기 위하여 비용에 대한 수리모\\n\\n델을 만들고 이에 따라 비용발생 여부를 알아보기로 하자. 모델에 사\\n\\n용되는 변수를 다음과 같이 정의한다.\\n\\n발생비용 : N×p×X + N×육아휴직급여액 - N×P\\n\\nN\\n\\nP\\n\\n: 육아휴직대상자의 수\\n\\n: 육아휴직대상자의 월급여액\\n\\n\\x0cp\\n\\nX\\n\\n: 육아휴직자가 발생한 경우 대체 고용할 확률\\n\\n: 대체 고용한 인력에게 지급하는 월급여액\\n\\n위의 수식에서 육아휴직급여액은 육아휴직자 월급여액의 40%까지 지\\n\\n급할 예정이므로 육아휴직급여액은 P×40%이다. 육아휴직자가 발생한 \\n\\n경우 대체 고용할 확률 p는 고용노동부의 육아휴직 관련 자료를 이용\\n\\n한다. 고용노동부에 따르면 2011년의 경우 육아휴직급여 대상자는 \\n\\n40,923명이며, 육아휴직에 따른 대체인력 고용 예상인원은 2,836명이\\n\\n다. 2007년부터 2011년까지의 현황을 정리하면 다음의 [표]와 같다.\\n\\n[표]  육아휴직급여  수급자의  수  및  대체인력  고용  현황:  2007~2011년\\n\\n(단위:  명,  % )\\n\\n2007\\n\\n2008\\n\\n2009\\n\\n2010\\n\\n2011\\n\\n평균\\n\\n육아휴직급여  수급자(A)\\n\\n21,185\\n\\n29,145\\n\\n35,400\\n\\n41,291\\n\\n43,899\\n\\n34,184\\n\\n대체인력  채용(B)\\n\\n796\\n\\n1,658\\n\\n1,957\\n\\n2,396\\n\\n2,836\\n\\n1,929\\n\\n비  율(B/A)\\n\\n3.8\\n\\n5.7\\n\\n5.5\\n\\n5.8\\n\\n6.5\\n\\n5.6\\n\\n자료: 고용노동부  자료를  바탕으로  국회예산정책처  작성\\n\\n위의 [표]의 자료에 따라 육아휴직자가 발생한 경우 대체 고용할 확률 \\n\\np의 값은 5.6%라고 가정한다. 그리고 비용이 발생한다고 가정하여 위\\n\\n의 수식을 다시 작성하면 다음의 수식과 같다.\\n\\nN×p×X + N×육아휴직급여액 - N×P > 0\\n\\n(1)\\n\\n- 9 -\\n\\n\\x0c- 10 -\\n\\nN×5.6%×X + N×P×40% - N×P > 0\\n\\n0.056×X > 0.6P\\n\\nX > 10.7×P\\n\\n(2)\\n\\n(3)\\n\\n(5)\\n\\n위의 수식에 육아휴직자가 받는 월 급여액을 대입하여 대체고용인력\\n\\n자에게 지급하는 월 급여액을 추정하여 보자. 육아휴직자가 월 200만\\n\\n원을 받는다고 가정하면, 대체고용인력자에게 육아휴직자가 받는 월 \\n\\n급여액의 10.7배에 달하는 월 21,428,571원 이상을 지급해야 추가 비용\\n\\n이 발생한다. 대체고용인력자에게 육아휴직자보다 더 많은 월급여액을 \\n\\n주지는 않을 것이고 그리고 10여배 이상 월급을 주지도 않을 것이기 \\n\\n때문에 추가 비용이 발생한다고 보기 힘들다. 위의 수식에서 대체인력 \\n\\n고용확률 p를 20%로 가정하더라도(이 경우 X > 3×P) 200만원 받는 \\n\\n육아휴직자 대체인력에게 월 600만원 이상을 지급해야 추가 비용이 \\n\\n발생한다.\\n\\n행정안전부의 통계자료(행정안전부 통계연감)에서는 지방공무원의 육\\n\\n아휴직 현황자료를 보여주고 있다. 여기서 육아휴직자가 발생한 경우 \\n\\n대체인력을 주로 임용대기자 또는 일용직을 활용하는 것으로 보인다. \\n\\n따라서 공무원의 경우에도 [표]에서 보여주는 일반기업체의 대체인력 \\n\\n고용확률과 차이는 크지 않을 것으로 보인다.\\n\\n이상의 논의를 바탕으로 육아휴직기간을 만6에서 만8세로 연장하더라\\n\\n도 법률 개정에 따른 추가 비용은 발생하지 않을 것으로 예상된다.\\n\\n\\x0c4.  작성자\\n\\n국회예산정책처 법안비용추계1팀\\n\\n팀      장   정 문 종\\n\\n예산분석관   김 태 완\\n\\n(02-788-4649, tanzania@assembly.go.kr)\\n\\n- 11 -\\n\\n\\x0c'"
      ]
     },
     "execution_count": 10,
     "metadata": {},
     "output_type": "execute_result"
    }
   ],
   "source": [
    "kobill.open('1809890.txt').read()"
   ]
  },
  {
   "cell_type": "code",
   "execution_count": 14,
   "id": "listed-exercise",
   "metadata": {},
   "outputs": [
    {
     "ename": "ModuleNotFoundError",
     "evalue": "No module named 'pandas'",
     "output_type": "error",
     "traceback": [
      "\u001b[1;31m---------------------------------------------------------------------------\u001b[0m",
      "\u001b[1;31mModuleNotFoundError\u001b[0m                       Traceback (most recent call last)",
      "\u001b[1;32m<ipython-input-14-38d4b0363d82>\u001b[0m in \u001b[0;36m<module>\u001b[1;34m\u001b[0m\n\u001b[1;32m----> 1\u001b[1;33m \u001b[1;32mimport\u001b[0m \u001b[0mpandas\u001b[0m\u001b[1;33m\u001b[0m\u001b[1;33m\u001b[0m\u001b[0m\n\u001b[0m",
      "\u001b[1;31mModuleNotFoundError\u001b[0m: No module named 'pandas'"
     ]
    }
   ],
   "source": [
    "import pandas"
   ]
  },
  {
   "cell_type": "code",
   "execution_count": 15,
   "id": "light-soviet",
   "metadata": {
    "scrolled": true
   },
   "outputs": [
    {
     "name": "stdout",
     "output_type": "stream",
     "text": [
      "Collecting package metadata (current_repodata.json): ...working... done\n",
      "\n",
      "Note: you may need to restart the kernel to use updated packages.Solving environment: ...working... failed with initial frozen solve. Retrying with flexible solve.\n",
      "Solving environment: ...working... failed with repodata from current_repodata.json, will retry with next repodata source.\n",
      "\n"
     ]
    },
    {
     "name": "stderr",
     "output_type": "stream",
     "text": [
      "\n",
      "\n",
      "==> WARNING: A newer version of conda exists. <==\n",
      "  current version: 4.8.3\n",
      "  latest version: 4.9.2\n",
      "\n",
      "Please update conda by running\n",
      "\n"
     ]
    },
    {
     "name": "stdout",
     "output_type": "stream",
     "text": [
      "Collecting package metadata (repodata.json): ...working... done\n",
      "Solving environment: ...working... done\n",
      "\n",
      "## Package Plan ##\n",
      "\n",
      "  environment location: C:\\Users\\gpwl0\\.conda\\envs\\pr_tensorflow\n",
      "\n",
      "  added / updated specs:\n",
      "    - pandas\n",
      "\n",
      "\n",
      "The following packages will be downloaded:\n",
      "\n",
      "    package                    |            build\n",
      "    ---------------------------|-----------------\n",
      "    mkl-service-2.3.0          |   py39h196d8e1_0          47 KB\n",
      "    mkl_fft-1.3.0              |   py39h46781fe_0         134 KB\n",
      "    mkl_random-1.0.2           |   py39h848d8c7_0         261 KB\n",
      "    numpy-1.19.2               |   py39h729668d_0          22 KB\n",
      "    numpy-base-1.19.2          |   py39hbd0edd7_0         3.8 MB\n",
      "    pandas-1.2.3               |   py39hf11a4ad_0         7.9 MB\n",
      "    pytz-2021.1                |     pyhd3eb1b0_0         181 KB\n",
      "    ------------------------------------------------------------\n",
      "                                           Total:        12.3 MB\n",
      "\n",
      "The following NEW packages will be INSTALLED:\n",
      "\n",
      "  blas               pkgs/main/win-64::blas-1.0-mkl\n",
      "  intel-openmp       pkgs/main/win-64::intel-openmp-2020.2-254\n",
      "  mkl                pkgs/main/win-64::mkl-2020.2-256\n",
      "  mkl-service        pkgs/main/win-64::mkl-service-2.3.0-py39h196d8e1_0\n",
      "  mkl_fft            pkgs/main/win-64::mkl_fft-1.3.0-py39h46781fe_0\n",
      "  mkl_random         pkgs/main/win-64::mkl_random-1.0.2-py39h848d8c7_0\n",
      "  numpy              pkgs/main/win-64::numpy-1.19.2-py39h729668d_0\n",
      "  numpy-base         pkgs/main/win-64::numpy-base-1.19.2-py39hbd0edd7_0\n",
      "  pandas             pkgs/main/win-64::pandas-1.2.3-py39hf11a4ad_0\n",
      "  pytz               pkgs/main/noarch::pytz-2021.1-pyhd3eb1b0_0\n",
      "\n",
      "\n",
      "\n",
      "Downloading and Extracting Packages\n",
      "\n",
      "mkl_fft-1.3.0        | 134 KB    |            |   0% \n",
      "mkl_fft-1.3.0        | 134 KB    | ########## | 100% \n",
      "\n",
      "pandas-1.2.3         | 7.9 MB    |            |   0% \n"
     ]
    },
    {
     "name": "stderr",
     "output_type": "stream",
     "text": [
      "    $ conda update -n base -c defaults conda\n",
      "\n",
      "\n"
     ]
    },
    {
     "name": "stdout",
     "output_type": "stream",
     "text": [
      "pandas-1.2.3         | 7.9 MB    | 8          |   8% \n",
      "pandas-1.2.3         | 7.9 MB    | #9         |  20% \n",
      "pandas-1.2.3         | 7.9 MB    | ###5       |  35% \n",
      "pandas-1.2.3         | 7.9 MB    | ####9      |  50% \n",
      "pandas-1.2.3         | 7.9 MB    | ######3    |  64% \n",
      "pandas-1.2.3         | 7.9 MB    | #######7   |  77% \n",
      "pandas-1.2.3         | 7.9 MB    | #########  |  90% \n",
      "pandas-1.2.3         | 7.9 MB    | ########## | 100% \n",
      "\n",
      "pytz-2021.1          | 181 KB    |            |   0% \n",
      "pytz-2021.1          | 181 KB    | ########## | 100% \n",
      "\n",
      "mkl_random-1.0.2     | 261 KB    |            |   0% \n",
      "mkl_random-1.0.2     | 261 KB    | ########## | 100% \n",
      "\n",
      "numpy-base-1.19.2    | 3.8 MB    |            |   0% \n",
      "numpy-base-1.19.2    | 3.8 MB    | ##1        |  22% \n",
      "numpy-base-1.19.2    | 3.8 MB    | ####9      |  50% \n",
      "numpy-base-1.19.2    | 3.8 MB    | #######8   |  78% \n",
      "numpy-base-1.19.2    | 3.8 MB    | ########## | 100% \n",
      "\n",
      "numpy-1.19.2         | 22 KB     |            |   0% \n",
      "numpy-1.19.2         | 22 KB     | ########## | 100% \n",
      "\n",
      "mkl-service-2.3.0    | 47 KB     |            |   0% \n",
      "mkl-service-2.3.0    | 47 KB     | ########## | 100% \n",
      "Preparing transaction: ...working... done\n",
      "Verifying transaction: ...working... done\n",
      "Executing transaction: ...working... done\n"
     ]
    }
   ],
   "source": [
    "conda install pandas"
   ]
  },
  {
   "cell_type": "code",
   "execution_count": 17,
   "id": "refined-manual",
   "metadata": {},
   "outputs": [],
   "source": [
    "import numpy\n",
    "import pandas"
   ]
  },
  {
   "cell_type": "code",
   "execution_count": 19,
   "id": "careful-harvest",
   "metadata": {},
   "outputs": [
    {
     "name": "stdout",
     "output_type": "stream",
     "text": [
      "Collecting package metadata (current_repodata.json): ...working... done\n",
      "Solving environment: ...working... done\n",
      "\n",
      "## Package Plan ##\n",
      "\n",
      "  environment location: C:\\Users\\gpwl0\\.conda\\envs\\pr_tensorflow\n",
      "Note: you may need to restart the kernel to use updated packages.\n",
      "\n",
      "  added / updated specs:\n",
      "    - matplotlib\n",
      "\n",
      "\n",
      "The following packages will be downloaded:\n",
      "\n",
      "\n"
     ]
    },
    {
     "name": "stderr",
     "output_type": "stream",
     "text": [
      "\n",
      "\n",
      "==> WARNING: A newer version of conda exists. <==\n",
      "  current version: 4.8.3\n",
      "  latest version: 4.9.2\n",
      "\n",
      "Please update conda by running\n",
      "\n",
      "    $ conda update -n base -c defaults conda\n",
      "\n",
      "\n"
     ]
    },
    {
     "name": "stdout",
     "output_type": "stream",
     "text": [
      "    package                    |            build\n",
      "    ---------------------------|-----------------\n",
      "    cycler-0.10.0              |   py39haa95532_0          16 KB\n",
      "    kiwisolver-1.3.1           |   py39hd77b12b_0          52 KB\n",
      "    libtiff-4.2.0              |       he0120a3_0         745 KB\n",
      "    lz4-c-1.9.3                |       h2bbff1b_0         131 KB\n",
      "    matplotlib-3.3.4           |   py39haa95532_0          27 KB\n",
      "    matplotlib-base-3.3.4      |   py39h49ac443_0         5.1 MB\n",
      "    olefile-0.46               |             py_0          33 KB\n",
      "    pillow-8.1.2               |   py39h4fa10fc_0         670 KB\n",
      "    pyqt-5.9.2                 |   py39hd77b12b_6         3.3 MB\n",
      "    sip-4.19.13                |   py39hd77b12b_0         262 KB\n",
      "    xz-5.2.5                   |       h62dcd97_0         244 KB\n",
      "    ------------------------------------------------------------\n",
      "                                           Total:        10.6 MB\n",
      "\n",
      "The following NEW packages will be INSTALLED:\n",
      "\n",
      "  cycler             pkgs/main/win-64::cycler-0.10.0-py39haa95532_0\n",
      "  freetype           pkgs/main/win-64::freetype-2.10.4-hd328e21_0\n",
      "  icu                pkgs/main/win-64::icu-58.2-ha925a31_3\n",
      "  jpeg               pkgs/main/win-64::jpeg-9b-hb83a4c4_2\n",
      "  kiwisolver         pkgs/main/win-64::kiwisolver-1.3.1-py39hd77b12b_0\n",
      "  libpng             pkgs/main/win-64::libpng-1.6.37-h2a8f88b_0\n",
      "  libtiff            pkgs/main/win-64::libtiff-4.2.0-he0120a3_0\n",
      "  lz4-c              pkgs/main/win-64::lz4-c-1.9.3-h2bbff1b_0\n",
      "  matplotlib         pkgs/main/win-64::matplotlib-3.3.4-py39haa95532_0\n",
      "  matplotlib-base    pkgs/main/win-64::matplotlib-base-3.3.4-py39h49ac443_0\n",
      "  olefile            pkgs/main/noarch::olefile-0.46-py_0\n",
      "  pillow             pkgs/main/win-64::pillow-8.1.2-py39h4fa10fc_0\n",
      "  pyqt               pkgs/main/win-64::pyqt-5.9.2-py39hd77b12b_6\n",
      "  qt                 pkgs/main/win-64::qt-5.9.7-vc14h73c81de_0\n",
      "  sip                pkgs/main/win-64::sip-4.19.13-py39hd77b12b_0\n",
      "  tk                 pkgs/main/win-64::tk-8.6.10-he774522_0\n",
      "  xz                 pkgs/main/win-64::xz-5.2.5-h62dcd97_0\n",
      "  zlib               pkgs/main/win-64::zlib-1.2.11-h62dcd97_4\n",
      "  zstd               pkgs/main/win-64::zstd-1.4.5-h04227a9_0\n",
      "\n",
      "\n",
      "\n",
      "Downloading and Extracting Packages\n",
      "\n",
      "olefile-0.46         | 33 KB     |            |   0% \n",
      "olefile-0.46         | 33 KB     | ########## | 100% \n",
      "\n",
      "matplotlib-3.3.4     | 27 KB     |            |   0% \n",
      "matplotlib-3.3.4     | 27 KB     | ########## | 100% \n",
      "\n",
      "lz4-c-1.9.3          | 131 KB    |            |   0% \n",
      "lz4-c-1.9.3          | 131 KB    | ########## | 100% \n",
      "\n",
      "pyqt-5.9.2           | 3.3 MB    |            |   0% \n",
      "pyqt-5.9.2           | 3.3 MB    | ##1        |  22% \n",
      "pyqt-5.9.2           | 3.3 MB    | #####1     |  52% \n",
      "pyqt-5.9.2           | 3.3 MB    | #######8   |  79% \n",
      "pyqt-5.9.2           | 3.3 MB    | ########## | 100% \n",
      "\n",
      "xz-5.2.5             | 244 KB    |            |   0% \n",
      "xz-5.2.5             | 244 KB    | ########## | 100% \n",
      "\n",
      "matplotlib-base-3.3. | 5.1 MB    |            |   0% \n",
      "matplotlib-base-3.3. | 5.1 MB    | #3         |  14% \n",
      "matplotlib-base-3.3. | 5.1 MB    | ###3       |  33% \n",
      "matplotlib-base-3.3. | 5.1 MB    | ####9      |  49% \n",
      "matplotlib-base-3.3. | 5.1 MB    | #######2   |  72% \n",
      "matplotlib-base-3.3. | 5.1 MB    | #########3 |  93% \n",
      "matplotlib-base-3.3. | 5.1 MB    | ########## | 100% \n",
      "\n",
      "cycler-0.10.0        | 16 KB     |            |   0% \n",
      "cycler-0.10.0        | 16 KB     | ########## | 100% \n",
      "\n",
      "pillow-8.1.2         | 670 KB    |            |   0% \n",
      "pillow-8.1.2         | 670 KB    | ########## | 100% \n",
      "\n",
      "libtiff-4.2.0        | 745 KB    |            |   0% \n",
      "libtiff-4.2.0        | 745 KB    | ########## | 100% \n",
      "\n",
      "sip-4.19.13          | 262 KB    |            |   0% \n",
      "sip-4.19.13          | 262 KB    | ########## | 100% \n",
      "\n",
      "kiwisolver-1.3.1     | 52 KB     |            |   0% \n",
      "kiwisolver-1.3.1     | 52 KB     | ########## | 100% \n",
      "Preparing transaction: ...working... done\n",
      "Verifying transaction: ...working... done\n",
      "Executing transaction: ...working... done\n"
     ]
    }
   ],
   "source": [
    "conda install matplotlib"
   ]
  },
  {
   "cell_type": "code",
   "execution_count": 20,
   "id": "eleven-number",
   "metadata": {},
   "outputs": [
    {
     "name": "stdout",
     "output_type": "stream",
     "text": [
      "\n",
      "Note: you may need to restart the kernel to use updated packages.\n",
      "Collecting package metadata (current_repodata.json): ...working... done\n",
      "Solving environment: ...working... done\n",
      "\n",
      "## Package Plan ##\n"
     ]
    },
    {
     "name": "stderr",
     "output_type": "stream",
     "text": [
      "\n",
      "EnvironmentNotWritableError: The current user does not have write permissions to the target environment.\n",
      "  environment location: C:\\ProgramData\\Anaconda3\n",
      "\n",
      "\n"
     ]
    },
    {
     "name": "stdout",
     "output_type": "stream",
     "text": [
      "\n",
      "  environment location: C:\\ProgramData\\Anaconda3\n",
      "\n",
      "  added / updated specs:\n",
      "    - conda\n",
      "\n",
      "\n",
      "The following packages will be downloaded:\n",
      "\n",
      "    package                    |            build\n",
      "    ---------------------------|-----------------\n",
      "    absl-py-0.12.0             |   py37haa95532_0         175 KB\n",
      "    aiohttp-3.7.4              |   py37h2bbff1b_1         507 KB\n",
      "    anaconda-project-0.9.1     |     pyhd3eb1b0_1         215 KB\n",
      "    astor-0.8.1                |   py37haa95532_0          47 KB\n",
      "    astroid-2.5                |   py37haa95532_1         279 KB\n",
      "    async-timeout-3.0.1        |   py37haa95532_0          14 KB\n",
      "    backports.shutil_get_terminal_size-1.0.0|     pyhd3eb1b0_3          10 KB\n",
      "    backports.tempfile-1.0     |     pyhd3eb1b0_1          11 KB\n",
      "    beautifulsoup4-4.9.3       |     pyha847dfd_0          86 KB\n",
      "    bitarray-1.7.1             |   py37h2bbff1b_1          96 KB\n",
      "    blinker-1.4                |   py37haa95532_0          23 KB\n",
      "    blosc-1.21.0               |       h19a0ad4_0         139 KB\n",
      "    bokeh-2.3.0                |   py37haa95532_0         5.8 MB\n",
      "    cachetools-4.2.1           |     pyhd3eb1b0_0          13 KB\n",
      "    cffi-1.14.5                |   py37hcd4344a_0         220 KB\n",
      "    click-7.1.2                |     pyhd3eb1b0_0          64 KB\n",
      "    comtypes-1.1.9             |py37haa95532_1002         237 KB\n",
      "    coverage-5.5               |   py37h2bbff1b_2         273 KB\n",
      "    cryptography-3.4.6         |   py37h71e12ea_0         639 KB\n",
      "    cython-0.29.22             |   py37hd77b12b_0         1.7 MB\n",
      "    dask-2021.3.0              |     pyhd3eb1b0_0           5 KB\n",
      "    dask-core-2021.3.0         |     pyhd3eb1b0_0         659 KB\n",
      "    distributed-2021.3.0       |   py37haa95532_0         1.0 MB\n",
      "    filelock-3.0.12            |     pyhd3eb1b0_1          10 KB\n",
      "    gevent-21.1.1              |   py37h2bbff1b_1         1.3 MB\n",
      "    glob2-0.7                  |     pyhd3eb1b0_0          12 KB\n",
      "    google-auth-1.28.0         |     pyhd3eb1b0_0          72 KB\n",
      "    google-auth-oauthlib-0.4.3 |     pyhd3eb1b0_0          18 KB\n",
      "    greenlet-1.0.0             |   py37hd77b12b_2          82 KB\n",
      "    grpcio-1.36.1              |   py37hc60d5dd_1         1.7 MB\n",
      "    idna-2.10                  |     pyhd3eb1b0_0          52 KB\n",
      "    imagecodecs-2021.1.11      |   py37h5da4933_1         5.8 MB\n",
      "    imagesize-1.2.0            |     pyhd3eb1b0_0           8 KB\n",
      "    iniconfig-1.1.1            |     pyhd3eb1b0_0           8 KB\n",
      "    ipywidgets-7.6.3           |     pyhd3eb1b0_1         105 KB\n",
      "    isort-5.7.0                |     pyhd3eb1b0_0          82 KB\n",
      "    joblib-1.0.1               |     pyhd3eb1b0_0         208 KB\n",
      "    jupyter_console-6.3.0      |     pyhd3eb1b0_0          23 KB\n",
      "    jupyterlab-2.2.6           |     pyhd3eb1b0_1         3.4 MB\n",
      "    jupyterlab_widgets-1.0.0   |     pyhd3eb1b0_1         109 KB\n",
      "    keras-preprocessing-1.1.2  |     pyhd3eb1b0_0          35 KB\n",
      "    keyring-22.3.0             |   py37haa95532_0          71 KB\n",
      "    kiwisolver-1.3.1           |   py37hd77b12b_0          52 KB\n",
      "    lazy-object-proxy-1.5.2    |   py37h2bbff1b_0          64 KB\n",
      "    lerc-2.2.1                 |       hd77b12b_0         114 KB\n",
      "    libdeflate-1.7             |       h2bbff1b_5          49 KB\n",
      "    libprotobuf-3.14.0         |       h23ce68f_0         1.9 MB\n",
      "    libspatialindex-1.9.3      |       h6c2663c_0         351 KB\n",
      "    llvmlite-0.36.0            |   py37h34b8924_4        12.4 MB\n",
      "    locket-0.2.1               |   py37haa95532_1          10 KB\n",
      "    markdown-3.3.4             |   py37haa95532_0         144 KB\n",
      "    matplotlib-3.3.4           |   py37haa95532_0          27 KB\n",
      "    matplotlib-base-3.3.4      |   py37h49ac443_0         5.1 MB\n",
      "    mkl_fft-1.3.0              |   py37h46781fe_0         131 KB\n",
      "    mock-4.0.3                 |     pyhd3eb1b0_0          29 KB\n",
      "    more-itertools-8.7.0       |     pyhd3eb1b0_0          42 KB\n",
      "    msgpack-python-1.0.2       |   py37h59b6b97_1          75 KB\n",
      "    multidict-5.1.0            |   py37h2bbff1b_2          85 KB\n",
      "    numba-0.53.0               |   py37hf11a4ad_0         3.2 MB\n",
      "    numexpr-2.7.3              |   py37hcbcaa1e_0         123 KB\n",
      "    openpyxl-3.0.7             |     pyhd3eb1b0_0         159 KB\n",
      "    pandas-1.2.3               |   py37hf11a4ad_0         7.7 MB\n",
      "    path-15.1.2                |   py37haa95532_0          37 KB\n",
      "    pillow-8.1.2               |   py37h4fa10fc_0         663 KB\n",
      "    pip-21.0.1                 |   py37haa95532_0         1.8 MB\n",
      "    pkginfo-1.7.0              |   py37haa95532_0          59 KB\n",
      "    pluggy-0.13.1              |   py37haa95532_0          34 KB\n",
      "    protobuf-3.14.0            |   py37hd77b12b_1         240 KB\n",
      "    psutil-5.8.0               |   py37h2bbff1b_1         345 KB\n",
      "    ptyprocess-0.7.0           |     pyhd3eb1b0_2          17 KB\n",
      "    py-1.10.0                  |     pyhd3eb1b0_0          76 KB\n",
      "    pyerfa-1.7.2               |   py37h2bbff1b_0         298 KB\n",
      "    pylint-2.7.2               |   py37haa95532_1         465 KB\n",
      "    pyopenssl-20.0.1           |     pyhd3eb1b0_1          49 KB\n",
      "    pytest-6.2.2               |   py37haa95532_2         452 KB\n",
      "    python-libarchive-c-2.9    |     pyhd3eb1b0_0          46 KB\n",
      "    pyyaml-5.4.1               |   py37h2bbff1b_1         147 KB\n",
      "    qtawesome-1.0.2            |     pyhd3eb1b0_0         760 KB\n",
      "    qtconsole-5.0.2            |     pyhd3eb1b0_0          97 KB\n",
      "    requests-2.25.1            |     pyhd3eb1b0_0          52 KB\n",
      "    rsa-4.7.2                  |     pyhd3eb1b0_1          28 KB\n",
      "    scikit-learn-0.24.1        |   py37hf11a4ad_0         4.7 MB\n",
      "    scipy-1.6.1                |   py37h14eb087_0        12.9 MB\n",
      "    seaborn-0.11.1             |     pyhd3eb1b0_0         212 KB\n",
      "    setuptools-52.0.0          |   py37haa95532_0         711 KB\n",
      "    singledispatch-3.6.1       |  pyhd3eb1b0_1001          13 KB\n",
      "    snowballstemmer-2.1.0      |     pyhd3eb1b0_0          62 KB\n",
      "    sortedcollections-2.1.0    |     pyhd3eb1b0_0          12 KB\n",
      "    soupsieve-2.2              |     pyhd3eb1b0_0          32 KB\n",
      "    sphinx-3.5.2               |     pyhd3eb1b0_0         1.1 MB\n",
      "    sphinxcontrib-applehelp-1.0.2|     pyhd3eb1b0_0          29 KB\n",
      "    sphinxcontrib-devhelp-1.0.2|     pyhd3eb1b0_0          23 KB\n",
      "    sphinxcontrib-htmlhelp-1.0.3|     pyhd3eb1b0_0          28 KB\n",
      "    sphinxcontrib-jsmath-1.0.1 |     pyhd3eb1b0_0           8 KB\n",
      "    sphinxcontrib-qthelp-1.0.3 |     pyhd3eb1b0_0          26 KB\n",
      "    sphinxcontrib-serializinghtml-1.1.4|     pyhd3eb1b0_0          24 KB\n",
      "    sqlalchemy-1.3.23          |   py37h2bbff1b_0         1.5 MB\n",
      "    statsmodels-0.12.2         |   py37h2bbff1b_0         8.1 MB\n",
      "    sympy-1.7.1                |   py37haa95532_0         8.8 MB\n",
      "    tensorboard-2.4.0          |     pyhc547734_0         8.8 MB\n",
      "    termcolor-1.1.0            |   py37haa95532_1           9 KB\n",
      "    tifffile-2021.3.16         |     pyhd3eb1b0_1         132 KB\n",
      "    toolz-0.11.1               |     pyhd3eb1b0_0          46 KB\n",
      "    tqdm-4.59.0                |     pyhd3eb1b0_1          93 KB\n",
      "    typed-ast-1.4.2            |   py37h2bbff1b_1         138 KB\n",
      "    typing-extensions-3.7.4.3  |       hd3eb1b0_0          12 KB\n",
      "    typing_extensions-3.7.4.3  |     pyh06a4308_0          28 KB\n",
      "    urllib3-1.26.4             |     pyhd3eb1b0_0         105 KB\n",
      "    watchdog-1.0.2             |   py37haa95532_1         105 KB\n",
      "    xlrd-2.0.1                 |     pyhd3eb1b0_0          90 KB\n",
      "    xlsxwriter-1.3.7           |     pyhd3eb1b0_0         105 KB\n",
      "    xlwings-0.23.0             |   py37haa95532_0         857 KB\n",
      "    yapf-0.31.0                |     pyhd3eb1b0_0         126 KB\n",
      "    yarl-1.6.3                 |   py37h2bbff1b_0         151 KB\n",
      "    zfp-0.5.5                  |       hd77b12b_4         134 KB\n",
      "    zict-2.0.0                 |     pyhd3eb1b0_0          10 KB\n",
      "    ------------------------------------------------------------\n",
      "                                           Total:       111.5 MB\n",
      "\n",
      "The following NEW packages will be INSTALLED:\n",
      "\n",
      "  aiohttp            pkgs/main/win-64::aiohttp-3.7.4-py37h2bbff1b_1\n",
      "  argon2-cffi        pkgs/main/win-64::argon2-cffi-20.1.0-py37h2bbff1b_1\n",
      "  async-timeout      pkgs/main/win-64::async-timeout-3.0.1-py37haa95532_0\n",
      "  async_generator    pkgs/main/win-64::async_generator-1.10-py37h28b3542_0\n",
      "  brotli             pkgs/main/win-64::brotli-1.0.9-ha925a31_2\n",
      "  brotlipy           pkgs/main/win-64::brotlipy-0.7.0-py37h2bbff1b_1003\n",
      "  charls             pkgs/main/win-64::charls-2.1.0-h33f27b4_2\n",
      "  coverage           pkgs/main/win-64::coverage-5.5-py37h2bbff1b_2\n",
      "  giflib             pkgs/main/win-64::giflib-5.2.1-h62dcd97_0\n",
      "  gmpy2              pkgs/main/win-64::gmpy2-2.0.8-py37h0964b28_3\n",
      "  imagecodecs        pkgs/main/win-64::imagecodecs-2021.1.11-py37h5da4933_1\n",
      "  importlib-metadata pkgs/main/win-64::importlib-metadata-3.7.3-py37haa95532_1\n",
      "  iniconfig          pkgs/main/noarch::iniconfig-1.1.1-pyhd3eb1b0_0\n",
      "  jupyterlab_pygmen~ pkgs/main/noarch::jupyterlab_pygments-0.1.2-py_0\n",
      "  jupyterlab_widgets pkgs/main/noarch::jupyterlab_widgets-1.0.0-pyhd3eb1b0_1\n",
      "  lcms2              pkgs/main/win-64::lcms2-2.11-hc51a39a_0\n",
      "  lerc               pkgs/main/win-64::lerc-2.2.1-hd77b12b_0\n",
      "  libaec             pkgs/main/win-64::libaec-1.0.4-h33f27b4_1\n",
      "  libdeflate         pkgs/main/win-64::libdeflate-1.7-h2bbff1b_5\n",
      "  libllvm9           pkgs/main/win-64::libllvm9-9.0.1-h21ff451_0\n",
      "  libzopfli          pkgs/main/win-64::libzopfli-1.0.3-ha925a31_0\n",
      "  mpc                pkgs/main/win-64::mpc-1.1.0-h7edee0f_1\n",
      "  mpfr               pkgs/main/win-64::mpfr-4.0.2-h62dcd97_1\n",
      "  mpir               pkgs/main/win-64::mpir-3.0.0-hec2e145_1\n",
      "  multidict          pkgs/main/win-64::multidict-5.1.0-py37h2bbff1b_2\n",
      "  nbclient           pkgs/main/noarch::nbclient-0.5.3-pyhd3eb1b0_0\n",
      "  nest-asyncio       pkgs/main/noarch::nest-asyncio-1.5.1-pyhd3eb1b0_0\n",
      "  openjpeg           pkgs/main/win-64::openjpeg-2.3.0-h5ec785f_1\n",
      "  ptyprocess         pkgs/main/noarch::ptyprocess-0.7.0-pyhd3eb1b0_2\n",
      "  pyerfa             pkgs/main/win-64::pyerfa-1.7.2-py37h2bbff1b_0\n",
      "  regex              pkgs/main/win-64::regex-2020.11.13-py37h2bbff1b_0\n",
      "  tensorboard-plugi~ pkgs/main/noarch::tensorboard-plugin-wit-1.6.0-py_0\n",
      "  threadpoolctl      pkgs/main/noarch::threadpoolctl-2.1.0-pyh5ca1d4c_0\n",
      "  tifffile           pkgs/main/noarch::tifffile-2021.3.16-pyhd3eb1b0_1\n",
      "  toml               pkgs/main/noarch::toml-0.10.1-py_0\n",
      "  typed-ast          pkgs/main/win-64::typed-ast-1.4.2-py37h2bbff1b_1\n",
      "  typing-extensions  pkgs/main/noarch::typing-extensions-3.7.4.3-hd3eb1b0_0\n",
      "  yarl               pkgs/main/win-64::yarl-1.6.3-py37h2bbff1b_0\n",
      "  zfp                pkgs/main/win-64::zfp-0.5.5-hd77b12b_4\n",
      "  zope               pkgs/main/win-64::zope-1.0-py37_1\n",
      "  zope.event         pkgs/main/win-64::zope.event-4.5.0-py37_0\n",
      "  zope.interface     pkgs/main/win-64::zope.interface-5.2.0-py37h2bbff1b_0\n",
      "\n",
      "The following packages will be REMOVED:\n",
      "\n",
      "  hypothesis-5.8.3-py_0\n",
      "  pytest-arraydiff-0.3-py37h39e3cac_0\n",
      "  pytest-astropy-0.8.0-py_0\n",
      "  pytest-astropy-header-0.1.2-py_0\n",
      "  pytest-doctestplus-0.5.0-py_0\n",
      "  pytest-openfiles-0.5.0-py_0\n",
      "  pytest-remotedata-0.3.2-py37_0\n",
      "\n",
      "The following packages will be UPDATED:\n",
      "\n",
      "  _anaconda_depends                          2020.02-py37_0 --> 2020.07-py37_0\n",
      "  absl-py                                      0.9.0-py37_0 --> 0.12.0-py37haa95532_0\n",
      "  anaconda-project                               0.8.4-py_0 --> 0.9.1-pyhd3eb1b0_1\n",
      "  asn1crypto         pkgs/main/win-64::asn1crypto-1.3.0-py~ --> pkgs/main/noarch::asn1crypto-1.4.0-py_0\n",
      "  astor                                        0.8.0-py37_0 --> 0.8.1-py37haa95532_0\n",
      "  astroid                                      2.3.3-py37_0 --> 2.5-py37haa95532_1\n",
      "  astropy                        4.0.1.post1-py37he774522_0 --> 4.2-py37h2bbff1b_0\n",
      "  atomicwrites       pkgs/main/win-64::atomicwrites-1.3.0-~ --> pkgs/main/noarch::atomicwrites-1.4.0-py_0\n",
      "  attrs                                         19.3.0-py_0 --> 20.3.0-pyhd3eb1b0_0\n",
      "  babel                                          2.8.0-py_0 --> 2.9.0-pyhd3eb1b0_0\n",
      "  backcall           pkgs/main/win-64::backcall-0.1.0-py37~ --> pkgs/main/noarch::backcall-0.2.0-pyhd3eb1b0_0\n",
      "  backports.shutil_~ pkgs/main/win-64::backports.shutil_ge~ --> pkgs/main/noarch::backports.shutil_get_terminal_size-1.0.0-pyhd3eb1b0_3\n",
      "  bcrypt                               3.1.7-py37he774522_0 --> 3.2.0-py37he774522_0\n",
      "  beautifulsoup4     pkgs/main/win-64::beautifulsoup4-4.9.~ --> pkgs/main/noarch::beautifulsoup4-4.9.3-pyha847dfd_0\n",
      "  bitarray                             1.2.1-py37he774522_0 --> 1.7.1-py37h2bbff1b_1\n",
      "  bleach                                         3.1.4-py_0 --> 3.3.0-pyhd3eb1b0_0\n",
      "  blosc                                   1.16.3-h7bd577a_0 --> 1.21.0-h19a0ad4_0\n",
      "  bokeh                                        2.0.2-py37_0 --> 2.3.0-py37haa95532_0\n",
      "  bottleneck                           1.3.2-py37h2a96729_0 --> 1.3.2-py37h2a96729_1\n",
      "  ca-certificates                                2020.1.1-0 --> 2021.1.19-haa95532_1\n",
      "  cachetools                                     3.1.1-py_0 --> 4.2.1-pyhd3eb1b0_0\n",
      "  certifi                                 2020.4.5.1-py37_0 --> 2020.12.5-py37haa95532_0\n",
      "  cffi                                1.14.0-py37h7a1dbc1_0 --> 1.14.5-py37hcd4344a_0\n",
      "  click                                          7.1.1-py_0 --> 7.1.2-pyhd3eb1b0_0\n",
      "  cloudpickle                                    1.4.0-py_0 --> 1.6.0-py_0\n",
      "  colorama                                       0.4.3-py_0 --> 0.4.4-pyhd3eb1b0_0\n",
      "  comtypes                                     1.1.7-py37_0 --> 1.1.9-py37haa95532_1002\n",
      "  conda                                        4.8.3-py37_0 --> 4.9.2-py37haa95532_0\n",
      "  conda-package-han~                   1.6.0-py37h62dcd97_0 --> 1.7.2-py37h76e460a_0\n",
      "  cryptography                           2.8-py37h7a1dbc1_0 --> 3.4.6-py37h71e12ea_0\n",
      "  curl                                    7.69.1-h2a8f88b_0 --> 7.71.1-h2a8f88b_1\n",
      "  cython                             0.29.17-py37ha925a31_0 --> 0.29.22-py37hd77b12b_0\n",
      "  cytoolz                             0.10.1-py37he774522_0 --> 0.11.0-py37he774522_0\n",
      "  dask                                          2.15.0-py_0 --> 2021.3.0-pyhd3eb1b0_0\n",
      "  dask-core                                     2.15.0-py_0 --> 2021.3.0-pyhd3eb1b0_0\n",
      "  defusedxml                                     0.6.0-py_0 --> 0.7.1-pyhd3eb1b0_0\n",
      "  diff-match-patch                            20181111-py_0 --> 20200713-py_0\n",
      "  distributed                                 2.15.0-py37_0 --> 2021.3.0-py37haa95532_0\n",
      "  docutils                                      0.16-py37_0 --> 0.16-py37_1\n",
      "  et_xmlfile         pkgs/main/win-64::et_xmlfile-1.0.1-py~ --> pkgs/main/noarch::et_xmlfile-1.0.1-py_1001\n",
      "  filelock                                      3.0.12-py_0 --> 3.0.12-pyhd3eb1b0_1\n",
      "  freetype                                 2.9.1-ha9979f8_1 --> 2.10.4-hd328e21_0\n",
      "  fsspec                                         0.7.1-py_0 --> 0.8.3-py_0\n",
      "  future                                      0.18.2-py37_0 --> 0.18.2-py37_1\n",
      "  gevent                               1.4.0-py37he774522_0 --> 21.1.1-py37h2bbff1b_1\n",
      "  google-auth                                   1.13.1-py_0 --> 1.28.0-pyhd3eb1b0_0\n",
      "  google-auth-oauth~                             0.4.1-py_2 --> 0.4.3-pyhd3eb1b0_0\n",
      "  greenlet                            0.4.15-py37hfa6e2cd_0 --> 1.0.0-py37hd77b12b_2\n",
      "  grpcio                              1.27.2-py37h351948d_0 --> 1.36.1-py37hc60d5dd_1\n",
      "  html5lib           pkgs/main/win-64::html5lib-1.0.1-py37~ --> pkgs/main/noarch::html5lib-1.1-py_0\n",
      "  idna                                             2.9-py_1 --> 2.10-pyhd3eb1b0_0\n",
      "  imageio                                        2.8.0-py_0 --> 2.9.0-py_0\n",
      "  importlib_metadata pkgs/main/win-64::importlib_metadata-~ --> pkgs/main/noarch::importlib_metadata-3.7.3-hd3eb1b0_1\n",
      "  intel-openmp                                   2020.0-166 --> 2020.2-254\n",
      "  intervaltree                                   3.0.2-py_0 --> 3.1.0-py_0\n",
      "  ipykernel                            5.1.4-py37h39e3cac_0 --> 5.3.4-py37h5ca1d4c_0\n",
      "  ipython                             7.13.0-py37h5ca1d4c_0 --> 7.21.0-py37hd4e2768_0\n",
      "  ipython_genutils   pkgs/main/win-64::ipython_genutils-0.~ --> pkgs/main/noarch::ipython_genutils-0.2.0-pyhd3eb1b0_1\n",
      "  ipywidgets                                     7.5.1-py_0 --> 7.6.3-pyhd3eb1b0_1\n",
      "  isort               pkgs/main/win-64::isort-4.3.21-py37_0 --> pkgs/main/noarch::isort-5.7.0-pyhd3eb1b0_0\n",
      "  jinja2                                        2.11.2-py_0 --> 2.11.3-pyhd3eb1b0_0\n",
      "  joblib                                        0.14.1-py_0 --> 1.0.1-pyhd3eb1b0_0\n",
      "  json5                                          0.9.4-py_0 --> 0.9.5-py_0\n",
      "  jsonschema         pkgs/main/win-64::jsonschema-3.2.0-py~ --> pkgs/main/noarch::jsonschema-3.2.0-py_2\n",
      "  jupyter_client                                 6.1.2-py_0 --> 6.1.7-py_0\n",
      "  jupyter_console                                6.1.0-py_0 --> 6.3.0-pyhd3eb1b0_0\n",
      "  jupyter_core                                 4.6.3-py37_0 --> 4.7.1-py37haa95532_0\n",
      "  jupyterlab                             1.2.6-pyhf63ae98_0 --> 2.2.6-pyhd3eb1b0_1\n",
      "  jupyterlab_server                              1.1.0-py_0 --> 1.2.0-py_0\n",
      "  keras-applications                             1.0.8-py_0 --> 1.0.8-py_1\n",
      "  keras-preprocessi~                             1.1.0-py_1 --> 1.1.2-pyhd3eb1b0_0\n",
      "  keyring                                     21.1.1-py37_2 --> 22.3.0-py37haa95532_0\n",
      "  kiwisolver                           1.1.0-py37ha925a31_0 --> 1.3.1-py37hd77b12b_0\n",
      "  krb5                                    1.17.1-hc04afaa_0 --> 1.18.2-hc04afaa_0\n",
      "  lazy-object-proxy                    1.4.3-py37he774522_0 --> 1.5.2-py37h2bbff1b_0\n",
      "  libarchive                               3.3.3-h0643e63_5 --> 3.4.2-h5e25573_0\n",
      "  libcurl                                 7.69.1-h2a8f88b_0 --> 7.71.1-h2a8f88b_1\n",
      "  liblief                                  0.9.0-ha925a31_3 --> 0.10.1-ha925a31_0\n",
      "  libprotobuf                             3.11.4-h7bd577a_0 --> 3.14.0-h23ce68f_0\n",
      "  libsodium                               1.0.16-h9d3ae62_0 --> 1.0.18-h62dcd97_0\n",
      "  libtiff                                  4.1.0-h56a325e_0 --> 4.2.0-he0120a3_0\n",
      "  libxml2                                  2.9.9-h464c3ec_0 --> 2.9.10-hb89e7f3_3\n",
      "  libxslt                                 1.1.33-h579f668_0 --> 1.1.34-he774522_0\n",
      "  llvmlite                            0.32.0-py37ha925a31_0 --> 0.36.0-py37h34b8924_4\n",
      "  locket                                       0.2.0-py37_1 --> 0.2.1-py37haa95532_1\n",
      "  lxml                                 4.5.0-py37h1350720_0 --> 4.6.2-py37h9b66d53_0\n",
      "  lz4-c                                  1.8.1.2-h2fa13f4_0 --> 1.9.3-h2bbff1b_0\n",
      "  markdown                                     3.1.1-py37_0 --> 3.3.4-py37haa95532_0\n",
      "  markupsafe                           1.1.1-py37he774522_0 --> 1.1.1-py37hfa6e2cd_1\n",
      "  matplotlib                                   3.1.3-py37_0 --> 3.3.4-py37haa95532_0\n",
      "  matplotlib-base                      3.1.3-py37h64f37c6_0 --> 3.3.4-py37h49ac443_0\n",
      "  mistune                              0.8.4-py37he774522_0 --> 0.8.4-py37hfa6e2cd_1001\n",
      "  mkl                                            2020.0-166 --> 2020.2-256\n",
      "  mkl_fft                             1.0.15-py37h14836fe_0 --> 1.3.0-py37h46781fe_0\n",
      "  mkl_random                           1.1.0-py37h675688f_0 --> 1.1.1-py37h47e9c7a_0\n",
      "  mock                                           4.0.2-py_0 --> 4.0.3-pyhd3eb1b0_0\n",
      "  more-itertools                                 8.2.0-py_0 --> 8.7.0-pyhd3eb1b0_0\n",
      "  msgpack-python                       1.0.0-py37h74a9793_1 --> 1.0.2-py37h59b6b97_1\n",
      "  nbconvert                                    5.6.1-py37_0 --> 6.0.7-py37_0\n",
      "  nbformat                                       5.0.4-py_0 --> 5.1.2-pyhd3eb1b0_1\n",
      "  networkx                                         2.4-py_0 --> 2.5-py_0\n",
      "  nltk                  pkgs/main/win-64::nltk-3.4.5-py37_0 --> pkgs/main/noarch::nltk-3.5-py_0\n",
      "  nose                  pkgs/main/win-64::nose-1.3.7-py37_2 --> pkgs/main/noarch::nose-1.3.7-pyhd3eb1b0_1006\n",
      "  notebook                                     6.0.3-py37_0 --> 6.2.0-py37haa95532_0\n",
      "  numba                               0.49.0-py37h47e9c7a_0 --> 0.53.0-py37hf11a4ad_0\n",
      "  numexpr                              2.7.1-py37h25d0782_0 --> 2.7.3-py37hcbcaa1e_0\n",
      "  numpy                               1.18.1-py37h93ca92e_0 --> 1.19.2-py37hadc3359_0\n",
      "  numpy-base                          1.18.1-py37hc3f5095_1 --> 1.19.2-py37ha3acd2a_0\n",
      "  numpydoc                                       0.9.2-py_0 --> 1.1.0-pyhd3eb1b0_1\n",
      "  openpyxl                                       3.0.3-py_0 --> 3.0.7-pyhd3eb1b0_0\n",
      "  openssl                                 1.1.1g-he774522_0 --> 1.1.1j-h2bbff1b_0\n",
      "  packaging                                       20.3-py_0 --> 20.9-pyhd3eb1b0_0\n",
      "  pandas                               1.0.3-py37h47e9c7a_0 --> 1.2.3-py37hf11a4ad_0\n",
      "  pandoc                                          2.2.3.2-0 --> 2.12-haa95532_0\n",
      "  pandocfilters                                1.4.2-py37_1 --> 1.4.3-py37haa95532_1\n",
      "  paramiko                                       2.7.1-py_0 --> 2.7.2-py_0\n",
      "  path                                        13.1.0-py37_0 --> 15.1.2-py37haa95532_0\n",
      "  path.py                                          12.4.0-0 --> 12.5.0-0\n",
      "  pathlib2                                     2.3.5-py37_0 --> 2.3.5-py37haa95532_2\n",
      "  pexpect            pkgs/main/win-64::pexpect-4.8.0-py37_0 --> pkgs/main/noarch::pexpect-4.8.0-pyhd3eb1b0_3\n",
      "  pickleshare        pkgs/main/win-64::pickleshare-0.7.5-p~ --> pkgs/main/noarch::pickleshare-0.7.5-pyhd3eb1b0_1003\n",
      "  pillow                               7.0.0-py37hcc1f983_0 --> 8.1.2-py37h4fa10fc_0\n",
      "  pip                                         20.0.2-py37_1 --> 21.0.1-py37haa95532_0\n",
      "  pkginfo                                    1.5.0.1-py37_0 --> 1.7.0-py37haa95532_0\n",
      "  prometheus_client                              0.7.1-py_0 --> 0.9.0-pyhd3eb1b0_0\n",
      "  prompt-toolkit                                 3.0.4-py_0 --> 3.0.8-py_0\n",
      "  prompt_toolkit                                    3.0.4-0 --> 3.0.8-0\n",
      "  protobuf                            3.11.4-py37h33f27b4_0 --> 3.14.0-py37hd77b12b_1\n",
      "  psutil                               5.7.0-py37he774522_0 --> 5.8.0-py37h2bbff1b_1\n",
      "  py                                             1.8.1-py_0 --> 1.10.0-pyhd3eb1b0_0\n",
      "  py-lief                              0.9.0-py37ha925a31_3 --> 0.10.1-py37ha925a31_0\n",
      "  pyasn1-modules                                 0.2.7-py_0 --> 0.2.8-py_0\n",
      "  pycparser                                       2.20-py_0 --> 2.20-py_2\n",
      "  pycrypto                             2.6.1-py37hfa6e2cd_9 --> 2.6.1-py37he774522_10\n",
      "  pycurl                            7.43.0.5-py37h7a1dbc1_0 --> 7.43.0.6-py37h7a1dbc1_0\n",
      "  pydocstyle                                     4.0.1-py_0 --> 5.1.1-py_0\n",
      "  pygments                                       2.6.1-py_0 --> 2.8.1-pyhd3eb1b0_0\n",
      "  pylint                                       2.5.0-py37_0 --> 2.7.2-py37haa95532_1\n",
      "  pynacl                               1.3.0-py37h62dcd97_0 --> 1.4.0-py37h62dcd97_1\n",
      "  pyopenssl          pkgs/main/win-64::pyopenssl-19.1.0-py~ --> pkgs/main/noarch::pyopenssl-20.0.1-pyhd3eb1b0_1\n",
      "  pyparsing                                      2.4.6-py_0 --> 2.4.7-pyhd3eb1b0_0\n",
      "  pyrsistent                          0.16.0-py37he774522_0 --> 0.17.3-py37he774522_0\n",
      "  pysocks                                      1.7.1-py37_0 --> 1.7.1-py37_1\n",
      "  pytest                                       5.4.1-py37_0 --> 6.2.2-py37haa95532_2\n",
      "  pytz                                          2019.3-py_0 --> 2021.1-pyhd3eb1b0_0\n",
      "  pywavelets                           1.1.1-py37he774522_0 --> 1.1.1-py37he774522_2\n",
      "  pywin32-ctypes                            0.2.0-py37_1000 --> 0.2.0-py37_1001\n",
      "  pyyaml                               5.3.1-py37he774522_0 --> 5.4.1-py37h2bbff1b_1\n",
      "  pyzmq                               18.1.1-py37ha925a31_0 --> 20.0.0-py37hd77b12b_1\n",
      "  qtawesome                                      0.7.0-py_0 --> 1.0.2-pyhd3eb1b0_0\n",
      "  qtconsole                                      4.7.3-py_0 --> 5.0.2-pyhd3eb1b0_0\n",
      "  requests           pkgs/main/win-64::requests-2.23.0-py3~ --> pkgs/main/noarch::requests-2.25.1-pyhd3eb1b0_0\n",
      "  rope                                          0.16.0-py_0 --> 0.18.0-py_0\n",
      "  rsa                                              4.0-py_0 --> 4.7.2-pyhd3eb1b0_1\n",
      "  rtree                                0.9.3-py37h21ff451_0 --> 0.9.4-py37h21ff451_1\n",
      "  ruamel_yaml                        0.15.87-py37he774522_0 --> 0.15.87-py37he774522_1\n",
      "  scikit-image                        0.16.2-py37h47e9c7a_0 --> 0.17.2-py37h1e1f486_0\n",
      "  scikit-learn                        0.22.1-py37h6288b17_0 --> 0.24.1-py37hf11a4ad_0\n",
      "  scipy                                1.4.1-py37h9439919_0 --> 1.6.1-py37h14eb087_0\n",
      "  seaborn                                       0.10.0-py_0 --> 0.11.1-pyhd3eb1b0_0\n",
      "  send2trash         pkgs/main/win-64::send2trash-1.5.0-py~ --> pkgs/main/noarch::send2trash-1.5.0-pyhd3eb1b0_1\n",
      "  setuptools                                  46.1.3-py37_0 --> 52.0.0-py37haa95532_0\n",
      "  singledispatch     pkgs/main/win-64::singledispatch-3.4.~ --> pkgs/main/noarch::singledispatch-3.6.1-pyhd3eb1b0_1001\n",
      "  six                                         1.14.0-py37_0 --> 1.15.0-py37haa95532_0\n",
      "  snappy                                   1.1.7-h777316e_3 --> 1.1.8-h33f27b4_0\n",
      "  snowballstemmer                                2.0.0-py_0 --> 2.1.0-pyhd3eb1b0_0\n",
      "  sortedcollections  pkgs/main/win-64::sortedcollections-1~ --> pkgs/main/noarch::sortedcollections-2.1.0-pyhd3eb1b0_0\n",
      "  sortedcontainers   pkgs/main/win-64::sortedcontainers-2.~ --> pkgs/main/noarch::sortedcontainers-2.3.0-pyhd3eb1b0_0\n",
      "  soupsieve                                        2.0-py_0 --> 2.2-pyhd3eb1b0_0\n",
      "  sphinx                                         3.0.3-py_0 --> 3.5.2-pyhd3eb1b0_0\n",
      "  sphinxcontrib-web~                             1.2.1-py_0 --> 1.2.4-py_0\n",
      "  spyder-kernels                               1.9.0-py37_0 --> 1.9.4-py37_0\n",
      "  sqlalchemy                          1.3.16-py37he774522_0 --> 1.3.23-py37h2bbff1b_0\n",
      "  sqlite                                  3.31.1-h2a8f88b_1 --> 3.35.1-h2bbff1b_0\n",
      "  statsmodels                         0.11.0-py37he774522_0 --> 0.12.2-py37h2bbff1b_0\n",
      "  sympy                                        1.5.1-py37_0 --> 1.7.1-py37haa95532_0\n",
      "  tbb                                     2020.0-h74a9793_0 --> 2020.3-h74a9793_0\n",
      "  tblib                                          1.6.0-py_0 --> 1.7.0-py_0\n",
      "  tensorboard                                   2.1.0-py3_0 --> 2.4.0-pyhc547734_0\n",
      "  terminado                                    0.8.3-py37_0 --> 0.9.3-py37haa95532_0\n",
      "  tk                                       8.6.8-hfa6e2cd_0 --> 8.6.10-he774522_0\n",
      "  toolz                                         0.10.0-py_0 --> 0.11.1-pyhd3eb1b0_0\n",
      "  tornado                              6.0.4-py37he774522_1 --> 6.1-py37h2bbff1b_0\n",
      "  tqdm                                          4.45.0-py_0 --> 4.59.0-pyhd3eb1b0_1\n",
      "  traitlets          pkgs/main/win-64::traitlets-4.3.3-py3~ --> pkgs/main/noarch::traitlets-5.0.5-pyhd3eb1b0_0\n",
      "  typing_extensions  pkgs/main/win-64::typing_extensions-3~ --> pkgs/main/noarch::typing_extensions-3.7.4.3-pyh06a4308_0\n",
      "  urllib3            pkgs/main/win-64::urllib3-1.25.8-py37~ --> pkgs/main/noarch::urllib3-1.26.4-pyhd3eb1b0_0\n",
      "  vc                                        14.1-h0510ff6_4 --> 14.2-h21ff451_1\n",
      "  vs2015_runtime                     14.16.27012-hf0eaf9b_1 --> 14.27.29016-h5e58377_2\n",
      "  watchdog                                    0.10.2-py37_0 --> 1.0.2-py37haa95532_1\n",
      "  wcwidth                                        0.1.9-py_0 --> 0.2.5-py_0\n",
      "  wheel               pkgs/main/win-64::wheel-0.34.2-py37_0 --> pkgs/main/noarch::wheel-0.36.2-pyhd3eb1b0_0\n",
      "  xlrd                  pkgs/main/win-64::xlrd-1.2.0-py37_0 --> pkgs/main/noarch::xlrd-2.0.1-pyhd3eb1b0_0\n",
      "  xlsxwriter                                     1.2.8-py_0 --> 1.3.7-pyhd3eb1b0_0\n",
      "  xlwings                                     0.18.0-py37_0 --> 0.23.0-py37haa95532_0\n",
      "  yaml                                     0.1.7-hc54c509_2 --> 0.2.5-he774522_0\n",
      "  yapf                                          0.28.0-py_0 --> 0.31.0-pyhd3eb1b0_0\n",
      "  zeromq                                   4.3.1-h33f27b4_3 --> 4.3.3-ha925a31_3\n",
      "  zipp                                           3.1.0-py_0 --> 3.4.1-pyhd3eb1b0_0\n",
      "  zstd                                     1.3.7-h508b16e_0 --> 1.4.5-h04227a9_0\n",
      "\n",
      "The following packages will be DOWNGRADED:\n",
      "\n",
      "  backports                                        1.0-py_2 --> 1.0-pyhd3eb1b0_2\n",
      "  backports.functoo~                             1.6.1-py_0 --> 1.6.1-pyhd3eb1b0_0\n",
      "  backports.tempfile                               1.0-py_1 --> 1.0-pyhd3eb1b0_1\n",
      "  blinker                                        1.4-py37_0 --> 1.4-py37haa95532_0\n",
      "  chardet                                   3.0.4-py37_1003 --> 3.0.4-py37haa95532_1003\n",
      "  decorator                                      4.4.2-py_0 --> 4.4.2-pyhd3eb1b0_0\n",
      "  glob2                                            0.7-py_0 --> 0.7-pyhd3eb1b0_0\n",
      "  imagesize                                      1.2.0-py_0 --> 1.2.0-pyhd3eb1b0_0\n",
      "  libspatialindex                          1.9.3-h33f27b4_0 --> 1.9.3-h6c2663c_0\n",
      "  mkl-service                          2.3.0-py37hb782905_0 --> 2.3.0-py37h196d8e1_0\n",
      "  pluggy                                      0.13.1-py37_0 --> 0.13.1-py37haa95532_0\n",
      "  pycosat                              0.6.3-py37he774522_0 --> 0.6.3-py37h2bbff1b_0\n",
      "  python-dateutil                                2.8.1-py_0 --> 2.8.1-pyhd3eb1b0_0\n",
      "  python-libarchive~                               2.9-py_0 --> 2.9-pyhd3eb1b0_0\n",
      "  sphinxcontrib-app~                             1.0.2-py_0 --> 1.0.2-pyhd3eb1b0_0\n",
      "  sphinxcontrib-dev~                             1.0.2-py_0 --> 1.0.2-pyhd3eb1b0_0\n",
      "  sphinxcontrib-htm~                             1.0.3-py_0 --> 1.0.3-pyhd3eb1b0_0\n",
      "  sphinxcontrib-jsm~                             1.0.1-py_0 --> 1.0.1-pyhd3eb1b0_0\n",
      "  sphinxcontrib-qth~                             1.0.3-py_0 --> 1.0.3-pyhd3eb1b0_0\n",
      "  sphinxcontrib-ser~                             1.1.4-py_0 --> 1.1.4-pyhd3eb1b0_0\n",
      "  termcolor                                    1.1.0-py37_1 --> 1.1.0-py37haa95532_1\n",
      "  testpath                                       0.4.4-py_0 --> 0.4.4-pyhd3eb1b0_0\n",
      "  win_inet_pton                                1.1.0-py37_0 --> 1.1.0-py37haa95532_0\n",
      "  zict                                           2.0.0-py_0 --> 2.0.0-pyhd3eb1b0_0\n",
      "\n",
      "\n",
      "\n",
      "Downloading and Extracting Packages\n",
      "\n",
      "sphinxcontrib-jsmath | 8 KB      |            |   0% \n",
      "sphinxcontrib-jsmath | 8 KB      | ########## | 100% \n",
      "\n",
      "cryptography-3.4.6   | 639 KB    |            |   0% \n",
      "cryptography-3.4.6   | 639 KB    | ########## | 100% \n",
      "\n",
      "jupyterlab_widgets-1 | 109 KB    |            |   0% \n",
      "jupyterlab_widgets-1 | 109 KB    | ########## | 100% \n",
      "\n",
      "idna-2.10            | 52 KB     |            |   0% \n",
      "idna-2.10            | 52 KB     | ########## | 100% \n",
      "\n",
      "mock-4.0.3           | 29 KB     |            |   0% \n",
      "mock-4.0.3           | 29 KB     | ########## | 100% \n",
      "\n",
      "python-libarchive-c- | 46 KB     |            |   0% \n",
      "python-libarchive-c- | 46 KB     | ########## | 100% \n",
      "\n",
      "dask-core-2021.3.0   | 659 KB    |            |   0% \n",
      "dask-core-2021.3.0   | 659 KB    | ########## | 100% \n",
      "\n",
      "sortedcollections-2. | 12 KB     |            |   0% \n",
      "sortedcollections-2. | 12 KB     | ########## | 100% \n",
      "\n",
      "cffi-1.14.5          | 220 KB    |            |   0% \n",
      "cffi-1.14.5          | 220 KB    | ########## | 100% \n",
      "\n",
      "zfp-0.5.5            | 134 KB    |            |   0% \n",
      "zfp-0.5.5            | 134 KB    | ########## | 100% \n",
      "\n",
      "blosc-1.21.0         | 139 KB    |            |   0% \n",
      "blosc-1.21.0         | 139 KB    | ########## | 100% \n",
      "\n",
      "typing-extensions-3. | 12 KB     |            |   0% \n",
      "typing-extensions-3. | 12 KB     | ########## | 100% \n",
      "\n",
      "sphinxcontrib-serial | 24 KB     |            |   0% \n",
      "sphinxcontrib-serial | 24 KB     | ########## | 100% \n",
      "\n",
      "rsa-4.7.2            | 28 KB     |            |   0% \n",
      "rsa-4.7.2            | 28 KB     | ########## | 100% \n",
      "\n",
      "xlsxwriter-1.3.7     | 105 KB    |            |   0% \n",
      "xlsxwriter-1.3.7     | 105 KB    | ########## | 100% \n",
      "\n",
      "pyerfa-1.7.2         | 298 KB    |            |   0% \n",
      "pyerfa-1.7.2         | 298 KB    | ########## | 100% \n",
      "\n",
      "pytest-6.2.2         | 452 KB    |            |   0% \n",
      "pytest-6.2.2         | 452 KB    | ########## | 100% \n",
      "\n",
      "cachetools-4.2.1     | 13 KB     |            |   0% \n",
      "cachetools-4.2.1     | 13 KB     | ########## | 100% \n",
      "\n",
      "keras-preprocessing- | 35 KB     |            |   0% \n",
      "keras-preprocessing- | 35 KB     | ########## | 100% \n",
      "\n",
      "jupyterlab-2.2.6     | 3.4 MB    |            |   0% \n",
      "jupyterlab-2.2.6     | 3.4 MB    | ##9        |  30% \n",
      "jupyterlab-2.2.6     | 3.4 MB    | ######9    |  69% \n",
      "jupyterlab-2.2.6     | 3.4 MB    | ########## | 100% \n",
      "\n",
      "pluggy-0.13.1        | 34 KB     |            |   0% \n",
      "pluggy-0.13.1        | 34 KB     | ########## | 100% \n",
      "\n",
      "pylint-2.7.2         | 465 KB    |            |   0% \n",
      "pylint-2.7.2         | 465 KB    | ########## | 100% \n",
      "\n",
      "sphinxcontrib-htmlhe | 28 KB     |            |   0% \n",
      "sphinxcontrib-htmlhe | 28 KB     | ########## | 100% \n",
      "\n",
      "llvmlite-0.36.0      | 12.4 MB   |            |   0% \n",
      "llvmlite-0.36.0      | 12.4 MB   | 6          |   6% \n",
      "llvmlite-0.36.0      | 12.4 MB   | #5         |  15% \n",
      "llvmlite-0.36.0      | 12.4 MB   | ##4        |  24% \n",
      "llvmlite-0.36.0      | 12.4 MB   | ###3       |  33% \n",
      "llvmlite-0.36.0      | 12.4 MB   | ####2      |  42% \n",
      "llvmlite-0.36.0      | 12.4 MB   | #####1     |  51% \n",
      "llvmlite-0.36.0      | 12.4 MB   | ######     |  60% \n",
      "llvmlite-0.36.0      | 12.4 MB   | ######8    |  69% \n",
      "llvmlite-0.36.0      | 12.4 MB   | #######7   |  77% \n",
      "llvmlite-0.36.0      | 12.4 MB   | ########6  |  86% \n",
      "llvmlite-0.36.0      | 12.4 MB   | #########4 |  95% \n",
      "llvmlite-0.36.0      | 12.4 MB   | ########## | 100% \n",
      "\n",
      "pip-21.0.1           | 1.8 MB    |            |   0% \n",
      "pip-21.0.1           | 1.8 MB    | ####3      |  43% \n",
      "pip-21.0.1           | 1.8 MB    | ########7  |  88% \n",
      "pip-21.0.1           | 1.8 MB    | ########## | 100% \n",
      "\n",
      "protobuf-3.14.0      | 240 KB    |            |   0% \n",
      "protobuf-3.14.0      | 240 KB    | ########## | 100% \n",
      "\n",
      "libprotobuf-3.14.0   | 1.9 MB    |            |   0% \n",
      "libprotobuf-3.14.0   | 1.9 MB    | ####5      |  45% \n",
      "libprotobuf-3.14.0   | 1.9 MB    | #########4 |  95% \n",
      "libprotobuf-3.14.0   | 1.9 MB    | ########## | 100% \n",
      "\n",
      "multidict-5.1.0      | 85 KB     |            |   0% \n",
      "multidict-5.1.0      | 85 KB     | ########## | 100% \n",
      "\n",
      "numexpr-2.7.3        | 123 KB    |            |   0% \n",
      "numexpr-2.7.3        | 123 KB    | ########## | 100% \n",
      "\n",
      "absl-py-0.12.0       | 175 KB    |            |   0% \n",
      "absl-py-0.12.0       | 175 KB    | ########## | 100% \n",
      "\n",
      "singledispatch-3.6.1 | 13 KB     |            |   0% \n",
      "singledispatch-3.6.1 | 13 KB     | ########## | 100% \n",
      "\n",
      "lazy-object-proxy-1. | 64 KB     |            |   0% \n",
      "lazy-object-proxy-1. | 64 KB     | ########## | 100% \n",
      "\n",
      "more-itertools-8.7.0 | 42 KB     |            |   0% \n",
      "more-itertools-8.7.0 | 42 KB     | ########## | 100% \n",
      "\n",
      "ptyprocess-0.7.0     | 17 KB     |            |   0% \n",
      "ptyprocess-0.7.0     | 17 KB     | ########## | 100% \n",
      "\n",
      "google-auth-oauthlib | 18 KB     |            |   0% \n",
      "google-auth-oauthlib | 18 KB     | ########## | 100% \n",
      "\n",
      "jupyter_console-6.3. | 23 KB     |            |   0% \n",
      "jupyter_console-6.3. | 23 KB     | ########## | 100% \n",
      "\n",
      "py-1.10.0            | 76 KB     |            |   0% \n",
      "py-1.10.0            | 76 KB     | ########## | 100% \n",
      "\n",
      "openpyxl-3.0.7       | 159 KB    |            |   0% \n",
      "openpyxl-3.0.7       | 159 KB    | ########## | 100% \n",
      "\n",
      "zict-2.0.0           | 10 KB     |            |   0% \n",
      "zict-2.0.0           | 10 KB     | ########## | 100% \n",
      "\n",
      "click-7.1.2          | 64 KB     |            |   0% \n",
      "click-7.1.2          | 64 KB     | ########## | 100% \n",
      "\n",
      "isort-5.7.0          | 82 KB     |            |   0% \n",
      "isort-5.7.0          | 82 KB     | ########## | 100% \n",
      "\n",
      "distributed-2021.3.0 | 1.0 MB    |            |   0% \n",
      "distributed-2021.3.0 | 1.0 MB    | #8         |  18% \n",
      "distributed-2021.3.0 | 1.0 MB    | #####1     |  52% \n",
      "distributed-2021.3.0 | 1.0 MB    | #########  |  91% \n",
      "distributed-2021.3.0 | 1.0 MB    | ########## | 100% \n",
      "\n",
      "blinker-1.4          | 23 KB     |            |   0% \n",
      "blinker-1.4          | 23 KB     | ########## | 100% \n",
      "\n",
      "pkginfo-1.7.0        | 59 KB     |            |   0% \n",
      "pkginfo-1.7.0        | 59 KB     | ########## | 100% \n",
      "\n",
      "sphinxcontrib-appleh | 29 KB     |            |   0% \n",
      "sphinxcontrib-appleh | 29 KB     | ########## | 100% \n",
      "\n",
      "libdeflate-1.7       | 49 KB     |            |   0% \n",
      "libdeflate-1.7       | 49 KB     | ########## | 100% \n",
      "\n",
      "soupsieve-2.2        | 32 KB     |            |   0% \n",
      "soupsieve-2.2        | 32 KB     | ########## | 100% \n",
      "\n",
      "path-15.1.2          | 37 KB     |            |   0% \n",
      "path-15.1.2          | 37 KB     | ########## | 100% \n",
      "\n",
      "pandas-1.2.3         | 7.7 MB    |            |   0% \n",
      "pandas-1.2.3         | 7.7 MB    | 5          |   6% \n",
      "pandas-1.2.3         | 7.7 MB    | #5         |  15% \n",
      "pandas-1.2.3         | 7.7 MB    | ##4        |  25% \n",
      "pandas-1.2.3         | 7.7 MB    | ###4       |  35% \n",
      "pandas-1.2.3         | 7.7 MB    | ####5      |  46% \n",
      "pandas-1.2.3         | 7.7 MB    | #####8     |  59% \n",
      "pandas-1.2.3         | 7.7 MB    | #######    |  71% \n",
      "pandas-1.2.3         | 7.7 MB    | ########1  |  81% \n",
      "pandas-1.2.3         | 7.7 MB    | #########2 |  92% \n",
      "pandas-1.2.3         | 7.7 MB    | ########## | 100% \n",
      "\n",
      "statsmodels-0.12.2   | 8.1 MB    |            |   0% \n",
      "statsmodels-0.12.2   | 8.1 MB    | #          |  11% \n",
      "statsmodels-0.12.2   | 8.1 MB    | ##         |  21% \n",
      "statsmodels-0.12.2   | 8.1 MB    | ###2       |  32% \n",
      "statsmodels-0.12.2   | 8.1 MB    | ####4      |  44% \n",
      "statsmodels-0.12.2   | 8.1 MB    | #####6     |  57% \n",
      "statsmodels-0.12.2   | 8.1 MB    | ######8    |  69% \n",
      "statsmodels-0.12.2   | 8.1 MB    | #######9   |  80% \n",
      "statsmodels-0.12.2   | 8.1 MB    | ########9  |  90% \n",
      "statsmodels-0.12.2   | 8.1 MB    | ########## | 100% \n",
      "\n",
      "joblib-1.0.1         | 208 KB    |            |   0% \n",
      "joblib-1.0.1         | 208 KB    | ########## | 100% \n",
      "\n",
      "keyring-22.3.0       | 71 KB     |            |   0% \n",
      "keyring-22.3.0       | 71 KB     | ########## | 100% \n",
      "\n",
      "seaborn-0.11.1       | 212 KB    |            |   0% \n",
      "seaborn-0.11.1       | 212 KB    | ########## | 100% \n",
      "\n",
      "matplotlib-3.3.4     | 27 KB     |            |   0% \n",
      "matplotlib-3.3.4     | 27 KB     | ########## | 100% \n",
      "\n",
      "sympy-1.7.1          | 8.8 MB    |            |   0% \n",
      "sympy-1.7.1          | 8.8 MB    | 8          |   9% \n",
      "sympy-1.7.1          | 8.8 MB    | #8         |  18% \n",
      "sympy-1.7.1          | 8.8 MB    | ##8        |  28% \n",
      "sympy-1.7.1          | 8.8 MB    | ###6       |  36% \n",
      "sympy-1.7.1          | 8.8 MB    | ####7      |  48% \n",
      "sympy-1.7.1          | 8.8 MB    | #####9     |  59% \n",
      "sympy-1.7.1          | 8.8 MB    | ######9    |  69% \n",
      "sympy-1.7.1          | 8.8 MB    | ########   |  81% \n",
      "sympy-1.7.1          | 8.8 MB    | #########  |  91% \n",
      "sympy-1.7.1          | 8.8 MB    | ########## | 100% \n",
      "\n",
      "iniconfig-1.1.1      | 8 KB      |            |   0% \n",
      "iniconfig-1.1.1      | 8 KB      | ########## | 100% \n",
      "\n",
      "filelock-3.0.12      | 10 KB     |            |   0% \n",
      "filelock-3.0.12      | 10 KB     | ########## | 100% \n",
      "\n",
      "qtawesome-1.0.2      | 760 KB    |            |   0% \n",
      "qtawesome-1.0.2      | 760 KB    | ########## | 100% \n",
      "\n",
      "sqlalchemy-1.3.23    | 1.5 MB    |            |   0% \n",
      "sqlalchemy-1.3.23    | 1.5 MB    | #####7     |  58% \n",
      "sqlalchemy-1.3.23    | 1.5 MB    | ########## | 100% \n",
      "\n",
      "astroid-2.5          | 279 KB    |            |   0% \n",
      "astroid-2.5          | 279 KB    | ########## | 100% \n",
      "\n",
      "backports.shutil_get | 10 KB     |            |   0% \n",
      "backports.shutil_get | 10 KB     | ########## | 100% \n",
      "\n",
      "numba-0.53.0         | 3.2 MB    |            |   0% \n",
      "numba-0.53.0         | 3.2 MB    | ##7        |  28% \n",
      "numba-0.53.0         | 3.2 MB    | #####5     |  56% \n",
      "numba-0.53.0         | 3.2 MB    | ########5  |  86% \n",
      "numba-0.53.0         | 3.2 MB    | ########## | 100% \n",
      "\n",
      "beautifulsoup4-4.9.3 | 86 KB     |            |   0% \n",
      "beautifulsoup4-4.9.3 | 86 KB     | ########## | 100% \n",
      "\n",
      "scipy-1.6.1          | 12.9 MB   |            |   0% \n",
      "scipy-1.6.1          | 12.9 MB   | 6          |   6% \n",
      "scipy-1.6.1          | 12.9 MB   | #4         |  14% \n",
      "scipy-1.6.1          | 12.9 MB   | ##2        |  22% \n",
      "scipy-1.6.1          | 12.9 MB   | ##9        |  30% \n",
      "scipy-1.6.1          | 12.9 MB   | ###8       |  38% \n",
      "scipy-1.6.1          | 12.9 MB   | ####4      |  45% \n",
      "scipy-1.6.1          | 12.9 MB   | #####2     |  52% \n",
      "scipy-1.6.1          | 12.9 MB   | #####8     |  59% \n",
      "scipy-1.6.1          | 12.9 MB   | ######4    |  65% \n",
      "scipy-1.6.1          | 12.9 MB   | #######    |  71% \n",
      "scipy-1.6.1          | 12.9 MB   | #######6   |  77% \n",
      "scipy-1.6.1          | 12.9 MB   | ########2  |  83% \n",
      "scipy-1.6.1          | 12.9 MB   | ########9  |  90% \n",
      "scipy-1.6.1          | 12.9 MB   | #########7 |  97% \n",
      "scipy-1.6.1          | 12.9 MB   | ########## | 100% \n",
      "\n",
      "typed-ast-1.4.2      | 138 KB    |            |   0% \n",
      "typed-ast-1.4.2      | 138 KB    | ########## | 100% \n",
      "\n",
      "pillow-8.1.2         | 663 KB    |            |   0% \n",
      "pillow-8.1.2         | 663 KB    | ########## | 100% \n",
      "\n",
      "psutil-5.8.0         | 345 KB    |            |   0% \n",
      "psutil-5.8.0         | 345 KB    | ########## | 100% \n",
      "\n",
      "coverage-5.5         | 273 KB    |            |   0% \n",
      "coverage-5.5         | 273 KB    | ########## | 100% \n",
      "\n",
      "cython-0.29.22       | 1.7 MB    |            |   0% \n",
      "cython-0.29.22       | 1.7 MB    | ###7       |  37% \n",
      "cython-0.29.22       | 1.7 MB    | #########1 |  92% \n",
      "cython-0.29.22       | 1.7 MB    | ########## | 100% \n",
      "\n",
      "locket-0.2.1         | 10 KB     |            |   0% \n",
      "locket-0.2.1         | 10 KB     | ########## | 100% \n",
      "\n",
      "yarl-1.6.3           | 151 KB    |            |   0% \n",
      "yarl-1.6.3           | 151 KB    | ########## | 100% \n",
      "\n",
      "lerc-2.2.1           | 114 KB    |            |   0% \n",
      "lerc-2.2.1           | 114 KB    | ########## | 100% \n",
      "\n",
      "toolz-0.11.1         | 46 KB     |            |   0% \n",
      "toolz-0.11.1         | 46 KB     | ########## | 100% \n",
      "\n",
      "xlwings-0.23.0       | 857 KB    |            |   0% \n",
      "xlwings-0.23.0       | 857 KB    | #########7 |  97% \n",
      "xlwings-0.23.0       | 857 KB    | ########## | 100% \n",
      "\n",
      "mkl_fft-1.3.0        | 131 KB    |            |   0% \n",
      "mkl_fft-1.3.0        | 131 KB    | ########## | 100% \n",
      "\n",
      "kiwisolver-1.3.1     | 52 KB     |            |   0% \n",
      "kiwisolver-1.3.1     | 52 KB     | ########## | 100% \n",
      "\n",
      "grpcio-1.36.1        | 1.7 MB    |            |   0% \n",
      "grpcio-1.36.1        | 1.7 MB    | ###7       |  37% \n",
      "grpcio-1.36.1        | 1.7 MB    | #########6 |  97% \n",
      "grpcio-1.36.1        | 1.7 MB    | ########## | 100% \n",
      "\n",
      "urllib3-1.26.4       | 105 KB    |            |   0% \n",
      "urllib3-1.26.4       | 105 KB    | ########## | 100% \n",
      "\n",
      "greenlet-1.0.0       | 82 KB     |            |   0% \n",
      "greenlet-1.0.0       | 82 KB     | ########## | 100% \n",
      "\n",
      "sphinxcontrib-devhel | 23 KB     |            |   0% \n",
      "sphinxcontrib-devhel | 23 KB     | ########## | 100% \n",
      "\n",
      "google-auth-1.28.0   | 72 KB     |            |   0% \n",
      "google-auth-1.28.0   | 72 KB     | ##2        |  22% \n",
      "google-auth-1.28.0   | 72 KB     | ########## | 100% \n",
      "\n",
      "tensorboard-2.4.0    | 8.8 MB    |            |   0% \n",
      "tensorboard-2.4.0    | 8.8 MB    | 9          |   9% \n",
      "tensorboard-2.4.0    | 8.8 MB    | #9         |  20% \n",
      "tensorboard-2.4.0    | 8.8 MB    | ###1       |  32% \n",
      "tensorboard-2.4.0    | 8.8 MB    | ####2      |  42% \n",
      "tensorboard-2.4.0    | 8.8 MB    | #####3     |  53% \n",
      "tensorboard-2.4.0    | 8.8 MB    | ######3    |  64% \n",
      "tensorboard-2.4.0    | 8.8 MB    | #######5   |  76% \n",
      "tensorboard-2.4.0    | 8.8 MB    | ########6  |  87% \n",
      "tensorboard-2.4.0    | 8.8 MB    | #########8 |  99% \n",
      "tensorboard-2.4.0    | 8.8 MB    | ########## | 100% \n",
      "\n",
      "astor-0.8.1          | 47 KB     |            |   0% \n",
      "astor-0.8.1          | 47 KB     | ########## | 100% \n",
      "\n",
      "aiohttp-3.7.4        | 507 KB    |            |   0% \n",
      "aiohttp-3.7.4        | 507 KB    | ########## | 100% \n",
      "\n",
      "msgpack-python-1.0.2 | 75 KB     |            |   0% \n",
      "msgpack-python-1.0.2 | 75 KB     | ########## | 100% \n",
      "\n",
      "xlrd-2.0.1           | 90 KB     |            |   0% \n",
      "xlrd-2.0.1           | 90 KB     | ########## | 100% \n",
      "\n",
      "comtypes-1.1.9       | 237 KB    |            |   0% \n",
      "comtypes-1.1.9       | 237 KB    | ########## | 100% \n",
      "\n",
      "bitarray-1.7.1       | 96 KB     |            |   0% \n",
      "bitarray-1.7.1       | 96 KB     | ########## | 100% \n",
      "\n",
      "gevent-21.1.1        | 1.3 MB    |            |   0% \n",
      "gevent-21.1.1        | 1.3 MB    | #####8     |  59% \n",
      "gevent-21.1.1        | 1.3 MB    | ########## | 100% \n",
      "\n",
      "imagesize-1.2.0      | 8 KB      |            |   0% \n",
      "imagesize-1.2.0      | 8 KB      | ########## | 100% \n",
      "\n",
      "sphinxcontrib-qthelp | 26 KB     |            |   0% \n",
      "sphinxcontrib-qthelp | 26 KB     | ########## | 100% \n",
      "\n",
      "matplotlib-base-3.3. | 5.1 MB    |            |   0% \n",
      "matplotlib-base-3.3. | 5.1 MB    | #5         |  15% \n",
      "matplotlib-base-3.3. | 5.1 MB    | ###5       |  35% \n",
      "matplotlib-base-3.3. | 5.1 MB    | #####5     |  55% \n",
      "matplotlib-base-3.3. | 5.1 MB    | #######5   |  75% \n",
      "matplotlib-base-3.3. | 5.1 MB    | #########4 |  95% \n",
      "matplotlib-base-3.3. | 5.1 MB    | ########## | 100% \n",
      "\n",
      "termcolor-1.1.0      | 9 KB      |            |   0% \n",
      "termcolor-1.1.0      | 9 KB      | ########## | 100% \n",
      "\n",
      "watchdog-1.0.2       | 105 KB    |            |   0% \n",
      "watchdog-1.0.2       | 105 KB    | ########## | 100% \n",
      "\n",
      "anaconda-project-0.9 | 215 KB    |            |   0% \n",
      "anaconda-project-0.9 | 215 KB    | ########## | 100% \n",
      "\n",
      "backports.tempfile-1 | 11 KB     |            |   0% \n",
      "backports.tempfile-1 | 11 KB     | ########## | 100% \n",
      "\n",
      "setuptools-52.0.0    | 711 KB    |            |   0% \n",
      "setuptools-52.0.0    | 711 KB    | ########## | 100% \n",
      "\n",
      "imagecodecs-2021.1.1 | 5.8 MB    |            |   0% \n",
      "imagecodecs-2021.1.1 | 5.8 MB    | #2         |  13% \n",
      "imagecodecs-2021.1.1 | 5.8 MB    | ##6        |  27% \n",
      "imagecodecs-2021.1.1 | 5.8 MB    | ####5      |  45% \n",
      "imagecodecs-2021.1.1 | 5.8 MB    | ######1    |  62% \n",
      "imagecodecs-2021.1.1 | 5.8 MB    | #######8   |  79% \n",
      "imagecodecs-2021.1.1 | 5.8 MB    | #########4 |  94% \n",
      "imagecodecs-2021.1.1 | 5.8 MB    | ########## | 100% \n",
      "\n",
      "glob2-0.7            | 12 KB     |            |   0% \n",
      "glob2-0.7            | 12 KB     | ########## | 100% \n",
      "\n",
      "libspatialindex-1.9. | 351 KB    |            |   0% \n",
      "libspatialindex-1.9. | 351 KB    | ########## | 100% \n",
      "\n",
      "yapf-0.31.0          | 126 KB    |            |   0% \n",
      "yapf-0.31.0          | 126 KB    | ########## | 100% \n",
      "\n",
      "markdown-3.3.4       | 144 KB    |            |   0% \n",
      "markdown-3.3.4       | 144 KB    | ########## | 100% \n",
      "\n",
      "typing_extensions-3. | 28 KB     |            |   0% \n",
      "typing_extensions-3. | 28 KB     | ########## | 100% \n",
      "\n",
      "tifffile-2021.3.16   | 132 KB    |            |   0% \n",
      "tifffile-2021.3.16   | 132 KB    | #2         |  12% \n",
      "tifffile-2021.3.16   | 132 KB    | ########## | 100% \n",
      "\n",
      "scikit-learn-0.24.1  | 4.7 MB    |            |   0% \n",
      "scikit-learn-0.24.1  | 4.7 MB    | 7          |   7% \n",
      "scikit-learn-0.24.1  | 4.7 MB    | ##         |  20% \n",
      "scikit-learn-0.24.1  | 4.7 MB    | ###        |  30% \n",
      "scikit-learn-0.24.1  | 4.7 MB    | ####       |  41% \n",
      "scikit-learn-0.24.1  | 4.7 MB    | ####9      |  50% \n",
      "scikit-learn-0.24.1  | 4.7 MB    | #####8     |  58% \n",
      "scikit-learn-0.24.1  | 4.7 MB    | #######    |  70% \n",
      "scikit-learn-0.24.1  | 4.7 MB    | ########6  |  86% \n",
      "scikit-learn-0.24.1  | 4.7 MB    | #########8 |  98% \n",
      "scikit-learn-0.24.1  | 4.7 MB    | ########## | 100% \n",
      "\n",
      "snowballstemmer-2.1. | 62 KB     |            |   0% \n",
      "snowballstemmer-2.1. | 62 KB     | ########## | 100% \n",
      "\n",
      "async-timeout-3.0.1  | 14 KB     |            |   0% \n",
      "async-timeout-3.0.1  | 14 KB     | ########## | 100% \n",
      "\n",
      "sphinx-3.5.2         | 1.1 MB    |            |   0% \n",
      "sphinx-3.5.2         | 1.1 MB    | #######6   |  77% \n",
      "sphinx-3.5.2         | 1.1 MB    | ########## | 100% \n",
      "\n",
      "qtconsole-5.0.2      | 97 KB     |            |   0% \n",
      "qtconsole-5.0.2      | 97 KB     | ########## | 100% \n",
      "\n",
      "tqdm-4.59.0          | 93 KB     |            |   0% \n",
      "tqdm-4.59.0          | 93 KB     | ########## | 100% \n",
      "\n",
      "ipywidgets-7.6.3     | 105 KB    |            |   0% \n",
      "ipywidgets-7.6.3     | 105 KB    | ########## | 100% \n",
      "\n",
      "bokeh-2.3.0          | 5.8 MB    |            |   0% \n",
      "bokeh-2.3.0          | 5.8 MB    | #3         |  14% \n",
      "bokeh-2.3.0          | 5.8 MB    | ###5       |  35% \n",
      "bokeh-2.3.0          | 5.8 MB    | #####3     |  54% \n",
      "bokeh-2.3.0          | 5.8 MB    | #######1   |  72% \n",
      "bokeh-2.3.0          | 5.8 MB    | ########9  |  90% \n",
      "bokeh-2.3.0          | 5.8 MB    | ########## | 100% \n",
      "\n",
      "pyyaml-5.4.1         | 147 KB    |            |   0% \n",
      "pyyaml-5.4.1         | 147 KB    | ########## | 100% \n",
      "\n",
      "dask-2021.3.0        | 5 KB      |            |   0% \n",
      "dask-2021.3.0        | 5 KB      | ########## | 100% \n",
      "\n",
      "pyopenssl-20.0.1     | 49 KB     |            |   0% \n",
      "pyopenssl-20.0.1     | 49 KB     | ########## | 100% \n",
      "\n",
      "requests-2.25.1      | 52 KB     |            |   0% \n",
      "requests-2.25.1      | 52 KB     | ########## | 100% \n",
      "Preparing transaction: ...working... done\n",
      "Verifying transaction: ...working... failed\n"
     ]
    }
   ],
   "source": [
    "conda update -n base -c defaults conda"
   ]
  },
  {
   "cell_type": "markdown",
   "id": "straight-temple",
   "metadata": {},
   "source": [
    "### matplotlib"
   ]
  },
  {
   "cell_type": "code",
   "execution_count": 21,
   "id": "backed-dispute",
   "metadata": {},
   "outputs": [],
   "source": [
    "import matplotlib.pyplot as plt\n",
    "import numpy as np\n",
    "%matplotlib inline"
   ]
  },
  {
   "cell_type": "code",
   "execution_count": 22,
   "id": "operating-limit",
   "metadata": {},
   "outputs": [
    {
     "data": {
      "text/plain": [
       "[<matplotlib.lines.Line2D at 0x286198461c0>]"
      ]
     },
     "execution_count": 22,
     "metadata": {},
     "output_type": "execute_result"
    },
    {
     "data": {
      "image/png": "[encoded data removed]",
      "text/plain": [
       "<Figure size 432x288 with 1 Axes>"
      ]
     },
     "metadata": {
      "needs_background": "light"
     },
     "output_type": "display_data"
    }
   ],
   "source": [
    "# 기본 그래프\n",
    "x = [1,3,5,7,9]\n",
    "y = [100, 200, 300, 400, 500]\n",
    "plt.plot(x, y)"
   ]
  },
  {
   "cell_type": "code",
   "execution_count": 26,
   "id": "given-thriller",
   "metadata": {
    "scrolled": true
   },
   "outputs": [
    {
     "name": "stdout",
     "output_type": "stream",
     "text": [
      "len(x): 128\n"
     ]
    },
    {
     "data": {
      "text/plain": [
       "[<matplotlib.lines.Line2D at 0x286199f5cd0>]"
      ]
     },
     "execution_count": 26,
     "metadata": {},
     "output_type": "execute_result"
    },
    {
     "data": {
      "image/png": "[encoded data removed]",
      "text/plain": [
       "<Figure size 432x288 with 1 Axes>"
      ]
     },
     "metadata": {
      "needs_background": "light"
     },
     "output_type": "display_data"
    }
   ],
   "source": [
    "# cosine 함수\n",
    "x = np.linspace( - np.pi, np.pi, 128) # 연속적인 값을 갖는 배열\n",
    "print('len(x):',len(x))\n",
    "y = np.cos(x) # x 리스트에 대한 cos 값 계산\n",
    "plt.plot(x,y)"
   ]
  },
  {
   "cell_type": "code",
   "execution_count": 28,
   "id": "conceptual-retrieval",
   "metadata": {},
   "outputs": [
    {
     "data": {
      "text/plain": [
       "<AxesSubplot:>"
      ]
     },
     "execution_count": 28,
     "metadata": {},
     "output_type": "execute_result"
    },
    {
     "data": {
      "image/png": "[encoded data removed]",
      "text/plain": [
       "<Figure size 432x288 with 1 Axes>"
      ]
     },
     "metadata": {
      "needs_background": "light"
     },
     "output_type": "display_data"
    }
   ],
   "source": [
    "# 판다스 데이터 시각화\n",
    "import pandas as pd\n",
    "data_frame = pd.read_csv('./data_in/datafile.csv')\n",
    "data_frame.plot()"
   ]
  },
  {
   "cell_type": "code",
   "execution_count": 29,
   "id": "roman-little",
   "metadata": {
    "scrolled": true
   },
   "outputs": [
    {
     "data": {
      "text/plain": [
       "<AxesSubplot:>"
      ]
     },
     "execution_count": 29,
     "metadata": {},
     "output_type": "execute_result"
    },
    {
     "data": {
      "image/png": "[encoded data removed]",
      "text/plain": [
       "<Figure size 432x288 with 1 Axes>"
      ]
     },
     "metadata": {
      "needs_background": "light"
     },
     "output_type": "display_data"
    }
   ],
   "source": [
    "data_sum = data_frame.cumsum() # 데이터를 누적값으로 바꿔준다\n",
    "data_sum.plot()"
   ]
  },
  {
   "cell_type": "code",
   "execution_count": 30,
   "id": "convenient-chancellor",
   "metadata": {},
   "outputs": [],
   "source": [
    "# 정규표현식 re\n",
    "\n",
    "import re"
   ]
  },
  {
   "cell_type": "code",
   "execution_count": 31,
   "id": "capital-promise",
   "metadata": {},
   "outputs": [],
   "source": [
    "pattern = '\\W+'\n",
    "re_pattern = re.compile(pattern)"
   ]
  },
  {
   "cell_type": "code",
   "execution_count": 33,
   "id": "subsequent-blink",
   "metadata": {},
   "outputs": [
    {
     "name": "stdout",
     "output_type": "stream",
     "text": [
      "<re.Match object; span=(0, 3), match='wow'>\n"
     ]
    }
   ],
   "source": [
    "re.search(\"(\\w+)\", \"wow, it is awesome\")"
   ]
  },
  {
   "cell_type": "code",
   "execution_count": 34,
   "id": "expected-change",
   "metadata": {},
   "outputs": [
    {
     "data": {
      "text/plain": [
       "['wow', '', 'it', 'is', 'world', 'of', 'word']"
      ]
     },
     "execution_count": 34,
     "metadata": {},
     "output_type": "execute_result"
    }
   ],
   "source": [
    "re.split('\\W', 'wow, it is world of word') # comma와 it 앞 공백 사이에 ''가 나온 것! comma도 구분 기준이라,,"
   ]
  },
  {
   "cell_type": "code",
   "execution_count": 35,
   "id": "official-teens",
   "metadata": {},
   "outputs": [
    {
     "data": {
      "text/plain": [
       "'number candy'"
      ]
     },
     "execution_count": 35,
     "metadata": {},
     "output_type": "execute_result"
    }
   ],
   "source": [
    "re.sub('\\d', 'number', '7 candy')"
   ]
  },
  {
   "cell_type": "code",
   "execution_count": 36,
   "id": "czech-extension",
   "metadata": {},
   "outputs": [
    {
     "name": "stdout",
     "output_type": "stream",
     "text": [
      "Collecting html5lib\n",
      "  Using cached html5lib-1.1-py2.py3-none-any.whl (112 kB)\n",
      "Requirement already satisfied: webencodings in c:\\users\\gpwl0\\.conda\\envs\\pr_tensorflow\\lib\\site-packages (from html5lib) (0.5.1)\n",
      "Requirement already satisfied: six>=1.9 in c:\\users\\gpwl0\\.conda\\envs\\pr_tensorflow\\lib\\site-packages (from html5lib) (1.15.0)\n",
      "Installing collected packages: html5lib\n",
      "Successfully installed html5lib-1.1\n"
     ]
    }
   ],
   "source": [
    "# Beautiful Soup _ 웹 크롤링에 사용되는 라이브러리\n",
    "# html xml 문서에서 데이터 불러오는 데에 사용됨. 이 책에서는 주로 html 태그 제거하는 데에 쓰임\n",
    "!pip install html5lib"
   ]
  },
  {
   "cell_type": "code",
   "execution_count": 1,
   "id": "appreciated-insurance",
   "metadata": {},
   "outputs": [],
   "source": [
    "from bs4 import BeautifulSoup"
   ]
  },
  {
   "cell_type": "code",
   "execution_count": 2,
   "id": "artistic-paris",
   "metadata": {},
   "outputs": [
    {
     "name": "stdout",
     "output_type": "stream",
     "text": [
      " 이 글은 Beautiful soup 라이브러리를 사용하는 방법에 대한 글입니다.   라이브러리를 사용하면 쉽게 HTML 태그를 제거할 수 있습니다.\n"
     ]
    }
   ],
   "source": [
    "string = '<body> 이 글은 Beautiful soup 라이브러리를 사용하는 방법에 대한 글입니다. <br> </br> 라이브러리를 사용하면 쉽게 HTML 태그를 제거할 수 있습니다.</body>'\n",
    "string = BeautifulSoup(string, \"html5lib\").get_text() # html 태그 제외한 텍스트만 가져오겠다\n",
    "print(string)"
   ]
  },
  {
   "cell_type": "code",
   "execution_count": 3,
   "id": "athletic-drill",
   "metadata": {},
   "outputs": [
    {
     "name": "stdout",
     "output_type": "stream",
     "text": [
      "Collecting kaggle\n",
      "  Using cached kaggle-1.5.12.tar.gz (58 kB)\n",
      "Requirement already satisfied: six>=1.10 in c:\\users\\gpwl0\\.conda\\envs\\pr_tensorflow\\lib\\site-packages (from kaggle) (1.15.0)\n",
      "Requirement already satisfied: certifi in c:\\users\\gpwl0\\.conda\\envs\\pr_tensorflow\\lib\\site-packages (from kaggle) (2020.12.5)\n",
      "Requirement already satisfied: python-dateutil in c:\\users\\gpwl0\\.conda\\envs\\pr_tensorflow\\lib\\site-packages (from kaggle) (2.8.1)\n",
      "Requirement already satisfied: requests in c:\\users\\gpwl0\\.conda\\envs\\pr_tensorflow\\lib\\site-packages (from kaggle) (2.25.1)\n",
      "Collecting tqdm\n",
      "  Using cached tqdm-4.59.0-py2.py3-none-any.whl (74 kB)\n",
      "Collecting python-slugify\n",
      "  Using cached python-slugify-4.0.1.tar.gz (11 kB)\n",
      "Requirement already satisfied: urllib3 in c:\\users\\gpwl0\\.conda\\envs\\pr_tensorflow\\lib\\site-packages (from kaggle) (1.26.4)\n",
      "Collecting text-unidecode>=1.3\n",
      "  Using cached text_unidecode-1.3-py2.py3-none-any.whl (78 kB)\n",
      "Requirement already satisfied: idna<3,>=2.5 in c:\\users\\gpwl0\\.conda\\envs\\pr_tensorflow\\lib\\site-packages (from requests->kaggle) (2.10)\n",
      "Requirement already satisfied: chardet<5,>=3.0.2 in c:\\users\\gpwl0\\.conda\\envs\\pr_tensorflow\\lib\\site-packages (from requests->kaggle) (4.0.0)\n",
      "Building wheels for collected packages: kaggle, python-slugify\n",
      "  Building wheel for kaggle (setup.py): started\n",
      "  Building wheel for kaggle (setup.py): finished with status 'done'\n",
      "  Created wheel for kaggle: filename=kaggle-1.5.12-py3-none-any.whl size=73053 sha256=96593137eb6fb6caa88b1fe17ef1881c5cd904b6691f691c36c1a4bdb23e8200\n",
      "  Stored in directory: c:\\users\\gpwl0\\appdata\\local\\pip\\cache\\wheels\\ac\\b2\\c3\\fa4706d469b5879105991d1c8be9a3c2ef329ba9fe2ce5085e\n",
      "  Building wheel for python-slugify (setup.py): started\n",
      "  Building wheel for python-slugify (setup.py): finished with status 'done'\n",
      "  Created wheel for python-slugify: filename=python_slugify-4.0.1-py2.py3-none-any.whl size=6769 sha256=bdc9b6f6feb2fdfafcab3f6726ed87d3b1b1f0292ce533aa5a3f22e6d5697491\n",
      "  Stored in directory: c:\\users\\gpwl0\\appdata\\local\\pip\\cache\\wheels\\84\\5b\\00\\3ebff44b1e0a380d959960828803a9486ff2433728cceff666\n",
      "Successfully built kaggle python-slugify\n",
      "Installing collected packages: text-unidecode, tqdm, python-slugify, kaggle\n",
      "Successfully installed kaggle-1.5.12 python-slugify-4.0.1 text-unidecode-1.3 tqdm-4.59.0\n"
     ]
    }
   ],
   "source": [
    "## Kaggle\n",
    "!pip install kaggle"
   ]
  },
  {
   "cell_type": "code",
   "execution_count": null,
   "id": "still-blend",
   "metadata": {},
   "outputs": [],
   "source": [
    "kaggle competitions download -c HomeCreditDefaultRisk"
   ]
  },
  {
   "cell_type": "code",
   "execution_count": null,
   "id": "monthly-india",
   "metadata": {},
   "outputs": [],
   "source": []
  }
 ],
 "metadata": {
  "kernelspec": {
   "display_name": "Python 3",
   "language": "python",
   "name": "python3"
  },
  "language_info": {
   "codemirror_mode": {
    "name": "ipython",
    "version": 3
   },
   "file_extension": ".py",
   "mimetype": "text/x-python",
   "name": "python",
   "nbconvert_exporter": "python",
   "pygments_lexer": "ipython3",
   "version": "3.6.13"
  }
 },
 "nbformat": 4,
 "nbformat_minor": 5
}
