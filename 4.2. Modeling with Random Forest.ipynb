{
 "cells": [
  {
   "cell_type": "markdown",
   "id": "revised-kenya",
   "metadata": {},
   "source": [
    "## 패키지/데이터 불러오기"
   ]
  },
  {
   "cell_type": "code",
   "execution_count": 1,
   "id": "several-concentration",
   "metadata": {},
   "outputs": [],
   "source": [
    "import pandas as pd\n",
    "import numpy as np\n",
    "import os\n",
    "from sklearn.feature_extraction.text import CountVectorizer"
   ]
  },
  {
   "cell_type": "code",
   "execution_count": 2,
   "id": "wooden-warren",
   "metadata": {},
   "outputs": [],
   "source": [
    "DATA_IN_PATH = './data_in/'\n",
    "DATA_OUT_PATH = './data_out/'\n",
    "TRAIN_CLEAN_DATA = 'train_clean.csv'\n",
    "TEST_SIZE = 0.2\n",
    "RANDOM_SEED = 42"
   ]
  },
  {
   "cell_type": "code",
   "execution_count": 3,
   "id": "improving-bacon",
   "metadata": {},
   "outputs": [],
   "source": [
    "train_data = pd.read_csv(DATA_IN_PATH + TRAIN_CLEAN_DATA)\n",
    "reviews=list(train_data['review'])\n",
    "y = np.array(train_data['sentiment'])"
   ]
  },
  {
   "cell_type": "code",
   "execution_count": 4,
   "id": "sorted-tutorial",
   "metadata": {},
   "outputs": [],
   "source": [
    "# 불러온 데이터를 feature vector로 만들어야 함. 모델의 입력값으로 사용하기 위해서는!\n",
    "# 따라서 CountVectorizer로 객체 생성, 리뷰 덱스트 데이터 적용\n"
   ]
  },
  {
   "cell_type": "markdown",
   "id": "arbitrary-linux",
   "metadata": {},
   "source": [
    "## Vectorization _ CountVectorizer"
   ]
  },
  {
   "cell_type": "code",
   "execution_count": 5,
   "id": "immediate-revision",
   "metadata": {},
   "outputs": [],
   "source": [
    "vectorizer = CountVectorizer(analyzer = 'word', max_features = 5000)\n",
    "train_data_features = vectorizer.fit_transform(reviews)"
   ]
  },
  {
   "cell_type": "markdown",
   "id": "dressed-colorado",
   "metadata": {},
   "source": [
    "## 학습/검증 데이터 분리"
   ]
  },
  {
   "cell_type": "code",
   "execution_count": 6,
   "id": "infectious-trout",
   "metadata": {},
   "outputs": [],
   "source": [
    "TEST_SIZE = 0.2\n",
    "RANDOM_SEED = 42\n",
    "\n",
    "from sklearn.model_selection import train_test_split\n",
    "X_train, X_eval, y_train, y_eval = train_test_split(train_data_features, y, test_size = TEST_SIZE, random_state = RANDOM_SEED)"
   ]
  },
  {
   "cell_type": "markdown",
   "id": "funded-world",
   "metadata": {},
   "source": [
    "## 모델 구현 + 학습"
   ]
  },
  {
   "cell_type": "code",
   "execution_count": 7,
   "id": "least-prototype",
   "metadata": {},
   "outputs": [
    {
     "data": {
      "text/plain": [
       "RandomForestClassifier()"
      ]
     },
     "execution_count": 7,
     "metadata": {},
     "output_type": "execute_result"
    }
   ],
   "source": [
    "from sklearn.ensemble import RandomForestClassifier # RandomForestClassifier 객체를 사용해 구현\n",
    "\n",
    "# 100개의 트리 사용\n",
    "forest = RandomForestClassifier(n_estimators = 100)\n",
    "\n",
    "# 단어 묶음을 벡터화한 데이터, 정답 데이터를 가지고 학습을 시작\n",
    "forest.fit(X_train, y_train)"
   ]
  },
  {
   "cell_type": "code",
   "execution_count": 8,
   "id": "activated-identifier",
   "metadata": {},
   "outputs": [
    {
     "name": "stdout",
     "output_type": "stream",
     "text": [
      "Accuracy: 0.8442\n"
     ]
    }
   ],
   "source": [
    "print(\"Accuracy: {}\".format(forest.score(X_eval, y_eval))) # score 함수 쓰면 default를 accuracy로 알려줌"
   ]
  },
  {
   "cell_type": "markdown",
   "id": "color-moldova",
   "metadata": {},
   "source": [
    "## test 데이터셋으로 성능 평가\n"
   ]
  },
  {
   "cell_type": "code",
   "execution_count": 9,
   "id": "casual-prescription",
   "metadata": {},
   "outputs": [],
   "source": [
    "TEST_CLEAN_DATA = 'test_clean.csv'\n",
    "\n",
    "test_data = pd.read_csv(DATA_IN_PATH + TEST_CLEAN_DATA)\n",
    "test_reviews = list(test_data['review'])\n",
    "ids = list(test_data['id'])"
   ]
  },
  {
   "cell_type": "code",
   "execution_count": 10,
   "id": "strong-contact",
   "metadata": {},
   "outputs": [],
   "source": [
    "test_data_features = vectorizer.transform(test_reviews)"
   ]
  },
  {
   "cell_type": "markdown",
   "id": "literary-constraint",
   "metadata": {},
   "source": [
    "## 데이터 제출하기"
   ]
  },
  {
   "cell_type": "code",
   "execution_count": 11,
   "id": "killing-lithuania",
   "metadata": {},
   "outputs": [],
   "source": [
    "result = forest.predict(test_data_features)\n",
    "\n",
    "output = pd.DataFrame(data = {'id': ids, 'sentiment': result})\n",
    "\n",
    "output.to_csv(DATA_OUT_PATH + 'Bag_of_Words_model.csv', index = False, quoting = 3)"
   ]
  },
  {
   "cell_type": "code",
   "execution_count": null,
   "id": "municipal-multiple",
   "metadata": {},
   "outputs": [],
   "source": []
  }
 ],
 "metadata": {
  "kernelspec": {
   "display_name": "Python 3",
   "language": "python",
   "name": "python3"
  },
  "language_info": {
   "codemirror_mode": {
    "name": "ipython",
    "version": 3
   },
   "file_extension": ".py",
   "mimetype": "text/x-python",
   "name": "python",
   "nbconvert_exporter": "python",
   "pygments_lexer": "ipython3",
   "version": "3.6.13"
  }
 },
 "nbformat": 4,
 "nbformat_minor": 5
}
