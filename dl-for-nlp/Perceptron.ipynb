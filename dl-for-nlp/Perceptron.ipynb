{
 "cells": [
  {
   "cell_type": "markdown",
   "id": "medium-saskatchewan",
   "metadata": {},
   "source": [
    "all exercises based on [Introduction to Deep Learning for NLP](https://wikidocs.net/24958)"
   ]
  },
  {
   "cell_type": "markdown",
   "id": "obvious-fountain",
   "metadata": {},
   "source": [
    "## 단층 퍼셉트론"
   ]
  },
  {
   "cell_type": "code",
   "execution_count": 1,
   "id": "enormous-romania",
   "metadata": {},
   "outputs": [],
   "source": [
    "# AND_gate (입력값 2개)\n",
    "def AND_gate(x1, x2):\n",
    "    w1 = 0.5\n",
    "    w2 = 0.5\n",
    "    b = -0.7\n",
    "    result = x1*w1 + x2*w2 + b\n",
    "    if result <= 0:\n",
    "        return 0\n",
    "    else:\n",
    "        return 1"
   ]
  },
  {
   "cell_type": "code",
   "execution_count": 2,
   "id": "infectious-ivory",
   "metadata": {},
   "outputs": [
    {
     "name": "stdout",
     "output_type": "stream",
     "text": [
      "0\n",
      "0\n",
      "0\n",
      "1\n"
     ]
    }
   ],
   "source": [
    "# AND_gate 입력값 넣어서 확인해보기\n",
    "print(AND_gate(0,0))\n",
    "print(AND_gate(1,0))\n",
    "print(AND_gate(0,1))\n",
    "print(AND_gate(1,1))"
   ]
  },
  {
   "cell_type": "code",
   "execution_count": 5,
   "id": "weighted-brooklyn",
   "metadata": {},
   "outputs": [],
   "source": [
    "# NAND_gate\n",
    "def NAND_gate(x1, x2):\n",
    "    w1 = -0.5\n",
    "    w2 = -0.5\n",
    "    b = 0.7\n",
    "    result = x1*w1 + x2*w2 +b\n",
    "    if result <= 0:\n",
    "        return 0\n",
    "    else:\n",
    "        return 1"
   ]
  },
  {
   "cell_type": "code",
   "execution_count": 6,
   "id": "dress-premiere",
   "metadata": {},
   "outputs": [
    {
     "name": "stdout",
     "output_type": "stream",
     "text": [
      "1 1 1 0\n"
     ]
    }
   ],
   "source": [
    "print(NAND_gate(0,0), NAND_gate(1,0), NAND_gate(0,1), NAND_gate(1,1))"
   ]
  },
  {
   "cell_type": "code",
   "execution_count": 7,
   "id": "billion-humanity",
   "metadata": {},
   "outputs": [],
   "source": [
    "# OR_gate\n",
    "def OR_gate(x1, x2):\n",
    "    w1 = 0.7\n",
    "    w2 = 0.7\n",
    "    b = -0.5\n",
    "    result = x1*w1 + x2*w2 + b\n",
    "    if result <= 0:\n",
    "        return 0\n",
    "    else:\n",
    "        return 1"
   ]
  },
  {
   "cell_type": "code",
   "execution_count": 8,
   "id": "middle-likelihood",
   "metadata": {},
   "outputs": [
    {
     "name": "stdout",
     "output_type": "stream",
     "text": [
      "0 1 1 1\n"
     ]
    }
   ],
   "source": [
    "print(OR_gate(0,0), OR_gate(1,0), OR_gate(0,1), OR_gate(1,1))"
   ]
  },
  {
   "cell_type": "markdown",
   "id": "pursuant-classroom",
   "metadata": {},
   "source": [
    "## 다층 퍼셉트론"
   ]
  },
  {
   "cell_type": "code",
   "execution_count": 9,
   "id": "distant-summer",
   "metadata": {},
   "outputs": [],
   "source": [
    "# XOR_gate : 서로 다른 값일 때만 1, 같은 값이면 0 출력\n",
    "def XOR_gate(x1, x2):\n",
    "    w1 = 0.5\n",
    "    w2 = -0.5\n",
    "    result = x1*w1 + x2*w2\n",
    "    if result == 0:\n",
    "        return 0\n",
    "    else:\n",
    "        return 1"
   ]
  },
  {
   "cell_type": "code",
   "execution_count": 10,
   "id": "historic-struggle",
   "metadata": {},
   "outputs": [
    {
     "name": "stdout",
     "output_type": "stream",
     "text": [
      "0 1 1 0\n"
     ]
    }
   ],
   "source": [
    "print(XOR_gate(0,0), XOR_gate(1,0), XOR_gate(0,1), XOR_gate(1,1))"
   ]
  },
  {
   "cell_type": "code",
   "execution_count": 21,
   "id": "polar-liverpool",
   "metadata": {},
   "outputs": [],
   "source": [
    "# 흠... 이렇게 말고 위의 것들을 합쳐서 구현해보자\n",
    "def XOR_gate(x1, x2):\n",
    "    w1 = -0.7\n",
    "    w2 = -0.7\n",
    "    b = 0.5\n",
    "    result = x1*w1 + x2*w2 + b\n",
    "    if result <= 0:\n",
    "        w3 = 0.7\n",
    "        w4 = 0.7\n",
    "        b = -0.8\n",
    "        result = x1*w3 + x2*w4 + b\n",
    "        if result <= 0:\n",
    "            return 0\n",
    "        else: return 1\n",
    "        \n",
    "    else:\n",
    "        return 1\n"
   ]
  },
  {
   "cell_type": "code",
   "execution_count": 22,
   "id": "korean-divide",
   "metadata": {},
   "outputs": [
    {
     "name": "stdout",
     "output_type": "stream",
     "text": [
      "1 0 0 1\n"
     ]
    }
   ],
   "source": [
    "print(XOR_gate(0,0), XOR_gate(1,0), XOR_gate(0,1), XOR_gate(1,1)) # 반대로 생각하고 만든 거니까 맞은 걸로...ㅎㅎ"
   ]
  },
  {
   "cell_type": "code",
   "execution_count": 23,
   "id": "verbal-sunset",
   "metadata": {},
   "outputs": [],
   "source": [
    "# 제대로 생각해서(?) 만들기\n",
    "def XOR_gate(x1, x2):\n",
    "    w1 = 0.7\n",
    "    w2 = 0.7\n",
    "    b = -0.5\n",
    "    result = x1*w1 + x2*w2 + b\n",
    "    if result <=0:\n",
    "        return 0\n",
    "    else:\n",
    "        w3 = -0.7\n",
    "        w4 = -0.7\n",
    "        b2 = 0.8\n",
    "        result2 = x1*w3 + x2*w4 + b2\n",
    "        if result2 <= 0:\n",
    "            return 0\n",
    "        else:\n",
    "            return 1"
   ]
  },
  {
   "cell_type": "code",
   "execution_count": 24,
   "id": "structural-slope",
   "metadata": {},
   "outputs": [
    {
     "name": "stdout",
     "output_type": "stream",
     "text": [
      "0 1 1 0\n"
     ]
    }
   ],
   "source": [
    "print(XOR_gate(0,0), XOR_gate(1,0), XOR_gate(0,1), XOR_gate(1,1))"
   ]
  },
  {
   "cell_type": "code",
   "execution_count": null,
   "id": "sapphire-shopper",
   "metadata": {},
   "outputs": [],
   "source": []
  }
 ],
 "metadata": {
  "kernelspec": {
   "display_name": "Python 3",
   "language": "python",
   "name": "python3"
  },
  "language_info": {
   "codemirror_mode": {
    "name": "ipython",
    "version": 3
   },
   "file_extension": ".py",
   "mimetype": "text/x-python",
   "name": "python",
   "nbconvert_exporter": "python",
   "pygments_lexer": "ipython3",
   "version": "3.6.13"
  }
 },
 "nbformat": 4,
 "nbformat_minor": 5
}
