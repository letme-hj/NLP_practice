{
 "cells": [
  {
   "cell_type": "markdown",
   "id": "moved-float",
   "metadata": {},
   "source": [
    "all exercises based on [Introduction to Deep Learning](https://wikidocs.net/22647)"
   ]
  },
  {
   "cell_type": "markdown",
   "id": "preceding-amount",
   "metadata": {},
   "source": [
    "### One-Hot Encoding\n",
    "자연어 문자를 숫자로 바꾸는 여러가지 기법 중 하나. 가장 기본적인 방법.<br>\n",
    "단어 집합의 크기가 벡터의 차원, 표현하고자 하는 단어의 인덱스에 1의 값 부여, 다른 인덱스에는 0 부여.<br>\n",
    "\n",
    "1. 각 단어에 고유한 인덱스 부여 (정수 인코딩)\n",
    "2. 표현하고 싶은 단어의 인덱스 위치에 1, 다른 단어 인덱스 위치에는 0 부여"
   ]
  },
  {
   "cell_type": "markdown",
   "id": "african-indonesia",
   "metadata": {},
   "source": [
    "연습문장<br>\n",
    "**나는 자연어 처리를 배운다**"
   ]
  },
  {
   "cell_type": "code",
   "execution_count": 1,
   "id": "subtle-maintenance",
   "metadata": {},
   "outputs": [
    {
     "data": {
      "text/plain": [
       "['나', '는', '자연어', '처리', '를', '배운다']"
      ]
     },
     "execution_count": 1,
     "metadata": {},
     "output_type": "execute_result"
    }
   ],
   "source": [
    "from konlpy.tag import Okt\n",
    "okt = Okt()\n",
    "token=okt.morphs(\"나는 자연어 처리를 배운다\")\n",
    "token"
   ]
  },
  {
   "cell_type": "code",
   "execution_count": 2,
   "id": "maritime-launch",
   "metadata": {},
   "outputs": [
    {
     "name": "stdout",
     "output_type": "stream",
     "text": [
      "{'나': 0, '는': 1, '자연어': 2, '처리': 3, '를': 4, '배운다': 5}\n"
     ]
    }
   ],
   "source": [
    "word2index = {}\n",
    "for i in token:\n",
    "    if i not in word2index:\n",
    "        word2index[i] = len(word2index)\n",
    "print(word2index)"
   ]
  },
  {
   "cell_type": "code",
   "execution_count": 3,
   "id": "specified-webmaster",
   "metadata": {},
   "outputs": [],
   "source": [
    "def one_hot_encoding(word, word2index):\n",
    "    one_hot_vector = [0]*(len(word2index))\n",
    "    index = word2index[word]\n",
    "    one_hot_vector[index] = 1\n",
    "    return one_hot_vector"
   ]
  },
  {
   "cell_type": "code",
   "execution_count": 5,
   "id": "prompt-accuracy",
   "metadata": {},
   "outputs": [
    {
     "data": {
      "text/plain": [
       "[0, 0, 1, 0, 0, 0]"
      ]
     },
     "execution_count": 5,
     "metadata": {},
     "output_type": "execute_result"
    }
   ],
   "source": [
    "one_hot_encoding(\"자연어\", word2index)"
   ]
  },
  {
   "cell_type": "markdown",
   "id": "fifteen-correspondence",
   "metadata": {},
   "source": [
    "### Keras를 이용한 원핫인코딩"
   ]
  },
  {
   "cell_type": "code",
   "execution_count": 6,
   "id": "documentary-quebec",
   "metadata": {},
   "outputs": [],
   "source": [
    "text = \"나랑 점심 먹으러 갈래 점심 메뉴는 햄버거 갈래 갈래 햄버거 최고야\""
   ]
  },
  {
   "cell_type": "markdown",
   "id": "constitutional-arcade",
   "metadata": {},
   "source": [
    "- 정수 인코딩"
   ]
  },
  {
   "cell_type": "code",
   "execution_count": 8,
   "id": "polished-suite",
   "metadata": {},
   "outputs": [
    {
     "name": "stdout",
     "output_type": "stream",
     "text": [
      "{'갈래': 1, '점심': 2, '햄버거': 3, '나랑': 4, '먹으러': 5, '메뉴는': 6, '최고야': 7}\n"
     ]
    }
   ],
   "source": [
    "from tensorflow.keras.preprocessing.text import Tokenizer\n",
    "from tensorflow.keras.utils import to_categorical\n",
    "\n",
    "t = Tokenizer()\n",
    "t.fit_on_texts([text]) # text를 []로 둘러싸면 자동으로 space 기준으로 tokenize 되는 건가... [] 안하면 한 글자씩 잘림\n",
    "print(t.word_index)"
   ]
  },
  {
   "cell_type": "code",
   "execution_count": 13,
   "id": "conscious-dressing",
   "metadata": {},
   "outputs": [
    {
     "data": {
      "text/plain": [
       "[2, 5, 1, 6, 3, 7]"
      ]
     },
     "execution_count": 13,
     "metadata": {},
     "output_type": "execute_result"
    }
   ],
   "source": [
    "sub_text = \"점심 먹으러 갈래 메뉴는 햄버거 최고야\" # 위에서 만든 단어사전(t)에 있는 단어들로만 이루어짐 -> 정수 인코딩 가능 (정수 시퀀스로의 변환)\n",
    "encoded = t.texts_to_sequences([sub_text])[0] \n",
    "# 기본적으로 texts_to_sequences는 list를 입력으로\n",
    "encoded"
   ]
  },
  {
   "cell_type": "markdown",
   "id": "wireless-reply",
   "metadata": {},
   "source": [
    "- 원핫 인코딩"
   ]
  },
  {
   "cell_type": "code",
   "execution_count": 14,
   "id": "incorrect-hello",
   "metadata": {},
   "outputs": [
    {
     "name": "stdout",
     "output_type": "stream",
     "text": [
      "[[0. 0. 1. 0. 0. 0. 0. 0.]\n",
      " [0. 0. 0. 0. 0. 1. 0. 0.]\n",
      " [0. 1. 0. 0. 0. 0. 0. 0.]\n",
      " [0. 0. 0. 0. 0. 0. 1. 0.]\n",
      " [0. 0. 0. 1. 0. 0. 0. 0.]\n",
      " [0. 0. 0. 0. 0. 0. 0. 1.]]\n"
     ]
    }
   ],
   "source": [
    "one_hot = to_categorical(encoded) # 정수 인코딩 결과를 바탕으로 원핫인코딩 한 모습\n",
    "print(one_hot)"
   ]
  },
  {
   "cell_type": "markdown",
   "id": "stupid-jordan",
   "metadata": {},
   "source": [
    "one-hot encoding의 한계\n",
    "- 단어가 늘어날수록 벡터 차원이 계속 늘어나 희소행렬. 비효율적\n",
    "- 단어의 유사도 표현하지 못함. 단순히 labeling 된 단어들 (검색 등에 치명적 단점)\n",
    "\n",
    "- 이러한 단점을 해결하기 위해 단어의 잠재 의미를 반영해 다차원 공간에 벡터화 (카운트 기반 LSA, HAL 등, 예측 기반 NNLM, RNNLM, Word2Vec, FastText 등)"
   ]
  },
  {
   "cell_type": "code",
   "execution_count": null,
   "id": "handled-mailing",
   "metadata": {},
   "outputs": [],
   "source": []
  }
 ],
 "metadata": {
  "kernelspec": {
   "display_name": "Python 3",
   "language": "python",
   "name": "python3"
  },
  "language_info": {
   "codemirror_mode": {
    "name": "ipython",
    "version": 3
   },
   "file_extension": ".py",
   "mimetype": "text/x-python",
   "name": "python",
   "nbconvert_exporter": "python",
   "pygments_lexer": "ipython3",
   "version": "3.7.7"
  }
 },
 "nbformat": 4,
 "nbformat_minor": 5
}
