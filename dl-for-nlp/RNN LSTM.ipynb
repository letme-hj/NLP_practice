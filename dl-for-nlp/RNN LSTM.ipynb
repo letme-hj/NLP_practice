{
 "cells": [
  {
   "cell_type": "markdown",
   "id": "fleet-currency",
   "metadata": {},
   "source": [
    "all excercises based on [Deep Learning for NLP](https://wikidocs.net/106473)"
   ]
  },
  {
   "cell_type": "markdown",
   "id": "egyptian-integer",
   "metadata": {},
   "source": [
    "## 1. 임의의 입력 생성"
   ]
  },
  {
   "cell_type": "code",
   "execution_count": 1,
   "id": "rolled-relief",
   "metadata": {},
   "outputs": [],
   "source": [
    "import numpy as np\n",
    "import tensorflow as tf\n",
    "from tensorflow.keras.layers import SimpleRNN, LSTM, Bidirectional"
   ]
  },
  {
   "cell_type": "code",
   "execution_count": 4,
   "id": "defined-profit",
   "metadata": {},
   "outputs": [
    {
     "name": "stdout",
     "output_type": "stream",
     "text": [
      "(4, 5)\n"
     ]
    }
   ],
   "source": [
    "train_X = [[0.1, 4.2, 1.5, 1.1, 2.8],\n",
    "          [1.0, 3.1, 2.5, 0.7, 1.1],\n",
    "          [0.3, 2.1, 1.5, 2.1, 0.1],\n",
    "          [2.2, 1.4, 0.5, 0.9, 1.1]]\n",
    "# 단어 벡터의 차원 5\n",
    "# 문장의 길이 4\n",
    "# 즉, 4번의 timestep 존재, 각 시점마다 5차원의 단어벡터가 입력으로 사용\n",
    "print(np.shape(train_X))"
   ]
  },
  {
   "cell_type": "code",
   "execution_count": 5,
   "id": "united-beauty",
   "metadata": {},
   "outputs": [
    {
     "name": "stdout",
     "output_type": "stream",
     "text": [
      "(1, 4, 5)\n"
     ]
    }
   ],
   "source": [
    "# RNN은 3D 텐서를 입력으로 받기 때문에 3D 텐서로 변경!\n",
    "# -> 배치 크기 1 추가\n",
    "\n",
    "train_X = [train_X]\n",
    "train_X = np.array(train_X, dtype = np.float32)\n",
    "print(train_X.shape)"
   ]
  },
  {
   "cell_type": "markdown",
   "id": "handed-salad",
   "metadata": {},
   "source": [
    "## 2. SimpleRNN 이해하기"
   ]
  },
  {
   "cell_type": "code",
   "execution_count": 6,
   "id": "swedish-tower",
   "metadata": {},
   "outputs": [
    {
     "name": "stdout",
     "output_type": "stream",
     "text": [
      "hidden state: [[ 0.6230601   0.5862822  -0.99906266]], shape: (1, 3)\n"
     ]
    }
   ],
   "source": [
    "rnn = SimpleRNN(3)\n",
    "# = SimpleRNN(3, return_sequences = False, return_state= False)\n",
    "hidden_state = rnn(train_X)\n",
    "\n",
    "print('hidden state: {}, shape: {}'.format(hidden_state, hidden_state.shape))"
   ]
  },
  {
   "cell_type": "code",
   "execution_count": 7,
   "id": "durable-exception",
   "metadata": {},
   "outputs": [
    {
     "name": "stdout",
     "output_type": "stream",
     "text": [
      "hidden states : [[[-0.9995419  -0.98667276  0.7086636 ]\n",
      "  [-0.9675666  -0.9869088  -0.99089724]\n",
      "  [-0.9145511   0.78240275 -0.08381365]\n",
      "  [ 0.6811112  -0.9358884  -0.760372  ]]], shape : (1, 4, 3)\n"
     ]
    }
   ],
   "source": [
    "rnn = SimpleRNN(3, return_sequences = True)\n",
    "hidden_states = rnn(train_X)\n",
    "\n",
    "print('hidden states : {}, shape : {}'.format(hidden_states, hidden_states.shape))"
   ]
  },
  {
   "cell_type": "code",
   "execution_count": 8,
   "id": "scheduled-highway",
   "metadata": {},
   "outputs": [
    {
     "name": "stdout",
     "output_type": "stream",
     "text": [
      "hidden states : [[[ 0.91753644  0.99996495 -0.28961176]\n",
      "  [ 0.12394407  0.9948329  -0.46767345]\n",
      "  [ 0.9571372   0.994189   -0.31389728]\n",
      "  [-0.9348962   0.9168451   0.9055878 ]]], shape : (1, 4, 3)\n",
      "last state : [[-0.9348962  0.9168451  0.9055878]], shape: (1, 3)\n"
     ]
    }
   ],
   "source": [
    "rnn = SimpleRNN(3, return_sequences = True, return_state = True)\n",
    "hidden_states, last_state = rnn(train_X)\n",
    "\n",
    "print('hidden states : {}, shape : {}'.format(hidden_states, hidden_states.shape))\n",
    "print('last state : {}, shape: {}'.format(last_state, last_state.shape))"
   ]
  },
  {
   "cell_type": "code",
   "execution_count": 9,
   "id": "employed-lindsay",
   "metadata": {},
   "outputs": [
    {
     "name": "stdout",
     "output_type": "stream",
     "text": [
      "hidden state : [[-0.23981732  0.9985038  -0.8954732 ]], shape : (1, 3)\n",
      "last_state : [[-0.23981732  0.9985038  -0.8954732 ]], shape : (1, 3)\n"
     ]
    }
   ],
   "source": [
    "rnn = SimpleRNN(3, return_sequences = False, return_state = True)\n",
    "# return_sequences를 False로 설정하면 return 값은 마지막 시점의 은닉 상태\n",
    "# return_state는 마지막 출력 상태이므로 결국 위와 같음\n",
    "hidden_state, last_state = rnn(train_X)\n",
    "\n",
    "print('hidden state : {}, shape : {}'.format(hidden_state, hidden_state.shape))\n",
    "print('last_state : {}, shape : {}'.format(last_state, last_state.shape))"
   ]
  },
  {
   "cell_type": "markdown",
   "id": "superior-currency",
   "metadata": {},
   "source": [
    "SimpleRNN이 사용되는 경우는 거의 없고 LSTM이나 GRU가 주로 사용됨. 임의의 입력에 대해 LSTM을 사용할 경우를 확인하자!"
   ]
  },
  {
   "cell_type": "code",
   "execution_count": 10,
   "id": "chubby-pulse",
   "metadata": {},
   "outputs": [
    {
     "name": "stdout",
     "output_type": "stream",
     "text": [
      "hidden state: [[ 0.15818313 -0.4277363  -0.35995167]], shape: (1, 3)\n",
      "last state: [[ 0.15818313 -0.4277363  -0.35995167]], shape: (1, 3)\n",
      "last cell state: [[ 1.3171525  -0.8654924  -0.46476567]], shape: (1, 3)\n"
     ]
    }
   ],
   "source": [
    "lstm = LSTM(3, return_sequences = False, return_state = True)\n",
    "hidden_state, last_state, last_cell_state = lstm(train_X)\n",
    "\n",
    "print('hidden state: {}, shape: {}'.format(hidden_state, hidden_state.shape))\n",
    "print('last state: {}, shape: {}'.format(last_state, last_state.shape))\n",
    "print('last cell state: {}, shape: {}'.format(last_cell_state, last_cell_state.shape))"
   ]
  },
  {
   "cell_type": "code",
   "execution_count": 11,
   "id": "micro-manitoba",
   "metadata": {},
   "outputs": [
    {
     "name": "stdout",
     "output_type": "stream",
     "text": [
      "hidden states: [[[ 0.26998666 -0.23358071 -0.5874365 ]\n",
      "  [ 0.3618829  -0.32563525 -0.6285319 ]\n",
      "  [ 0.38525638 -0.27853763 -0.39876541]\n",
      "  [ 0.44024017 -0.35047087 -0.40042493]]], shape: (1, 4, 3)\n",
      "last state: [[ 0.44024017 -0.35047087 -0.40042493]], shape: (1, 3)\n",
      "last cell state: [[ 1.0452285 -1.2888783 -1.8749702]], shape: (1, 3)\n"
     ]
    }
   ],
   "source": [
    "lstm = LSTM(3, return_sequences = True, return_state = True)\n",
    "hidden_states, last_state, last_cell_state = lstm(train_X)\n",
    "\n",
    "\n",
    "print('hidden states: {}, shape: {}'.format(hidden_states, hidden_states.shape))\n",
    "print('last state: {}, shape: {}'.format(last_state, last_state.shape))\n",
    "print('last cell state: {}, shape: {}'.format(last_cell_state, last_cell_state.shape))"
   ]
  },
  {
   "cell_type": "markdown",
   "id": "rotary-diploma",
   "metadata": {},
   "source": [
    "## 3. Bidirectional(LSTM) 이해하기"
   ]
  },
  {
   "cell_type": "code",
   "execution_count": 12,
   "id": "utility-transmission",
   "metadata": {},
   "outputs": [],
   "source": [
    "k_init = tf.keras.initializers.Constant(value=0.1)\n",
    "b_init = tf.keras.initializers.Constant(value=0)\n",
    "r_init = tf.keras.initializers.Constant(value=0.1)"
   ]
  },
  {
   "cell_type": "code",
   "execution_count": 14,
   "id": "smart-investing",
   "metadata": {},
   "outputs": [
    {
     "name": "stdout",
     "output_type": "stream",
     "text": [
      "hidden_states: [[0.6303138 0.6303138 0.6303138 0.7038734 0.7038734 0.7038734]], shape: (1, 6)\n",
      "forward state: [[0.6303138 0.6303138 0.6303138]], shape: (1, 3)\n",
      "backward state: [[0.7038734 0.7038734 0.7038734]], shape: (1, 3)\n"
     ]
    }
   ],
   "source": [
    "bilstm = Bidirectional(LSTM(3, return_sequences = False, return_state = True,\n",
    "                           kernel_initializer=k_init, bias_initializer=b_init, recurrent_initializer=r_init))\n",
    "hidden_states, forward_h, forward_c, backward_h, backward_c = bilstm(train_X)\n",
    "\n",
    "print('hidden_states: {}, shape: {}'.format(hidden_states, hidden_states.shape))\n",
    "print('forward state: {}, shape: {}'.format(forward_h, forward_h.shape))\n",
    "print('backward state: {}, shape: {}'.format(backward_h, backward_h.shape))"
   ]
  },
  {
   "cell_type": "code",
   "execution_count": 15,
   "id": "solar-rhythm",
   "metadata": {},
   "outputs": [],
   "source": [
    "bilstm = Bidirectional(LSTM(3, return_sequences = True, return_state = True,\n",
    "                           kernel_initializer=k_init, bias_initializer=b_init, recurrent_initializer=r_init))\n",
    "\n",
    "hidden_states, forward_h, forward_c, backward_h, backward_c = bilstm(train_X)"
   ]
  },
  {
   "cell_type": "code",
   "execution_count": 16,
   "id": "experienced-stomach",
   "metadata": {},
   "outputs": [
    {
     "name": "stdout",
     "output_type": "stream",
     "text": [
      "hidden states: [[[0.35906473 0.35906473 0.35906473 0.7038734  0.7038734  0.7038734 ]\n",
      "  [0.55111325 0.55111325 0.55111325 0.58863586 0.58863586 0.58863586]\n",
      "  [0.59115744 0.59115744 0.59115744 0.3951699  0.3951699  0.3951699 ]\n",
      "  [0.6303138  0.6303138  0.6303138  0.21942243 0.21942243 0.21942243]]], shape: (1, 4, 6)\n",
      "forward state: [[0.6303138 0.6303138 0.6303138]], shape: (1, 3)\n",
      "backward state: [[0.7038734 0.7038734 0.7038734]], shape: (1, 3)\n"
     ]
    }
   ],
   "source": [
    "print('hidden states: {}, shape: {}'.format(hidden_states, hidden_states.shape))\n",
    "print('forward state: {}, shape: {}'.format(forward_h, forward_h.shape))\n",
    "print('backward state: {}, shape: {}'.format(backward_h, backward_h.shape))"
   ]
  },
  {
   "cell_type": "code",
   "execution_count": null,
   "id": "champion-planet",
   "metadata": {},
   "outputs": [],
   "source": []
  }
 ],
 "metadata": {
  "kernelspec": {
   "display_name": "Python 3",
   "language": "python",
   "name": "python3"
  },
  "language_info": {
   "codemirror_mode": {
    "name": "ipython",
    "version": 3
   },
   "file_extension": ".py",
   "mimetype": "text/x-python",
   "name": "python",
   "nbconvert_exporter": "python",
   "pygments_lexer": "ipython3",
   "version": "3.6.13"
  }
 },
 "nbformat": 4,
 "nbformat_minor": 5
}
