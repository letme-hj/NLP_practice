{
 "cells": [
  {
   "cell_type": "markdown",
   "id": "afraid-clearing",
   "metadata": {},
   "source": [
    "all exercises based on [Introduction to Deep Learning for Natural Language Processing, wikidocs](https://wikidocs.net/21698)"
   ]
  },
  {
   "cell_type": "markdown",
   "id": "parallel-throw",
   "metadata": {},
   "source": [
    "## Word Tokenization (단어 토큰화)"
   ]
  },
  {
   "cell_type": "markdown",
   "id": "continental-hospital",
   "metadata": {},
   "source": [
    "- **NLTK**"
   ]
  },
  {
   "cell_type": "code",
   "execution_count": 1,
   "id": "damaged-idaho",
   "metadata": {},
   "outputs": [
    {
     "name": "stdout",
     "output_type": "stream",
     "text": [
      "['Do', \"n't\", 'be', 'fooled', 'by', 'the', 'dark', 'sounding', 'name', ',', 'Mr.', 'Jone', \"'s\", 'Orphanage', 'is', 'as', 'cheery', 'as', 'cheery', 'goes', 'for', 'a', 'pastry', 'shop', '.']\n"
     ]
    }
   ],
   "source": [
    "from nltk.tokenize import word_tokenize\n",
    "print(word_tokenize(\"Don't be fooled by the dark sounding name, Mr. Jone's Orphanage is as cheery as cheery goes for a pastry shop.\"))"
   ]
  },
  {
   "cell_type": "code",
   "execution_count": 2,
   "id": "tired-signature",
   "metadata": {},
   "outputs": [
    {
     "name": "stdout",
     "output_type": "stream",
     "text": [
      "['Don', \"'\", 't', 'be', 'fooled', 'by', 'the', 'dark', 'sounding', 'name', ',', 'Mr', '.', 'Jone', \"'\", 's', 'Orphanage', 'is', 'as', 'cheery', 'as', 'cheery', 'goes', 'for', 'a', 'pastry', 'shop', '.']\n"
     ]
    }
   ],
   "source": [
    "from nltk.tokenize import WordPunctTokenizer # 구두점을 별도로 분류\n",
    "print(WordPunctTokenizer().tokenize(\"Don't be fooled by the dark sounding name, Mr. Jone's Orphanage is as cheery as cheery goes for a pastry shop.\"))"
   ]
  },
  {
   "cell_type": "markdown",
   "id": "ordered-above",
   "metadata": {},
   "source": [
    "- **keras**"
   ]
  },
  {
   "cell_type": "code",
   "execution_count": 4,
   "id": "portable-trader",
   "metadata": {},
   "outputs": [
    {
     "name": "stdout",
     "output_type": "stream",
     "text": [
      "[\"don't\", 'be', 'fooled', 'by', 'the', 'dark', 'sounding', 'name', 'mr', \"jone's\", 'orphanage', 'is', 'as', 'cheery', 'as', 'cheery', 'goes', 'for', 'a', 'pastry', 'shop']\n"
     ]
    }
   ],
   "source": [
    "from tensorflow.keras.preprocessing.text import text_to_word_sequence # 알파벳 모두 lower, 컴마 마침표 느낌표 등의 구두점 제거. ' 는 보존.\n",
    "print(text_to_word_sequence(\"Don't be fooled by the dark sounding name, Mr. Jone's Orphanage is as cheery as cheery goes for a pastry shop.\"))"
   ]
  },
  {
   "cell_type": "code",
   "execution_count": 5,
   "id": "portuguese-contributor",
   "metadata": {},
   "outputs": [
    {
     "name": "stdout",
     "output_type": "stream",
     "text": [
      "['Starting', 'a', 'home-based', 'restaurant', 'may', 'be', 'an', 'ideal.', 'it', 'does', \"n't\", 'have', 'a', 'food', 'chain', 'or', 'resaurant', 'of', 'their', 'own', '.']\n"
     ]
    }
   ],
   "source": [
    "# 표준 토큰화 예제\n",
    "# 1. 하이픈으로 구성된 단어는 하나로 유지\n",
    "# 2. doesn't와 같이, '로 접어가 함께하는 단어는 분리해줌 (doesn't -> does, n't)\n",
    "from nltk.tokenize import TreebankWordTokenizer\n",
    "tokenizer = TreebankWordTokenizer()\n",
    "text = \"Starting a home-based restaurant may be an ideal. it doesn't have a food chain or resaurant of their own.\"\n",
    "print(tokenizer.tokenize(text))"
   ]
  },
  {
   "cell_type": "markdown",
   "id": "angry-advocacy",
   "metadata": {},
   "source": [
    "## Sentence Tokenization (문장 토큰화)\n",
    "갖고 있는 코퍼스 내에서 문장 단위로 구분하는 작업. 문장분류(sentence segmentation)라고도 함"
   ]
  },
  {
   "cell_type": "markdown",
   "id": "polished-watershed",
   "metadata": {},
   "source": [
    "- **NLTK**"
   ]
  },
  {
   "cell_type": "code",
   "execution_count": 6,
   "id": "human-provider",
   "metadata": {},
   "outputs": [
    {
     "name": "stdout",
     "output_type": "stream",
     "text": [
      "['His barber kept his word.', 'But keeping such a huge secret to himself was driving him crazy.', 'Finally, the barber went up a mountain and almost to the edge of a cliff.', 'He dug a hole in the midst of some reeds.', 'He looked about, to make sure no one was near.']\n"
     ]
    }
   ],
   "source": [
    "from nltk.tokenize import sent_tokenize\n",
    "text = \"His barber kept his word. But keeping such a huge secret to himself was driving him crazy. Finally, the barber went up a mountain and almost to the edge of a cliff. He dug a hole in the midst of some reeds. He looked about, to make sure no one was near.\"\n",
    "print(sent_tokenize(text)) # cf. 문장 중간에 마침표 등장하는 case 없음"
   ]
  },
  {
   "cell_type": "code",
   "execution_count": 7,
   "id": "demonstrated-cowboy",
   "metadata": {},
   "outputs": [
    {
     "name": "stdout",
     "output_type": "stream",
     "text": [
      "['I am actively looking for Ph.D. students.', 'and you are a Ph.D student.']\n"
     ]
    }
   ],
   "source": [
    "text = \"I am actively looking for Ph.D. students. and you are a Ph.D student.\"\n",
    "print(sent_tokenize(text)) # cf. 문장 중간에 마침표 등장하는 case 있음\n",
    "\n",
    "# nltk는 단순히 마침표를 구분자로 문장을 구분하지 않음"
   ]
  },
  {
   "cell_type": "markdown",
   "id": "pursuant-supplier",
   "metadata": {},
   "source": [
    "- **KSS (Korean Sentence Splitter)**"
   ]
  },
  {
   "cell_type": "code",
   "execution_count": 1,
   "id": "potential-documentation",
   "metadata": {},
   "outputs": [
    {
     "name": "stdout",
     "output_type": "stream",
     "text": [
      "['딥러닝 자연어처리가 재미있기는 합니다.', '그런데 문제는 영어보다 한국어로 할 때 너무 어려워요.', '농담 아니에요.', '이제 해보면 알 걸요?']\n"
     ]
    }
   ],
   "source": [
    "import kss\n",
    "\n",
    "text = \"딥러닝 자연어처리가 재미있기는 합니다. 그런데 문제는 영어보다 한국어로 할 때 너무 어려워요. 농담 아니에요. 이제 해보면 알 걸요?\"\n",
    "print(kss.split_sentences(text)) # 정상으로 나뉨"
   ]
  },
  {
   "cell_type": "code",
   "execution_count": 2,
   "id": "nominated-collaboration",
   "metadata": {},
   "outputs": [
    {
     "name": "stdout",
     "output_type": "stream",
     "text": [
      "['잘.들.어.', '좀. 사실 잘 모르겠어...', '진짜? 으악! 이렇게 다 이어쓰면 어떻게 됨?']\n"
     ]
    }
   ],
   "source": [
    "text2 = \"잘.들.어.좀. 사실 잘 모르겠어... 진짜? 으악! 이렇게 다 이어쓰면 어떻게 됨?\"\n",
    "print(kss.split_sentences(text2)) # 특이하게 나뉘네... 기준이 뭘까"
   ]
  },
  {
   "cell_type": "markdown",
   "id": "organizational-absolute",
   "metadata": {},
   "source": [
    "## Part-of-speech tagging\n",
    "품사 태깅 = POS"
   ]
  },
  {
   "cell_type": "markdown",
   "id": "synthetic-viewer",
   "metadata": {},
   "source": [
    "## NLTK, KoNLPy 패키지로 영어, 한국어 실습"
   ]
  },
  {
   "cell_type": "code",
   "execution_count": 2,
   "id": "popular-olive",
   "metadata": {},
   "outputs": [
    {
     "name": "stdout",
     "output_type": "stream",
     "text": [
      "['I', 'am', 'actively', 'looking', 'for', 'Ph.D.', 'students', '.', 'and', 'you', 'are', 'a', 'Ph.D.', 'student', '.']\n"
     ]
    }
   ],
   "source": [
    "from nltk.tokenize import word_tokenize\n",
    "text = \"I am actively looking for Ph.D. students. and you are a Ph.D. student.\"\n",
    "print(word_tokenize(text))"
   ]
  },
  {
   "cell_type": "code",
   "execution_count": 3,
   "id": "focused-scholarship",
   "metadata": {},
   "outputs": [
    {
     "data": {
      "text/plain": [
       "[('I', 'PRP'),\n",
       " ('am', 'VBP'),\n",
       " ('actively', 'RB'),\n",
       " ('looking', 'VBG'),\n",
       " ('for', 'IN'),\n",
       " ('Ph.D.', 'NNP'),\n",
       " ('students', 'NNS'),\n",
       " ('.', '.'),\n",
       " ('and', 'CC'),\n",
       " ('you', 'PRP'),\n",
       " ('are', 'VBP'),\n",
       " ('a', 'DT'),\n",
       " ('Ph.D.', 'NNP'),\n",
       " ('student', 'NN'),\n",
       " ('.', '.')]"
      ]
     },
     "execution_count": 3,
     "metadata": {},
     "output_type": "execute_result"
    }
   ],
   "source": [
    "# POS\n",
    "from nltk.tag import pos_tag\n",
    "x = word_tokenize(text)\n",
    "pos_tag(x) # tag after tokenization"
   ]
  },
  {
   "cell_type": "code",
   "execution_count": 4,
   "id": "silver-wales",
   "metadata": {},
   "outputs": [
    {
     "name": "stdout",
     "output_type": "stream",
     "text": [
      "['열심히', '코딩', '한', '당신', ',', '연휴', '에는', '여행', '을', '가봐요', '.']\n"
     ]
    }
   ],
   "source": [
    "# 한국어 POS _ Okt\n",
    "from konlpy.tag import Okt\n",
    "okt = Okt()\n",
    "print(okt.morphs(\"열심히 코딩한 당신, 연휴에는 여행을 가봐요.\")) # 구두점 분리"
   ]
  },
  {
   "cell_type": "code",
   "execution_count": 5,
   "id": "executive-translator",
   "metadata": {},
   "outputs": [
    {
     "name": "stdout",
     "output_type": "stream",
     "text": [
      "[('열심히', 'Adverb'), ('코딩', 'Noun'), ('한', 'Josa'), ('당신', 'Noun'), (',', 'Punctuation'), ('연휴', 'Noun'), ('에는', 'Josa'), ('여행', 'Noun'), ('을', 'Josa'), ('가봐요', 'Verb'), ('.', 'Punctuation')]\n"
     ]
    }
   ],
   "source": [
    "print(okt.pos(\"열심히 코딩한 당신, 연휴에는 여행을 가봐요.\")) # 단어 단위의 tagging (어미 tagging은 없음)"
   ]
  },
  {
   "cell_type": "code",
   "execution_count": 6,
   "id": "private-baghdad",
   "metadata": {},
   "outputs": [
    {
     "name": "stdout",
     "output_type": "stream",
     "text": [
      "['코딩', '당신', '연휴', '여행']\n"
     ]
    }
   ],
   "source": [
    "print(okt.nouns('열심히 코딩한 당신, 연휴에는 여행을 가봐요.')) # 명사 추출 (명사 말고는 안되는 듯. verbs 등)"
   ]
  },
  {
   "cell_type": "code",
   "execution_count": 9,
   "id": "unlike-bowling",
   "metadata": {},
   "outputs": [
    {
     "name": "stdout",
     "output_type": "stream",
     "text": [
      "['열심히', '코딩', '하', 'ㄴ', '당신', ',', '연휴', '에', '는', '여행', '을', '가보', '아요', '.']\n"
     ]
    }
   ],
   "source": [
    "# 한국어 POS _ Kkma\n",
    "from konlpy.tag import Kkma\n",
    "kkma = Kkma()\n",
    "print(kkma.morphs('열심히 코딩한 당신, 연휴에는 여행을 가봐요.'))"
   ]
  },
  {
   "cell_type": "code",
   "execution_count": 10,
   "id": "emotional-occasion",
   "metadata": {},
   "outputs": [
    {
     "name": "stdout",
     "output_type": "stream",
     "text": [
      "[('열심히', 'MAG'), ('코딩', 'NNG'), ('하', 'XSV'), ('ㄴ', 'ETD'), ('당신', 'NP'), (',', 'SP'), ('연휴', 'NNG'), ('에', 'JKM'), ('는', 'JX'), ('여행', 'NNG'), ('을', 'JKO'), ('가보', 'VV'), ('아요', 'EFN'), ('.', 'SF')]\n"
     ]
    }
   ],
   "source": [
    "print(kkma.pos(\"열심히 코딩한 당신, 연휴에는 여행을 가봐요.\"))"
   ]
  },
  {
   "cell_type": "code",
   "execution_count": 11,
   "id": "prompt-highland",
   "metadata": {},
   "outputs": [
    {
     "name": "stdout",
     "output_type": "stream",
     "text": [
      "['코딩', '당신', '연휴', '여행']\n"
     ]
    }
   ],
   "source": [
    "print(kkma.nouns(\"열심히 코딩한 당신, 연휴에는 여행을 가봐요\"))"
   ]
  },
  {
   "cell_type": "markdown",
   "id": "prerequisite-hamburg",
   "metadata": {},
   "source": [
    "windows10 메캅(Mecab) 설치 https://cleancode-ws.tistory.com/97\n",
    "<br>\n",
    "필요에 따라 다른 형태소분석기 사용 가능. 속도를 중시한다면 메캅을 추천\n",
    "<br><br>\n",
    "\n",
    "[한국어 형태소분석기 성능 비교 1](https://iostream.tistory.com/144)<br>\n",
    "[한국어 형태소분석기 성능 비교 2](http://www.engear.net/wp/%ED%95%9C%EA%B8%80-%ED%98%95%ED%83%9C%EC%86%8C-%EB%B6%84%EC%84%9D%EA%B8%B0-%EB%B9%84%EA%B5%90/)"
   ]
  },
  {
   "cell_type": "code",
   "execution_count": null,
   "id": "terminal-shape",
   "metadata": {},
   "outputs": [],
   "source": []
  }
 ],
 "metadata": {
  "kernelspec": {
   "display_name": "Python 3",
   "language": "python",
   "name": "python3"
  },
  "language_info": {
   "codemirror_mode": {
    "name": "ipython",
    "version": 3
   },
   "file_extension": ".py",
   "mimetype": "text/x-python",
   "name": "python",
   "nbconvert_exporter": "python",
   "pygments_lexer": "ipython3",
   "version": "3.6.13"
  }
 },
 "nbformat": 4,
 "nbformat_minor": 5
}
