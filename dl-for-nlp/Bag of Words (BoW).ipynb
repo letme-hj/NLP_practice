{
 "cells": [
  {
   "cell_type": "markdown",
   "id": "close-keyboard",
   "metadata": {},
   "source": [
    "all exercises based on [Introduction to Deep Learning for NLP](https://wikidocs.net/31698)"
   ]
  },
  {
   "cell_type": "markdown",
   "id": "naked-nightmare",
   "metadata": {},
   "source": [
    "### BoW 만들기\n",
    "1. 각 단어에 고유한 정수 인덱스 부여\n",
    "2. 각 인덱스의 위치에 단어 토큰의 등장 횟수를 기록한 벡터 생성"
   ]
  },
  {
   "cell_type": "markdown",
   "id": "fallen-madonna",
   "metadata": {},
   "source": [
    "연습 문장<br>\n",
    "**정부가 발표하는 물가상승률과 소비자가 느끼는 물가상승률은 다르다.**"
   ]
  },
  {
   "cell_type": "code",
   "execution_count": 2,
   "id": "incomplete-smart",
   "metadata": {},
   "outputs": [],
   "source": [
    "# 입력 문서에 대한 단어 집합(vocabulary) 만들기 + 인덱스 할당 + BoW 생성\n",
    "from konlpy.tag import Okt\n",
    "import re\n",
    "okt = Okt()\n",
    "\n",
    "token = re.sub(\"(\\.)\",\"\",\"정부가 발표하는 물가상승률과 소비자가 느끼는 물가상승률은 다르다.\") # 온점 제거\n",
    "token = okt.morphs(token) # okt 형태소분석기로 토큰화한 걸 token에 담기"
   ]
  },
  {
   "cell_type": "code",
   "execution_count": 3,
   "id": "identified-palace",
   "metadata": {},
   "outputs": [
    {
     "name": "stdout",
     "output_type": "stream",
     "text": [
      "{'정부': 0, '가': 1, '발표': 2, '하는': 3, '물가상승률': 4, '과': 5, '소비자': 6, '느끼는': 7, '은': 8, '다르다': 9}\n",
      "[1, 2, 1, 1, 2, 1, 1, 1, 1, 1]\n"
     ]
    }
   ],
   "source": [
    "word2index = {}\n",
    "bow = []\n",
    "for word in token:\n",
    "    if word not in word2index:\n",
    "        word2index[word] = len(word2index)\n",
    "        bow.insert(len(word2index)-1, 1) # dict는 없는 key를 인덱싱하고 값 넣으면 새로운 key&value가 생성되지만, list는 index out of range 오류 뜸. insert로 해줘야 함\n",
    "    else:\n",
    "        bow[word2index[word]] += 1\n",
    "print(word2index)\n",
    "print(bow)"
   ]
  },
  {
   "cell_type": "markdown",
   "id": "julian-editor",
   "metadata": {},
   "source": [
    "예전에 했던 정수 인코딩, one hot encoding 실습 시의 방식과는 달리, 빈도수는 인덱스 순서와는 아무런 상관 없음. 중요한 건 등장 빈도.\n",
    "\n",
    "연습문장<br>\n",
    "**소비자는 주로 소비하는 상품을 기준으로 물가상승률을 느낀다.**"
   ]
  },
  {
   "cell_type": "code",
   "execution_count": 4,
   "id": "asian-interim",
   "metadata": {},
   "outputs": [
    {
     "name": "stdout",
     "output_type": "stream",
     "text": [
      "{'정부': 0, '가': 1, '발표': 2, '하는': 3, '물가상승률': 4, '과': 5, '소비자': 6, '느끼는': 7, '은': 8, '다르다': 9, '는': 10, '주로': 11, '소비': 12, '상품': 13, '을': 14, '기준': 15, '으로': 16, '느낀다': 17}\n",
      "[1, 2, 1, 2, 3, 1, 2, 1, 1, 1, 1, 1, 1, 1, 2, 1, 1, 1]\n"
     ]
    }
   ],
   "source": [
    "# 문장 1, 2를 합쳐서 BoW 만들기\n",
    "token3= re.sub(\"(\\.)\", \"\", \"정부가 발표하는 물가상승률과 소비자가 느끼는 물가상승률은 다르다. 소비자는 주로 소비하는 상품을 기준으로 물가상승률을 느낀다.\")\n",
    "token3 = okt.morphs(token3)\n",
    "\n",
    "\n",
    "word2index3 = {}\n",
    "bow3 = []\n",
    "for word in token3:\n",
    "    if word not in word2index3:\n",
    "        word2index3[word] = len(word2index3)\n",
    "        bow3.insert(len(word2index3)-1, 1)\n",
    "    else:\n",
    "        bow3[word2index3[word]] +=1\n",
    "\n",
    "print(word2index3)\n",
    "print(bow3)"
   ]
  },
  {
   "cell_type": "code",
   "execution_count": 5,
   "id": "reduced-skirt",
   "metadata": {},
   "outputs": [],
   "source": [
    "token2 = re.sub('(\\.)', \"\", \"소비자는 주로 소비하는 상품을 기준으로 물가상승률을 느낀다.\")\n",
    "token2 = okt.morphs(token2)\n",
    "\n",
    "\n",
    "# 문서 3에서 만든 단어 사전으로 문서 1, 2의 BoW을 만들어볼 것\n",
    "bow2 = [0] * len(bow3)\n",
    "bow = [0] * len(word2index3)\n",
    "\n",
    "for word in token2:\n",
    "    if word not in word2index3:\n",
    "        word2index3[word] = len(word2index3)\n",
    "        bow2.insert(len(word2index3)-1, 1)\n",
    "    else:\n",
    "        bow2[word2index3[word]] +=1\n",
    "        \n",
    "for word in token:\n",
    "    if word not in word2index3:\n",
    "        word2index3[word] = len(word2index3)\n",
    "        bow.insert(len(word2index3)-1, 1)\n",
    "    else:\n",
    "        bow[word2index3[word]] +=1"
   ]
  },
  {
   "cell_type": "code",
   "execution_count": 6,
   "id": "formal-airline",
   "metadata": {},
   "outputs": [
    {
     "name": "stdout",
     "output_type": "stream",
     "text": [
      "[1, 2, 1, 1, 2, 1, 1, 1, 1, 1, 0, 0, 0, 0, 0, 0, 0, 0]\n",
      "[0, 0, 0, 1, 1, 0, 1, 0, 0, 0, 1, 1, 1, 1, 2, 1, 1, 1]\n"
     ]
    }
   ],
   "source": [
    "print(bow)\n",
    "print(bow2)"
   ]
  },
  {
   "cell_type": "markdown",
   "id": "prerequisite-shield",
   "metadata": {},
   "source": [
    "### CountVectorizer 클래스로 BoW 생성"
   ]
  },
  {
   "cell_type": "code",
   "execution_count": 7,
   "id": "miniature-michael",
   "metadata": {},
   "outputs": [
    {
     "name": "stdout",
     "output_type": "stream",
     "text": [
      "[[1 1 2 1 2 1]]\n",
      "{'you': 4, 'know': 1, 'want': 3, 'your': 5, 'love': 2, 'because': 0}\n"
     ]
    }
   ],
   "source": [
    "from sklearn.feature_extraction.text import CountVectorizer # 단어의 빈도를 count해 vector로 만들어줌.(영어) 손쉽게 만들 수 있음\n",
    "corpus = ['you know I want your love. because I love you.']\n",
    "vector = CountVectorizer()\n",
    "print(vector.fit_transform(corpus).toarray())\n",
    "print(vector.vocabulary_)"
   ]
  },
  {
   "cell_type": "code",
   "execution_count": 9,
   "id": "surprised-costume",
   "metadata": {},
   "outputs": [
    {
     "name": "stdout",
     "output_type": "stream",
     "text": [
      "[[1 1 1 1 1]]\n",
      "{'family': 1, 'important': 2, 'thing': 4, 'it': 3, 'everything': 0}\n"
     ]
    }
   ],
   "source": [
    "# 불용어를 제거한 BoW\n",
    "\n",
    "from sklearn.feature_extraction.text import CountVectorizer\n",
    "\n",
    "text = [\"Family is not an important thing. It's everything.\"]\n",
    "vect = CountVectorizer(stop_words = ['the', 'a', 'an', 'is', 'not']) # 사용자 정의 불용어\n",
    "print(vect.fit_transform(text).toarray())\n",
    "print(vect.vocabulary_)\n"
   ]
  },
  {
   "cell_type": "code",
   "execution_count": 11,
   "id": "greatest-mathematics",
   "metadata": {},
   "outputs": [
    {
     "name": "stdout",
     "output_type": "stream",
     "text": [
      "[[1 1 1]]\n",
      "{'family': 0, 'important': 1, 'thing': 2}\n"
     ]
    }
   ],
   "source": [
    "# CountVectorizer가 제공하는 자체 불용어\n",
    "\n",
    "vect = CountVectorizer(stop_words = \"english\") # everything 까지 불용어로 없앰\n",
    "print(vect.fit_transform(text).toarray()) \n",
    "print(vect.vocabulary_)"
   ]
  },
  {
   "cell_type": "code",
   "execution_count": 12,
   "id": "analyzed-waste",
   "metadata": {},
   "outputs": [
    {
     "name": "stdout",
     "output_type": "stream",
     "text": [
      "[[1 1 1 1]]\n",
      "{'family': 1, 'important': 2, 'thing': 3, 'everything': 0}\n"
     ]
    }
   ],
   "source": [
    "# nltk가 제공하는 자체 불용어\n",
    "from nltk.corpus import stopwords\n",
    "\n",
    "sw = stopwords.words('english')\n",
    "vect = CountVectorizer(stop_words = sw)\n",
    "print(vect.fit_transform(text).toarray())\n",
    "print(vect.vocabulary_)\n"
   ]
  },
  {
   "cell_type": "code",
   "execution_count": null,
   "id": "formed-ordering",
   "metadata": {},
   "outputs": [],
   "source": []
  }
 ],
 "metadata": {
  "kernelspec": {
   "display_name": "Python 3",
   "language": "python",
   "name": "python3"
  },
  "language_info": {
   "codemirror_mode": {
    "name": "ipython",
    "version": 3
   },
   "file_extension": ".py",
   "mimetype": "text/x-python",
   "name": "python",
   "nbconvert_exporter": "python",
   "pygments_lexer": "ipython3",
   "version": "3.7.7"
  }
 },
 "nbformat": 4,
 "nbformat_minor": 5
}
