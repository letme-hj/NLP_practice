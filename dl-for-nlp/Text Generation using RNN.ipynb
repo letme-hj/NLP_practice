{
 "cells": [
  {
   "cell_type": "markdown",
   "id": "compressed-dress",
   "metadata": {},
   "source": [
    "all exercises based on [Deep Learning for NLP](https://wikidocs.net/45101)"
   ]
  },
  {
   "cell_type": "code",
   "execution_count": 6,
   "id": "anonymous-sauce",
   "metadata": {},
   "outputs": [],
   "source": [
    "from tensorflow.keras.preprocessing.text import Tokenizer\n",
    "from tensorflow.keras.preprocessing.sequence import pad_sequences\n",
    "import numpy as np\n",
    "from tensorflow.keras.utils import to_categorical"
   ]
  },
  {
   "cell_type": "markdown",
   "id": "inner-strip",
   "metadata": {},
   "source": [
    "## 1) 데이터 이해와 전처리"
   ]
  },
  {
   "cell_type": "code",
   "execution_count": 42,
   "id": "touched-lemon",
   "metadata": {},
   "outputs": [],
   "source": [
    "text = \"\"\"경마장에 있는 말이 뛰고 있다\n",
    "그의 말이 법이다\n",
    "가는 말이 고와야 오는 말이 곱다\"\"\""
   ]
  },
  {
   "cell_type": "code",
   "execution_count": 43,
   "id": "hidden-moscow",
   "metadata": {},
   "outputs": [
    {
     "name": "stdout",
     "output_type": "stream",
     "text": [
      "단어 집합의 크기: 12\n"
     ]
    }
   ],
   "source": [
    "t = Tokenizer()\n",
    "t.fit_on_texts([text]) # 리스트로 넣어야 함\n",
    "vocab_size = len(t.word_index) + 1\n",
    "print('단어 집합의 크기: %d' % vocab_size)"
   ]
  },
  {
   "cell_type": "code",
   "execution_count": 44,
   "id": "contained-bubble",
   "metadata": {},
   "outputs": [
    {
     "name": "stdout",
     "output_type": "stream",
     "text": [
      "{'말이': 1, '경마장에': 2, '있는': 3, '뛰고': 4, '있다': 5, '그의': 6, '법이다': 7, '가는': 8, '고와야': 9, '오는': 10, '곱다': 11}\n"
     ]
    }
   ],
   "source": [
    "print(t.word_index)"
   ]
  },
  {
   "cell_type": "code",
   "execution_count": 45,
   "id": "minute-trainer",
   "metadata": {},
   "outputs": [
    {
     "data": {
      "text/plain": [
       "[[1, 2, 8]]"
      ]
     },
     "execution_count": 45,
     "metadata": {},
     "output_type": "execute_result"
    }
   ],
   "source": [
    "t.texts_to_sequences(['말이 경마장에 가는 법이다람쥐'])"
   ]
  },
  {
   "cell_type": "code",
   "execution_count": 46,
   "id": "driven-graduation",
   "metadata": {},
   "outputs": [
    {
     "name": "stdout",
     "output_type": "stream",
     "text": [
      "학습에 사용할 샘플의 개수: 11\n"
     ]
    }
   ],
   "source": [
    "sequences = list()\n",
    "for line in text.split('\\n'):\n",
    "    encoded = t.texts_to_sequences([line])[0]\n",
    "    for i in range(1, len(encoded)):\n",
    "        sequence = encoded[:i+1]\n",
    "        sequences.append(sequence)\n",
    "        \n",
    "print('학습에 사용할 샘플의 개수: %d' % len(sequences))"
   ]
  },
  {
   "cell_type": "code",
   "execution_count": 47,
   "id": "dependent-milan",
   "metadata": {},
   "outputs": [
    {
     "name": "stdout",
     "output_type": "stream",
     "text": [
      "[[2, 3], [2, 3, 1], [2, 3, 1, 4], [2, 3, 1, 4, 5], [6, 1], [6, 1, 7], [8, 1], [8, 1, 9], [8, 1, 9, 10], [8, 1, 9, 10, 1], [8, 1, 9, 10, 1, 11]]\n"
     ]
    }
   ],
   "source": [
    "print(sequences)"
   ]
  },
  {
   "cell_type": "code",
   "execution_count": 48,
   "id": "substantial-empire",
   "metadata": {},
   "outputs": [
    {
     "name": "stdout",
     "output_type": "stream",
     "text": [
      "샘플의 최대 길이: 6\n"
     ]
    }
   ],
   "source": [
    "max_len = max(len(l) for l in sequences)\n",
    "\n",
    "print('샘플의 최대 길이: {}'.format(max_len))\n",
    "# 이 최대 길이로 샘플 길이 padding"
   ]
  },
  {
   "cell_type": "code",
   "execution_count": 49,
   "id": "great-traffic",
   "metadata": {},
   "outputs": [],
   "source": [
    "sequences = pad_sequences(sequences, maxlen = max_len, padding = 'pre')"
   ]
  },
  {
   "cell_type": "code",
   "execution_count": 50,
   "id": "mechanical-projector",
   "metadata": {},
   "outputs": [
    {
     "name": "stdout",
     "output_type": "stream",
     "text": [
      "[[ 0  0  0  0  2  3]\n",
      " [ 0  0  0  2  3  1]\n",
      " [ 0  0  2  3  1  4]\n",
      " [ 0  2  3  1  4  5]\n",
      " [ 0  0  0  0  6  1]\n",
      " [ 0  0  0  6  1  7]\n",
      " [ 0  0  0  0  8  1]\n",
      " [ 0  0  0  8  1  9]\n",
      " [ 0  0  8  1  9 10]\n",
      " [ 0  8  1  9 10  1]\n",
      " [ 8  1  9 10  1 11]]\n"
     ]
    }
   ],
   "source": [
    "print(sequences)"
   ]
  },
  {
   "cell_type": "code",
   "execution_count": 51,
   "id": "christian-furniture",
   "metadata": {},
   "outputs": [],
   "source": [
    "# 마지막 label 데이터 분리\n",
    "sequences = np.array(sequences)\n",
    "X = sequences[:, :-1]\n",
    "y = sequences[:, -1]\n",
    "# 리스트의 마지막 값을 제외하고 저장한 건 X\n",
    "# 리스트의 마지막 값만 저장한 건 y (레이블)"
   ]
  },
  {
   "cell_type": "code",
   "execution_count": 52,
   "id": "acting-athletics",
   "metadata": {},
   "outputs": [
    {
     "name": "stdout",
     "output_type": "stream",
     "text": [
      "[[ 0  0  0  0  2]\n",
      " [ 0  0  0  2  3]\n",
      " [ 0  0  2  3  1]\n",
      " [ 0  2  3  1  4]\n",
      " [ 0  0  0  0  6]\n",
      " [ 0  0  0  6  1]\n",
      " [ 0  0  0  0  8]\n",
      " [ 0  0  0  8  1]\n",
      " [ 0  0  8  1  9]\n",
      " [ 0  8  1  9 10]\n",
      " [ 8  1  9 10  1]]\n"
     ]
    }
   ],
   "source": [
    "print(X)"
   ]
  },
  {
   "cell_type": "code",
   "execution_count": 53,
   "id": "detailed-madagascar",
   "metadata": {},
   "outputs": [
    {
     "name": "stdout",
     "output_type": "stream",
     "text": [
      "[ 3  1  4  5  1  7  1  9 10  1 11]\n"
     ]
    }
   ],
   "source": [
    "print(y)"
   ]
  },
  {
   "cell_type": "code",
   "execution_count": 54,
   "id": "opposite-convention",
   "metadata": {},
   "outputs": [],
   "source": [
    "# 레이블을 원핫인코딩 해줘야해\n",
    "y = to_categorical(y, num_classes=vocab_size)"
   ]
  },
  {
   "cell_type": "code",
   "execution_count": 55,
   "id": "purple-frank",
   "metadata": {},
   "outputs": [
    {
     "name": "stdout",
     "output_type": "stream",
     "text": [
      "[[0. 0. 0. 1. 0. 0. 0. 0. 0. 0. 0. 0.]\n",
      " [0. 1. 0. 0. 0. 0. 0. 0. 0. 0. 0. 0.]\n",
      " [0. 0. 0. 0. 1. 0. 0. 0. 0. 0. 0. 0.]\n",
      " [0. 0. 0. 0. 0. 1. 0. 0. 0. 0. 0. 0.]\n",
      " [0. 1. 0. 0. 0. 0. 0. 0. 0. 0. 0. 0.]\n",
      " [0. 0. 0. 0. 0. 0. 0. 1. 0. 0. 0. 0.]\n",
      " [0. 1. 0. 0. 0. 0. 0. 0. 0. 0. 0. 0.]\n",
      " [0. 0. 0. 0. 0. 0. 0. 0. 0. 1. 0. 0.]\n",
      " [0. 0. 0. 0. 0. 0. 0. 0. 0. 0. 1. 0.]\n",
      " [0. 1. 0. 0. 0. 0. 0. 0. 0. 0. 0. 0.]\n",
      " [0. 0. 0. 0. 0. 0. 0. 0. 0. 0. 0. 1.]]\n"
     ]
    }
   ],
   "source": [
    "print(y) # vocab_size = 12 "
   ]
  },
  {
   "cell_type": "markdown",
   "id": "wanted-poison",
   "metadata": {},
   "source": [
    "## 2) 모델 설계하기"
   ]
  },
  {
   "cell_type": "code",
   "execution_count": 56,
   "id": "incomplete-garbage",
   "metadata": {},
   "outputs": [],
   "source": [
    "from tensorflow.keras.models import Sequential\n",
    "from tensorflow.keras.layers import Embedding, Dense, SimpleRNN"
   ]
  },
  {
   "cell_type": "code",
   "execution_count": 57,
   "id": "hairy-ensemble",
   "metadata": {},
   "outputs": [
    {
     "name": "stdout",
     "output_type": "stream",
     "text": [
      "Epoch 1/200\n",
      "1/1 - 0s - loss: 2.5425 - accuracy: 0.1818\n",
      "Epoch 2/200\n",
      "1/1 - 0s - loss: 2.5245 - accuracy: 0.1818\n",
      "Epoch 3/200\n",
      "1/1 - 0s - loss: 2.5076 - accuracy: 0.1818\n",
      "Epoch 4/200\n",
      "1/1 - 0s - loss: 2.4918 - accuracy: 0.2727\n",
      "Epoch 5/200\n",
      "1/1 - 0s - loss: 2.4769 - accuracy: 0.2727\n",
      "Epoch 6/200\n",
      "1/1 - 0s - loss: 2.4627 - accuracy: 0.1818\n",
      "Epoch 7/200\n",
      "1/1 - 0s - loss: 2.4491 - accuracy: 0.1818\n",
      "Epoch 8/200\n",
      "1/1 - 0s - loss: 2.4358 - accuracy: 0.1818\n",
      "Epoch 9/200\n",
      "1/1 - 0s - loss: 2.4229 - accuracy: 0.2727\n",
      "Epoch 10/200\n",
      "1/1 - 0s - loss: 2.4101 - accuracy: 0.3636\n",
      "Epoch 11/200\n",
      "1/1 - 0s - loss: 2.3973 - accuracy: 0.5455\n",
      "Epoch 12/200\n",
      "1/1 - 0s - loss: 2.3845 - accuracy: 0.6364\n",
      "Epoch 13/200\n",
      "1/1 - 0s - loss: 2.3715 - accuracy: 0.6364\n",
      "Epoch 14/200\n",
      "1/1 - 0s - loss: 2.3583 - accuracy: 0.6364\n",
      "Epoch 15/200\n",
      "1/1 - 0s - loss: 2.3448 - accuracy: 0.6364\n",
      "Epoch 16/200\n",
      "1/1 - 0s - loss: 2.3309 - accuracy: 0.6364\n",
      "Epoch 17/200\n",
      "1/1 - 0s - loss: 2.3165 - accuracy: 0.6364\n",
      "Epoch 18/200\n",
      "1/1 - 0s - loss: 2.3016 - accuracy: 0.6364\n",
      "Epoch 19/200\n",
      "1/1 - 0s - loss: 2.2860 - accuracy: 0.6364\n",
      "Epoch 20/200\n",
      "1/1 - 0s - loss: 2.2698 - accuracy: 0.6364\n",
      "Epoch 21/200\n",
      "1/1 - 0s - loss: 2.2529 - accuracy: 0.5455\n",
      "Epoch 22/200\n",
      "1/1 - 0s - loss: 2.2352 - accuracy: 0.5455\n",
      "Epoch 23/200\n",
      "1/1 - 0s - loss: 2.2168 - accuracy: 0.4545\n",
      "Epoch 24/200\n",
      "1/1 - 0s - loss: 2.1975 - accuracy: 0.4545\n",
      "Epoch 25/200\n",
      "1/1 - 0s - loss: 2.1773 - accuracy: 0.4545\n",
      "Epoch 26/200\n",
      "1/1 - 0s - loss: 2.1562 - accuracy: 0.4545\n",
      "Epoch 27/200\n",
      "1/1 - 0s - loss: 2.1344 - accuracy: 0.4545\n",
      "Epoch 28/200\n",
      "1/1 - 0s - loss: 2.1117 - accuracy: 0.4545\n",
      "Epoch 29/200\n",
      "1/1 - 0s - loss: 2.0882 - accuracy: 0.3636\n",
      "Epoch 30/200\n",
      "1/1 - 0s - loss: 2.0640 - accuracy: 0.3636\n",
      "Epoch 31/200\n",
      "1/1 - 0s - loss: 2.0392 - accuracy: 0.3636\n",
      "Epoch 32/200\n",
      "1/1 - 0s - loss: 2.0140 - accuracy: 0.3636\n",
      "Epoch 33/200\n",
      "1/1 - 0s - loss: 1.9885 - accuracy: 0.3636\n",
      "Epoch 34/200\n",
      "1/1 - 0s - loss: 1.9628 - accuracy: 0.3636\n",
      "Epoch 35/200\n",
      "1/1 - 0s - loss: 1.9373 - accuracy: 0.3636\n",
      "Epoch 36/200\n",
      "1/1 - 0s - loss: 1.9122 - accuracy: 0.3636\n",
      "Epoch 37/200\n",
      "1/1 - 0s - loss: 1.8876 - accuracy: 0.3636\n",
      "Epoch 38/200\n",
      "1/1 - 0s - loss: 1.8638 - accuracy: 0.3636\n",
      "Epoch 39/200\n",
      "1/1 - 0s - loss: 1.8410 - accuracy: 0.3636\n",
      "Epoch 40/200\n",
      "1/1 - 0s - loss: 1.8194 - accuracy: 0.3636\n",
      "Epoch 41/200\n",
      "1/1 - 0s - loss: 1.7989 - accuracy: 0.3636\n",
      "Epoch 42/200\n",
      "1/1 - 0s - loss: 1.7795 - accuracy: 0.3636\n",
      "Epoch 43/200\n",
      "1/1 - 0s - loss: 1.7610 - accuracy: 0.3636\n",
      "Epoch 44/200\n",
      "1/1 - 0s - loss: 1.7433 - accuracy: 0.3636\n",
      "Epoch 45/200\n",
      "1/1 - 0s - loss: 1.7259 - accuracy: 0.3636\n",
      "Epoch 46/200\n",
      "1/1 - 0s - loss: 1.7086 - accuracy: 0.3636\n",
      "Epoch 47/200\n",
      "1/1 - 0s - loss: 1.6910 - accuracy: 0.3636\n",
      "Epoch 48/200\n",
      "1/1 - 0s - loss: 1.6729 - accuracy: 0.4545\n",
      "Epoch 49/200\n",
      "1/1 - 0s - loss: 1.6541 - accuracy: 0.4545\n",
      "Epoch 50/200\n",
      "1/1 - 0s - loss: 1.6344 - accuracy: 0.4545\n",
      "Epoch 51/200\n",
      "1/1 - 0s - loss: 1.6139 - accuracy: 0.4545\n",
      "Epoch 52/200\n",
      "1/1 - 0s - loss: 1.5927 - accuracy: 0.4545\n",
      "Epoch 53/200\n",
      "1/1 - 0s - loss: 1.5709 - accuracy: 0.4545\n",
      "Epoch 54/200\n",
      "1/1 - 0s - loss: 1.5485 - accuracy: 0.4545\n",
      "Epoch 55/200\n",
      "1/1 - 0s - loss: 1.5258 - accuracy: 0.4545\n",
      "Epoch 56/200\n",
      "1/1 - 0s - loss: 1.5028 - accuracy: 0.4545\n",
      "Epoch 57/200\n",
      "1/1 - 0s - loss: 1.4797 - accuracy: 0.4545\n",
      "Epoch 58/200\n",
      "1/1 - 0s - loss: 1.4565 - accuracy: 0.5455\n",
      "Epoch 59/200\n",
      "1/1 - 0s - loss: 1.4332 - accuracy: 0.5455\n",
      "Epoch 60/200\n",
      "1/1 - 0s - loss: 1.4099 - accuracy: 0.5455\n",
      "Epoch 61/200\n",
      "1/1 - 0s - loss: 1.3866 - accuracy: 0.5455\n",
      "Epoch 62/200\n",
      "1/1 - 0s - loss: 1.3632 - accuracy: 0.5455\n",
      "Epoch 63/200\n",
      "1/1 - 0s - loss: 1.3398 - accuracy: 0.5455\n",
      "Epoch 64/200\n",
      "1/1 - 0s - loss: 1.3163 - accuracy: 0.5455\n",
      "Epoch 65/200\n",
      "1/1 - 0s - loss: 1.2927 - accuracy: 0.5455\n",
      "Epoch 66/200\n",
      "1/1 - 0s - loss: 1.2691 - accuracy: 0.5455\n",
      "Epoch 67/200\n",
      "1/1 - 0s - loss: 1.2455 - accuracy: 0.5455\n",
      "Epoch 68/200\n",
      "1/1 - 0s - loss: 1.2219 - accuracy: 0.5455\n",
      "Epoch 69/200\n",
      "1/1 - 0s - loss: 1.1983 - accuracy: 0.5455\n",
      "Epoch 70/200\n",
      "1/1 - 0s - loss: 1.1750 - accuracy: 0.6364\n",
      "Epoch 71/200\n",
      "1/1 - 0s - loss: 1.1518 - accuracy: 0.6364\n",
      "Epoch 72/200\n",
      "1/1 - 0s - loss: 1.1289 - accuracy: 0.6364\n",
      "Epoch 73/200\n",
      "1/1 - 0s - loss: 1.1063 - accuracy: 0.6364\n",
      "Epoch 74/200\n",
      "1/1 - 0s - loss: 1.0840 - accuracy: 0.6364\n",
      "Epoch 75/200\n",
      "1/1 - 0s - loss: 1.0621 - accuracy: 0.6364\n",
      "Epoch 76/200\n",
      "1/1 - 0s - loss: 1.0407 - accuracy: 0.6364\n",
      "Epoch 77/200\n",
      "1/1 - 0s - loss: 1.0197 - accuracy: 0.6364\n",
      "Epoch 78/200\n",
      "1/1 - 0s - loss: 0.9991 - accuracy: 0.7273\n",
      "Epoch 79/200\n",
      "1/1 - 0s - loss: 0.9789 - accuracy: 0.7273\n",
      "Epoch 80/200\n",
      "1/1 - 0s - loss: 0.9592 - accuracy: 0.7273\n",
      "Epoch 81/200\n",
      "1/1 - 0s - loss: 0.9398 - accuracy: 0.7273\n",
      "Epoch 82/200\n",
      "1/1 - 0s - loss: 0.9208 - accuracy: 0.7273\n",
      "Epoch 83/200\n",
      "1/1 - 0s - loss: 0.9022 - accuracy: 0.7273\n",
      "Epoch 84/200\n",
      "1/1 - 0s - loss: 0.8839 - accuracy: 0.7273\n",
      "Epoch 85/200\n",
      "1/1 - 0s - loss: 0.8659 - accuracy: 0.7273\n",
      "Epoch 86/200\n",
      "1/1 - 0s - loss: 0.8482 - accuracy: 0.8182\n",
      "Epoch 87/200\n",
      "1/1 - 0s - loss: 0.8309 - accuracy: 0.8182\n",
      "Epoch 88/200\n",
      "1/1 - 0s - loss: 0.8138 - accuracy: 0.8182\n",
      "Epoch 89/200\n",
      "1/1 - 0s - loss: 0.7970 - accuracy: 0.8182\n",
      "Epoch 90/200\n",
      "1/1 - 0s - loss: 0.7805 - accuracy: 0.8182\n",
      "Epoch 91/200\n",
      "1/1 - 0s - loss: 0.7642 - accuracy: 0.8182\n",
      "Epoch 92/200\n",
      "1/1 - 0s - loss: 0.7482 - accuracy: 0.8182\n",
      "Epoch 93/200\n",
      "1/1 - 0s - loss: 0.7325 - accuracy: 0.8182\n",
      "Epoch 94/200\n",
      "1/1 - 0s - loss: 0.7171 - accuracy: 0.8182\n",
      "Epoch 95/200\n",
      "1/1 - 0s - loss: 0.7019 - accuracy: 0.8182\n",
      "Epoch 96/200\n",
      "1/1 - 0s - loss: 0.6870 - accuracy: 0.8182\n",
      "Epoch 97/200\n",
      "1/1 - 0s - loss: 0.6723 - accuracy: 0.8182\n",
      "Epoch 98/200\n",
      "1/1 - 0s - loss: 0.6578 - accuracy: 0.8182\n",
      "Epoch 99/200\n",
      "1/1 - 0s - loss: 0.6436 - accuracy: 0.8182\n",
      "Epoch 100/200\n",
      "1/1 - 0s - loss: 0.6297 - accuracy: 0.8182\n",
      "Epoch 101/200\n",
      "1/1 - 0s - loss: 0.6159 - accuracy: 0.8182\n",
      "Epoch 102/200\n",
      "1/1 - 0s - loss: 0.6025 - accuracy: 0.8182\n",
      "Epoch 103/200\n",
      "1/1 - 0s - loss: 0.5892 - accuracy: 0.8182\n",
      "Epoch 104/200\n",
      "1/1 - 0s - loss: 0.5762 - accuracy: 0.8182\n",
      "Epoch 105/200\n",
      "1/1 - 0s - loss: 0.5635 - accuracy: 0.8182\n",
      "Epoch 106/200\n",
      "1/1 - 0s - loss: 0.5510 - accuracy: 0.8182\n",
      "Epoch 107/200\n",
      "1/1 - 0s - loss: 0.5388 - accuracy: 0.9091\n",
      "Epoch 108/200\n",
      "1/1 - 0s - loss: 0.5268 - accuracy: 0.9091\n",
      "Epoch 109/200\n",
      "1/1 - 0s - loss: 0.5150 - accuracy: 0.9091\n",
      "Epoch 110/200\n",
      "1/1 - 0s - loss: 0.5035 - accuracy: 0.9091\n",
      "Epoch 111/200\n",
      "1/1 - 0s - loss: 0.4923 - accuracy: 0.9091\n",
      "Epoch 112/200\n",
      "1/1 - 0s - loss: 0.4813 - accuracy: 1.0000\n",
      "Epoch 113/200\n",
      "1/1 - 0s - loss: 0.4705 - accuracy: 1.0000\n",
      "Epoch 114/200\n",
      "1/1 - 0s - loss: 0.4599 - accuracy: 1.0000\n",
      "Epoch 115/200\n",
      "1/1 - 0s - loss: 0.4497 - accuracy: 1.0000\n",
      "Epoch 116/200\n",
      "1/1 - 0s - loss: 0.4396 - accuracy: 1.0000\n",
      "Epoch 117/200\n",
      "1/1 - 0s - loss: 0.4298 - accuracy: 1.0000\n",
      "Epoch 118/200\n",
      "1/1 - 0s - loss: 0.4201 - accuracy: 1.0000\n",
      "Epoch 119/200\n",
      "1/1 - 0s - loss: 0.4108 - accuracy: 1.0000\n",
      "Epoch 120/200\n",
      "1/1 - 0s - loss: 0.4016 - accuracy: 1.0000\n",
      "Epoch 121/200\n",
      "1/1 - 0s - loss: 0.3926 - accuracy: 1.0000\n",
      "Epoch 122/200\n",
      "1/1 - 0s - loss: 0.3839 - accuracy: 1.0000\n",
      "Epoch 123/200\n",
      "1/1 - 0s - loss: 0.3754 - accuracy: 1.0000\n",
      "Epoch 124/200\n",
      "1/1 - 0s - loss: 0.3670 - accuracy: 1.0000\n",
      "Epoch 125/200\n",
      "1/1 - 0s - loss: 0.3589 - accuracy: 1.0000\n",
      "Epoch 126/200\n",
      "1/1 - 0s - loss: 0.3509 - accuracy: 1.0000\n",
      "Epoch 127/200\n",
      "1/1 - 0s - loss: 0.3432 - accuracy: 1.0000\n",
      "Epoch 128/200\n",
      "1/1 - 0s - loss: 0.3356 - accuracy: 1.0000\n",
      "Epoch 129/200\n",
      "1/1 - 0s - loss: 0.3282 - accuracy: 1.0000\n",
      "Epoch 130/200\n",
      "1/1 - 0s - loss: 0.3210 - accuracy: 1.0000\n",
      "Epoch 131/200\n",
      "1/1 - 0s - loss: 0.3139 - accuracy: 1.0000\n",
      "Epoch 132/200\n",
      "1/1 - 0s - loss: 0.3070 - accuracy: 1.0000\n",
      "Epoch 133/200\n",
      "1/1 - 0s - loss: 0.3003 - accuracy: 1.0000\n",
      "Epoch 134/200\n",
      "1/1 - 0s - loss: 0.2937 - accuracy: 1.0000\n",
      "Epoch 135/200\n",
      "1/1 - 0s - loss: 0.2873 - accuracy: 1.0000\n",
      "Epoch 136/200\n",
      "1/1 - 0s - loss: 0.2810 - accuracy: 1.0000\n",
      "Epoch 137/200\n",
      "1/1 - 0s - loss: 0.2749 - accuracy: 1.0000\n",
      "Epoch 138/200\n",
      "1/1 - 0s - loss: 0.2689 - accuracy: 1.0000\n",
      "Epoch 139/200\n",
      "1/1 - 0s - loss: 0.2631 - accuracy: 1.0000\n",
      "Epoch 140/200\n",
      "1/1 - 0s - loss: 0.2574 - accuracy: 1.0000\n",
      "Epoch 141/200\n",
      "1/1 - 0s - loss: 0.2518 - accuracy: 1.0000\n",
      "Epoch 142/200\n",
      "1/1 - 0s - loss: 0.2464 - accuracy: 1.0000\n",
      "Epoch 143/200\n",
      "1/1 - 0s - loss: 0.2410 - accuracy: 1.0000\n",
      "Epoch 144/200\n",
      "1/1 - 0s - loss: 0.2358 - accuracy: 1.0000\n",
      "Epoch 145/200\n",
      "1/1 - 0s - loss: 0.2308 - accuracy: 1.0000\n",
      "Epoch 146/200\n",
      "1/1 - 0s - loss: 0.2258 - accuracy: 1.0000\n"
     ]
    },
    {
     "name": "stdout",
     "output_type": "stream",
     "text": [
      "Epoch 147/200\n",
      "1/1 - 0s - loss: 0.2210 - accuracy: 1.0000\n",
      "Epoch 148/200\n",
      "1/1 - 0s - loss: 0.2163 - accuracy: 1.0000\n",
      "Epoch 149/200\n",
      "1/1 - 0s - loss: 0.2116 - accuracy: 1.0000\n",
      "Epoch 150/200\n",
      "1/1 - 0s - loss: 0.2071 - accuracy: 1.0000\n",
      "Epoch 151/200\n",
      "1/1 - 0s - loss: 0.2027 - accuracy: 1.0000\n",
      "Epoch 152/200\n",
      "1/1 - 0s - loss: 0.1984 - accuracy: 1.0000\n",
      "Epoch 153/200\n",
      "1/1 - 0s - loss: 0.1942 - accuracy: 1.0000\n",
      "Epoch 154/200\n",
      "1/1 - 0s - loss: 0.1901 - accuracy: 1.0000\n",
      "Epoch 155/200\n",
      "1/1 - 0s - loss: 0.1861 - accuracy: 1.0000\n",
      "Epoch 156/200\n",
      "1/1 - 0s - loss: 0.1822 - accuracy: 1.0000\n",
      "Epoch 157/200\n",
      "1/1 - 0s - loss: 0.1784 - accuracy: 1.0000\n",
      "Epoch 158/200\n",
      "1/1 - 0s - loss: 0.1747 - accuracy: 1.0000\n",
      "Epoch 159/200\n",
      "1/1 - 0s - loss: 0.1711 - accuracy: 1.0000\n",
      "Epoch 160/200\n",
      "1/1 - 0s - loss: 0.1675 - accuracy: 1.0000\n",
      "Epoch 161/200\n",
      "1/1 - 0s - loss: 0.1641 - accuracy: 1.0000\n",
      "Epoch 162/200\n",
      "1/1 - 0s - loss: 0.1607 - accuracy: 1.0000\n",
      "Epoch 163/200\n",
      "1/1 - 0s - loss: 0.1574 - accuracy: 1.0000\n",
      "Epoch 164/200\n",
      "1/1 - 0s - loss: 0.1542 - accuracy: 1.0000\n",
      "Epoch 165/200\n",
      "1/1 - 0s - loss: 0.1511 - accuracy: 1.0000\n",
      "Epoch 166/200\n",
      "1/1 - 0s - loss: 0.1480 - accuracy: 1.0000\n",
      "Epoch 167/200\n",
      "1/1 - 0s - loss: 0.1451 - accuracy: 1.0000\n",
      "Epoch 168/200\n",
      "1/1 - 0s - loss: 0.1422 - accuracy: 1.0000\n",
      "Epoch 169/200\n",
      "1/1 - 0s - loss: 0.1393 - accuracy: 1.0000\n",
      "Epoch 170/200\n",
      "1/1 - 0s - loss: 0.1366 - accuracy: 1.0000\n",
      "Epoch 171/200\n",
      "1/1 - 0s - loss: 0.1339 - accuracy: 1.0000\n",
      "Epoch 172/200\n",
      "1/1 - 0s - loss: 0.1313 - accuracy: 1.0000\n",
      "Epoch 173/200\n",
      "1/1 - 0s - loss: 0.1287 - accuracy: 1.0000\n",
      "Epoch 174/200\n",
      "1/1 - 0s - loss: 0.1262 - accuracy: 1.0000\n",
      "Epoch 175/200\n",
      "1/1 - 0s - loss: 0.1238 - accuracy: 1.0000\n",
      "Epoch 176/200\n",
      "1/1 - 0s - loss: 0.1214 - accuracy: 1.0000\n",
      "Epoch 177/200\n",
      "1/1 - 0s - loss: 0.1191 - accuracy: 1.0000\n",
      "Epoch 178/200\n",
      "1/1 - 0s - loss: 0.1168 - accuracy: 1.0000\n",
      "Epoch 179/200\n",
      "1/1 - 0s - loss: 0.1146 - accuracy: 1.0000\n",
      "Epoch 180/200\n",
      "1/1 - 0s - loss: 0.1125 - accuracy: 1.0000\n",
      "Epoch 181/200\n",
      "1/1 - 0s - loss: 0.1104 - accuracy: 1.0000\n",
      "Epoch 182/200\n",
      "1/1 - 0s - loss: 0.1083 - accuracy: 1.0000\n",
      "Epoch 183/200\n",
      "1/1 - 0s - loss: 0.1063 - accuracy: 1.0000\n",
      "Epoch 184/200\n",
      "1/1 - 0s - loss: 0.1044 - accuracy: 1.0000\n",
      "Epoch 185/200\n",
      "1/1 - 0s - loss: 0.1025 - accuracy: 1.0000\n",
      "Epoch 186/200\n",
      "1/1 - 0s - loss: 0.1007 - accuracy: 1.0000\n",
      "Epoch 187/200\n",
      "1/1 - 0s - loss: 0.0989 - accuracy: 1.0000\n",
      "Epoch 188/200\n",
      "1/1 - 0s - loss: 0.0971 - accuracy: 1.0000\n",
      "Epoch 189/200\n",
      "1/1 - 0s - loss: 0.0954 - accuracy: 1.0000\n",
      "Epoch 190/200\n",
      "1/1 - 0s - loss: 0.0937 - accuracy: 1.0000\n",
      "Epoch 191/200\n",
      "1/1 - 0s - loss: 0.0921 - accuracy: 1.0000\n",
      "Epoch 192/200\n",
      "1/1 - 0s - loss: 0.0905 - accuracy: 1.0000\n",
      "Epoch 193/200\n",
      "1/1 - 0s - loss: 0.0890 - accuracy: 1.0000\n",
      "Epoch 194/200\n",
      "1/1 - 0s - loss: 0.0875 - accuracy: 1.0000\n",
      "Epoch 195/200\n",
      "1/1 - 0s - loss: 0.0860 - accuracy: 1.0000\n",
      "Epoch 196/200\n",
      "1/1 - 0s - loss: 0.0845 - accuracy: 1.0000\n",
      "Epoch 197/200\n",
      "1/1 - 0s - loss: 0.0831 - accuracy: 1.0000\n",
      "Epoch 198/200\n",
      "1/1 - 0s - loss: 0.0818 - accuracy: 1.0000\n",
      "Epoch 199/200\n",
      "1/1 - 0s - loss: 0.0804 - accuracy: 1.0000\n",
      "Epoch 200/200\n",
      "1/1 - 0s - loss: 0.0791 - accuracy: 1.0000\n"
     ]
    },
    {
     "data": {
      "text/plain": [
       "<tensorflow.python.keras.callbacks.History at 0x1c9900b4da0>"
      ]
     },
     "execution_count": 57,
     "metadata": {},
     "output_type": "execute_result"
    }
   ],
   "source": [
    "model = Sequential()\n",
    "model.add(Embedding(vocab_size, 10, input_length = max_len-1))\n",
    "model.add(SimpleRNN(32))\n",
    "model.add(Dense(vocab_size, activation = 'softmax'))\n",
    "model.compile(loss = 'categorical_crossentropy', optimizer = 'adam', metrics = ['accuracy'])\n",
    "model.fit(X, y, epochs = 200, verbose = 2)"
   ]
  },
  {
   "cell_type": "code",
   "execution_count": 58,
   "id": "changing-central",
   "metadata": {},
   "outputs": [],
   "source": [
    "def sentence_generation(model, t, current_word, n):\n",
    "    # 모델, 토크나이저, 현재 단어, 반복 횟수\n",
    "    init_word = current_word # 처음 들어온 단어도 마지막에 같이 출력하기 위해 저장\n",
    "    sentence = ''\n",
    "    for _ in range(n):\n",
    "        encoded = t.texts_to_sequences([current_word])[0]\n",
    "        encoded = pad_sequences([encoded], maxlen = 5, padding = 'pre')\n",
    "        result = model.predict_classes(encoded, verbose=0) # 이 모델에는 입력값 크기가 padding된 그 크기여야 하는군\n",
    "        for word, index in t.word_index.items():\n",
    "            if index == result:\n",
    "                break\n",
    "        current_word = current_word + ' ' + word # 현재 단어 + ' ' + 예측 단어 를 current word로 변경\n",
    "        sentence = sentence + ' ' + word # 예측 단어를 문장에 저장\n",
    "        \n",
    "    sentence = init_word + sentence\n",
    "    return sentence"
   ]
  },
  {
   "cell_type": "code",
   "execution_count": 59,
   "id": "returning-option",
   "metadata": {},
   "outputs": [
    {
     "name": "stdout",
     "output_type": "stream",
     "text": [
      "경마장에 있는 말이 뛰고 있다\n"
     ]
    }
   ],
   "source": [
    "print(sentence_generation(model, t, '경마장에', 4))\n",
    "# 경마장에 라는 단어 뒤에 총 4개의 단어가 있으니 4번 예측해보자"
   ]
  },
  {
   "cell_type": "code",
   "execution_count": 60,
   "id": "computational-tuition",
   "metadata": {},
   "outputs": [
    {
     "name": "stdout",
     "output_type": "stream",
     "text": [
      "그의 말이 법이다\n"
     ]
    }
   ],
   "source": [
    "print(sentence_generation(model, t, '그의', 2))"
   ]
  },
  {
   "cell_type": "code",
   "execution_count": 61,
   "id": "suspended-science",
   "metadata": {},
   "outputs": [
    {
     "name": "stdout",
     "output_type": "stream",
     "text": [
      "가는 말이 고와야 오는 말이 곱다\n"
     ]
    }
   ],
   "source": [
    "print(sentence_generation(model, t, '가는', 5))"
   ]
  },
  {
   "cell_type": "markdown",
   "id": "subtle-occupation",
   "metadata": {},
   "source": [
    "### LSTM으로 text 생성\n",
    "더 많은 데이터로 텍스트 생성할 것!"
   ]
  },
  {
   "cell_type": "markdown",
   "id": "theoretical-stroke",
   "metadata": {},
   "source": [
    "### 1) 데이터 이해와 전처리"
   ]
  },
  {
   "cell_type": "code",
   "execution_count": 62,
   "id": "incorrect-american",
   "metadata": {},
   "outputs": [],
   "source": [
    "import pandas as pd\n",
    "from string import punctuation\n",
    "from tensorflow.keras.preprocessing.text import Tokenizer\n",
    "from tensorflow.keras.preprocessing.sequence import pad_sequences\n",
    "import numpy as np\n",
    "from tensorflow.keras.utils import to_categorical"
   ]
  },
  {
   "cell_type": "code",
   "execution_count": 63,
   "id": "adverse-kitchen",
   "metadata": {},
   "outputs": [
    {
     "data": {
      "text/html": [
       "<div>\n",
       "<style scoped>\n",
       "    .dataframe tbody tr th:only-of-type {\n",
       "        vertical-align: middle;\n",
       "    }\n",
       "\n",
       "    .dataframe tbody tr th {\n",
       "        vertical-align: top;\n",
       "    }\n",
       "\n",
       "    .dataframe thead th {\n",
       "        text-align: right;\n",
       "    }\n",
       "</style>\n",
       "<table border=\"1\" class=\"dataframe\">\n",
       "  <thead>\n",
       "    <tr style=\"text-align: right;\">\n",
       "      <th></th>\n",
       "      <th>articleID</th>\n",
       "      <th>articleWordCount</th>\n",
       "      <th>byline</th>\n",
       "      <th>documentType</th>\n",
       "      <th>headline</th>\n",
       "      <th>keywords</th>\n",
       "      <th>multimedia</th>\n",
       "      <th>newDesk</th>\n",
       "      <th>printPage</th>\n",
       "      <th>pubDate</th>\n",
       "      <th>sectionName</th>\n",
       "      <th>snippet</th>\n",
       "      <th>source</th>\n",
       "      <th>typeOfMaterial</th>\n",
       "      <th>webURL</th>\n",
       "    </tr>\n",
       "  </thead>\n",
       "  <tbody>\n",
       "    <tr>\n",
       "      <th>0</th>\n",
       "      <td>5adf6684068401528a2aa69b</td>\n",
       "      <td>781</td>\n",
       "      <td>By JOHN BRANCH</td>\n",
       "      <td>article</td>\n",
       "      <td>Former N.F.L. Cheerleaders’ Settlement Offer: ...</td>\n",
       "      <td>['Workplace Hazards and Violations', 'Football...</td>\n",
       "      <td>68</td>\n",
       "      <td>Sports</td>\n",
       "      <td>0</td>\n",
       "      <td>2018-04-24 17:16:49</td>\n",
       "      <td>Pro Football</td>\n",
       "      <td>“I understand that they could meet with us, pa...</td>\n",
       "      <td>The New York Times</td>\n",
       "      <td>News</td>\n",
       "      <td>https://www.nytimes.com/2018/04/24/sports/foot...</td>\n",
       "    </tr>\n",
       "    <tr>\n",
       "      <th>1</th>\n",
       "      <td>5adf653f068401528a2aa697</td>\n",
       "      <td>656</td>\n",
       "      <td>By LISA FRIEDMAN</td>\n",
       "      <td>article</td>\n",
       "      <td>E.P.A. to Unveil a New Rule. Its Effect: Less ...</td>\n",
       "      <td>['Environmental Protection Agency', 'Pruitt, S...</td>\n",
       "      <td>68</td>\n",
       "      <td>Climate</td>\n",
       "      <td>0</td>\n",
       "      <td>2018-04-24 17:11:21</td>\n",
       "      <td>Unknown</td>\n",
       "      <td>The agency plans to publish a new regulation T...</td>\n",
       "      <td>The New York Times</td>\n",
       "      <td>News</td>\n",
       "      <td>https://www.nytimes.com/2018/04/24/climate/epa...</td>\n",
       "    </tr>\n",
       "    <tr>\n",
       "      <th>2</th>\n",
       "      <td>5adf4626068401528a2aa628</td>\n",
       "      <td>2427</td>\n",
       "      <td>By PETE WELLS</td>\n",
       "      <td>article</td>\n",
       "      <td>The New Noma, Explained</td>\n",
       "      <td>['Restaurants', 'Noma (Copenhagen, Restaurant)...</td>\n",
       "      <td>66</td>\n",
       "      <td>Dining</td>\n",
       "      <td>0</td>\n",
       "      <td>2018-04-24 14:58:44</td>\n",
       "      <td>Unknown</td>\n",
       "      <td>What’s it like to eat at the second incarnatio...</td>\n",
       "      <td>The New York Times</td>\n",
       "      <td>News</td>\n",
       "      <td>https://www.nytimes.com/2018/04/24/dining/noma...</td>\n",
       "    </tr>\n",
       "    <tr>\n",
       "      <th>3</th>\n",
       "      <td>5adf40d2068401528a2aa619</td>\n",
       "      <td>626</td>\n",
       "      <td>By JULIE HIRSCHFELD DAVIS and PETER BAKER</td>\n",
       "      <td>article</td>\n",
       "      <td>Unknown</td>\n",
       "      <td>['Macron, Emmanuel (1977- )', 'Trump, Donald J...</td>\n",
       "      <td>68</td>\n",
       "      <td>Washington</td>\n",
       "      <td>0</td>\n",
       "      <td>2018-04-24 14:35:57</td>\n",
       "      <td>Europe</td>\n",
       "      <td>President Trump welcomed President Emmanuel Ma...</td>\n",
       "      <td>The New York Times</td>\n",
       "      <td>News</td>\n",
       "      <td>https://www.nytimes.com/2018/04/24/world/europ...</td>\n",
       "    </tr>\n",
       "    <tr>\n",
       "      <th>4</th>\n",
       "      <td>5adf3d64068401528a2aa60f</td>\n",
       "      <td>815</td>\n",
       "      <td>By IAN AUSTEN and DAN BILEFSKY</td>\n",
       "      <td>article</td>\n",
       "      <td>Unknown</td>\n",
       "      <td>['Toronto, Ontario, Attack (April, 2018)', 'Mu...</td>\n",
       "      <td>68</td>\n",
       "      <td>Foreign</td>\n",
       "      <td>0</td>\n",
       "      <td>2018-04-24 14:21:21</td>\n",
       "      <td>Canada</td>\n",
       "      <td>Alek Minassian, 25, a resident of Toronto’s Ri...</td>\n",
       "      <td>The New York Times</td>\n",
       "      <td>News</td>\n",
       "      <td>https://www.nytimes.com/2018/04/24/world/canad...</td>\n",
       "    </tr>\n",
       "  </tbody>\n",
       "</table>\n",
       "</div>"
      ],
      "text/plain": [
       "                  articleID  articleWordCount  \\\n",
       "0  5adf6684068401528a2aa69b               781   \n",
       "1  5adf653f068401528a2aa697               656   \n",
       "2  5adf4626068401528a2aa628              2427   \n",
       "3  5adf40d2068401528a2aa619               626   \n",
       "4  5adf3d64068401528a2aa60f               815   \n",
       "\n",
       "                                      byline documentType  \\\n",
       "0                             By JOHN BRANCH      article   \n",
       "1                           By LISA FRIEDMAN      article   \n",
       "2                              By PETE WELLS      article   \n",
       "3  By JULIE HIRSCHFELD DAVIS and PETER BAKER      article   \n",
       "4             By IAN AUSTEN and DAN BILEFSKY      article   \n",
       "\n",
       "                                            headline  \\\n",
       "0  Former N.F.L. Cheerleaders’ Settlement Offer: ...   \n",
       "1  E.P.A. to Unveil a New Rule. Its Effect: Less ...   \n",
       "2                            The New Noma, Explained   \n",
       "3                                            Unknown   \n",
       "4                                            Unknown   \n",
       "\n",
       "                                            keywords  multimedia     newDesk  \\\n",
       "0  ['Workplace Hazards and Violations', 'Football...          68      Sports   \n",
       "1  ['Environmental Protection Agency', 'Pruitt, S...          68     Climate   \n",
       "2  ['Restaurants', 'Noma (Copenhagen, Restaurant)...          66      Dining   \n",
       "3  ['Macron, Emmanuel (1977- )', 'Trump, Donald J...          68  Washington   \n",
       "4  ['Toronto, Ontario, Attack (April, 2018)', 'Mu...          68     Foreign   \n",
       "\n",
       "   printPage              pubDate   sectionName  \\\n",
       "0          0  2018-04-24 17:16:49  Pro Football   \n",
       "1          0  2018-04-24 17:11:21       Unknown   \n",
       "2          0  2018-04-24 14:58:44       Unknown   \n",
       "3          0  2018-04-24 14:35:57        Europe   \n",
       "4          0  2018-04-24 14:21:21        Canada   \n",
       "\n",
       "                                             snippet              source  \\\n",
       "0  “I understand that they could meet with us, pa...  The New York Times   \n",
       "1  The agency plans to publish a new regulation T...  The New York Times   \n",
       "2  What’s it like to eat at the second incarnatio...  The New York Times   \n",
       "3  President Trump welcomed President Emmanuel Ma...  The New York Times   \n",
       "4  Alek Minassian, 25, a resident of Toronto’s Ri...  The New York Times   \n",
       "\n",
       "  typeOfMaterial                                             webURL  \n",
       "0           News  https://www.nytimes.com/2018/04/24/sports/foot...  \n",
       "1           News  https://www.nytimes.com/2018/04/24/climate/epa...  \n",
       "2           News  https://www.nytimes.com/2018/04/24/dining/noma...  \n",
       "3           News  https://www.nytimes.com/2018/04/24/world/europ...  \n",
       "4           News  https://www.nytimes.com/2018/04/24/world/canad...  "
      ]
     },
     "execution_count": 63,
     "metadata": {},
     "output_type": "execute_result"
    }
   ],
   "source": [
    "df = pd.read_csv('ArticlesApril2018.csv')\n",
    "df.head()"
   ]
  },
  {
   "cell_type": "code",
   "execution_count": 64,
   "id": "indian-literature",
   "metadata": {},
   "outputs": [
    {
     "name": "stdout",
     "output_type": "stream",
     "text": [
      "열의 개수: 15\n",
      "Index(['articleID', 'articleWordCount', 'byline', 'documentType', 'headline',\n",
      "       'keywords', 'multimedia', 'newDesk', 'printPage', 'pubDate',\n",
      "       'sectionName', 'snippet', 'source', 'typeOfMaterial', 'webURL'],\n",
      "      dtype='object')\n"
     ]
    }
   ],
   "source": [
    "print('열의 개수:', len(df.columns))\n",
    "print(df.columns)"
   ]
  },
  {
   "cell_type": "code",
   "execution_count": 65,
   "id": "outside-roots",
   "metadata": {},
   "outputs": [
    {
     "data": {
      "text/plain": [
       "0"
      ]
     },
     "execution_count": 65,
     "metadata": {},
     "output_type": "execute_result"
    }
   ],
   "source": [
    "# headline 열 활용할 것.\n",
    "# null 값 확인\n",
    "df['headline'].isnull().sum()\n",
    "# .isnull().values.any()"
   ]
  },
  {
   "cell_type": "code",
   "execution_count": 66,
   "id": "overall-violation",
   "metadata": {},
   "outputs": [
    {
     "data": {
      "text/plain": [
       "['Former N.F.L. Cheerleaders’ Settlement Offer: $1 and a Meeting With Goodell',\n",
       " 'E.P.A. to Unveil a New Rule. Its Effect: Less Science in Policymaking.',\n",
       " 'The New Noma, Explained',\n",
       " 'Unknown',\n",
       " 'Unknown']"
      ]
     },
     "execution_count": 66,
     "metadata": {},
     "output_type": "execute_result"
    }
   ],
   "source": [
    "headline = [] # 여기에 모든 헤드라인 모을 것\n",
    "headline.extend(list(df.headline.values)) # 헤드라인의 값들을 headline에 리스트로 저장\n",
    "headline[:5]"
   ]
  },
  {
   "cell_type": "markdown",
   "id": "helpful-browser",
   "metadata": {},
   "source": [
    "'Unknow' 발견\n",
    "\n",
    "지금 진행하는 내용에서 null값이나 다름 없음 -> 없애자\n"
   ]
  },
  {
   "cell_type": "code",
   "execution_count": 67,
   "id": "limited-florida",
   "metadata": {},
   "outputs": [
    {
     "data": {
      "text/plain": [
       "110"
      ]
     },
     "execution_count": 67,
     "metadata": {},
     "output_type": "execute_result"
    }
   ],
   "source": [
    "headline.count('Unknown')"
   ]
  },
  {
   "cell_type": "code",
   "execution_count": 68,
   "id": "exotic-russia",
   "metadata": {},
   "outputs": [
    {
     "name": "stdout",
     "output_type": "stream",
     "text": [
      "제거 전 총 샘플 개수: 1324\n"
     ]
    }
   ],
   "source": [
    "print('제거 전 총 샘플 개수:', len(headline))"
   ]
  },
  {
   "cell_type": "code",
   "execution_count": 69,
   "id": "advised-pride",
   "metadata": {},
   "outputs": [
    {
     "name": "stdout",
     "output_type": "stream",
     "text": [
      "제거 후 총 샘플 개수: 1214\n"
     ]
    }
   ],
   "source": [
    "headline = [n for n in headline if n != 'Unknown']\n",
    "print('제거 후 총 샘플 개수:', len(headline))"
   ]
  },
  {
   "cell_type": "code",
   "execution_count": 70,
   "id": "incredible-eligibility",
   "metadata": {},
   "outputs": [
    {
     "data": {
      "text/plain": [
       "['Former N.F.L. Cheerleaders’ Settlement Offer: $1 and a Meeting With Goodell',\n",
       " 'E.P.A. to Unveil a New Rule. Its Effect: Less Science in Policymaking.',\n",
       " 'The New Noma, Explained',\n",
       " 'How a Bag of Texas Dirt  Became a Times Tradition',\n",
       " 'Is School a Place for Self-Expression?']"
      ]
     },
     "execution_count": 70,
     "metadata": {},
     "output_type": "execute_result"
    }
   ],
   "source": [
    "headline[:5]"
   ]
  },
  {
   "cell_type": "code",
   "execution_count": 71,
   "id": "decreased-pattern",
   "metadata": {},
   "outputs": [
    {
     "data": {
      "text/plain": [
       "['former nfl cheerleaders settlement offer 1 and a meeting with goodell',\n",
       " 'epa to unveil a new rule its effect less science in policymaking',\n",
       " 'the new noma explained',\n",
       " 'how a bag of texas dirt  became a times tradition',\n",
       " 'is school a place for selfexpression']"
      ]
     },
     "execution_count": 71,
     "metadata": {},
     "output_type": "execute_result"
    }
   ],
   "source": [
    "# 이제 데이터 전처리.\n",
    "# 구두점 제거 + 단어 소문자화\n",
    "\n",
    "def repreprocessing(s):\n",
    "    s = s.encode('utf8').decode('ascii', 'ignore')\n",
    "    return ''.join(c for c in s if c not in punctuation).lower()\n",
    "\n",
    "text = [repreprocessing(x) for x in headline]\n",
    "text[:5]"
   ]
  },
  {
   "cell_type": "code",
   "execution_count": 72,
   "id": "beginning-finding",
   "metadata": {},
   "outputs": [
    {
     "name": "stdout",
     "output_type": "stream",
     "text": [
      "단어 집합의 크기:  3494\n"
     ]
    }
   ],
   "source": [
    "# 단어집합 만들고 크기 보자\n",
    "t = Tokenizer()\n",
    "t.fit_on_texts(text)\n",
    "vocab_size = len(t.word_index)+1\n",
    "print('단어 집합의 크기: ',vocab_size)"
   ]
  },
  {
   "cell_type": "code",
   "execution_count": 73,
   "id": "failing-protocol",
   "metadata": {},
   "outputs": [
    {
     "data": {
      "text/plain": [
       "[[99, 269],\n",
       " [99, 269, 371],\n",
       " [99, 269, 371, 1115],\n",
       " [99, 269, 371, 1115, 582],\n",
       " [99, 269, 371, 1115, 582, 52],\n",
       " [99, 269, 371, 1115, 582, 52, 7],\n",
       " [99, 269, 371, 1115, 582, 52, 7, 2],\n",
       " [99, 269, 371, 1115, 582, 52, 7, 2, 372],\n",
       " [99, 269, 371, 1115, 582, 52, 7, 2, 372, 10],\n",
       " [99, 269, 371, 1115, 582, 52, 7, 2, 372, 10, 1116],\n",
       " [100, 3]]"
      ]
     },
     "execution_count": 73,
     "metadata": {},
     "output_type": "execute_result"
    }
   ],
   "source": [
    "sequences = list()\n",
    "for line in text: # text 1214개\n",
    "    encoded = t.texts_to_sequences([line])[0] # 결과가 이중리스트라서 [0]은 별 의미 안둬도 되나?\n",
    "    for i in range(1, len(encoded)):\n",
    "        sequence = encoded[:i+1]\n",
    "        sequences.append(sequence)\n",
    "        \n",
    "sequences[:11]"
   ]
  },
  {
   "cell_type": "code",
   "execution_count": 74,
   "id": "environmental-plenty",
   "metadata": {},
   "outputs": [
    {
     "name": "stdout",
     "output_type": "stream",
     "text": [
      "빈도수 상위 582번 단어: offer\n"
     ]
    }
   ],
   "source": [
    "# 인덱스로부터 단어를 찾는 딕셔너리 만들기\n",
    "index_to_word = {}\n",
    "for key, value in t.word_index.items():\n",
    "    index_to_word[value] = key\n",
    "    \n",
    "print('빈도수 상위 582번 단어: {}'.format(index_to_word[582]))"
   ]
  },
  {
   "cell_type": "code",
   "execution_count": 75,
   "id": "foster-building",
   "metadata": {},
   "outputs": [
    {
     "name": "stdout",
     "output_type": "stream",
     "text": [
      "샘플 최대 길이: 24\n"
     ]
    }
   ],
   "source": [
    "# 패딩 작업\n",
    "max_len = max(len(l) for l in sequences)\n",
    "print('샘플 최대 길이:', max_len) # 24로 패딩할 것이다"
   ]
  },
  {
   "cell_type": "code",
   "execution_count": 76,
   "id": "joint-width",
   "metadata": {},
   "outputs": [
    {
     "name": "stdout",
     "output_type": "stream",
     "text": [
      "[[   0    0    0    0    0    0    0    0    0    0    0    0    0    0\n",
      "     0    0    0    0    0    0    0    0   99  269]\n",
      " [   0    0    0    0    0    0    0    0    0    0    0    0    0    0\n",
      "     0    0    0    0    0    0    0   99  269  371]\n",
      " [   0    0    0    0    0    0    0    0    0    0    0    0    0    0\n",
      "     0    0    0    0    0    0   99  269  371 1115]]\n"
     ]
    }
   ],
   "source": [
    "sequences = pad_sequences(sequences, maxlen = max_len, padding = 'pre')\n",
    "print(sequences[:3])"
   ]
  },
  {
   "cell_type": "code",
   "execution_count": 77,
   "id": "likely-pricing",
   "metadata": {},
   "outputs": [
    {
     "name": "stdout",
     "output_type": "stream",
     "text": [
      "[[  0   0   0   0   0   0   0   0   0   0   0   0   0   0   0   0   0   0\n",
      "    0   0   0   0  99]\n",
      " [  0   0   0   0   0   0   0   0   0   0   0   0   0   0   0   0   0   0\n",
      "    0   0   0  99 269]\n",
      " [  0   0   0   0   0   0   0   0   0   0   0   0   0   0   0   0   0   0\n",
      "    0   0  99 269 371]]\n"
     ]
    }
   ],
   "source": [
    "#이제 레이블 분리\n",
    "sequences = np.array(sequences)\n",
    "X = sequences[:, :-1]\n",
    "y = sequences[:, -1]\n",
    "print(X[:3])"
   ]
  },
  {
   "cell_type": "code",
   "execution_count": 78,
   "id": "cleared-cologne",
   "metadata": {},
   "outputs": [],
   "source": [
    "y = to_categorical(y, num_classes = vocab_size)"
   ]
  },
  {
   "cell_type": "markdown",
   "id": "organizational-intersection",
   "metadata": {},
   "source": [
    "### 2) 모델 설계하기"
   ]
  },
  {
   "cell_type": "code",
   "execution_count": 79,
   "id": "electrical-accident",
   "metadata": {},
   "outputs": [],
   "source": [
    "from tensorflow.keras.models import Sequential\n",
    "from tensorflow.keras.layers import Embedding, Dense, LSTM"
   ]
  },
  {
   "cell_type": "code",
   "execution_count": 80,
   "id": "seventh-stephen",
   "metadata": {
    "scrolled": true
   },
   "outputs": [
    {
     "name": "stdout",
     "output_type": "stream",
     "text": [
      "Epoch 1/200\n",
      "244/244 - 3s - loss: 7.6447 - accuracy: 0.0261\n",
      "Epoch 2/200\n",
      "244/244 - 3s - loss: 7.1135 - accuracy: 0.0309\n",
      "Epoch 3/200\n",
      "244/244 - 3s - loss: 6.9718 - accuracy: 0.0352\n",
      "Epoch 4/200\n",
      "244/244 - 3s - loss: 6.8396 - accuracy: 0.0383\n",
      "Epoch 5/200\n",
      "244/244 - 3s - loss: 6.6829 - accuracy: 0.0424\n",
      "Epoch 6/200\n",
      "244/244 - 3s - loss: 6.4993 - accuracy: 0.0461\n",
      "Epoch 7/200\n",
      "244/244 - 3s - loss: 6.2966 - accuracy: 0.0531\n",
      "Epoch 8/200\n",
      "244/244 - 3s - loss: 6.0852 - accuracy: 0.0590\n",
      "Epoch 9/200\n",
      "244/244 - 3s - loss: 5.8854 - accuracy: 0.0611\n",
      "Epoch 10/200\n",
      "244/244 - 3s - loss: 5.6942 - accuracy: 0.0672\n",
      "Epoch 11/200\n",
      "244/244 - 3s - loss: 5.5098 - accuracy: 0.0751\n",
      "Epoch 12/200\n",
      "244/244 - 3s - loss: 5.3409 - accuracy: 0.0796\n",
      "Epoch 13/200\n",
      "244/244 - 3s - loss: 5.1828 - accuracy: 0.0824\n",
      "Epoch 14/200\n",
      "244/244 - 3s - loss: 5.0322 - accuracy: 0.0936\n",
      "Epoch 15/200\n",
      "244/244 - 3s - loss: 4.8875 - accuracy: 0.1038\n",
      "Epoch 16/200\n",
      "244/244 - 4s - loss: 4.7473 - accuracy: 0.1143\n",
      "Epoch 17/200\n",
      "244/244 - 4s - loss: 4.6164 - accuracy: 0.1256\n",
      "Epoch 18/200\n",
      "244/244 - 4s - loss: 4.4875 - accuracy: 0.1424\n",
      "Epoch 19/200\n",
      "244/244 - 4s - loss: 4.3677 - accuracy: 0.1538\n",
      "Epoch 20/200\n",
      "244/244 - 4s - loss: 4.2465 - accuracy: 0.1740\n",
      "Epoch 21/200\n",
      "244/244 - 3s - loss: 4.1319 - accuracy: 0.1972\n",
      "Epoch 22/200\n",
      "244/244 - 4s - loss: 4.0200 - accuracy: 0.2117\n",
      "Epoch 23/200\n",
      "244/244 - 4s - loss: 3.9100 - accuracy: 0.2289\n",
      "Epoch 24/200\n",
      "244/244 - 4s - loss: 3.8066 - accuracy: 0.2407\n",
      "Epoch 25/200\n",
      "244/244 - 4s - loss: 3.7037 - accuracy: 0.2609\n",
      "Epoch 26/200\n",
      "244/244 - 4s - loss: 3.6052 - accuracy: 0.2772\n",
      "Epoch 27/200\n",
      "244/244 - 4s - loss: 3.5110 - accuracy: 0.2978\n",
      "Epoch 28/200\n",
      "244/244 - 4s - loss: 3.4178 - accuracy: 0.3105\n",
      "Epoch 29/200\n",
      "244/244 - 4s - loss: 3.3296 - accuracy: 0.3322\n",
      "Epoch 30/200\n",
      "244/244 - 4s - loss: 3.2395 - accuracy: 0.3474\n",
      "Epoch 31/200\n",
      "244/244 - 4s - loss: 3.1578 - accuracy: 0.3567\n",
      "Epoch 32/200\n",
      "244/244 - 4s - loss: 3.0761 - accuracy: 0.3725\n",
      "Epoch 33/200\n",
      "244/244 - 4s - loss: 3.0009 - accuracy: 0.3901\n",
      "Epoch 34/200\n",
      "244/244 - 4s - loss: 2.9255 - accuracy: 0.4014\n",
      "Epoch 35/200\n",
      "244/244 - 4s - loss: 2.8517 - accuracy: 0.4174\n",
      "Epoch 36/200\n",
      "244/244 - 4s - loss: 2.7817 - accuracy: 0.4279\n",
      "Epoch 37/200\n",
      "244/244 - 4s - loss: 2.7150 - accuracy: 0.4418\n",
      "Epoch 38/200\n",
      "244/244 - 4s - loss: 2.6487 - accuracy: 0.4525\n",
      "Epoch 39/200\n",
      "244/244 - 4s - loss: 2.5871 - accuracy: 0.4633\n",
      "Epoch 40/200\n",
      "244/244 - 3s - loss: 2.5256 - accuracy: 0.4787\n",
      "Epoch 41/200\n",
      "244/244 - 3s - loss: 2.4631 - accuracy: 0.4903\n",
      "Epoch 42/200\n",
      "244/244 - 3s - loss: 2.4072 - accuracy: 0.4993\n",
      "Epoch 43/200\n",
      "244/244 - 3s - loss: 2.3516 - accuracy: 0.5131\n",
      "Epoch 44/200\n",
      "244/244 - 3s - loss: 2.2952 - accuracy: 0.5243\n",
      "Epoch 45/200\n",
      "244/244 - 4s - loss: 2.2418 - accuracy: 0.5359\n",
      "Epoch 46/200\n",
      "244/244 - 3s - loss: 2.1885 - accuracy: 0.5465\n",
      "Epoch 47/200\n",
      "244/244 - 3s - loss: 2.1427 - accuracy: 0.5576\n",
      "Epoch 48/200\n",
      "244/244 - 3s - loss: 2.0887 - accuracy: 0.5688\n",
      "Epoch 49/200\n",
      "244/244 - 4s - loss: 2.0413 - accuracy: 0.5770\n",
      "Epoch 50/200\n",
      "244/244 - 5s - loss: 1.9949 - accuracy: 0.5827\n",
      "Epoch 51/200\n",
      "244/244 - 5s - loss: 1.9471 - accuracy: 0.5998\n",
      "Epoch 52/200\n",
      "244/244 - 4s - loss: 1.9046 - accuracy: 0.6101\n",
      "Epoch 53/200\n",
      "244/244 - 4s - loss: 1.8609 - accuracy: 0.6169\n",
      "Epoch 54/200\n",
      "244/244 - 4s - loss: 1.8162 - accuracy: 0.6309\n",
      "Epoch 55/200\n",
      "244/244 - 4s - loss: 1.7733 - accuracy: 0.6374\n",
      "Epoch 56/200\n",
      "244/244 - 4s - loss: 1.7319 - accuracy: 0.6462\n",
      "Epoch 57/200\n",
      "244/244 - 4s - loss: 1.6939 - accuracy: 0.6528\n",
      "Epoch 58/200\n",
      "244/244 - 4s - loss: 1.6531 - accuracy: 0.6582\n",
      "Epoch 59/200\n",
      "244/244 - 4s - loss: 1.6131 - accuracy: 0.6715\n",
      "Epoch 60/200\n",
      "244/244 - 3s - loss: 1.5755 - accuracy: 0.6782\n",
      "Epoch 61/200\n",
      "244/244 - 3s - loss: 1.5367 - accuracy: 0.6878\n",
      "Epoch 62/200\n",
      "244/244 - 3s - loss: 1.5040 - accuracy: 0.6924\n",
      "Epoch 63/200\n",
      "244/244 - 3s - loss: 1.4662 - accuracy: 0.7027\n",
      "Epoch 64/200\n",
      "244/244 - 3s - loss: 1.4308 - accuracy: 0.7125\n",
      "Epoch 65/200\n",
      "244/244 - 4s - loss: 1.3965 - accuracy: 0.7172\n",
      "Epoch 66/200\n",
      "244/244 - 3s - loss: 1.3639 - accuracy: 0.7279\n",
      "Epoch 67/200\n",
      "244/244 - 3s - loss: 1.3310 - accuracy: 0.7313\n",
      "Epoch 68/200\n",
      "244/244 - 3s - loss: 1.2992 - accuracy: 0.7418\n",
      "Epoch 69/200\n",
      "244/244 - 3s - loss: 1.2690 - accuracy: 0.7484\n",
      "Epoch 70/200\n",
      "244/244 - 3s - loss: 1.2392 - accuracy: 0.7554\n",
      "Epoch 71/200\n",
      "244/244 - 3s - loss: 1.2106 - accuracy: 0.7624\n",
      "Epoch 72/200\n",
      "244/244 - 3s - loss: 1.1824 - accuracy: 0.7664\n",
      "Epoch 73/200\n",
      "244/244 - 3s - loss: 1.1563 - accuracy: 0.7747\n",
      "Epoch 74/200\n",
      "244/244 - 3s - loss: 1.1254 - accuracy: 0.7797\n",
      "Epoch 75/200\n",
      "244/244 - 3s - loss: 1.1054 - accuracy: 0.7811\n",
      "Epoch 76/200\n",
      "244/244 - 3s - loss: 1.0749 - accuracy: 0.7869\n",
      "Epoch 77/200\n",
      "244/244 - 3s - loss: 1.0489 - accuracy: 0.7917\n",
      "Epoch 78/200\n",
      "244/244 - 4s - loss: 1.0242 - accuracy: 0.7987\n",
      "Epoch 79/200\n",
      "244/244 - 4s - loss: 1.0015 - accuracy: 0.8002\n",
      "Epoch 80/200\n",
      "244/244 - 4s - loss: 0.9800 - accuracy: 0.8093\n",
      "Epoch 81/200\n",
      "244/244 - 4s - loss: 0.9561 - accuracy: 0.8128\n",
      "Epoch 82/200\n",
      "244/244 - 4s - loss: 0.9353 - accuracy: 0.8138\n",
      "Epoch 83/200\n",
      "244/244 - 4s - loss: 0.9131 - accuracy: 0.8220\n",
      "Epoch 84/200\n",
      "244/244 - 4s - loss: 0.8927 - accuracy: 0.8237\n",
      "Epoch 85/200\n",
      "244/244 - 4s - loss: 0.8721 - accuracy: 0.8288\n",
      "Epoch 86/200\n",
      "244/244 - 4s - loss: 0.8545 - accuracy: 0.8308\n",
      "Epoch 87/200\n",
      "244/244 - 4s - loss: 0.8330 - accuracy: 0.8334\n",
      "Epoch 88/200\n",
      "244/244 - 4s - loss: 0.8165 - accuracy: 0.8356\n",
      "Epoch 89/200\n",
      "244/244 - 3s - loss: 0.7971 - accuracy: 0.8387\n",
      "Epoch 90/200\n",
      "244/244 - 4s - loss: 0.7842 - accuracy: 0.8431\n",
      "Epoch 91/200\n",
      "244/244 - 4s - loss: 0.7654 - accuracy: 0.8452\n",
      "Epoch 92/200\n",
      "244/244 - 4s - loss: 0.7445 - accuracy: 0.8502\n",
      "Epoch 93/200\n",
      "244/244 - 4s - loss: 0.7297 - accuracy: 0.8511\n",
      "Epoch 94/200\n",
      "244/244 - 4s - loss: 0.7127 - accuracy: 0.8538\n",
      "Epoch 95/200\n",
      "244/244 - 4s - loss: 0.6982 - accuracy: 0.8588\n",
      "Epoch 96/200\n",
      "244/244 - 4s - loss: 0.6844 - accuracy: 0.8643\n",
      "Epoch 97/200\n",
      "244/244 - 4s - loss: 0.6694 - accuracy: 0.8636\n",
      "Epoch 98/200\n",
      "244/244 - 4s - loss: 0.6553 - accuracy: 0.8679\n",
      "Epoch 99/200\n",
      "244/244 - 4s - loss: 0.6419 - accuracy: 0.8702\n",
      "Epoch 100/200\n",
      "244/244 - 4s - loss: 0.6302 - accuracy: 0.8735\n",
      "Epoch 101/200\n",
      "244/244 - 4s - loss: 0.6163 - accuracy: 0.8740\n",
      "Epoch 102/200\n",
      "244/244 - 4s - loss: 0.6032 - accuracy: 0.8794\n",
      "Epoch 103/200\n",
      "244/244 - 4s - loss: 0.5903 - accuracy: 0.8816\n",
      "Epoch 104/200\n",
      "244/244 - 4s - loss: 0.5796 - accuracy: 0.8827\n",
      "Epoch 105/200\n",
      "244/244 - 4s - loss: 0.5676 - accuracy: 0.8845\n",
      "Epoch 106/200\n",
      "244/244 - 4s - loss: 0.5574 - accuracy: 0.8868\n",
      "Epoch 107/200\n",
      "244/244 - 4s - loss: 0.5526 - accuracy: 0.8876\n",
      "Epoch 108/200\n",
      "244/244 - 4s - loss: 0.5363 - accuracy: 0.8917\n",
      "Epoch 109/200\n",
      "244/244 - 4s - loss: 0.5254 - accuracy: 0.8925\n",
      "Epoch 110/200\n",
      "244/244 - 4s - loss: 0.5150 - accuracy: 0.8950\n",
      "Epoch 111/200\n",
      "244/244 - 4s - loss: 0.5045 - accuracy: 0.8950\n",
      "Epoch 112/200\n",
      "244/244 - 4s - loss: 0.4971 - accuracy: 0.8962\n",
      "Epoch 113/200\n",
      "244/244 - 4s - loss: 0.4882 - accuracy: 0.8990\n",
      "Epoch 114/200\n",
      "244/244 - 4s - loss: 0.4780 - accuracy: 0.8997\n",
      "Epoch 115/200\n",
      "244/244 - 4s - loss: 0.4689 - accuracy: 0.9023\n",
      "Epoch 116/200\n",
      "244/244 - 4s - loss: 0.4618 - accuracy: 0.9018\n",
      "Epoch 117/200\n",
      "244/244 - 4s - loss: 0.4558 - accuracy: 0.9049\n",
      "Epoch 118/200\n",
      "244/244 - 4s - loss: 0.4475 - accuracy: 0.9049\n",
      "Epoch 119/200\n",
      "244/244 - 4s - loss: 0.4376 - accuracy: 0.9055\n",
      "Epoch 120/200\n",
      "244/244 - 4s - loss: 0.4300 - accuracy: 0.9067\n",
      "Epoch 121/200\n",
      "244/244 - 4s - loss: 0.4274 - accuracy: 0.9068\n",
      "Epoch 122/200\n",
      "244/244 - 4s - loss: 0.4196 - accuracy: 0.9088\n",
      "Epoch 123/200\n",
      "244/244 - 4s - loss: 0.4142 - accuracy: 0.9097\n",
      "Epoch 124/200\n",
      "244/244 - 4s - loss: 0.4078 - accuracy: 0.9094\n",
      "Epoch 125/200\n",
      "244/244 - 4s - loss: 0.3997 - accuracy: 0.9095\n",
      "Epoch 126/200\n",
      "244/244 - 5s - loss: 0.3911 - accuracy: 0.9109\n",
      "Epoch 127/200\n",
      "244/244 - 4s - loss: 0.3889 - accuracy: 0.9121\n",
      "Epoch 128/200\n",
      "244/244 - 4s - loss: 0.3900 - accuracy: 0.9129\n",
      "Epoch 129/200\n",
      "244/244 - 4s - loss: 0.3777 - accuracy: 0.9132\n",
      "Epoch 130/200\n",
      "244/244 - 4s - loss: 0.3729 - accuracy: 0.9125\n",
      "Epoch 131/200\n",
      "244/244 - 4s - loss: 0.3653 - accuracy: 0.9139\n",
      "Epoch 132/200\n",
      "244/244 - 4s - loss: 0.3640 - accuracy: 0.9114\n",
      "Epoch 133/200\n",
      "244/244 - 4s - loss: 0.4290 - accuracy: 0.9022\n",
      "Epoch 134/200\n",
      "244/244 - 4s - loss: 0.3821 - accuracy: 0.9125\n",
      "Epoch 135/200\n",
      "244/244 - 4s - loss: 0.3526 - accuracy: 0.9146\n",
      "Epoch 136/200\n",
      "244/244 - 4s - loss: 0.3440 - accuracy: 0.9179\n",
      "Epoch 137/200\n"
     ]
    },
    {
     "name": "stdout",
     "output_type": "stream",
     "text": [
      "244/244 - 4s - loss: 0.3402 - accuracy: 0.9163\n",
      "Epoch 138/200\n",
      "244/244 - 4s - loss: 0.3372 - accuracy: 0.9150\n",
      "Epoch 139/200\n",
      "244/244 - 4s - loss: 0.3343 - accuracy: 0.9162\n",
      "Epoch 140/200\n",
      "244/244 - 5s - loss: 0.3304 - accuracy: 0.9166\n",
      "Epoch 141/200\n",
      "244/244 - 6s - loss: 0.3286 - accuracy: 0.9164\n",
      "Epoch 142/200\n",
      "244/244 - 6s - loss: 0.3252 - accuracy: 0.9161\n",
      "Epoch 143/200\n",
      "244/244 - 5s - loss: 0.3237 - accuracy: 0.9163\n",
      "Epoch 144/200\n",
      "244/244 - 6s - loss: 0.3227 - accuracy: 0.9166\n",
      "Epoch 145/200\n",
      "244/244 - 5s - loss: 0.3184 - accuracy: 0.9159\n",
      "Epoch 146/200\n",
      "244/244 - 5s - loss: 0.3161 - accuracy: 0.9157\n",
      "Epoch 147/200\n",
      "244/244 - 4s - loss: 0.3137 - accuracy: 0.9164\n",
      "Epoch 148/200\n",
      "244/244 - 4s - loss: 0.3127 - accuracy: 0.9170\n",
      "Epoch 149/200\n",
      "244/244 - 4s - loss: 0.3125 - accuracy: 0.9140\n",
      "Epoch 150/200\n",
      "244/244 - 4s - loss: 0.3084 - accuracy: 0.9159\n",
      "Epoch 151/200\n",
      "244/244 - 4s - loss: 0.3071 - accuracy: 0.9144\n",
      "Epoch 152/200\n",
      "244/244 - 4s - loss: 0.3036 - accuracy: 0.9167\n",
      "Epoch 153/200\n",
      "244/244 - 4s - loss: 0.3019 - accuracy: 0.9170\n",
      "Epoch 154/200\n",
      "244/244 - 4s - loss: 0.2984 - accuracy: 0.9181\n",
      "Epoch 155/200\n",
      "244/244 - 4s - loss: 0.2980 - accuracy: 0.9175\n",
      "Epoch 156/200\n",
      "244/244 - 4s - loss: 0.3079 - accuracy: 0.9158\n",
      "Epoch 157/200\n",
      "244/244 - 4s - loss: 0.3328 - accuracy: 0.9109\n",
      "Epoch 158/200\n",
      "244/244 - 4s - loss: 0.3216 - accuracy: 0.9140\n",
      "Epoch 159/200\n",
      "244/244 - 3s - loss: 0.2986 - accuracy: 0.9168\n",
      "Epoch 160/200\n",
      "244/244 - 4s - loss: 0.2903 - accuracy: 0.9185\n",
      "Epoch 161/200\n",
      "244/244 - 4s - loss: 0.2873 - accuracy: 0.9176\n",
      "Epoch 162/200\n",
      "244/244 - 4s - loss: 0.2862 - accuracy: 0.9166\n",
      "Epoch 163/200\n",
      "244/244 - 4s - loss: 0.2855 - accuracy: 0.9164\n",
      "Epoch 164/200\n",
      "244/244 - 4s - loss: 0.2846 - accuracy: 0.9177\n",
      "Epoch 165/200\n",
      "244/244 - 4s - loss: 0.2841 - accuracy: 0.9172\n",
      "Epoch 166/200\n",
      "244/244 - 4s - loss: 0.2829 - accuracy: 0.9167\n",
      "Epoch 167/200\n",
      "244/244 - 4s - loss: 0.2821 - accuracy: 0.9168\n",
      "Epoch 168/200\n",
      "244/244 - 4s - loss: 0.2819 - accuracy: 0.9167\n",
      "Epoch 169/200\n",
      "244/244 - 4s - loss: 0.2819 - accuracy: 0.9168\n",
      "Epoch 170/200\n",
      "244/244 - 4s - loss: 0.2801 - accuracy: 0.9167\n",
      "Epoch 171/200\n",
      "244/244 - 4s - loss: 0.2788 - accuracy: 0.9163\n",
      "Epoch 172/200\n",
      "244/244 - 4s - loss: 0.2778 - accuracy: 0.9166\n",
      "Epoch 173/200\n",
      "244/244 - 4s - loss: 0.2765 - accuracy: 0.9163\n",
      "Epoch 174/200\n",
      "244/244 - 4s - loss: 0.2774 - accuracy: 0.9161\n",
      "Epoch 175/200\n",
      "244/244 - 4s - loss: 0.2811 - accuracy: 0.9158\n",
      "Epoch 176/200\n",
      "244/244 - 5s - loss: 0.2925 - accuracy: 0.9153\n",
      "Epoch 177/200\n",
      "244/244 - 4s - loss: 0.2851 - accuracy: 0.9143\n",
      "Epoch 178/200\n",
      "244/244 - 4s - loss: 0.2749 - accuracy: 0.9176\n",
      "Epoch 179/200\n",
      "244/244 - 4s - loss: 0.2727 - accuracy: 0.9172\n",
      "Epoch 180/200\n",
      "244/244 - 4s - loss: 0.2712 - accuracy: 0.9171\n",
      "Epoch 181/200\n",
      "244/244 - 4s - loss: 0.2707 - accuracy: 0.9153\n",
      "Epoch 182/200\n",
      "244/244 - 4s - loss: 0.2716 - accuracy: 0.9153\n",
      "Epoch 183/200\n",
      "244/244 - 4s - loss: 0.2698 - accuracy: 0.9182\n",
      "Epoch 184/200\n",
      "244/244 - 4s - loss: 0.2701 - accuracy: 0.9164\n",
      "Epoch 185/200\n",
      "244/244 - 4s - loss: 0.2695 - accuracy: 0.9167\n",
      "Epoch 186/200\n",
      "244/244 - 4s - loss: 0.2685 - accuracy: 0.9157\n",
      "Epoch 187/200\n",
      "244/244 - 4s - loss: 0.2685 - accuracy: 0.9166\n",
      "Epoch 188/200\n",
      "244/244 - 4s - loss: 0.2685 - accuracy: 0.9173\n",
      "Epoch 189/200\n",
      "244/244 - 4s - loss: 0.2679 - accuracy: 0.9168\n",
      "Epoch 190/200\n",
      "244/244 - 4s - loss: 0.2665 - accuracy: 0.9168\n",
      "Epoch 191/200\n",
      "244/244 - 4s - loss: 0.2667 - accuracy: 0.9175\n",
      "Epoch 192/200\n",
      "244/244 - 4s - loss: 0.2671 - accuracy: 0.9168\n",
      "Epoch 193/200\n",
      "244/244 - 4s - loss: 0.2663 - accuracy: 0.9191\n",
      "Epoch 194/200\n",
      "244/244 - 4s - loss: 0.2679 - accuracy: 0.9153\n",
      "Epoch 195/200\n",
      "244/244 - 4s - loss: 0.2923 - accuracy: 0.9113\n",
      "Epoch 196/200\n",
      "244/244 - 4s - loss: 0.2854 - accuracy: 0.9148\n",
      "Epoch 197/200\n",
      "244/244 - 4s - loss: 0.2717 - accuracy: 0.9154\n",
      "Epoch 198/200\n",
      "244/244 - 4s - loss: 0.2643 - accuracy: 0.9173\n",
      "Epoch 199/200\n",
      "244/244 - 4s - loss: 0.2633 - accuracy: 0.9157\n",
      "Epoch 200/200\n",
      "244/244 - 4s - loss: 0.2633 - accuracy: 0.9168\n"
     ]
    },
    {
     "data": {
      "text/plain": [
       "<tensorflow.python.keras.callbacks.History at 0x1c9915060b8>"
      ]
     },
     "execution_count": 80,
     "metadata": {},
     "output_type": "execute_result"
    }
   ],
   "source": [
    "model = Sequential()\n",
    "model.add(Embedding(vocab_size, 10, input_length = max_len -1))\n",
    "model.add(LSTM(128))\n",
    "model.add(Dense(vocab_size, activation = 'softmax'))\n",
    "model.compile(loss= 'categorical_crossentropy', optimizer='adam', metrics=['accuracy'])\n",
    "model.fit(X, y, epochs = 200, verbose = 2)"
   ]
  },
  {
   "cell_type": "code",
   "execution_count": 81,
   "id": "coated-blink",
   "metadata": {},
   "outputs": [],
   "source": [
    "def sentence_generation(model, t, current_word, n):\n",
    "    # 모델, 토크나이저, 현재 단어, 반복 횟수\n",
    "    init_word = current_word # 처음 들어온 단어도 마지막에 같이 출력하기 위해 저장\n",
    "    sentence = ''\n",
    "    for _ in range(n):\n",
    "        encoded = t.texts_to_sequences([current_word])[0]\n",
    "        encoded = pad_sequences([encoded], maxlen = 23, padding = 'pre')\n",
    "        result = model.predict_classes(encoded, verbose=0) # 이 모델에는 입력값 크기가 padding된 그 크기여야 하는군\n",
    "        for word, index in t.word_index.items():\n",
    "            if index == result:\n",
    "                break\n",
    "        current_word = current_word + ' ' + word # 현재 단어 + ' ' + 예측 단어 를 current word로 변경\n",
    "        sentence = sentence + ' ' + word # 예측 단어를 문장에 저장\n",
    "        \n",
    "    sentence = init_word + sentence\n",
    "    return sentence"
   ]
  },
  {
   "cell_type": "code",
   "execution_count": 82,
   "id": "protected-boulder",
   "metadata": {},
   "outputs": [
    {
     "name": "stdout",
     "output_type": "stream",
     "text": [
      "i cant jump ship from facebook yet snarl and a meeting\n"
     ]
    }
   ],
   "source": [
    "print(sentence_generation(model, t, 'i', 10))"
   ]
  },
  {
   "cell_type": "code",
   "execution_count": 83,
   "id": "normal-organic",
   "metadata": {},
   "outputs": [
    {
     "name": "stdout",
     "output_type": "stream",
     "text": [
      "how to make facebook more accountable over epa at ryan attack\n"
     ]
    }
   ],
   "source": [
    "print(sentence_generation(model, t, 'how', 10))"
   ]
  },
  {
   "cell_type": "code",
   "execution_count": null,
   "id": "going-exhibition",
   "metadata": {},
   "outputs": [],
   "source": []
  }
 ],
 "metadata": {
  "kernelspec": {
   "display_name": "Python 3",
   "language": "python",
   "name": "python3"
  },
  "language_info": {
   "codemirror_mode": {
    "name": "ipython",
    "version": 3
   },
   "file_extension": ".py",
   "mimetype": "text/x-python",
   "name": "python",
   "nbconvert_exporter": "python",
   "pygments_lexer": "ipython3",
   "version": "3.6.13"
  }
 },
 "nbformat": 4,
 "nbformat_minor": 5
}
