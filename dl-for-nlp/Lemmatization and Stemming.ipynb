{
 "cells": [
  {
   "cell_type": "markdown",
   "id": "scenic-selection",
   "metadata": {},
   "source": [
    "all exercises based on [Introduction to Deep Learning for NLP, wikidocs](https://wikidocs.net/21693)"
   ]
  },
  {
   "cell_type": "markdown",
   "id": "experimental-david",
   "metadata": {},
   "source": [
    "데이터 정제 및 정규화의 목적<br>\n",
    "- 정제(cleaning): 코퍼스의 노이즈 데이터 제거\n",
    "- 정규화(normalization): 표현 방법이 다른 단어들을 통합, 같은 단어로\n",
    "\n",
    "Tokenization 전후로 이루어짐. 완벽한 정제는 사실상 없음"
   ]
  },
  {
   "cell_type": "markdown",
   "id": "indian-analyst",
   "metadata": {},
   "source": [
    "## Lemmatization (표제어 추출)"
   ]
  },
  {
   "cell_type": "code",
   "execution_count": 1,
   "id": "considerable-performance",
   "metadata": {},
   "outputs": [
    {
     "name": "stdout",
     "output_type": "stream",
     "text": [
      "['policy', 'doing', 'organization', 'have', 'going', 'love', 'life', 'fly', 'dy', 'watched', 'ha', 'starting']\n"
     ]
    }
   ],
   "source": [
    "from nltk.stem import WordNetLemmatizer\n",
    "n = WordNetLemmatizer()\n",
    "words = ['policy', 'doing', 'organization', 'have', 'going', 'love', 'lives', 'fly', 'dies', 'watched', 'has', 'starting']\n",
    "print([n.lemmatize(w) for w in words])"
   ]
  },
  {
   "cell_type": "code",
   "execution_count": 2,
   "id": "iraqi-macro",
   "metadata": {},
   "outputs": [
    {
     "data": {
      "text/plain": [
       "'die'"
      ]
     },
     "execution_count": 2,
     "metadata": {},
     "output_type": "execute_result"
    }
   ],
   "source": [
    "# dy, life, ha 등 이상한 결과 나옴 -> 단어의 품사정보 알려주면 보다 정확\n",
    "n.lemmatize('dies', 'v')"
   ]
  },
  {
   "cell_type": "code",
   "execution_count": 3,
   "id": "overhead-coordination",
   "metadata": {},
   "outputs": [
    {
     "data": {
      "text/plain": [
       "'live'"
      ]
     },
     "execution_count": 3,
     "metadata": {},
     "output_type": "execute_result"
    }
   ],
   "source": [
    "n.lemmatize('lives', 'v')"
   ]
  },
  {
   "cell_type": "code",
   "execution_count": 4,
   "id": "talented-halifax",
   "metadata": {},
   "outputs": [
    {
     "data": {
      "text/plain": [
       "'have'"
      ]
     },
     "execution_count": 4,
     "metadata": {},
     "output_type": "execute_result"
    }
   ],
   "source": [
    "n.lemmatize('has', 'v')"
   ]
  },
  {
   "cell_type": "code",
   "execution_count": 5,
   "id": "associate-negative",
   "metadata": {},
   "outputs": [
    {
     "data": {
      "text/plain": [
       "'do'"
      ]
     },
     "execution_count": 5,
     "metadata": {},
     "output_type": "execute_result"
    }
   ],
   "source": [
    "n.lemmatize('doing', 'v')"
   ]
  },
  {
   "cell_type": "markdown",
   "id": "plain-credits",
   "metadata": {},
   "source": [
    "## Stemming (어간 추출)\n",
    "\n",
    "lemmatization은 단어의 원형을 보존한 기본형(표제어)을 추출하는 것에 비해, stemming은 어간만 추출하기 때문에 단어 형태가 보존되지 않음.<br>\n",
    "**lemmatization**은 단어 단위, **stemming**은 형태소 단위 라고 생각할 수 있음 (단, 한국어 용언의 '어간'과 영어의 stemming에서의 stem은 좀 다른 의미이긴 한 듯..! 영어 단어에서는 정말 그 origin에 해당하는 부분을 가져오는 것을 시도)"
   ]
  },
  {
   "cell_type": "code",
   "execution_count": 6,
   "id": "starting-silver",
   "metadata": {},
   "outputs": [
    {
     "name": "stdout",
     "output_type": "stream",
     "text": [
      "['This', 'was', 'not', 'the', 'map', 'we', 'found', 'in', 'Billy', 'Bones', \"'s\", 'chest', ',', 'but', 'an', 'accurate', 'copy', ',', 'complete', 'in', 'all', 'things', '--', 'names', 'and', 'heights', 'and', 'soundings', '--', 'with', 'the', 'single', 'exception', 'of', 'the', 'red', 'crosses', 'and', 'the', 'written', 'notes', '.']\n"
     ]
    }
   ],
   "source": [
    "from nltk.stem import PorterStemmer # Porter Algorithm: 어간 추출 알고리즘 중 하나\n",
    "from nltk.tokenize import word_tokenize # cf. word_tokenize / WordPunctTokenizer / TreebankWordTokenizer / sent_tokenize\n",
    "s = PorterStemmer() # stem의 대상은 tokenize된 단어\n",
    "text = \"This was not the map we found in Billy Bones's chest, but an accurate copy, complete in all things--names and heights and soundings--with the single exception of the red crosses and the written notes.\"\n",
    "words = word_tokenize(text)\n",
    "print(words)"
   ]
  },
  {
   "cell_type": "code",
   "execution_count": 7,
   "id": "considered-jurisdiction",
   "metadata": {},
   "outputs": [
    {
     "name": "stdout",
     "output_type": "stream",
     "text": [
      "['thi', 'wa', 'not', 'the', 'map', 'we', 'found', 'in', 'billi', 'bone', \"'s\", 'chest', ',', 'but', 'an', 'accur', 'copi', ',', 'complet', 'in', 'all', 'thing', '--', 'name', 'and', 'height', 'and', 'sound', '--', 'with', 'the', 'singl', 'except', 'of', 'the', 'red', 'cross', 'and', 'the', 'written', 'note', '.']\n"
     ]
    }
   ],
   "source": [
    "print([s.stem(w) for w in words])"
   ]
  },
  {
   "cell_type": "markdown",
   "id": "mineral-keeping",
   "metadata": {},
   "source": [
    "단순 규칙에 기반해 이루어짐\n",
    "\n",
    "Porter 알고리즘의 상세 규칙은 마틴 포터의 홈페이지에서 확인 가능!\n",
    "\n",
    "Porter Stemmer은 정밀하게 설계되어 정확도가 높은 편. 영어 자연어처리에서 어간 추출 시 준수한 선택.\n",
    "\n",
    "기타 어간 추출 알고리즘 in NLTK: Lancaster Stemmer"
   ]
  },
  {
   "cell_type": "code",
   "execution_count": 8,
   "id": "trained-paintball",
   "metadata": {},
   "outputs": [
    {
     "name": "stdout",
     "output_type": "stream",
     "text": [
      "['polici', 'do', 'organ', 'have', 'go', 'love', 'live', 'fli', 'die', 'watch', 'ha', 'start']\n"
     ]
    }
   ],
   "source": [
    "# Porter Stemmer와 Lancaster Stemmer의 결과 비교\n",
    "\n",
    "from nltk.stem import PorterStemmer\n",
    "s = PorterStemmer()\n",
    "words = ['policy', 'doing', 'organization', 'have', 'going', 'love', 'lives', 'fly', 'dies', 'watched', 'has', 'starting']\n",
    "print([s.stem(w) for w in words])"
   ]
  },
  {
   "cell_type": "code",
   "execution_count": 9,
   "id": "standard-commons",
   "metadata": {},
   "outputs": [
    {
     "name": "stdout",
     "output_type": "stream",
     "text": [
      "['policy', 'doing', 'org', 'hav', 'going', 'lov', 'liv', 'fly', 'die', 'watch', 'has', 'start']\n"
     ]
    }
   ],
   "source": [
    "from nltk.stem import LancasterStemmer\n",
    "s = LancasterStemmer()\n",
    "words = ['policy', 'doing', 'organization', 'have', 'going', 'love', 'lives', 'fly', 'dies', 'watched', 'has', 'starting']\n",
    "print([s.stem(w) for w in words])"
   ]
  },
  {
   "cell_type": "markdown",
   "id": "chronic-hello",
   "metadata": {},
   "source": [
    "이런 규칙 기반의 어간 추출 알고리즘들은 제대로된 일반화가 어려울 수 있음. 지나친 일반화 혹은 부족한 일반화"
   ]
  },
  {
   "cell_type": "code",
   "execution_count": null,
   "id": "dress-stanley",
   "metadata": {},
   "outputs": [],
   "source": []
  }
 ],
 "metadata": {
  "kernelspec": {
   "display_name": "Python 3",
   "language": "python",
   "name": "python3"
  },
  "language_info": {
   "codemirror_mode": {
    "name": "ipython",
    "version": 3
   },
   "file_extension": ".py",
   "mimetype": "text/x-python",
   "name": "python",
   "nbconvert_exporter": "python",
   "pygments_lexer": "ipython3",
   "version": "3.6.13"
  }
 },
 "nbformat": 4,
 "nbformat_minor": 5
}
